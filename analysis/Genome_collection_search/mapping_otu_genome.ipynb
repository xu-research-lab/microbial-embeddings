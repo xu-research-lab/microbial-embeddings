{
 "cells": [
  {
   "cell_type": "code",
   "execution_count": 427,
   "id": "e330ec4b-e2cd-49ff-992e-8f8226827e1f",
   "metadata": {},
   "outputs": [],
   "source": [
    "import re"
   ]
  },
  {
   "cell_type": "code",
   "execution_count": 10,
   "id": "230e2859-4e62-4116-a46c-ee40e75447a7",
   "metadata": {},
   "outputs": [],
   "source": [
    "import numpy as np\n",
    "import pandas as pd"
   ]
  },
  {
   "cell_type": "code",
   "execution_count": 443,
   "id": "a631deb1-f3a7-4690-82da-fbdca1992d22",
   "metadata": {},
   "outputs": [],
   "source": [
    "from tqdm import tqdm"
   ]
  },
  {
   "cell_type": "code",
   "execution_count": 13,
   "id": "3dcf4ae8-7169-46cb-9e78-bb69aa9182ff",
   "metadata": {},
   "outputs": [],
   "source": [
    "import json"
   ]
  },
  {
   "cell_type": "code",
   "execution_count": 14,
   "id": "ad4430fc-8c07-4db5-8714-317fd9f96cc5",
   "metadata": {},
   "outputs": [],
   "source": [
    "from sklearn.metrics.pairwise import cosine_similarity"
   ]
  },
  {
   "cell_type": "code",
   "execution_count": 65,
   "id": "c357e34c-8842-438a-8608-230bb7a4e33b",
   "metadata": {},
   "outputs": [],
   "source": [
    "import random\n",
    "from phylodm import PhyloDM\n",
    "import dendropy"
   ]
  },
  {
   "cell_type": "code",
   "execution_count": 372,
   "id": "4b625c6f-9d49-424e-a8c0-f51f0c4486f1",
   "metadata": {},
   "outputs": [],
   "source": [
    "co_embedding = pd.read_csv(\"../../data/social_niche_embedding_100.txt\",\n",
    "                          header=None, sep=\" \", low_memory=False, index_col=0)\n",
    "co_embedding = co_embedding.drop(\"<unk>\")\n",
    "\n",
    "embed_cos = cosine_similarity(co_embedding)\n",
    "embed_cos = pd.DataFrame(data=embed_cos, index=co_embedding.index, columns=co_embedding.index)\n",
    "\n",
    "phy_embedding = pd.read_csv(\"../../data/Embedding_list/PCA_100.txt\",\n",
    "                          header=None, sep=\" \", low_memory=False, index_col=0)\n",
    "phy_embedding = phy_embedding.loc[co_embedding.index]\n",
    "\n",
    "embed_cos_phy = cosine_similarity(phy_embedding)\n",
    "embed_cos_phy = pd.DataFrame(data=embed_cos_phy, index=phy_embedding.index, columns=phy_embedding.index)"
   ]
  },
  {
   "cell_type": "markdown",
   "id": "43d8963e-78be-4326-bf14-5864f002094c",
   "metadata": {},
   "source": [
    "### vsearch"
   ]
  },
  {
   "cell_type": "code",
   "execution_count": 522,
   "id": "33e100b8-048b-40cc-8d79-2847ec96e164",
   "metadata": {},
   "outputs": [],
   "source": [
    "from Bio import SeqIO\n",
    "\n",
    "def get_sequence_lengths(fasta_file):\n",
    "    seq_lengths = {}\n",
    "    for record in SeqIO.parse(fasta_file, \"fasta\"):\n",
    "        seq_lengths[record.id] = len(record.seq)  # 存储序列ID和长度\n",
    "    return seq_lengths\n",
    "\n",
    "# 示例调用\n",
    "fasta_path = \"Data/feces_seq_16S_new.fasta\"\n",
    "length_dict = get_sequence_lengths(fasta_path)"
   ]
  },
  {
   "cell_type": "code",
   "execution_count": 523,
   "id": "1b7960ff-dba9-48ef-aecd-e51e0185bee5",
   "metadata": {},
   "outputs": [],
   "source": [
    "colnames = [\"query_id\", \"refer_id\", \"identity\", \"alignment_length\", \"mismatches\", \"gap_openings\", \"q.start\",\n",
    "            \"q.end\", \"s.start\", \"s.end\", \"e-value\", \"bit_score\"]"
   ]
  },
  {
   "cell_type": "code",
   "execution_count": 524,
   "id": "feed95b8-92b2-4405-84c3-06bbcc88db2d",
   "metadata": {},
   "outputs": [],
   "source": [
    "vsearch_out = pd.read_csv(\"Data/vsearch_blast.out\", sep=\"\\t\", header=None)\n",
    "vsearch_out.columns = colnames\n",
    "vsearch_out.loc[:, \"length\"] = [length_dict[i] for i in vsearch_out.query_id.values]\n",
    "vsearch_out.loc[:, \"coverage\"] = vsearch_out.alignment_length.values / vsearch_out.length.values"
   ]
  },
  {
   "cell_type": "code",
   "execution_count": 525,
   "id": "8a051442-d31c-45d1-9c93-c2740c7e2f76",
   "metadata": {},
   "outputs": [],
   "source": [
    "vsearch_out = vsearch_out.loc[vsearch_out[\"q.start\"] == 1]\n",
    "vsearch_out = vsearch_out.loc[vsearch_out[\"coverage\"] >= 1]\n",
    "vsearch_out.loc[:, \"refer\"] = [i.split(\"::\")[1].split(\":\")[0] for i in vsearch_out.refer_id.values]"
   ]
  },
  {
   "cell_type": "code",
   "execution_count": 526,
   "id": "85383351-dcc9-456a-85df-cab6caf5d1a6",
   "metadata": {},
   "outputs": [],
   "source": [
    "vsearch_out = vsearch_out.loc[vsearch_out.groupby('refer')['identity'].idxmax()]"
   ]
  },
  {
   "cell_type": "code",
   "execution_count": 527,
   "id": "c46ce205-ecf1-488a-a40f-4d36a0508faa",
   "metadata": {},
   "outputs": [
    {
     "data": {
      "text/plain": [
       "(1125, 15)"
      ]
     },
     "execution_count": 527,
     "metadata": {},
     "output_type": "execute_result"
    }
   ],
   "source": [
    "vsearch_out.shape"
   ]
  },
  {
   "cell_type": "code",
   "execution_count": 528,
   "id": "6137a8c0-1937-4e11-aa97-e63c44df59cb",
   "metadata": {},
   "outputs": [
    {
     "name": "stdout",
     "output_type": "stream",
     "text": [
      "已保存 1125 条序列到 /home/dongbiao/word_embedding_microbiome/HGT/16S/pick_otu.fasta\n"
     ]
    }
   ],
   "source": [
    "def select_sequences_by_ids(input_fasta, output_fasta, selected_ids):\n",
    "    \"\"\"\n",
    "    根据序列名称选择指定的序列并保存到新文件\n",
    "    \n",
    "    参数:\n",
    "        input_fasta (str): 输入 FASTA 文件路径\n",
    "        output_fasta (str): 输出 FASTA 文件路径\n",
    "        selected_ids (list): 需要选择的序列名称列表\n",
    "    \"\"\"\n",
    "    \n",
    "    # 读取输入文件并筛选序列\n",
    "    selected_sequences = []\n",
    "    for record in SeqIO.parse(input_fasta, \"fasta\"):\n",
    "        if record.id in selected_ids:  # 如果序列名称在指定列表中\n",
    "            record.id = record.id.split(\"::\")[1].split(\":\")[0]\n",
    "            selected_sequences.append(record)\n",
    "    \n",
    "    # 将筛选后的序列写入新文件\n",
    "    SeqIO.write(selected_sequences, output_fasta, \"fasta\")\n",
    "    print(f\"已保存 {len(selected_sequences)} 条序列到 {output_fasta}\")\n",
    "\n",
    "# 示例调用\n",
    "target_id = vsearch_out.refer_id.values\n",
    "input_fasta = \"Data/barrnap.fna\"  # 输入 FASTA 文件路径\n",
    "output_fasta = \"Data/pick_otu.fasta\"  # 输出 FASTA 文件路径\n",
    "select_sequences_by_ids(input_fasta, output_fasta, target_id) "
   ]
  },
  {
   "cell_type": "code",
   "execution_count": 529,
   "id": "ca4b4bfb-ecd9-4666-ba0e-47f72f3ab5e7",
   "metadata": {},
   "outputs": [],
   "source": [
    "def get_fasta_sequence_names(fasta_file):\n",
    "    \"\"\"\n",
    "    提取单个 FASTA 文件中的所有序列名称\n",
    "    \n",
    "    参数:\n",
    "        fasta_file (str): FASTA 文件路径\n",
    "    \n",
    "    返回:\n",
    "        list: 序列名称列表\n",
    "    \"\"\"\n",
    "    sequence_names = []\n",
    "    for record in SeqIO.parse(fasta_file, \"fasta\"):\n",
    "        sequence_names.append(record.id)\n",
    "    return sequence_names\n",
    "\n",
    "def process_fasta_folder(folder_path):\n",
    "    \"\"\"\n",
    "    处理文件夹中的所有 FASTA 文件，生成字典\n",
    "    \n",
    "    参数:\n",
    "        folder_path (str): 文件夹路径\n",
    "    \n",
    "    返回:\n",
    "        dict: key 是基因组名称（文件名），value 是序列名称列表\n",
    "    \"\"\"\n",
    "    fasta_dict = {}\n",
    "    \n",
    "    # 遍历文件夹中的所有文件\n",
    "    for filename in tqdm(os.listdir(folder_path), desc=\"Processing\"):\n",
    "        if filename.endswith(\".fna\"):  # 检查文件扩展名\n",
    "            file_path = os.path.join(folder_path, filename)\n",
    "            genome_name = os.path.splitext(filename)[0]  # 去掉扩展名作为基因组名称\n",
    "            sequence_names = get_fasta_sequence_names(file_path)\n",
    "            fasta_dict[genome_name] = sequence_names\n",
    "    \n",
    "    return fasta_dict"
   ]
  },
  {
   "cell_type": "code",
   "execution_count": 530,
   "id": "a1939903-a825-4d25-af8c-273aa1890e1d",
   "metadata": {},
   "outputs": [
    {
     "name": "stderr",
     "output_type": "stream",
     "text": [
      "Processing: 100%|██████████| 30117/30117 [1:04:08<00:00,  7.83it/s]\n"
     ]
    }
   ],
   "source": [
    "# 示例调用\n",
    "# folder_path = \"/home/dongbiao/word_embedding_microbiome/HGT/high_quality_genome\"  \n",
    "# fasta_dict = process_fasta_folder(folder_path)"
   ]
  },
  {
   "cell_type": "code",
   "execution_count": 543,
   "id": "6aca3964-b86d-46c2-9eb4-0b29fb783e0c",
   "metadata": {},
   "outputs": [],
   "source": [
    "# 保存为 JSON 文件\n",
    "# with open(\"/home/dongbiao/word_embedding_microbiome/HGT/results/fasta_dict.json\", \"w\") as f:\n",
    "#     json.dump(fasta_dict, f, indent=4)  # indent 用于美化输出"
   ]
  },
  {
   "cell_type": "code",
   "execution_count": 532,
   "id": "a59c7eb4-bd5b-46af-8d4c-c394a72d176e",
   "metadata": {},
   "outputs": [],
   "source": [
    "# 读取 JSON 文件\n",
    "with open('Data/fasta_dict.json', 'r', encoding='utf-8') as f:\n",
    "    fasta_dict = json.load(f)  # 返回字典或列表"
   ]
  },
  {
   "cell_type": "code",
   "execution_count": 533,
   "id": "b8b5a474-3fcb-4d9f-bbed-a65025a47094",
   "metadata": {},
   "outputs": [
    {
     "name": "stderr",
     "output_type": "stream",
     "text": [
      "Processing: 100%|██████████| 1125/1125 [00:28<00:00, 39.93it/s]\n"
     ]
    }
   ],
   "source": [
    "target_genome = {}\n",
    "for target in tqdm(vsearch_out.refer.values, desc=\"Processing\"):\n",
    "    for key, value in fasta_dict.items():\n",
    "        if target in value:\n",
    "            target_genome[target] = key\n",
    "            continue"
   ]
  },
  {
   "cell_type": "code",
   "execution_count": 534,
   "id": "741f5d55-1359-4973-98cf-11a111d81e30",
   "metadata": {},
   "outputs": [],
   "source": [
    "vsearch_out.loc[:, \"genome_id\"] = [target_genome[i] for i in vsearch_out.refer.values]"
   ]
  },
  {
   "cell_type": "code",
   "execution_count": 535,
   "id": "b16d0243-dc7b-40b3-ac0f-c288206f05a6",
   "metadata": {},
   "outputs": [],
   "source": [
    "vsearch_out = vsearch_out.loc[vsearch_out.groupby('genome_id')['identity'].idxmax()]"
   ]
  },
  {
   "cell_type": "code",
   "execution_count": 544,
   "id": "76c2b272-231a-478d-b4aa-1e14570c8dd2",
   "metadata": {},
   "outputs": [
    {
     "data": {
      "text/plain": [
       "(1112, 16)"
      ]
     },
     "execution_count": 544,
     "metadata": {},
     "output_type": "execute_result"
    }
   ],
   "source": [
    "vsearch_out.shape"
   ]
  },
  {
   "cell_type": "code",
   "execution_count": 545,
   "id": "fafd14ea-cbba-4c08-8a49-f6f8726f2576",
   "metadata": {},
   "outputs": [
    {
     "data": {
      "text/html": [
       "<div>\n",
       "<style scoped>\n",
       "    .dataframe tbody tr th:only-of-type {\n",
       "        vertical-align: middle;\n",
       "    }\n",
       "\n",
       "    .dataframe tbody tr th {\n",
       "        vertical-align: top;\n",
       "    }\n",
       "\n",
       "    .dataframe thead th {\n",
       "        text-align: right;\n",
       "    }\n",
       "</style>\n",
       "<table border=\"1\" class=\"dataframe\">\n",
       "  <thead>\n",
       "    <tr style=\"text-align: right;\">\n",
       "      <th></th>\n",
       "      <th>query_id</th>\n",
       "      <th>refer_id</th>\n",
       "      <th>identity</th>\n",
       "      <th>alignment_length</th>\n",
       "      <th>mismatches</th>\n",
       "      <th>gap_openings</th>\n",
       "      <th>q.start</th>\n",
       "      <th>q.end</th>\n",
       "      <th>s.start</th>\n",
       "      <th>s.end</th>\n",
       "      <th>e-value</th>\n",
       "      <th>bit_score</th>\n",
       "      <th>length</th>\n",
       "      <th>coverage</th>\n",
       "      <th>refer</th>\n",
       "      <th>genome_id</th>\n",
       "    </tr>\n",
       "  </thead>\n",
       "  <tbody>\n",
       "    <tr>\n",
       "      <th>60</th>\n",
       "      <td>AJ305238.1.1505</td>\n",
       "      <td>16S_rRNA::DS480346.1:176999-178547(+)</td>\n",
       "      <td>99.9</td>\n",
       "      <td>1505</td>\n",
       "      <td>2</td>\n",
       "      <td>0</td>\n",
       "      <td>1</td>\n",
       "      <td>1505</td>\n",
       "      <td>1</td>\n",
       "      <td>1548</td>\n",
       "      <td>-1</td>\n",
       "      <td>0</td>\n",
       "      <td>1505</td>\n",
       "      <td>1.000000</td>\n",
       "      <td>DS480346.1</td>\n",
       "      <td>GCA_000154345.1_genomic</td>\n",
       "    </tr>\n",
       "    <tr>\n",
       "      <th>978</th>\n",
       "      <td>ABQR01000074.101.1610</td>\n",
       "      <td>16S_rRNA::DS990270.1:96-1623(+)</td>\n",
       "      <td>100.0</td>\n",
       "      <td>1510</td>\n",
       "      <td>0</td>\n",
       "      <td>0</td>\n",
       "      <td>1</td>\n",
       "      <td>1510</td>\n",
       "      <td>1</td>\n",
       "      <td>1527</td>\n",
       "      <td>-1</td>\n",
       "      <td>0</td>\n",
       "      <td>1510</td>\n",
       "      <td>1.000000</td>\n",
       "      <td>DS990270.1</td>\n",
       "      <td>GCA_000155435.1_genomic</td>\n",
       "    </tr>\n",
       "    <tr>\n",
       "      <th>133</th>\n",
       "      <td>Y18181.1.1435</td>\n",
       "      <td>16S_rRNA::EQ973341.1:3511-5036(-)</td>\n",
       "      <td>99.9</td>\n",
       "      <td>1437</td>\n",
       "      <td>0</td>\n",
       "      <td>2</td>\n",
       "      <td>1</td>\n",
       "      <td>1435</td>\n",
       "      <td>1</td>\n",
       "      <td>1525</td>\n",
       "      <td>-1</td>\n",
       "      <td>0</td>\n",
       "      <td>1435</td>\n",
       "      <td>1.001394</td>\n",
       "      <td>EQ973341.1</td>\n",
       "      <td>GCA_000158655.1_genomic</td>\n",
       "    </tr>\n",
       "    <tr>\n",
       "      <th>1900</th>\n",
       "      <td>ACON01000003.712136.713636</td>\n",
       "      <td>16S_rRNA::GG688422.1:1081954-1083464(+)</td>\n",
       "      <td>100.0</td>\n",
       "      <td>1501</td>\n",
       "      <td>0</td>\n",
       "      <td>0</td>\n",
       "      <td>1</td>\n",
       "      <td>1501</td>\n",
       "      <td>1</td>\n",
       "      <td>1510</td>\n",
       "      <td>-1</td>\n",
       "      <td>0</td>\n",
       "      <td>1501</td>\n",
       "      <td>1.000000</td>\n",
       "      <td>GG688422.1</td>\n",
       "      <td>GCA_000161975.1_genomic</td>\n",
       "    </tr>\n",
       "    <tr>\n",
       "      <th>25</th>\n",
       "      <td>AJ239289.1.1355</td>\n",
       "      <td>16S_rRNA::ADBE01000137.1:300-1836(+)</td>\n",
       "      <td>100.0</td>\n",
       "      <td>1355</td>\n",
       "      <td>0</td>\n",
       "      <td>0</td>\n",
       "      <td>1</td>\n",
       "      <td>1355</td>\n",
       "      <td>1</td>\n",
       "      <td>1536</td>\n",
       "      <td>-1</td>\n",
       "      <td>0</td>\n",
       "      <td>1355</td>\n",
       "      <td>1.000000</td>\n",
       "      <td>ADBE01000137.1</td>\n",
       "      <td>GCA_000176735.1_genomic</td>\n",
       "    </tr>\n",
       "  </tbody>\n",
       "</table>\n",
       "</div>"
      ],
      "text/plain": [
       "                        query_id                                 refer_id  \\\n",
       "60               AJ305238.1.1505    16S_rRNA::DS480346.1:176999-178547(+)   \n",
       "978        ABQR01000074.101.1610          16S_rRNA::DS990270.1:96-1623(+)   \n",
       "133                Y18181.1.1435        16S_rRNA::EQ973341.1:3511-5036(-)   \n",
       "1900  ACON01000003.712136.713636  16S_rRNA::GG688422.1:1081954-1083464(+)   \n",
       "25               AJ239289.1.1355     16S_rRNA::ADBE01000137.1:300-1836(+)   \n",
       "\n",
       "      identity  alignment_length  mismatches  gap_openings  q.start  q.end  \\\n",
       "60        99.9              1505           2             0        1   1505   \n",
       "978      100.0              1510           0             0        1   1510   \n",
       "133       99.9              1437           0             2        1   1435   \n",
       "1900     100.0              1501           0             0        1   1501   \n",
       "25       100.0              1355           0             0        1   1355   \n",
       "\n",
       "      s.start  s.end  e-value  bit_score  length  coverage           refer  \\\n",
       "60          1   1548       -1          0    1505  1.000000      DS480346.1   \n",
       "978         1   1527       -1          0    1510  1.000000      DS990270.1   \n",
       "133         1   1525       -1          0    1435  1.001394      EQ973341.1   \n",
       "1900        1   1510       -1          0    1501  1.000000      GG688422.1   \n",
       "25          1   1536       -1          0    1355  1.000000  ADBE01000137.1   \n",
       "\n",
       "                    genome_id  \n",
       "60    GCA_000154345.1_genomic  \n",
       "978   GCA_000155435.1_genomic  \n",
       "133   GCA_000158655.1_genomic  \n",
       "1900  GCA_000161975.1_genomic  \n",
       "25    GCA_000176735.1_genomic  "
      ]
     },
     "execution_count": 545,
     "metadata": {},
     "output_type": "execute_result"
    }
   ],
   "source": [
    "vsearch_out.head()"
   ]
  },
  {
   "cell_type": "code",
   "execution_count": 541,
   "id": "3c123769-4872-4cbf-91b7-98471be64920",
   "metadata": {},
   "outputs": [],
   "source": [
    "vsearch_out.to_csv(\"/home/dongbiao/word_embedding_microbiome/HGT/results/vsearch_res_new.csv\", index=None)"
   ]
  },
  {
   "cell_type": "code",
   "execution_count": null,
   "id": "782f5bbd-d262-4c61-99c1-284d12353ef9",
   "metadata": {},
   "outputs": [],
   "source": []
  }
 ],
 "metadata": {
  "kernelspec": {
   "display_name": "Python 3 (ipykernel)",
   "language": "python",
   "name": "python3"
  },
  "language_info": {
   "codemirror_mode": {
    "name": "ipython",
    "version": 3
   },
   "file_extension": ".py",
   "mimetype": "text/x-python",
   "name": "python",
   "nbconvert_exporter": "python",
   "pygments_lexer": "ipython3",
   "version": "3.9.22"
  }
 },
 "nbformat": 4,
 "nbformat_minor": 5
}
