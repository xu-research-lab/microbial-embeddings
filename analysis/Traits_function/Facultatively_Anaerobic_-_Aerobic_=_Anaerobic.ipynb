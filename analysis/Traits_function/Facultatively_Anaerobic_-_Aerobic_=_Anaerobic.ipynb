{
 "cells": [
  {
   "cell_type": "code",
   "execution_count": 323,
   "id": "a685c5aa",
   "metadata": {},
   "outputs": [],
   "source": [
    "import pandas as pd\n",
    "import random\n",
    "from sklearn.manifold import TSNE\n",
    "from sklearn.metrics.pairwise import cosine_distances, cosine_similarity\n",
    "import numpy as np\n",
    "import matplotlib.pyplot as plt\n",
    "import PyComplexHeatmap as pch\n",
    "import matplotlib\n",
    "import seaborn as sns\n",
    "import biom\n",
    "from sklearn.decomposition import PCA\n",
    "from sklearn.manifold import TSNE"
   ]
  },
  {
   "cell_type": "code",
   "execution_count": 309,
   "id": "2d925361-fb74-4977-91f9-cbf1cc371375",
   "metadata": {},
   "outputs": [],
   "source": [
    "from skbio.stats.ordination import pcoa\n",
    "from skbio import DistanceMatrix\n",
    "from phylodm import PhyloDM\n",
    "import dendropy"
   ]
  },
  {
   "cell_type": "code",
   "execution_count": 7,
   "id": "019e1434",
   "metadata": {},
   "outputs": [],
   "source": [
    "tax = pd.read_csv(\"../Pretraining_data_profile/Data/taxmap_slv_ssu_ref_nr_138.2.txt\", sep=\"\\t\", low_memory=False)\n",
    "\n",
    "acc = []\n",
    "for i in range(tax.shape[0]):\n",
    "    temp = tax.iloc[i]\n",
    "    acc.append(f\"{temp[0]}.{temp[1]}.{temp[2]}\")\n",
    "\n",
    "tax = tax.loc[:, \"path\"].str.split(';', expand=True)\n",
    "tax.index = acc\n",
    "tax = tax.iloc[:, 0: 7]\n",
    "tax.columns = [\"taxonomy_1\", \"taxonomy_2\", \"taxonomy_3\", \"taxonomy_4\", \"taxonomy_5\", \"taxonomy_6\", \"taxonomy_7\"]"
   ]
  },
  {
   "cell_type": "code",
   "execution_count": 8,
   "id": "51dc809f",
   "metadata": {},
   "outputs": [
    {
     "data": {
      "text/html": [
       "<div>\n",
       "<style scoped>\n",
       "    .dataframe tbody tr th:only-of-type {\n",
       "        vertical-align: middle;\n",
       "    }\n",
       "\n",
       "    .dataframe tbody tr th {\n",
       "        vertical-align: top;\n",
       "    }\n",
       "\n",
       "    .dataframe thead th {\n",
       "        text-align: right;\n",
       "    }\n",
       "</style>\n",
       "<table border=\"1\" class=\"dataframe\">\n",
       "  <thead>\n",
       "    <tr style=\"text-align: right;\">\n",
       "      <th></th>\n",
       "      <th>taxonomy_1</th>\n",
       "      <th>taxonomy_2</th>\n",
       "      <th>taxonomy_3</th>\n",
       "      <th>taxonomy_4</th>\n",
       "      <th>taxonomy_5</th>\n",
       "      <th>taxonomy_6</th>\n",
       "      <th>taxonomy_7</th>\n",
       "    </tr>\n",
       "  </thead>\n",
       "  <tbody>\n",
       "    <tr>\n",
       "      <th>A16379.1.1485</th>\n",
       "      <td>Bacteria</td>\n",
       "      <td>Pseudomonadota</td>\n",
       "      <td>Gammaproteobacteria</td>\n",
       "      <td>Enterobacterales</td>\n",
       "      <td>Pasteurellaceae</td>\n",
       "      <td>Haemophilus</td>\n",
       "      <td></td>\n",
       "    </tr>\n",
       "    <tr>\n",
       "      <th>A45315.1.1521</th>\n",
       "      <td>Bacteria</td>\n",
       "      <td>Bacillota</td>\n",
       "      <td>Bacilli</td>\n",
       "      <td>Bacillales</td>\n",
       "      <td>Salisediminibacteriaceae</td>\n",
       "      <td>Salipaludibacillus</td>\n",
       "      <td></td>\n",
       "    </tr>\n",
       "    <tr>\n",
       "      <th>A61579.1.1437</th>\n",
       "      <td>Bacteria</td>\n",
       "      <td>Thermotogota</td>\n",
       "      <td>Thermotogae</td>\n",
       "      <td>Thermotogales</td>\n",
       "      <td>Fervidobacteriaceae</td>\n",
       "      <td>Thermopallium</td>\n",
       "      <td></td>\n",
       "    </tr>\n",
       "    <tr>\n",
       "      <th>AAAA02020713.1.1297</th>\n",
       "      <td>Bacteria</td>\n",
       "      <td>Pseudomonadota</td>\n",
       "      <td>Gammaproteobacteria</td>\n",
       "      <td>Enterobacterales</td>\n",
       "      <td>Enterobacteriaceae</td>\n",
       "      <td>Escherichia-Shigella</td>\n",
       "      <td></td>\n",
       "    </tr>\n",
       "    <tr>\n",
       "      <th>AAAA02020714.1.1202</th>\n",
       "      <td>Bacteria</td>\n",
       "      <td>Pseudomonadota</td>\n",
       "      <td>Alphaproteobacteria</td>\n",
       "      <td>Sphingomonadales</td>\n",
       "      <td>Sphingomonadaceae</td>\n",
       "      <td>Sphingomonas</td>\n",
       "      <td></td>\n",
       "    </tr>\n",
       "  </tbody>\n",
       "</table>\n",
       "</div>"
      ],
      "text/plain": [
       "                    taxonomy_1      taxonomy_2           taxonomy_3  \\\n",
       "A16379.1.1485         Bacteria  Pseudomonadota  Gammaproteobacteria   \n",
       "A45315.1.1521         Bacteria       Bacillota              Bacilli   \n",
       "A61579.1.1437         Bacteria    Thermotogota          Thermotogae   \n",
       "AAAA02020713.1.1297   Bacteria  Pseudomonadota  Gammaproteobacteria   \n",
       "AAAA02020714.1.1202   Bacteria  Pseudomonadota  Alphaproteobacteria   \n",
       "\n",
       "                           taxonomy_4                taxonomy_5  \\\n",
       "A16379.1.1485        Enterobacterales           Pasteurellaceae   \n",
       "A45315.1.1521              Bacillales  Salisediminibacteriaceae   \n",
       "A61579.1.1437           Thermotogales       Fervidobacteriaceae   \n",
       "AAAA02020713.1.1297  Enterobacterales        Enterobacteriaceae   \n",
       "AAAA02020714.1.1202  Sphingomonadales         Sphingomonadaceae   \n",
       "\n",
       "                               taxonomy_6 taxonomy_7  \n",
       "A16379.1.1485                 Haemophilus             \n",
       "A45315.1.1521          Salipaludibacillus             \n",
       "A61579.1.1437               Thermopallium             \n",
       "AAAA02020713.1.1297  Escherichia-Shigella             \n",
       "AAAA02020714.1.1202          Sphingomonas             "
      ]
     },
     "execution_count": 8,
     "metadata": {},
     "output_type": "execute_result"
    }
   ],
   "source": [
    "tax.head()"
   ]
  },
  {
   "cell_type": "code",
   "execution_count": 621,
   "id": "c1863183",
   "metadata": {},
   "outputs": [],
   "source": [
    "# embedding_file = \"../../data/social_niche_embedding_100.txt\"\n",
    "# embedding_vector = pd.read_csv(embedding_file, sep=\" \", index_col=0, header=None, dtype={0:str})\n",
    "# embedding_vector.drop(\"<unk>\", inplace=True)"
   ]
  },
  {
   "cell_type": "code",
   "execution_count": 622,
   "id": "c4dc2284-a7ea-422a-b50a-8b0bf014383e",
   "metadata": {},
   "outputs": [],
   "source": [
    "embedding_vector = pd.read_csv(\"../../data/Embedding_list/PCA_100.txt\",\n",
    "                          header=None, sep=\" \", low_memory=False, index_col=0)\n",
    "embedding_vector.drop(\"<unk>\", inplace=True)"
   ]
  },
  {
   "cell_type": "code",
   "execution_count": 597,
   "id": "d231e209",
   "metadata": {},
   "outputs": [
    {
     "data": {
      "text/html": [
       "<div>\n",
       "<style scoped>\n",
       "    .dataframe tbody tr th:only-of-type {\n",
       "        vertical-align: middle;\n",
       "    }\n",
       "\n",
       "    .dataframe tbody tr th {\n",
       "        vertical-align: top;\n",
       "    }\n",
       "\n",
       "    .dataframe thead th {\n",
       "        text-align: right;\n",
       "    }\n",
       "</style>\n",
       "<table border=\"1\" class=\"dataframe\">\n",
       "  <thead>\n",
       "    <tr style=\"text-align: right;\">\n",
       "      <th></th>\n",
       "      <th>Aerobic</th>\n",
       "      <th>Anaerobic</th>\n",
       "      <th>Contains_Mobile_Elements</th>\n",
       "      <th>Facultatively_Anaerobic</th>\n",
       "      <th>Forms_Biofilms</th>\n",
       "      <th>Gram_Negative</th>\n",
       "      <th>Gram_Positive</th>\n",
       "      <th>Potentially_Pathogenic</th>\n",
       "      <th>Stress_Tolerant</th>\n",
       "    </tr>\n",
       "  </thead>\n",
       "  <tbody>\n",
       "    <tr>\n",
       "      <th>HL281973.2.1492</th>\n",
       "      <td>0</td>\n",
       "      <td>1</td>\n",
       "      <td>0.004310</td>\n",
       "      <td>0</td>\n",
       "      <td>0.0</td>\n",
       "      <td>1</td>\n",
       "      <td>0</td>\n",
       "      <td>0.007299</td>\n",
       "      <td>0.000000</td>\n",
       "    </tr>\n",
       "    <tr>\n",
       "      <th>HL281749.1.1478</th>\n",
       "      <td>0</td>\n",
       "      <td>0</td>\n",
       "      <td>0.012931</td>\n",
       "      <td>0</td>\n",
       "      <td>0.0</td>\n",
       "      <td>0</td>\n",
       "      <td>1</td>\n",
       "      <td>0.007299</td>\n",
       "      <td>0.016949</td>\n",
       "    </tr>\n",
       "    <tr>\n",
       "      <th>AF542231.1.1414</th>\n",
       "      <td>0</td>\n",
       "      <td>1</td>\n",
       "      <td>0.004310</td>\n",
       "      <td>0</td>\n",
       "      <td>0.0</td>\n",
       "      <td>0</td>\n",
       "      <td>1</td>\n",
       "      <td>0.007299</td>\n",
       "      <td>0.016949</td>\n",
       "    </tr>\n",
       "    <tr>\n",
       "      <th>AF542233.1.1411</th>\n",
       "      <td>0</td>\n",
       "      <td>1</td>\n",
       "      <td>0.004310</td>\n",
       "      <td>0</td>\n",
       "      <td>0.0</td>\n",
       "      <td>0</td>\n",
       "      <td>1</td>\n",
       "      <td>0.007299</td>\n",
       "      <td>0.016949</td>\n",
       "    </tr>\n",
       "    <tr>\n",
       "      <th>AJ006963.1.1453</th>\n",
       "      <td>0</td>\n",
       "      <td>1</td>\n",
       "      <td>0.004310</td>\n",
       "      <td>0</td>\n",
       "      <td>0.0</td>\n",
       "      <td>0</td>\n",
       "      <td>1</td>\n",
       "      <td>0.007299</td>\n",
       "      <td>0.016949</td>\n",
       "    </tr>\n",
       "  </tbody>\n",
       "</table>\n",
       "</div>"
      ],
      "text/plain": [
       "                 Aerobic  Anaerobic  Contains_Mobile_Elements  \\\n",
       "HL281973.2.1492        0          1                  0.004310   \n",
       "HL281749.1.1478        0          0                  0.012931   \n",
       "AF542231.1.1414        0          1                  0.004310   \n",
       "AF542233.1.1411        0          1                  0.004310   \n",
       "AJ006963.1.1453        0          1                  0.004310   \n",
       "\n",
       "                 Facultatively_Anaerobic  Forms_Biofilms  Gram_Negative  \\\n",
       "HL281973.2.1492                        0             0.0              1   \n",
       "HL281749.1.1478                        0             0.0              0   \n",
       "AF542231.1.1414                        0             0.0              0   \n",
       "AF542233.1.1411                        0             0.0              0   \n",
       "AJ006963.1.1453                        0             0.0              0   \n",
       "\n",
       "                 Gram_Positive  Potentially_Pathogenic  Stress_Tolerant  \n",
       "HL281973.2.1492              0                0.007299         0.000000  \n",
       "HL281749.1.1478              1                0.007299         0.016949  \n",
       "AF542231.1.1414              1                0.007299         0.016949  \n",
       "AF542233.1.1411              1                0.007299         0.016949  \n",
       "AJ006963.1.1453              1                0.007299         0.016949  "
      ]
     },
     "execution_count": 597,
     "metadata": {},
     "output_type": "execute_result"
    }
   ],
   "source": [
    "file_path = \"Data/traits_precalculated.txt\"\n",
    "bugbase_data = pd.read_csv(file_path, sep = \"\\t\", index_col = 0)\n",
    "bugbase_data.head()"
   ]
  },
  {
   "cell_type": "markdown",
   "id": "45f57b0c-fabe-486c-a46b-dd1524493e8a",
   "metadata": {},
   "source": [
    "### Facultatively_Anaerobic - Anaerobic = Aerobic "
   ]
  },
  {
   "cell_type": "markdown",
   "id": "cecc7ed7-44bd-4010-9a7e-d2f7c5aeae63",
   "metadata": {},
   "source": [
    "### Genus"
   ]
  },
  {
   "cell_type": "code",
   "execution_count": 139,
   "id": "dc7214d8",
   "metadata": {},
   "outputs": [],
   "source": [
    "fid = bugbase_data.index.values\n",
    "Gram_Positive = bugbase_data.loc[bugbase_data.Gram_Positive == 1]\n",
    "fa_a_ana = Gram_Positive.loc[:, ['Facultatively_Anaerobic', 'Aerobic', 'Anaerobic']]\n",
    "fa_a_ana['genus'] = tax.loc[fid, 'taxonomy_6']\n",
    "fa_a_ana = fa_a_ana.groupby('genus').sum() "
   ]
  },
  {
   "cell_type": "code",
   "execution_count": 140,
   "id": "532be7a6",
   "metadata": {},
   "outputs": [],
   "source": [
    "genus_counts =[]\n",
    "for i in range(0, fa_a_ana.shape[0]):\n",
    "    genus_counts.append(sum(fa_a_ana.iloc[i] > 0))"
   ]
  },
  {
   "cell_type": "code",
   "execution_count": 141,
   "id": "b1469b0b",
   "metadata": {},
   "outputs": [
    {
     "data": {
      "text/html": [
       "<div>\n",
       "<style scoped>\n",
       "    .dataframe tbody tr th:only-of-type {\n",
       "        vertical-align: middle;\n",
       "    }\n",
       "\n",
       "    .dataframe tbody tr th {\n",
       "        vertical-align: top;\n",
       "    }\n",
       "\n",
       "    .dataframe thead th {\n",
       "        text-align: right;\n",
       "    }\n",
       "</style>\n",
       "<table border=\"1\" class=\"dataframe\">\n",
       "  <thead>\n",
       "    <tr style=\"text-align: right;\">\n",
       "      <th></th>\n",
       "      <th>Facultatively_Anaerobic</th>\n",
       "      <th>Aerobic</th>\n",
       "      <th>Anaerobic</th>\n",
       "    </tr>\n",
       "    <tr>\n",
       "      <th>genus</th>\n",
       "      <th></th>\n",
       "      <th></th>\n",
       "      <th></th>\n",
       "    </tr>\n",
       "  </thead>\n",
       "  <tbody>\n",
       "    <tr>\n",
       "      <th>Corynebacterium</th>\n",
       "      <td>1</td>\n",
       "      <td>3</td>\n",
       "      <td>1</td>\n",
       "    </tr>\n",
       "    <tr>\n",
       "      <th>Incertae Sedis</th>\n",
       "      <td>49</td>\n",
       "      <td>11</td>\n",
       "      <td>678</td>\n",
       "    </tr>\n",
       "  </tbody>\n",
       "</table>\n",
       "</div>"
      ],
      "text/plain": [
       "                 Facultatively_Anaerobic  Aerobic  Anaerobic\n",
       "genus                                                       \n",
       "Corynebacterium                        1        3          1\n",
       "Incertae Sedis                        49       11        678"
      ]
     },
     "execution_count": 141,
     "metadata": {},
     "output_type": "execute_result"
    }
   ],
   "source": [
    "fa_a_ana.loc[np.array(genus_counts) == 3]"
   ]
  },
  {
   "cell_type": "markdown",
   "id": "9aa72b12-239e-453a-abcb-139085f2de97",
   "metadata": {},
   "source": [
    "No valid genus under the category Gram_Negative"
   ]
  },
  {
   "cell_type": "code",
   "execution_count": 28,
   "id": "3081675b-9732-4490-9a4c-0070dcfcd546",
   "metadata": {},
   "outputs": [
    {
     "data": {
      "text/html": [
       "<div>\n",
       "<style scoped>\n",
       "    .dataframe tbody tr th:only-of-type {\n",
       "        vertical-align: middle;\n",
       "    }\n",
       "\n",
       "    .dataframe tbody tr th {\n",
       "        vertical-align: top;\n",
       "    }\n",
       "\n",
       "    .dataframe thead th {\n",
       "        text-align: right;\n",
       "    }\n",
       "</style>\n",
       "<table border=\"1\" class=\"dataframe\">\n",
       "  <thead>\n",
       "    <tr style=\"text-align: right;\">\n",
       "      <th></th>\n",
       "      <th>Facultatively_Anaerobic</th>\n",
       "      <th>Aerobic</th>\n",
       "      <th>Anaerobic</th>\n",
       "    </tr>\n",
       "    <tr>\n",
       "      <th>genus</th>\n",
       "      <th></th>\n",
       "      <th></th>\n",
       "      <th></th>\n",
       "    </tr>\n",
       "  </thead>\n",
       "  <tbody>\n",
       "    <tr>\n",
       "      <th>Incertae Sedis</th>\n",
       "      <td>1</td>\n",
       "      <td>21</td>\n",
       "      <td>136</td>\n",
       "    </tr>\n",
       "  </tbody>\n",
       "</table>\n",
       "</div>"
      ],
      "text/plain": [
       "                Facultatively_Anaerobic  Aerobic  Anaerobic\n",
       "genus                                                      \n",
       "Incertae Sedis                        1       21        136"
      ]
     },
     "execution_count": 28,
     "metadata": {},
     "output_type": "execute_result"
    }
   ],
   "source": [
    "fid = bugbase_data.index.values\n",
    "Gram_Positive = bugbase_data.loc[bugbase_data.Gram_Negative == 1]\n",
    "fa_a_ana = Gram_Positive.loc[:, ['Facultatively_Anaerobic', 'Aerobic', 'Anaerobic']]\n",
    "fa_a_ana['genus'] = tax.loc[fid, 'taxonomy_6']\n",
    "fa_a_ana = fa_a_ana.groupby('genus').sum() \n",
    "genus_counts =[]\n",
    "for i in range(0, fa_a_ana.shape[0]):\n",
    "    genus_counts.append(sum(fa_a_ana.iloc[i] > 0))\n",
    "fa_a_ana.loc[np.array(genus_counts) == 3]"
   ]
  },
  {
   "cell_type": "markdown",
   "id": "1f08ab78-b6c1-49a0-bdc9-c608e58d43a8",
   "metadata": {},
   "source": [
    "No valid genus under the category Gram_Negative"
   ]
  },
  {
   "cell_type": "markdown",
   "id": "3e10a868-bab7-4efc-98a6-11da55f51b04",
   "metadata": {},
   "source": [
    "### family"
   ]
  },
  {
   "cell_type": "code",
   "execution_count": 29,
   "id": "2636391e-faf9-4d05-ac5e-a3f4ba46c926",
   "metadata": {},
   "outputs": [
    {
     "data": {
      "text/html": [
       "<div>\n",
       "<style scoped>\n",
       "    .dataframe tbody tr th:only-of-type {\n",
       "        vertical-align: middle;\n",
       "    }\n",
       "\n",
       "    .dataframe tbody tr th {\n",
       "        vertical-align: top;\n",
       "    }\n",
       "\n",
       "    .dataframe thead th {\n",
       "        text-align: right;\n",
       "    }\n",
       "</style>\n",
       "<table border=\"1\" class=\"dataframe\">\n",
       "  <thead>\n",
       "    <tr style=\"text-align: right;\">\n",
       "      <th></th>\n",
       "      <th>Facultatively_Anaerobic</th>\n",
       "      <th>Aerobic</th>\n",
       "      <th>Anaerobic</th>\n",
       "    </tr>\n",
       "    <tr>\n",
       "      <th>family</th>\n",
       "      <th></th>\n",
       "      <th></th>\n",
       "      <th></th>\n",
       "    </tr>\n",
       "  </thead>\n",
       "  <tbody>\n",
       "    <tr>\n",
       "      <th>Corynebacteriaceae</th>\n",
       "      <td>1</td>\n",
       "      <td>4</td>\n",
       "      <td>1</td>\n",
       "    </tr>\n",
       "    <tr>\n",
       "      <th>Incertae Sedis</th>\n",
       "      <td>37</td>\n",
       "      <td>2</td>\n",
       "      <td>159</td>\n",
       "    </tr>\n",
       "  </tbody>\n",
       "</table>\n",
       "</div>"
      ],
      "text/plain": [
       "                    Facultatively_Anaerobic  Aerobic  Anaerobic\n",
       "family                                                         \n",
       "Corynebacteriaceae                        1        4          1\n",
       "Incertae Sedis                           37        2        159"
      ]
     },
     "execution_count": 29,
     "metadata": {},
     "output_type": "execute_result"
    }
   ],
   "source": [
    "fid = bugbase_data.index.values\n",
    "Gram_Positive = bugbase_data.loc[bugbase_data.Gram_Positive == 1]\n",
    "fa_a_ana = Gram_Positive.loc[:, ['Facultatively_Anaerobic', 'Aerobic', 'Anaerobic']]\n",
    "fa_a_ana['family'] = tax.loc[fid, 'taxonomy_5']\n",
    "fa_a_ana = fa_a_ana.groupby('family').sum() \n",
    "family_counts =[]\n",
    "for i in range(0, fa_a_ana.shape[0]):\n",
    "    family_counts.append(sum(fa_a_ana.iloc[i] > 0))\n",
    "fa_a_ana.loc[np.array(family_counts) == 3]"
   ]
  },
  {
   "cell_type": "markdown",
   "id": "de7ec2d4-dd63-4671-9a4c-6f023fe071fc",
   "metadata": {},
   "source": [
    "No valid genus under the category Gram_Negative"
   ]
  },
  {
   "cell_type": "code",
   "execution_count": 30,
   "id": "43200803-2c4e-4341-82c1-f65c9d92b43d",
   "metadata": {},
   "outputs": [
    {
     "data": {
      "text/html": [
       "<div>\n",
       "<style scoped>\n",
       "    .dataframe tbody tr th:only-of-type {\n",
       "        vertical-align: middle;\n",
       "    }\n",
       "\n",
       "    .dataframe tbody tr th {\n",
       "        vertical-align: top;\n",
       "    }\n",
       "\n",
       "    .dataframe thead th {\n",
       "        text-align: right;\n",
       "    }\n",
       "</style>\n",
       "<table border=\"1\" class=\"dataframe\">\n",
       "  <thead>\n",
       "    <tr style=\"text-align: right;\">\n",
       "      <th></th>\n",
       "      <th>Facultatively_Anaerobic</th>\n",
       "      <th>Aerobic</th>\n",
       "      <th>Anaerobic</th>\n",
       "    </tr>\n",
       "    <tr>\n",
       "      <th>family</th>\n",
       "      <th></th>\n",
       "      <th></th>\n",
       "      <th></th>\n",
       "    </tr>\n",
       "  </thead>\n",
       "  <tbody>\n",
       "  </tbody>\n",
       "</table>\n",
       "</div>"
      ],
      "text/plain": [
       "Empty DataFrame\n",
       "Columns: [Facultatively_Anaerobic, Aerobic, Anaerobic]\n",
       "Index: []"
      ]
     },
     "execution_count": 30,
     "metadata": {},
     "output_type": "execute_result"
    }
   ],
   "source": [
    "fid = bugbase_data.index.values\n",
    "Gram_Positive = bugbase_data.loc[bugbase_data.Gram_Negative == 1]\n",
    "fa_a_ana = Gram_Positive.loc[:, ['Facultatively_Anaerobic', 'Aerobic', 'Anaerobic']]\n",
    "fa_a_ana['family'] = tax.loc[fid, 'taxonomy_5']\n",
    "fa_a_ana = fa_a_ana.groupby('family').sum() \n",
    "family_counts =[]\n",
    "for i in range(0, fa_a_ana.shape[0]):\n",
    "    family_counts.append(sum(fa_a_ana.iloc[i] > 0))\n",
    "fa_a_ana.loc[np.array(family_counts) == 3]"
   ]
  },
  {
   "cell_type": "markdown",
   "id": "2131fa41-4f90-492d-895b-9f3c1f03550e",
   "metadata": {},
   "source": [
    "No valid genus under the category Gram_Negative"
   ]
  },
  {
   "cell_type": "markdown",
   "id": "b061a138",
   "metadata": {},
   "source": [
    "### order"
   ]
  },
  {
   "cell_type": "code",
   "execution_count": 159,
   "id": "9db813f0",
   "metadata": {},
   "outputs": [
    {
     "data": {
      "text/html": [
       "<div>\n",
       "<style scoped>\n",
       "    .dataframe tbody tr th:only-of-type {\n",
       "        vertical-align: middle;\n",
       "    }\n",
       "\n",
       "    .dataframe tbody tr th {\n",
       "        vertical-align: top;\n",
       "    }\n",
       "\n",
       "    .dataframe thead th {\n",
       "        text-align: right;\n",
       "    }\n",
       "</style>\n",
       "<table border=\"1\" class=\"dataframe\">\n",
       "  <thead>\n",
       "    <tr style=\"text-align: right;\">\n",
       "      <th></th>\n",
       "      <th>Facultatively_Anaerobic</th>\n",
       "      <th>Aerobic</th>\n",
       "      <th>Anaerobic</th>\n",
       "    </tr>\n",
       "    <tr>\n",
       "      <th>order</th>\n",
       "      <th></th>\n",
       "      <th></th>\n",
       "      <th></th>\n",
       "    </tr>\n",
       "  </thead>\n",
       "  <tbody>\n",
       "    <tr>\n",
       "      <th>Lactobacillales</th>\n",
       "      <td>79</td>\n",
       "      <td>22</td>\n",
       "      <td>17</td>\n",
       "    </tr>\n",
       "    <tr>\n",
       "      <th>Mycobacteriales</th>\n",
       "      <td>1</td>\n",
       "      <td>6</td>\n",
       "      <td>1</td>\n",
       "    </tr>\n",
       "  </tbody>\n",
       "</table>\n",
       "</div>"
      ],
      "text/plain": [
       "                 Facultatively_Anaerobic  Aerobic  Anaerobic\n",
       "order                                                       \n",
       "Lactobacillales                       79       22         17\n",
       "Mycobacteriales                        1        6          1"
      ]
     },
     "execution_count": 159,
     "metadata": {},
     "output_type": "execute_result"
    }
   ],
   "source": [
    "fid = bugbase_data.index.values\n",
    "Gram_Positive = bugbase_data.loc[bugbase_data.Gram_Positive == 1]\n",
    "fa_a_ana = Gram_Positive.loc[:, ['Facultatively_Anaerobic', 'Aerobic', 'Anaerobic']]\n",
    "fa_a_ana['order'] = tax.loc[fid, 'taxonomy_4']\n",
    "fa_a_ana = fa_a_ana.groupby('order').sum() \n",
    "\n",
    "order_counts =[]\n",
    "for i in range(0, fa_a_ana.shape[0]):\n",
    "    order_counts.append(sum(fa_a_ana.iloc[i] > 0))\n",
    "fa_a_ana.loc[np.array(order_counts) == 3]"
   ]
  },
  {
   "cell_type": "code",
   "execution_count": 160,
   "id": "2f3ca091",
   "metadata": {},
   "outputs": [],
   "source": [
    "o__Lactobacillales = tax.loc[fid][tax.loc[fid, 'taxonomy_4'] == \"Lactobacillales\"]\n",
    "o__Lactobacillales_emb = embedding_vector.loc[[i for i in o__Lactobacillales.index]]"
   ]
  },
  {
   "cell_type": "code",
   "execution_count": 161,
   "id": "10d9c803",
   "metadata": {},
   "outputs": [],
   "source": [
    "o__Lactobacillales_bugbase = bugbase_data.loc[o__Lactobacillales.index, \n",
    "                                             [\"Facultatively_Anaerobic\", \"Aerobic\", \"Anaerobic\"]]\n",
    "o__Lactobacillales_bugbase = o__Lactobacillales_bugbase.reset_index()\n",
    "o__Lactobacillales_bugbase = pd.melt(o__Lactobacillales_bugbase, id_vars='index', var_name='Type')\n",
    "o__Lactobacillales_bugbase = o__Lactobacillales_bugbase.loc[o__Lactobacillales_bugbase.values == 1]"
   ]
  },
  {
   "cell_type": "code",
   "execution_count": 162,
   "id": "85941ed3",
   "metadata": {},
   "outputs": [],
   "source": [
    "o__Lactobacillales_fa = np.array(o__Lactobacillales_bugbase['index'][o__Lactobacillales_bugbase.Type == \"Facultatively_Anaerobic\"])\n",
    "o__Lactobacillales_ae = np.array(o__Lactobacillales_bugbase['index'][o__Lactobacillales_bugbase.Type == \"Aerobic\"])\n",
    "o__Lactobacillales_an = np.array(o__Lactobacillales_bugbase['index'][o__Lactobacillales_bugbase.Type == \"Anaerobic\"])"
   ]
  },
  {
   "cell_type": "code",
   "execution_count": 163,
   "id": "f6dc153e",
   "metadata": {},
   "outputs": [],
   "source": [
    "data = np.random.rand(o__Lactobacillales_fa.shape[0] * o__Lactobacillales_an.shape[0], 100)\n",
    "df = pd.DataFrame(data)"
   ]
  },
  {
   "cell_type": "code",
   "execution_count": 164,
   "id": "b37fbd6e",
   "metadata": {},
   "outputs": [],
   "source": [
    "n = 0\n",
    "index_name = []\n",
    "for i in o__Lactobacillales_fa:\n",
    "    for j in o__Lactobacillales_an:\n",
    "        df.iloc[n] = embedding_vector.loc[i] - embedding_vector.loc[j]\n",
    "        index_name.append(f'{i}_{j}')\n",
    "        n = n + 1\n",
    "df.index = index_name"
   ]
  },
  {
   "cell_type": "code",
   "execution_count": 125,
   "id": "6e109f76-c445-42a8-b91c-422718e4947a",
   "metadata": {},
   "outputs": [],
   "source": [
    "# fid = o__Lactobacillales.index.values\n",
    "# res = cosine_similarity(df, embedding_vector.loc[fid])\n",
    "# res = pd.DataFrame(data=res, columns=fid)\n",
    "# upper_triangle = np.triu(res, k=1)\n",
    "# upper_triangle = pd.DataFrame(data=upper_triangle, index=res.index, columns=res.columns)\n",
    "# upper_triangle['id_1'] = upper_triangle.index.tolist()\n",
    "# upper_triangle = pd.melt(upper_triangle, id_vars=\"id_1\")\n",
    "# upper_triangle = upper_triangle.loc[upper_triangle.value != 0]\n",
    "# upper_triangle.columns = [\"id_1\", \"fid\", \"cosine\"]\n",
    "# upper_triangle['Type'] = [\"temp\"] * upper_triangle.shape[0]\n",
    "# bugbase_data_temp = bugbase_data.loc[upper_triangle.fid]\n",
    "# upper_triangle.loc[bugbase_data_temp.Facultatively_Anaerobic.values == 1, 'Type'] = \"Facultatively_Anaerobic\"\n",
    "# upper_triangle.loc[bugbase_data_temp.Anaerobic.values == 1, 'Type'] = \"Anaerobic\"\n",
    "# upper_triangle.loc[bugbase_data_temp.Aerobic.values == 1, 'Type'] = \"Aerobic\"\n",
    "# upper_triangle = upper_triangle.loc[upper_triangle['Type'] != \"temp\"]\n",
    "# upper_triangle.to_csv(\"order_Facultatively_Anaerobic_Anaerobic_Aerobic.csv\", index=False)"
   ]
  },
  {
   "cell_type": "code",
   "execution_count": 180,
   "id": "525ad557",
   "metadata": {},
   "outputs": [],
   "source": [
    "fid = o__Lactobacillales.index.values\n",
    "res = cosine_similarity(df, embedding_vector.loc[fid])\n",
    "res = np.mean(res, axis=0)\n",
    "res = pd.DataFrame({'fid':fid, 'cosine':res})\n",
    "res = res.set_index('fid')\n",
    "res['Type'] = [\"temp\"] * res.shape[0]\n",
    "bugbase_data_temp = bugbase_data.loc[fid]\n",
    "\n",
    "res.loc[bugbase_data_temp.loc[bugbase_data_temp.Facultatively_Anaerobic == 1].index, 'Type'] = \"Facultatively_Anaerobic\"\n",
    "res.loc[bugbase_data_temp.loc[bugbase_data_temp.Anaerobic == 1].index, 'Type'] = \"Anaerobic\"\n",
    "res.loc[bugbase_data_temp.loc[bugbase_data_temp.Aerobic == 1].index, 'Type'] = \"Aerobic\"\n",
    "res = res.loc[res['Type'] != \"temp\"]"
   ]
  },
  {
   "cell_type": "code",
   "execution_count": 182,
   "id": "a23aff20",
   "metadata": {},
   "outputs": [],
   "source": [
    "res.to_csv(\"Data/order_Facultatively_Anaerobic_Anaerobic_Aerobic_phy.csv\")"
   ]
  },
  {
   "cell_type": "code",
   "execution_count": 63,
   "id": "27bdfbbe-049f-4489-8aa1-4524c9e7feb9",
   "metadata": {},
   "outputs": [
    {
     "data": {
      "text/html": [
       "<div>\n",
       "<style scoped>\n",
       "    .dataframe tbody tr th:only-of-type {\n",
       "        vertical-align: middle;\n",
       "    }\n",
       "\n",
       "    .dataframe tbody tr th {\n",
       "        vertical-align: top;\n",
       "    }\n",
       "\n",
       "    .dataframe thead th {\n",
       "        text-align: right;\n",
       "    }\n",
       "</style>\n",
       "<table border=\"1\" class=\"dataframe\">\n",
       "  <thead>\n",
       "    <tr style=\"text-align: right;\">\n",
       "      <th></th>\n",
       "      <th>Facultatively_Anaerobic</th>\n",
       "      <th>Aerobic</th>\n",
       "      <th>Anaerobic</th>\n",
       "    </tr>\n",
       "    <tr>\n",
       "      <th>order</th>\n",
       "      <th></th>\n",
       "      <th></th>\n",
       "      <th></th>\n",
       "    </tr>\n",
       "  </thead>\n",
       "  <tbody>\n",
       "  </tbody>\n",
       "</table>\n",
       "</div>"
      ],
      "text/plain": [
       "Empty DataFrame\n",
       "Columns: [Facultatively_Anaerobic, Aerobic, Anaerobic]\n",
       "Index: []"
      ]
     },
     "execution_count": 63,
     "metadata": {},
     "output_type": "execute_result"
    }
   ],
   "source": [
    "fid = bugbase_data.index.values\n",
    "Gram_Positive = bugbase_data.loc[bugbase_data.Gram_Negative == 1]\n",
    "fa_a_ana = Gram_Positive.loc[:, ['Facultatively_Anaerobic', 'Aerobic', 'Anaerobic']]\n",
    "fa_a_ana['order'] = tax.loc[fid, 'taxonomy_4']\n",
    "fa_a_ana = fa_a_ana.groupby('order').sum() \n",
    "\n",
    "order_counts =[]\n",
    "for i in range(0, fa_a_ana.shape[0]):\n",
    "    order_counts.append(sum(fa_a_ana.iloc[i] > 0))\n",
    "fa_a_ana.loc[np.array(order_counts) == 3]"
   ]
  },
  {
   "cell_type": "markdown",
   "id": "b8a69bc7-16eb-423e-b181-60438894f43a",
   "metadata": {},
   "source": [
    "### all OTUs"
   ]
  },
  {
   "cell_type": "markdown",
   "id": "279c336d-ca1c-4171-b1b2-f81acc825f35",
   "metadata": {},
   "source": [
    "### Bugbase"
   ]
  },
  {
   "cell_type": "code",
   "execution_count": 623,
   "id": "5f2a13b0-0e5d-4d7c-bdd0-05f0652f70f8",
   "metadata": {},
   "outputs": [],
   "source": [
    "fa_a_ana_bugbase = bugbase_data[['Facultatively_Anaerobic', 'Aerobic', 'Anaerobic']]\n",
    "fa_a_ana_bugbase = fa_a_ana_bugbase.reset_index()\n",
    "fa_a_ana_bugbase = pd.melt(fa_a_ana_bugbase, id_vars='index', var_name='Type')\n",
    "fa_a_ana_bugbase = fa_a_ana_bugbase.loc[fa_a_ana_bugbase.values == 1]"
   ]
  },
  {
   "cell_type": "code",
   "execution_count": 624,
   "id": "364e83a1-2ae8-4e80-907b-35e31db40acf",
   "metadata": {},
   "outputs": [],
   "source": [
    "all_fa = np.array(fa_a_ana_bugbase['index'][fa_a_ana_bugbase.Type == \"Facultatively_Anaerobic\"])\n",
    "all_ae = np.array(fa_a_ana_bugbase['index'][fa_a_ana_bugbase.Type == \"Aerobic\"])\n",
    "all_an = np.array(fa_a_ana_bugbase['index'][fa_a_ana_bugbase.Type == \"Anaerobic\"])"
   ]
  },
  {
   "cell_type": "code",
   "execution_count": 625,
   "id": "4da5abcc-cb66-4b86-9e8e-8148d251e45f",
   "metadata": {},
   "outputs": [],
   "source": [
    "data = np.random.rand(all_fa.shape[0] * all_an.shape[0], 100)\n",
    "df = pd.DataFrame(data)"
   ]
  },
  {
   "cell_type": "code",
   "execution_count": 626,
   "id": "92ac00e1-5632-4976-be7e-54f9336879e8",
   "metadata": {},
   "outputs": [],
   "source": [
    "n = 0\n",
    "index_name = []\n",
    "for i in all_fa:\n",
    "    for j in all_an:\n",
    "        df.iloc[n] = embedding_vector.loc[i] - embedding_vector.loc[j]\n",
    "        index_name.append(f'{i}_{j}')\n",
    "        n = n + 1\n",
    "df.index = index_name"
   ]
  },
  {
   "cell_type": "code",
   "execution_count": 627,
   "id": "398cbf2c-ba85-417f-85f8-90e6b287ee88",
   "metadata": {},
   "outputs": [],
   "source": [
    "fid = fa_a_ana_bugbase[\"index\"].values\n",
    "res = cosine_similarity(df, embedding_vector.loc[fid])\n",
    "res = np.mean(res, axis=0)\n",
    "res = pd.DataFrame({'fid':fid, 'cosine':res})\n",
    "res = res.set_index('fid')\n",
    "res['Type'] = [\"temp\"] * res.shape[0]\n",
    "bugbase_data_temp = bugbase_data.loc[fid]\n",
    "\n",
    "res.loc[bugbase_data_temp.loc[bugbase_data_temp.Facultatively_Anaerobic == 1].index, 'Type'] = \"facultatively\"\n",
    "res.loc[bugbase_data_temp.loc[bugbase_data_temp.Anaerobic == 1].index, 'Type'] = \"anaerobic\"\n",
    "res.loc[bugbase_data_temp.loc[bugbase_data_temp.Aerobic == 1].index, 'Type'] = \"aerobic\"\n",
    "res = res.loc[res['Type'] != \"temp\"]"
   ]
  },
  {
   "cell_type": "code",
   "execution_count": 628,
   "id": "fb04827c-96fb-4e4c-a564-876b3eb26f49",
   "metadata": {},
   "outputs": [],
   "source": [
    "res.to_csv(\"Data/Bugbase_Facultatively_Anaerobic_Anaerobic_Aerobic_all_phy.csv\")"
   ]
  },
  {
   "cell_type": "code",
   "execution_count": 629,
   "id": "d3eda97c-d3c5-47e9-96ab-dae5d081fdc2",
   "metadata": {},
   "outputs": [
    {
     "data": {
      "text/html": [
       "<div>\n",
       "<style scoped>\n",
       "    .dataframe tbody tr th:only-of-type {\n",
       "        vertical-align: middle;\n",
       "    }\n",
       "\n",
       "    .dataframe tbody tr th {\n",
       "        vertical-align: top;\n",
       "    }\n",
       "\n",
       "    .dataframe thead th {\n",
       "        text-align: right;\n",
       "    }\n",
       "</style>\n",
       "<table border=\"1\" class=\"dataframe\">\n",
       "  <thead>\n",
       "    <tr style=\"text-align: right;\">\n",
       "      <th></th>\n",
       "      <th>cosine</th>\n",
       "      <th>Type</th>\n",
       "    </tr>\n",
       "    <tr>\n",
       "      <th>fid</th>\n",
       "      <th></th>\n",
       "      <th></th>\n",
       "    </tr>\n",
       "  </thead>\n",
       "  <tbody>\n",
       "    <tr>\n",
       "      <th>U96412.1.1468</th>\n",
       "      <td>0.021098</td>\n",
       "      <td>facultatively</td>\n",
       "    </tr>\n",
       "    <tr>\n",
       "      <th>U92197.1.1541</th>\n",
       "      <td>0.082306</td>\n",
       "      <td>facultatively</td>\n",
       "    </tr>\n",
       "    <tr>\n",
       "      <th>AB030220.1.1486</th>\n",
       "      <td>0.116751</td>\n",
       "      <td>facultatively</td>\n",
       "    </tr>\n",
       "    <tr>\n",
       "      <th>AB009222.1.1414</th>\n",
       "      <td>0.131083</td>\n",
       "      <td>facultatively</td>\n",
       "    </tr>\n",
       "    <tr>\n",
       "      <th>Y18188.1.1489</th>\n",
       "      <td>0.125595</td>\n",
       "      <td>facultatively</td>\n",
       "    </tr>\n",
       "  </tbody>\n",
       "</table>\n",
       "</div>"
      ],
      "text/plain": [
       "                   cosine           Type\n",
       "fid                                     \n",
       "U96412.1.1468    0.021098  facultatively\n",
       "U92197.1.1541    0.082306  facultatively\n",
       "AB030220.1.1486  0.116751  facultatively\n",
       "AB009222.1.1414  0.131083  facultatively\n",
       "Y18188.1.1489    0.125595  facultatively"
      ]
     },
     "execution_count": 629,
     "metadata": {},
     "output_type": "execute_result"
    }
   ],
   "source": [
    "res.head()"
   ]
  },
  {
   "cell_type": "markdown",
   "id": "6d8a1022-cbfe-4e2d-a669-dc85aed73aeb",
   "metadata": {},
   "source": [
    "### Traitar"
   ]
  },
  {
   "cell_type": "code",
   "execution_count": 630,
   "id": "dd103e23-57db-4854-9295-f4bc16fc4de2",
   "metadata": {},
   "outputs": [],
   "source": [
    "traits = pd.read_csv(\"Data/trait_predcit.csv\", index_col=0)\n",
    "traits.replace(3, 1, inplace=True)\n",
    "\n",
    "### Aerobe Facultative Anaerobe\n",
    "traits['Oxygen_Preference'] = 0\n",
    "\n",
    "traits.loc[traits['Aerobe'] == 1, 'Oxygen_Preference'] = 1\n",
    "traits.loc[traits['Facultative'] == 1, 'Oxygen_Preference'] = 2\n",
    "traits.loc[traits['Anaerobe'] == 1, 'Oxygen_Preference'] = 3\n",
    "\n",
    "oxygen_cols = ['Aerobe', 'Facultative', 'Anaerobe']\n",
    "traits.loc[traits[oxygen_cols].sum(axis=1) != 1, 'Oxygen_Preference'] = None"
   ]
  },
  {
   "cell_type": "code",
   "execution_count": 631,
   "id": "623e873a-f3f2-4eaa-ac07-c23b78adbcfe",
   "metadata": {},
   "outputs": [],
   "source": [
    "fid = traits.index.values"
   ]
  },
  {
   "cell_type": "code",
   "execution_count": 632,
   "id": "e5b0709e-5b05-4132-8cf8-b094405596ec",
   "metadata": {},
   "outputs": [],
   "source": [
    "all_fa = np.array(traits.index.values[traits[\"Oxygen_Preference\"] == 2])\n",
    "all_an = np.array(traits.index.values[traits[\"Oxygen_Preference\"] == 3])\n",
    "all_ae = np.array(traits.index.values[traits[\"Oxygen_Preference\"] == 1])"
   ]
  },
  {
   "cell_type": "code",
   "execution_count": 633,
   "id": "8d108ff7-2164-4a01-af6c-a1348d91afe8",
   "metadata": {},
   "outputs": [],
   "source": [
    "data = np.random.rand(all_fa.shape[0] * all_an.shape[0], 100)\n",
    "df = pd.DataFrame(data)"
   ]
  },
  {
   "cell_type": "code",
   "execution_count": 634,
   "id": "c152e703-d577-40d6-8658-cbb951a525ac",
   "metadata": {},
   "outputs": [],
   "source": [
    "n = 0\n",
    "index_name = []\n",
    "for i in all_fa:\n",
    "    for j in all_an:\n",
    "        df.iloc[n] = embedding_vector.loc[i] - embedding_vector.loc[j]\n",
    "        index_name.append(f'{i}_{j}')\n",
    "        n = n + 1\n",
    "df.index = index_name\n",
    "\n",
    "fid = traits.index.values\n",
    "res = cosine_similarity(df, embedding_vector.loc[fid])\n",
    "res = np.mean(res, axis=0)\n",
    "res = pd.DataFrame({'fid':fid, 'cosine':res})\n",
    "res = res.set_index('fid')\n",
    "res['Type'] = [\"temp\"] * res.shape[0]"
   ]
  },
  {
   "cell_type": "code",
   "execution_count": 635,
   "id": "45437a38-b5e2-4209-a06f-0a2f3463377d",
   "metadata": {},
   "outputs": [],
   "source": [
    "res.loc[fid[traits[\"Oxygen_Preference\"] == 2], 'Type'] = \"facultatively\"\n",
    "res.loc[fid[traits[\"Oxygen_Preference\"] == 3], 'Type'] = \"anaerobic\"\n",
    "res.loc[fid[traits[\"Oxygen_Preference\"] == 1], 'Type'] = \"aerobic\"\n",
    "res = res.loc[res['Type'] != \"temp\"]"
   ]
  },
  {
   "cell_type": "code",
   "execution_count": 636,
   "id": "b21edf57-34f9-4de4-98f6-ff6119a9bd95",
   "metadata": {},
   "outputs": [],
   "source": [
    "res.to_csv(\"Data/Traitar_Facultatively_Anaerobic_Anaerobic_Aerobic_all_phy.csv\")"
   ]
  },
  {
   "cell_type": "markdown",
   "id": "c8fef76d-625d-463a-9ca8-7b0266582ce6",
   "metadata": {},
   "source": [
    "### bac Dive"
   ]
  },
  {
   "cell_type": "code",
   "execution_count": 637,
   "id": "79a634c0-f5b2-4927-9743-00452126840e",
   "metadata": {},
   "outputs": [],
   "source": [
    "traits = pd.read_csv(\"Data/trait_16s_output_pick.tsv\", \n",
    "                     sep=\"\\t\")\n",
    "traits = traits[[\"16s_accession\", \"oxygen_preference\"]]\n",
    "traits = traits.dropna()"
   ]
  },
  {
   "cell_type": "code",
   "execution_count": 638,
   "id": "43ca85f6-7bbb-45e2-8378-431e6029156a",
   "metadata": {},
   "outputs": [
    {
     "data": {
      "text/plain": [
       "array(['anaerobe', 'aerobe', 'facultative_anaerobe'], dtype=object)"
      ]
     },
     "execution_count": 638,
     "metadata": {},
     "output_type": "execute_result"
    }
   ],
   "source": [
    "traits[\"oxygen_preference\"].unique()"
   ]
  },
  {
   "cell_type": "code",
   "execution_count": 639,
   "id": "3b437d48-3e33-43ea-aa69-817aeb5cc281",
   "metadata": {},
   "outputs": [],
   "source": [
    "all_fa = np.array(traits['16s_accession'][traits[\"oxygen_preference\"] == \"facultative_anaerobe\"])\n",
    "all_an = np.array(traits['16s_accession'][traits[\"oxygen_preference\"] == \"anaerobe\"])\n",
    "all_ae = np.array(traits['16s_accession'][traits[\"oxygen_preference\"] == \"aerobe\"])"
   ]
  },
  {
   "cell_type": "code",
   "execution_count": 640,
   "id": "611189c2-462c-4e08-9ced-5dcc7a936a54",
   "metadata": {},
   "outputs": [],
   "source": [
    "data = np.random.rand(all_fa.shape[0] * all_an.shape[0], 100)\n",
    "df = pd.DataFrame(data)"
   ]
  },
  {
   "cell_type": "code",
   "execution_count": 641,
   "id": "609eb285-8a58-4407-a2dc-0352568092e1",
   "metadata": {},
   "outputs": [],
   "source": [
    "n = 0\n",
    "index_name = []\n",
    "for i in all_fa:\n",
    "    for j in all_an:\n",
    "        df.iloc[n] = embedding_vector.loc[i] - embedding_vector.loc[j]\n",
    "        index_name.append(f'{i}_{j}')\n",
    "        n = n + 1\n",
    "df.index = index_name\n",
    "\n",
    "fid = traits['16s_accession'].values\n",
    "res = cosine_similarity(df, embedding_vector.loc[fid])\n",
    "res = np.mean(res, axis=0)\n",
    "res = pd.DataFrame({'fid':fid, 'cosine':res})\n",
    "res = res.set_index('fid')\n",
    "res['Type'] = [\"temp\"] * res.shape[0]"
   ]
  },
  {
   "cell_type": "code",
   "execution_count": 642,
   "id": "7aa6ca1d-5e77-4d56-94e3-5737155ace90",
   "metadata": {},
   "outputs": [],
   "source": [
    "res.loc[fid[traits[\"oxygen_preference\"] == \"facultative_anaerobe\"], 'Type'] = \"facultatively\"\n",
    "res.loc[fid[traits[\"oxygen_preference\"] == \"anaerobe\"], 'Type'] = \"anaerobic\"\n",
    "res.loc[fid[traits[\"oxygen_preference\"] == \"aerobe\"], 'Type'] = \"aerobic\"\n",
    "res = res.loc[res['Type'] != \"temp\"]"
   ]
  },
  {
   "cell_type": "code",
   "execution_count": 643,
   "id": "31a8f4d5-f808-44e2-b48c-c0d4257f8fc9",
   "metadata": {},
   "outputs": [],
   "source": [
    "res.to_csv(\"Data/bacdive_Facultatively_Anaerobic_Anaerobic_Aerobic_all_phy.csv\")"
   ]
  },
  {
   "cell_type": "markdown",
   "id": "cb0ffb14-5e2c-4a77-bcf9-a404f0294e21",
   "metadata": {},
   "source": [
    "### GP_Aerobic - Aerobic + Anaerobic = GP_Anaerobic"
   ]
  },
  {
   "cell_type": "markdown",
   "id": "0b269bf3-cecf-4f59-b1f7-e9ca23b50a58",
   "metadata": {},
   "source": [
    "### Genus"
   ]
  },
  {
   "cell_type": "code",
   "execution_count": 41,
   "id": "1bf009f8-165b-4623-8aab-645aecfaf67f",
   "metadata": {},
   "outputs": [
    {
     "data": {
      "text/html": [
       "<div>\n",
       "<style scoped>\n",
       "    .dataframe tbody tr th:only-of-type {\n",
       "        vertical-align: middle;\n",
       "    }\n",
       "\n",
       "    .dataframe tbody tr th {\n",
       "        vertical-align: top;\n",
       "    }\n",
       "\n",
       "    .dataframe thead th {\n",
       "        text-align: right;\n",
       "    }\n",
       "</style>\n",
       "<table border=\"1\" class=\"dataframe\">\n",
       "  <thead>\n",
       "    <tr style=\"text-align: right;\">\n",
       "      <th></th>\n",
       "      <th>Aerobic</th>\n",
       "      <th>Anaerobic</th>\n",
       "    </tr>\n",
       "    <tr>\n",
       "      <th>genus</th>\n",
       "      <th></th>\n",
       "      <th></th>\n",
       "    </tr>\n",
       "  </thead>\n",
       "  <tbody>\n",
       "    <tr>\n",
       "      <th>Campylobacter</th>\n",
       "      <td>8</td>\n",
       "      <td>4</td>\n",
       "    </tr>\n",
       "    <tr>\n",
       "      <th>Corynebacterium</th>\n",
       "      <td>3</td>\n",
       "      <td>1</td>\n",
       "    </tr>\n",
       "    <tr>\n",
       "      <th>Incertae Sedis</th>\n",
       "      <td>32</td>\n",
       "      <td>814</td>\n",
       "    </tr>\n",
       "  </tbody>\n",
       "</table>\n",
       "</div>"
      ],
      "text/plain": [
       "                 Aerobic  Anaerobic\n",
       "genus                              \n",
       "Campylobacter          8          4\n",
       "Corynebacterium        3          1\n",
       "Incertae Sedis        32        814"
      ]
     },
     "execution_count": 41,
     "metadata": {},
     "output_type": "execute_result"
    }
   ],
   "source": [
    "fid = bugbase_data.index.values\n",
    "fa_a_ana = bugbase_data.loc[:, ['Aerobic', 'Anaerobic']]\n",
    "fa_a_ana['genus'] = tax.loc[fid, 'taxonomy_6']\n",
    "fa_a_ana = fa_a_ana.groupby('genus').sum() \n",
    "\n",
    "genus_counts =[]\n",
    "for i in range(0, fa_a_ana.shape[0]):\n",
    "    genus_counts.append(sum(fa_a_ana.iloc[i] > 0))\n",
    "fa_a_ana.loc[np.array(genus_counts) == 2]"
   ]
  },
  {
   "cell_type": "code",
   "execution_count": 42,
   "id": "9fa1a639-d6cf-421d-a57e-9d3a352b7c29",
   "metadata": {},
   "outputs": [],
   "source": [
    "fid = bugbase_data.index.values\n",
    "g_Corynebacterium = tax.loc[fid][tax.loc[fid, 'taxonomy_6'] == \"Corynebacterium\"]"
   ]
  },
  {
   "cell_type": "code",
   "execution_count": 43,
   "id": "20878151-c609-4541-b7ce-cf1eab63d3fd",
   "metadata": {},
   "outputs": [
    {
     "data": {
      "text/plain": [
       "(11, 7)"
      ]
     },
     "execution_count": 43,
     "metadata": {},
     "output_type": "execute_result"
    }
   ],
   "source": [
    "g_Corynebacterium.shape"
   ]
  },
  {
   "cell_type": "code",
   "execution_count": 44,
   "id": "fb995071-0a74-4140-98f8-8471d3f0f350",
   "metadata": {},
   "outputs": [
    {
     "data": {
      "text/plain": [
       "11"
      ]
     },
     "execution_count": 44,
     "metadata": {},
     "output_type": "execute_result"
    }
   ],
   "source": [
    "sum(bugbase_data.loc[g_Corynebacterium.index.values].Gram_Positive == 1)"
   ]
  },
  {
   "cell_type": "code",
   "execution_count": 45,
   "id": "fd3cc976-c79e-4f1d-a468-8d09881a54dc",
   "metadata": {},
   "outputs": [
    {
     "name": "stdout",
     "output_type": "stream",
     "text": [
      "(12, 7)\n",
      "0\n"
     ]
    }
   ],
   "source": [
    "fid = bugbase_data.index.values\n",
    "g_Campylobacter = tax.loc[fid][tax.loc[fid, 'taxonomy_6'] == \"Campylobacter\"]\n",
    "print(g_Campylobacter.shape)\n",
    "print(sum(bugbase_data.loc[g_Campylobacter.index.values].Gram_Positive == 1))"
   ]
  },
  {
   "cell_type": "markdown",
   "id": "67150831-d6cf-4f4b-b342-5ada1e362d81",
   "metadata": {},
   "source": [
    "### family"
   ]
  },
  {
   "cell_type": "code",
   "execution_count": 46,
   "id": "9beb5302-a522-4cbf-b1ac-cbcdcb876ef3",
   "metadata": {},
   "outputs": [
    {
     "data": {
      "text/html": [
       "<div>\n",
       "<style scoped>\n",
       "    .dataframe tbody tr th:only-of-type {\n",
       "        vertical-align: middle;\n",
       "    }\n",
       "\n",
       "    .dataframe tbody tr th {\n",
       "        vertical-align: top;\n",
       "    }\n",
       "\n",
       "    .dataframe thead th {\n",
       "        text-align: right;\n",
       "    }\n",
       "</style>\n",
       "<table border=\"1\" class=\"dataframe\">\n",
       "  <thead>\n",
       "    <tr style=\"text-align: right;\">\n",
       "      <th></th>\n",
       "      <th>Aerobic</th>\n",
       "      <th>Anaerobic</th>\n",
       "    </tr>\n",
       "    <tr>\n",
       "      <th>family</th>\n",
       "      <th></th>\n",
       "      <th></th>\n",
       "    </tr>\n",
       "  </thead>\n",
       "  <tbody>\n",
       "    <tr>\n",
       "      <th>Actinomycetaceae</th>\n",
       "      <td>30</td>\n",
       "      <td>4</td>\n",
       "    </tr>\n",
       "    <tr>\n",
       "      <th>Bifidobacteriaceae</th>\n",
       "      <td>1</td>\n",
       "      <td>29</td>\n",
       "    </tr>\n",
       "    <tr>\n",
       "      <th>Campylobacteraceae</th>\n",
       "      <td>8</td>\n",
       "      <td>4</td>\n",
       "    </tr>\n",
       "    <tr>\n",
       "      <th>Corynebacteriaceae</th>\n",
       "      <td>4</td>\n",
       "      <td>1</td>\n",
       "    </tr>\n",
       "    <tr>\n",
       "      <th>Eggerthellaceae</th>\n",
       "      <td>1</td>\n",
       "      <td>44</td>\n",
       "    </tr>\n",
       "    <tr>\n",
       "      <th>Incertae Sedis</th>\n",
       "      <td>2</td>\n",
       "      <td>161</td>\n",
       "    </tr>\n",
       "  </tbody>\n",
       "</table>\n",
       "</div>"
      ],
      "text/plain": [
       "                    Aerobic  Anaerobic\n",
       "family                                \n",
       "Actinomycetaceae         30          4\n",
       "Bifidobacteriaceae        1         29\n",
       "Campylobacteraceae        8          4\n",
       "Corynebacteriaceae        4          1\n",
       "Eggerthellaceae           1         44\n",
       "Incertae Sedis            2        161"
      ]
     },
     "execution_count": 46,
     "metadata": {},
     "output_type": "execute_result"
    }
   ],
   "source": [
    "fid = bugbase_data.index.values\n",
    "fa_a_ana = bugbase_data.loc[:, ['Aerobic', 'Anaerobic']]\n",
    "fa_a_ana['family'] = tax.loc[fid, 'taxonomy_5']\n",
    "fa_a_ana = fa_a_ana.groupby('family').sum() \n",
    "\n",
    "family_counts =[]\n",
    "for i in range(0, fa_a_ana.shape[0]):\n",
    "    family_counts.append(sum(fa_a_ana.iloc[i] > 0))\n",
    "fa_a_ana.loc[np.array(family_counts) == 2]"
   ]
  },
  {
   "cell_type": "code",
   "execution_count": 47,
   "id": "a55ef578-1222-49ca-9923-33608c9fc8ed",
   "metadata": {},
   "outputs": [
    {
     "name": "stdout",
     "output_type": "stream",
     "text": [
      "(34, 7)\n",
      "34\n"
     ]
    }
   ],
   "source": [
    "fid = bugbase_data.index.values\n",
    "f_Actinomycetaceae = tax.loc[fid][tax.loc[fid, 'taxonomy_5'] == \"Actinomycetaceae\"]\n",
    "print(f_Actinomycetaceae.shape)\n",
    "print(sum(bugbase_data.loc[f_Actinomycetaceae.index.values].Gram_Positive == 1))"
   ]
  },
  {
   "cell_type": "code",
   "execution_count": 48,
   "id": "b50e6d3b-10be-4de7-8d4f-2bca1fad6711",
   "metadata": {},
   "outputs": [
    {
     "name": "stdout",
     "output_type": "stream",
     "text": [
      "(12, 7)\n",
      "0\n"
     ]
    }
   ],
   "source": [
    "fid = bugbase_data.index.values\n",
    "f_Campylobacteraceae = tax.loc[fid][tax.loc[fid, 'taxonomy_5'] == \"Campylobacteraceae\"]\n",
    "print(f_Campylobacteraceae.shape)\n",
    "print(sum(bugbase_data.loc[f_Campylobacteraceae.index.values].Gram_Positive == 1))"
   ]
  },
  {
   "cell_type": "markdown",
   "id": "d73d7b9f-07f9-462d-a99a-76f9cd8efeac",
   "metadata": {},
   "source": [
    "### order"
   ]
  },
  {
   "cell_type": "code",
   "execution_count": 49,
   "id": "e0fa8c91-09a3-4f95-8fbb-b8542de29b97",
   "metadata": {},
   "outputs": [
    {
     "data": {
      "text/html": [
       "<div>\n",
       "<style scoped>\n",
       "    .dataframe tbody tr th:only-of-type {\n",
       "        vertical-align: middle;\n",
       "    }\n",
       "\n",
       "    .dataframe tbody tr th {\n",
       "        vertical-align: top;\n",
       "    }\n",
       "\n",
       "    .dataframe thead th {\n",
       "        text-align: right;\n",
       "    }\n",
       "</style>\n",
       "<table border=\"1\" class=\"dataframe\">\n",
       "  <thead>\n",
       "    <tr style=\"text-align: right;\">\n",
       "      <th></th>\n",
       "      <th>Aerobic</th>\n",
       "      <th>Anaerobic</th>\n",
       "    </tr>\n",
       "    <tr>\n",
       "      <th>order</th>\n",
       "      <th></th>\n",
       "      <th></th>\n",
       "    </tr>\n",
       "  </thead>\n",
       "  <tbody>\n",
       "    <tr>\n",
       "      <th>Actinomycetales</th>\n",
       "      <td>31</td>\n",
       "      <td>4</td>\n",
       "    </tr>\n",
       "    <tr>\n",
       "      <th>Bifidobacteriales</th>\n",
       "      <td>1</td>\n",
       "      <td>29</td>\n",
       "    </tr>\n",
       "    <tr>\n",
       "      <th>Coriobacteriales</th>\n",
       "      <td>9</td>\n",
       "      <td>85</td>\n",
       "    </tr>\n",
       "    <tr>\n",
       "      <th>Lactobacillales</th>\n",
       "      <td>22</td>\n",
       "      <td>17</td>\n",
       "    </tr>\n",
       "    <tr>\n",
       "      <th>Mycobacteriales</th>\n",
       "      <td>6</td>\n",
       "      <td>1</td>\n",
       "    </tr>\n",
       "  </tbody>\n",
       "</table>\n",
       "</div>"
      ],
      "text/plain": [
       "                   Aerobic  Anaerobic\n",
       "order                                \n",
       "Actinomycetales         31          4\n",
       "Bifidobacteriales        1         29\n",
       "Coriobacteriales         9         85\n",
       "Lactobacillales         22         17\n",
       "Mycobacteriales          6          1"
      ]
     },
     "execution_count": 49,
     "metadata": {},
     "output_type": "execute_result"
    }
   ],
   "source": [
    "fid = bugbase_data.index.values\n",
    "Gram_Positive = bugbase_data.loc[bugbase_data.Gram_Positive == 1]\n",
    "fa_a_ana = Gram_Positive.loc[:, ['Aerobic', 'Anaerobic']]\n",
    "fa_a_ana['order'] = tax.loc[fid, 'taxonomy_4']\n",
    "fa_a_ana = fa_a_ana.groupby('order').sum() \n",
    "\n",
    "order_counts =[]\n",
    "for i in range(0, fa_a_ana.shape[0]):\n",
    "    order_counts.append(sum(fa_a_ana.iloc[i] > 0))\n",
    "fa_a_ana.loc[np.array(order_counts) == 2]"
   ]
  },
  {
   "cell_type": "code",
   "execution_count": 50,
   "id": "01864dc4-3760-4bb3-85ba-c18b19204b11",
   "metadata": {},
   "outputs": [
    {
     "name": "stdout",
     "output_type": "stream",
     "text": [
      "(35, 7)\n",
      "35\n"
     ]
    }
   ],
   "source": [
    "fid = bugbase_data.index.values\n",
    "o_Actinomycetales = tax.loc[fid][tax.loc[fid, 'taxonomy_4'] == \"Actinomycetales\"]\n",
    "print(o_Actinomycetales.shape)\n",
    "print(sum(bugbase_data.loc[o_Actinomycetales.index.values].Gram_Positive == 1))"
   ]
  },
  {
   "cell_type": "code",
   "execution_count": 51,
   "id": "6a80328b-3bee-4757-8a08-e6d1b49ef7df",
   "metadata": {},
   "outputs": [
    {
     "name": "stdout",
     "output_type": "stream",
     "text": [
      "(95, 7)\n",
      "95\n"
     ]
    }
   ],
   "source": [
    "fid = bugbase_data.index.values\n",
    "o_Coriobacteriales = tax.loc[fid][tax.loc[fid, 'taxonomy_4'] == \"Coriobacteriales\"]\n",
    "print(o_Coriobacteriales.shape)\n",
    "print(sum(bugbase_data.loc[o_Coriobacteriales.index.values].Gram_Positive == 1))"
   ]
  },
  {
   "cell_type": "code",
   "execution_count": 52,
   "id": "eda6741b-3dee-44a3-a581-9ac4dbba56e7",
   "metadata": {},
   "outputs": [
    {
     "name": "stdout",
     "output_type": "stream",
     "text": [
      "(149, 7)\n",
      "149\n"
     ]
    }
   ],
   "source": [
    "fid = bugbase_data.index.values\n",
    "o_Lactobacillales = tax.loc[fid][tax.loc[fid, 'taxonomy_4'] == \"Lactobacillales\"]\n",
    "print(o_Lactobacillales.shape)\n",
    "print(sum(bugbase_data.loc[o_Lactobacillales.index.values].Gram_Positive == 1))"
   ]
  }
 ],
 "metadata": {
  "kernelspec": {
   "display_name": "Python 3 (ipykernel)",
   "language": "python",
   "name": "python3"
  },
  "language_info": {
   "codemirror_mode": {
    "name": "ipython",
    "version": 3
   },
   "file_extension": ".py",
   "mimetype": "text/x-python",
   "name": "python",
   "nbconvert_exporter": "python",
   "pygments_lexer": "ipython3",
   "version": "3.9.22"
  },
  "vscode": {
   "interpreter": {
    "hash": "102628eab260ad4ed5a43928781c1ea7c3212cf04414eb73b92140452745d199"
   }
  }
 },
 "nbformat": 4,
 "nbformat_minor": 5
}
