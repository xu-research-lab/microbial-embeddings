{
 "cells": [
  {
   "cell_type": "code",
   "execution_count": 59,
   "id": "dc6f98ad-3557-4737-9ef8-576f67d4cb79",
   "metadata": {},
   "outputs": [],
   "source": [
    "import os\n",
    "import re\n",
    "import biom\n",
    "import json\n",
    "import numpy as np\n",
    "import pandas as pd\n",
    "import seaborn as sns\n",
    "import matplotlib.pyplot as plt\n",
    "from biom import Table"
   ]
  },
  {
   "cell_type": "code",
   "execution_count": 60,
   "id": "f81e9384-96b0-400a-b67b-ce1db926338d",
   "metadata": {},
   "outputs": [],
   "source": [
    "table = biom.load_table(\"Data/table_filter.biom\")"
   ]
  },
  {
   "cell_type": "code",
   "execution_count": 61,
   "id": "15e24a78-edc8-4891-9dad-4575d321ef23",
   "metadata": {},
   "outputs": [
    {
     "data": {
      "text/plain": [
       "14093 x 210090 <class 'biom.table.Table'> with 25341594 nonzero entries (0% dense)"
      ]
     },
     "execution_count": 61,
     "metadata": {},
     "output_type": "execute_result"
    }
   ],
   "source": [
    "table"
   ]
  },
  {
   "cell_type": "code",
   "execution_count": 564,
   "id": "b889dfef-71e7-4766-ab42-819966c07085",
   "metadata": {},
   "outputs": [],
   "source": [
    "metadata = pd.read_csv(\"Data/metadata_filter.txt\", sep=\"\\t\")"
   ]
  },
  {
   "cell_type": "markdown",
   "id": "401e6efa-3783-44cc-bc26-e9a4e173dac7",
   "metadata": {},
   "source": [
    "### get silve taxonomy"
   ]
  },
  {
   "cell_type": "code",
   "execution_count": 1133,
   "id": "82ceca91-aea7-4eb4-8c63-55129e149ce5",
   "metadata": {},
   "outputs": [],
   "source": [
    "tax = pd.read_csv(\"Data/taxmap_SILVA_138.2_SSURef_NR99.txt\", \n",
    "                  sep=\"\\t\", header=None, names=[\"fid\", \"Taxonomy\"])\n",
    "# Split taxonomy into individual ranks\n",
    "tax[['Kingdom', 'Phylum', 'Class', \n",
    "               'Order', 'Family', 'Genus']] = tax['Taxonomy'].str.split(';', expand=True)[[0, 1, 2, 3, 4, 5]]\n",
    "\n",
    "# Remove taxonomic level prefixes (e.g., \"k__\")\n",
    "for rank in ['Kingdom', 'Phylum', 'Class', 'Order', 'Family', 'Genus']:\n",
    "    tax[rank] = tax[rank].str.replace(r'^\\w__', '', regex=True)\n",
    "tax = tax[['fid', 'Phylum', 'Class', 'Order', 'Family', 'Genus']]\n",
    "tax = tax.set_index(\"fid\")"
   ]
  },
  {
   "cell_type": "code",
   "execution_count": 1134,
   "id": "4108417a-dd9f-4438-9dbc-900e4532b747",
   "metadata": {},
   "outputs": [],
   "source": [
    "tax = tax.loc[table.ids(axis=\"observation\")]"
   ]
  },
  {
   "cell_type": "code",
   "execution_count": 1135,
   "id": "a4f00970-b7e1-4594-ad00-475efd911065",
   "metadata": {},
   "outputs": [
    {
     "data": {
      "text/html": [
       "<div>\n",
       "<style scoped>\n",
       "    .dataframe tbody tr th:only-of-type {\n",
       "        vertical-align: middle;\n",
       "    }\n",
       "\n",
       "    .dataframe tbody tr th {\n",
       "        vertical-align: top;\n",
       "    }\n",
       "\n",
       "    .dataframe thead th {\n",
       "        text-align: right;\n",
       "    }\n",
       "</style>\n",
       "<table border=\"1\" class=\"dataframe\">\n",
       "  <thead>\n",
       "    <tr style=\"text-align: right;\">\n",
       "      <th></th>\n",
       "      <th>Phylum</th>\n",
       "      <th>Class</th>\n",
       "      <th>Order</th>\n",
       "      <th>Family</th>\n",
       "      <th>Genus</th>\n",
       "    </tr>\n",
       "    <tr>\n",
       "      <th>fid</th>\n",
       "      <th></th>\n",
       "      <th></th>\n",
       "      <th></th>\n",
       "      <th></th>\n",
       "      <th></th>\n",
       "    </tr>\n",
       "  </thead>\n",
       "  <tbody>\n",
       "    <tr>\n",
       "      <th>AAAA02020714.1.1202</th>\n",
       "      <td>Pseudomonadota</td>\n",
       "      <td>Alphaproteobacteria</td>\n",
       "      <td>Sphingomonadales</td>\n",
       "      <td>Sphingomonadaceae</td>\n",
       "      <td>Sphingomonas</td>\n",
       "    </tr>\n",
       "    <tr>\n",
       "      <th>AABY01000498.6.1303</th>\n",
       "      <td>Amorphea</td>\n",
       "      <td>Obazoa</td>\n",
       "      <td>Opisthokonta</td>\n",
       "      <td>Nucletmycea</td>\n",
       "      <td>Fungi</td>\n",
       "    </tr>\n",
       "    <tr>\n",
       "      <th>AAFJ01000001.39328.40836</th>\n",
       "      <td>Campylobacterota</td>\n",
       "      <td>Campylobacteria</td>\n",
       "      <td>Campylobacterales</td>\n",
       "      <td>Campylobacteraceae</td>\n",
       "      <td>Campylobacter</td>\n",
       "    </tr>\n",
       "    <tr>\n",
       "      <th>AAPY01395728.1.1201</th>\n",
       "      <td>Amorphea</td>\n",
       "      <td>Obazoa</td>\n",
       "      <td>Opisthokonta</td>\n",
       "      <td>Holozoa</td>\n",
       "      <td>Choanozoa</td>\n",
       "    </tr>\n",
       "    <tr>\n",
       "      <th>AAPY01395744.36.1258</th>\n",
       "      <td>Amorphea</td>\n",
       "      <td>Obazoa</td>\n",
       "      <td>Opisthokonta</td>\n",
       "      <td>Holozoa</td>\n",
       "      <td>Choanozoa</td>\n",
       "    </tr>\n",
       "  </tbody>\n",
       "</table>\n",
       "</div>"
      ],
      "text/plain": [
       "                                    Phylum                Class  \\\n",
       "fid                                                               \n",
       "AAAA02020714.1.1202         Pseudomonadota  Alphaproteobacteria   \n",
       "AABY01000498.6.1303               Amorphea               Obazoa   \n",
       "AAFJ01000001.39328.40836  Campylobacterota      Campylobacteria   \n",
       "AAPY01395728.1.1201               Amorphea               Obazoa   \n",
       "AAPY01395744.36.1258              Amorphea               Obazoa   \n",
       "\n",
       "                                      Order              Family          Genus  \n",
       "fid                                                                             \n",
       "AAAA02020714.1.1202        Sphingomonadales   Sphingomonadaceae   Sphingomonas  \n",
       "AABY01000498.6.1303            Opisthokonta         Nucletmycea          Fungi  \n",
       "AAFJ01000001.39328.40836  Campylobacterales  Campylobacteraceae  Campylobacter  \n",
       "AAPY01395728.1.1201            Opisthokonta             Holozoa      Choanozoa  \n",
       "AAPY01395744.36.1258           Opisthokonta             Holozoa      Choanozoa  "
      ]
     },
     "execution_count": 1135,
     "metadata": {},
     "output_type": "execute_result"
    }
   ],
   "source": [
    "tax.head()"
   ]
  },
  {
   "cell_type": "markdown",
   "id": "0137a45a-713e-4138-831d-f18502b63b2d",
   "metadata": {},
   "source": [
    "### reads频数图"
   ]
  },
  {
   "cell_type": "code",
   "execution_count": 4,
   "id": "70c3f1bf-73b5-4a1d-af44-5cf8b00bf1db",
   "metadata": {},
   "outputs": [],
   "source": [
    "import biom\n",
    "table = biom.load_table(\"../../data/pretraining_data_table.biom\")\n",
    "sample_sums = table.sum(axis='sample')  # 按样本求和（即每列的和）"
   ]
  },
  {
   "cell_type": "code",
   "execution_count": 5,
   "id": "fe849e5b-2cd3-4f85-a3b7-9cfc56a2c8d6",
   "metadata": {},
   "outputs": [],
   "source": [
    "import pandas as pd\n",
    "read_depth = pd.DataFrame({\"sample_nums\":sample_sums})\n",
    "read_depth.to_csv(\"../../data/Pretraining_data_profile/read_depth_samples.csv\", index=None, header=None)"
   ]
  },
  {
   "cell_type": "code",
   "execution_count": 8,
   "id": "2ccf22d9-5d6e-408c-98ec-ca5635e574c6",
   "metadata": {},
   "outputs": [
    {
     "data": {
      "image/png": "[encoded data removed]",
      "text/plain": [
       "<Figure size 400x300 with 1 Axes>"
      ]
     },
     "metadata": {},
     "output_type": "display_data"
    }
   ],
   "source": [
    "from matplotlib import ticker\n",
    "from matplotlib import pyplot as plt\n",
    "import numpy as np\n",
    "\n",
    "plt.style.use('ggplot')  # ggplot风格\n",
    "fig, ax = plt.subplots(figsize=(4, 3), facecolor='white')\n",
    "ax.set_facecolor('white')  # 绘图区背景\n",
    "\n",
    "# 计算统计量\n",
    "median_reads = np.median(sample_sums)\n",
    "min_reads = np.min(sample_sums)\n",
    "max_reads = np.max(sample_sums)\n",
    "\n",
    "# 生成分箱\n",
    "bins = np.logspace(np.log10(min_reads), np.log10(max_reads), 40)\n",
    "\n",
    "# 绘制直方图\n",
    "n, bins, patches = ax.hist(sample_sums, bins=bins, color='black', edgecolor='none')\n",
    "\n",
    "# 添加中位线\n",
    "ax.axvline(median_reads, color='white', linestyle='-', linewidth=2,zorder=3)\n",
    "\n",
    "# 添加注释\n",
    "formatter = ticker.StrMethodFormatter(\"{x:,.0f}\")  # 创建格式化器\n",
    "max_n = max(n)  # 获取直方图最高频数\n",
    "ax.set_ylim(top=1.1 * max_n)  # 扩展Y轴上限为最高频数的1.2倍\n",
    "ax.text(x=median_reads, y=1.05*max(n),\n",
    "    s=f'Median: {formatter(median_reads)}',  # 应用格式化器\n",
    "    fontsize=10, color='black', ha='left', va='center'\n",
    ")\n",
    "\n",
    "# 坐标轴设置\n",
    "ax.set_xscale('log')\n",
    "ax.set_xlabel('Merged reads', fontsize=12)\n",
    "ax.set_ylabel('Samples', fontsize=12)\n",
    "\n",
    "# 网格线设置\n",
    "ax.grid(which='major', axis='both', \n",
    "       linestyle='--', linewidth=0.5, \n",
    "       alpha=0.7, color='gray')  # 主网格\n",
    "ax.grid(which='minor', axis='both', \n",
    "       linestyle=':', linewidth=0.3, \n",
    "       alpha=0.4, color='lightgray')  # 次网格\n",
    "\n",
    "# 去除次刻度线\n",
    "ax.tick_params(axis='x', which='minor', length=0, colors='white')\n",
    "ax.yaxis.set_major_formatter(ticker.StrMethodFormatter(\"{x:,.0f}\"))\n",
    "\n",
    "# 美化边框\n",
    "for spine in ax.spines.values():\n",
    "    spine.set_edgecolor('black')\n",
    "    spine.set_linewidth(0.8)\n",
    "\n",
    "plt.tight_layout()\n",
    "plt.savefig('./Figures/distribution.png',dpi = 300, bbox_inches='tight')\n",
    "plt.show()"
   ]
  },
  {
   "cell_type": "markdown",
   "id": "b95260df-ad96-431c-9c24-a8b18ad3c2dc",
   "metadata": {},
   "source": [
    "###  不同分类层级samples数统计"
   ]
  },
  {
   "cell_type": "code",
   "execution_count": 1142,
   "id": "bef034c9-d98f-45a5-a262-ebea8ba5ae83",
   "metadata": {},
   "outputs": [],
   "source": [
    "sample_ids = table.ids(axis='sample') "
   ]
  },
  {
   "cell_type": "code",
   "execution_count": 1143,
   "id": "a6e0034e-166b-4ea3-a3a9-1ab2d6e95eb1",
   "metadata": {},
   "outputs": [],
   "source": [
    "def count_taxonomy_samples(level):\n",
    "    \"\"\"统计指定分类层级下各分类的样本数，处理未分类项\"\"\"\n",
    "    # 替换缺失的分类信息为 (Unassigned)\n",
    "    \n",
    "    # 统计样本数\n",
    "    level_counts = merged_df.groupby(level)[sample_ids].apply(\n",
    "        lambda x: (x > 0).any(axis=0).sum()\n",
    "    )\n",
    "    return level_counts.to_frame(name=f\"{level}_Samples\")\n",
    "\n",
    "# 按OTU合并丰度与分类信息\n",
    "abundance_df = table.to_dataframe()\n",
    "merged_df = abundance_df.merge(tax, left_index=True,right_index=True)\n",
    "\n",
    "# 各层级统计\n",
    "# 生成层次化结构数据\n",
    "taxonomy_levels = ['Phylum', 'Class', 'Order', 'Family', 'Genus']\n",
    "result_dfs = [count_taxonomy_samples(level) for level in taxonomy_levels]"
   ]
  },
  {
   "cell_type": "code",
   "execution_count": 1144,
   "id": "772aaf47-9c2b-4bc1-8962-2d11b15167d2",
   "metadata": {},
   "outputs": [],
   "source": [
    "# 合并所有层级结果（保留未分类项）\n",
    "final_df = pd.concat(result_dfs, axis=1, join='outer').fillna(0).astype(int)\n",
    "\n",
    "# 按门级样本数排序\n",
    "final_df.sort_values('Phylum_Samples', ascending=False, inplace=True)\n",
    "\n",
    "# 预处理分类层级映射\n",
    "taxonomy_mapping = {}\n",
    "for level in ['Class', 'Order', 'Family', 'Genus']:\n",
    "    mapping = (\n",
    "        tax.groupby(level)['Phylum']\n",
    "        .agg(lambda x: x.mode()[0] if not x.mode().empty else '(Unassigned)')\n",
    "        .to_dict()\n",
    "    )\n",
    "    taxonomy_mapping[level] = mapping"
   ]
  },
  {
   "cell_type": "code",
   "execution_count": 1145,
   "id": "8cbef5e6-9834-4f25-af4e-ca0b91216a28",
   "metadata": {},
   "outputs": [],
   "source": [
    "final_df.to_csv(\"Data/tax_num_samples.csv\")\n",
    "# 写入文件\n",
    "with open(\"Data/taxonomy_mapping.json\", \"w\", encoding=\"utf-8\") as f:\n",
    "    json.dump(taxonomy_mapping, f, ensure_ascii=False, indent=4)"
   ]
  },
  {
   "cell_type": "code",
   "execution_count": 533,
   "id": "712f4f1e-bca9-46c8-8024-cef916aaa7bc",
   "metadata": {},
   "outputs": [
    {
     "name": "stderr",
     "output_type": "stream",
     "text": [
      "/home/dongbiao/tmp/ipykernel_167057/3476425968.py:33: FutureWarning: \n",
      "\n",
      "Passing `palette` without assigning `hue` is deprecated and will be removed in v0.14.0. Assign the `y` variable to `hue` and set `legend=False` for the same effect.\n",
      "\n",
      "  ax = sns.barplot(\n"
     ]
    },
    {
     "data": {
      "image/png": "[encoded data removed]",
      "text/plain": [
       "<Figure size 400x300 with 1 Axes>"
      ]
     },
     "metadata": {},
     "output_type": "display_data"
    },
    {
     "name": "stderr",
     "output_type": "stream",
     "text": [
      "/home/dongbiao/tmp/ipykernel_167057/3476425968.py:33: FutureWarning: \n",
      "\n",
      "Passing `palette` without assigning `hue` is deprecated and will be removed in v0.14.0. Assign the `y` variable to `hue` and set `legend=False` for the same effect.\n",
      "\n",
      "  ax = sns.barplot(\n"
     ]
    },
    {
     "data": {
      "image/png": "[encoded data removed]",
      "text/plain": [
       "<Figure size 400x300 with 1 Axes>"
      ]
     },
     "metadata": {},
     "output_type": "display_data"
    },
    {
     "name": "stderr",
     "output_type": "stream",
     "text": [
      "/home/dongbiao/tmp/ipykernel_167057/3476425968.py:33: FutureWarning: \n",
      "\n",
      "Passing `palette` without assigning `hue` is deprecated and will be removed in v0.14.0. Assign the `y` variable to `hue` and set `legend=False` for the same effect.\n",
      "\n",
      "  ax = sns.barplot(\n"
     ]
    },
    {
     "data": {
      "image/png": "[encoded data removed]",
      "text/plain": [
       "<Figure size 400x300 with 1 Axes>"
      ]
     },
     "metadata": {},
     "output_type": "display_data"
    }
   ],
   "source": [
    "# 全局颜色配置\n",
    "PHYLUM_COLORS = {}\n",
    "TOP_PHYLA = []\n",
    "\n",
    "def plot_top_taxa(level, top_n=10):\n",
    "    plt.style.use('ggplot')\n",
    "    fig, ax = plt.subplots(figsize=(4, 3), facecolor='white')\n",
    "    ax.set_facecolor('white')\n",
    "    \n",
    "    # 提取数据并清洗索引\n",
    "    data = final_df[f'{level}_Samples'].sort_values(ascending=False).head(top_n)\n",
    "    data.index = data.index.str.strip()  # 确保索引无多余空格\n",
    "    \n",
    "    # 颜色分配逻辑\n",
    "    global PHYLUM_COLORS, TOP_PHYLA\n",
    "    if level == 'Phylum':\n",
    "        TOP_PHYLA = data.index[:5].tolist()\n",
    "        phylum_palette = sns.color_palette(\"Paired\", 5)\n",
    "        PHYLUM_COLORS = {p: c for p, c in zip(TOP_PHYLA, phylum_palette)}\n",
    "        colors = [PHYLUM_COLORS.get(p, '#CCCCCC') for p in data.index]\n",
    "    else:\n",
    "        colors = []\n",
    "        color_mapper = taxonomy_mapping.get(level, {})\n",
    "        for taxon in data.index:\n",
    "            clean_taxon = taxon.strip().lower()  # 统一为小写处理\n",
    "            phylum = color_mapper.get(\n",
    "                taxon,  # 原始名称查询\n",
    "                color_mapper.get(clean_taxon, '(Unassigned)')  # 小写名称查询\n",
    "            )\n",
    "            colors.append(PHYLUM_COLORS.get(phylum, '#CCCCCC'))\n",
    "    \n",
    "    # 绘制条形图\n",
    "    ax = sns.barplot(\n",
    "        x=data.values,\n",
    "        y=data.index,\n",
    "        palette=colors,\n",
    "        orient='h'\n",
    "    )\n",
    "    \n",
    "    # 坐标轴优化\n",
    "    ax.yaxis.set_ticks([])\n",
    "    plt.ylabel(level, \n",
    "             fontdict={'fontweight': 'bold', 'fontsize': 12},\n",
    "             labelpad=15)\n",
    "    \n",
    "    # 添加分类标签\n",
    "    for i, (value, name) in enumerate(zip(data.values, data.index)):\n",
    "        ax.text(0.01, i, name, \n",
    "               ha='left', va='center', \n",
    "               fontsize=10, color='black',\n",
    "               fontweight='bold')\n",
    "    \n",
    "    # 格式化x轴\n",
    "    ax.xaxis.set_major_formatter(ticker.FuncFormatter(\n",
    "        lambda x, _: f\"{int(x/1000)}k\" if x >= 1000 else f\"{int(x)}\"\n",
    "    ))\n",
    "    plt.xlim(0, data.max()*1.05)\n",
    "    \n",
    "    # 网格与边框\n",
    "    ax.grid(which='major', axis='both', linestyle='--', alpha=0.7)\n",
    "    ax.grid(which='minor', axis='both', linestyle=':', alpha=0.4)\n",
    "    for spine in ax.spines.values():\n",
    "        spine.set_edgecolor('black')\n",
    "        spine.set_linewidth(0.8)\n",
    "    \n",
    "    plt.xlabel('Number of Samples', fontweight='bold')\n",
    "    plt.tight_layout()\n",
    "    plt.savefig(f'{level}_distribution.png', dpi=300, bbox_inches='tight')\n",
    "    plt.show()\n",
    "\n",
    "# ================ 执行可视化 ================\n",
    "if __name__ == \"__main__\":\n",
    "    plot_top_taxa('Phylum')  # 必须先运行此初始化颜色\n",
    "    plot_top_taxa('Family')\n",
    "    plot_top_taxa('Order')"
   ]
  },
  {
   "cell_type": "code",
   "execution_count": 534,
   "id": "a284266d-2ed3-4f28-858a-8c73ee1117f7",
   "metadata": {},
   "outputs": [],
   "source": [
    "tax_reset = tax.reset_index(names=['fid'])"
   ]
  },
  {
   "cell_type": "code",
   "execution_count": 1156,
   "id": "483cd4d5-a1d4-4bb5-b8c6-a02af848c555",
   "metadata": {},
   "outputs": [],
   "source": [
    "top_phyla = final_df.index[:5].tolist()"
   ]
  },
  {
   "cell_type": "code",
   "execution_count": 1157,
   "id": "56c8339b-33ba-42b2-b4f7-7dd81e75c064",
   "metadata": {},
   "outputs": [
    {
     "data": {
      "text/plain": [
       "['Bacillota',\n",
       " 'Pseudomonadota',\n",
       " 'Actinomycetota',\n",
       " 'Bacteroidota',\n",
       " 'Thermodesulfobacteriota']"
      ]
     },
     "execution_count": 1157,
     "metadata": {},
     "output_type": "execute_result"
    }
   ],
   "source": [
    "top_phyla"
   ]
  },
  {
   "cell_type": "code",
   "execution_count": 1146,
   "id": "4118aab3-e6f6-48ce-b6d4-a3ad137d6a30",
   "metadata": {},
   "outputs": [
    {
     "data": {
      "text/html": [
       "<div>\n",
       "<style scoped>\n",
       "    .dataframe tbody tr th:only-of-type {\n",
       "        vertical-align: middle;\n",
       "    }\n",
       "\n",
       "    .dataframe tbody tr th {\n",
       "        vertical-align: top;\n",
       "    }\n",
       "\n",
       "    .dataframe thead th {\n",
       "        text-align: right;\n",
       "    }\n",
       "</style>\n",
       "<table border=\"1\" class=\"dataframe\">\n",
       "  <thead>\n",
       "    <tr style=\"text-align: right;\">\n",
       "      <th>Phylum</th>\n",
       "      <th>Bacillota</th>\n",
       "      <th>Pseudomonadota</th>\n",
       "      <th>Actinomycetota</th>\n",
       "      <th>Bacteroidota</th>\n",
       "      <th>Thermodesulfobacteriota</th>\n",
       "    </tr>\n",
       "  </thead>\n",
       "  <tbody>\n",
       "    <tr>\n",
       "      <th>10532.00954e18.1dcf.40fc.a52e.255f5cda6f9c</th>\n",
       "      <td>41.047359</td>\n",
       "      <td>0.543783</td>\n",
       "      <td>1.779653</td>\n",
       "      <td>56.026102</td>\n",
       "      <td>0.326270</td>\n",
       "    </tr>\n",
       "    <tr>\n",
       "      <th>10532.00cdbb86.acbd.429c.abe3.12f19990314a</th>\n",
       "      <td>22.157207</td>\n",
       "      <td>32.163058</td>\n",
       "      <td>0.000000</td>\n",
       "      <td>43.192900</td>\n",
       "      <td>0.692413</td>\n",
       "    </tr>\n",
       "    <tr>\n",
       "      <th>10532.00e6b118.fb6e.4022.96d1.62e553d9b40c</th>\n",
       "      <td>16.551861</td>\n",
       "      <td>44.025699</td>\n",
       "      <td>0.715327</td>\n",
       "      <td>37.336071</td>\n",
       "      <td>1.159094</td>\n",
       "    </tr>\n",
       "    <tr>\n",
       "      <th>10532.0129210b.a355.4608.8aac.7e6d637c0b5c</th>\n",
       "      <td>59.966865</td>\n",
       "      <td>0.831677</td>\n",
       "      <td>0.970842</td>\n",
       "      <td>35.530152</td>\n",
       "      <td>1.222664</td>\n",
       "    </tr>\n",
       "    <tr>\n",
       "      <th>10532.0476f5aa.a4f4.4835.ada1.4e72fb601e0a</th>\n",
       "      <td>77.030316</td>\n",
       "      <td>3.843771</td>\n",
       "      <td>3.518478</td>\n",
       "      <td>11.938482</td>\n",
       "      <td>0.030980</td>\n",
       "    </tr>\n",
       "  </tbody>\n",
       "</table>\n",
       "</div>"
      ],
      "text/plain": [
       "Phylum                                      Bacillota  Pseudomonadota  \\\n",
       "10532.00954e18.1dcf.40fc.a52e.255f5cda6f9c  41.047359        0.543783   \n",
       "10532.00cdbb86.acbd.429c.abe3.12f19990314a  22.157207       32.163058   \n",
       "10532.00e6b118.fb6e.4022.96d1.62e553d9b40c  16.551861       44.025699   \n",
       "10532.0129210b.a355.4608.8aac.7e6d637c0b5c  59.966865        0.831677   \n",
       "10532.0476f5aa.a4f4.4835.ada1.4e72fb601e0a  77.030316        3.843771   \n",
       "\n",
       "Phylum                                      Actinomycetota  Bacteroidota  \\\n",
       "10532.00954e18.1dcf.40fc.a52e.255f5cda6f9c        1.779653     56.026102   \n",
       "10532.00cdbb86.acbd.429c.abe3.12f19990314a        0.000000     43.192900   \n",
       "10532.00e6b118.fb6e.4022.96d1.62e553d9b40c        0.715327     37.336071   \n",
       "10532.0129210b.a355.4608.8aac.7e6d637c0b5c        0.970842     35.530152   \n",
       "10532.0476f5aa.a4f4.4835.ada1.4e72fb601e0a        3.518478     11.938482   \n",
       "\n",
       "Phylum                                      Thermodesulfobacteriota  \n",
       "10532.00954e18.1dcf.40fc.a52e.255f5cda6f9c                 0.326270  \n",
       "10532.00cdbb86.acbd.429c.abe3.12f19990314a                 0.692413  \n",
       "10532.00e6b118.fb6e.4022.96d1.62e553d9b40c                 1.159094  \n",
       "10532.0129210b.a355.4608.8aac.7e6d637c0b5c                 1.222664  \n",
       "10532.0476f5aa.a4f4.4835.ada1.4e72fb601e0a                 0.030980  "
      ]
     },
     "execution_count": 1146,
     "metadata": {},
     "output_type": "execute_result"
    }
   ],
   "source": [
    "# top 5 Phylum 样本丰度频数统计\n",
    "# 获取前5大Phylum名称\n",
    "top_phyla = final_df.index[:5].tolist()\n",
    "\n",
    "\n",
    "# 合并OTU注释与丰度数据\n",
    "phyla_abundance = abundance_df.merge(\n",
    "    tax_reset[['fid', 'Phylum']],\n",
    "    left_index=True,\n",
    "    right_on='fid'\n",
    ").drop(columns=['fid'])\n",
    "# 按Phylum聚合丰度（使用分组求和）\n",
    "phyla_abundance = phyla_abundance.groupby('Phylum').sum().T\n",
    "\n",
    "phyla_abundance_tss = phyla_abundance.div(phyla_abundance.sum(axis=1), axis=0) * 100\n",
    "\n",
    "# 筛选前5大Phylum并排序\n",
    "phyla_abundance_top = phyla_abundance_tss[top_phyla]\n",
    "phyla_abundance_top.head()"
   ]
  },
  {
   "cell_type": "code",
   "execution_count": 1158,
   "id": "9bdf0903-fa2e-48db-b172-9537fb11577a",
   "metadata": {},
   "outputs": [],
   "source": [
    "phyla_abundance_top.to_csv(\"Data/phyla_abundance_top.csv\")"
   ]
  },
  {
   "cell_type": "code",
   "execution_count": 1159,
   "id": "478a1e6e-e4a3-4568-9b32-1e4abae5b18a",
   "metadata": {},
   "outputs": [
    {
     "data": {
      "text/html": [
       "<div>\n",
       "<style scoped>\n",
       "    .dataframe tbody tr th:only-of-type {\n",
       "        vertical-align: middle;\n",
       "    }\n",
       "\n",
       "    .dataframe tbody tr th {\n",
       "        vertical-align: top;\n",
       "    }\n",
       "\n",
       "    .dataframe thead th {\n",
       "        text-align: right;\n",
       "    }\n",
       "</style>\n",
       "<table border=\"1\" class=\"dataframe\">\n",
       "  <thead>\n",
       "    <tr style=\"text-align: right;\">\n",
       "      <th>Phylum</th>\n",
       "      <th>Bacillota</th>\n",
       "      <th>Pseudomonadota</th>\n",
       "      <th>Actinomycetota</th>\n",
       "      <th>Bacteroidota</th>\n",
       "      <th>Thermodesulfobacteriota</th>\n",
       "    </tr>\n",
       "  </thead>\n",
       "  <tbody>\n",
       "    <tr>\n",
       "      <th>10532.00954e18.1dcf.40fc.a52e.255f5cda6f9c</th>\n",
       "      <td>41.047359</td>\n",
       "      <td>0.543783</td>\n",
       "      <td>1.779653</td>\n",
       "      <td>56.026102</td>\n",
       "      <td>0.326270</td>\n",
       "    </tr>\n",
       "    <tr>\n",
       "      <th>10532.00cdbb86.acbd.429c.abe3.12f19990314a</th>\n",
       "      <td>22.157207</td>\n",
       "      <td>32.163058</td>\n",
       "      <td>0.000000</td>\n",
       "      <td>43.192900</td>\n",
       "      <td>0.692413</td>\n",
       "    </tr>\n",
       "    <tr>\n",
       "      <th>10532.00e6b118.fb6e.4022.96d1.62e553d9b40c</th>\n",
       "      <td>16.551861</td>\n",
       "      <td>44.025699</td>\n",
       "      <td>0.715327</td>\n",
       "      <td>37.336071</td>\n",
       "      <td>1.159094</td>\n",
       "    </tr>\n",
       "    <tr>\n",
       "      <th>10532.0129210b.a355.4608.8aac.7e6d637c0b5c</th>\n",
       "      <td>59.966865</td>\n",
       "      <td>0.831677</td>\n",
       "      <td>0.970842</td>\n",
       "      <td>35.530152</td>\n",
       "      <td>1.222664</td>\n",
       "    </tr>\n",
       "    <tr>\n",
       "      <th>10532.0476f5aa.a4f4.4835.ada1.4e72fb601e0a</th>\n",
       "      <td>77.030316</td>\n",
       "      <td>3.843771</td>\n",
       "      <td>3.518478</td>\n",
       "      <td>11.938482</td>\n",
       "      <td>0.030980</td>\n",
       "    </tr>\n",
       "    <tr>\n",
       "      <th>...</th>\n",
       "      <td>...</td>\n",
       "      <td>...</td>\n",
       "      <td>...</td>\n",
       "      <td>...</td>\n",
       "      <td>...</td>\n",
       "    </tr>\n",
       "    <tr>\n",
       "      <th>SRS9736998</th>\n",
       "      <td>83.150014</td>\n",
       "      <td>1.095846</td>\n",
       "      <td>1.894674</td>\n",
       "      <td>13.756391</td>\n",
       "      <td>0.000000</td>\n",
       "    </tr>\n",
       "    <tr>\n",
       "      <th>SRS9736999</th>\n",
       "      <td>66.896274</td>\n",
       "      <td>2.194702</td>\n",
       "      <td>1.461913</td>\n",
       "      <td>29.047741</td>\n",
       "      <td>0.287620</td>\n",
       "    </tr>\n",
       "    <tr>\n",
       "      <th>SRS9737000</th>\n",
       "      <td>62.049539</td>\n",
       "      <td>14.157969</td>\n",
       "      <td>0.843116</td>\n",
       "      <td>19.533476</td>\n",
       "      <td>1.426911</td>\n",
       "    </tr>\n",
       "    <tr>\n",
       "      <th>SRS9737001</th>\n",
       "      <td>73.966451</td>\n",
       "      <td>3.525706</td>\n",
       "      <td>2.131616</td>\n",
       "      <td>20.080204</td>\n",
       "      <td>0.260601</td>\n",
       "    </tr>\n",
       "    <tr>\n",
       "      <th>SRS9737002</th>\n",
       "      <td>84.173394</td>\n",
       "      <td>7.097768</td>\n",
       "      <td>5.127006</td>\n",
       "      <td>3.295147</td>\n",
       "      <td>0.200789</td>\n",
       "    </tr>\n",
       "  </tbody>\n",
       "</table>\n",
       "<p>210108 rows × 5 columns</p>\n",
       "</div>"
      ],
      "text/plain": [
       "Phylum                                      Bacillota  Pseudomonadota  \\\n",
       "10532.00954e18.1dcf.40fc.a52e.255f5cda6f9c  41.047359        0.543783   \n",
       "10532.00cdbb86.acbd.429c.abe3.12f19990314a  22.157207       32.163058   \n",
       "10532.00e6b118.fb6e.4022.96d1.62e553d9b40c  16.551861       44.025699   \n",
       "10532.0129210b.a355.4608.8aac.7e6d637c0b5c  59.966865        0.831677   \n",
       "10532.0476f5aa.a4f4.4835.ada1.4e72fb601e0a  77.030316        3.843771   \n",
       "...                                               ...             ...   \n",
       "SRS9736998                                  83.150014        1.095846   \n",
       "SRS9736999                                  66.896274        2.194702   \n",
       "SRS9737000                                  62.049539       14.157969   \n",
       "SRS9737001                                  73.966451        3.525706   \n",
       "SRS9737002                                  84.173394        7.097768   \n",
       "\n",
       "Phylum                                      Actinomycetota  Bacteroidota  \\\n",
       "10532.00954e18.1dcf.40fc.a52e.255f5cda6f9c        1.779653     56.026102   \n",
       "10532.00cdbb86.acbd.429c.abe3.12f19990314a        0.000000     43.192900   \n",
       "10532.00e6b118.fb6e.4022.96d1.62e553d9b40c        0.715327     37.336071   \n",
       "10532.0129210b.a355.4608.8aac.7e6d637c0b5c        0.970842     35.530152   \n",
       "10532.0476f5aa.a4f4.4835.ada1.4e72fb601e0a        3.518478     11.938482   \n",
       "...                                                    ...           ...   \n",
       "SRS9736998                                        1.894674     13.756391   \n",
       "SRS9736999                                        1.461913     29.047741   \n",
       "SRS9737000                                        0.843116     19.533476   \n",
       "SRS9737001                                        2.131616     20.080204   \n",
       "SRS9737002                                        5.127006      3.295147   \n",
       "\n",
       "Phylum                                      Thermodesulfobacteriota  \n",
       "10532.00954e18.1dcf.40fc.a52e.255f5cda6f9c                 0.326270  \n",
       "10532.00cdbb86.acbd.429c.abe3.12f19990314a                 0.692413  \n",
       "10532.00e6b118.fb6e.4022.96d1.62e553d9b40c                 1.159094  \n",
       "10532.0129210b.a355.4608.8aac.7e6d637c0b5c                 1.222664  \n",
       "10532.0476f5aa.a4f4.4835.ada1.4e72fb601e0a                 0.030980  \n",
       "...                                                             ...  \n",
       "SRS9736998                                                 0.000000  \n",
       "SRS9736999                                                 0.287620  \n",
       "SRS9737000                                                 1.426911  \n",
       "SRS9737001                                                 0.260601  \n",
       "SRS9737002                                                 0.200789  \n",
       "\n",
       "[210108 rows x 5 columns]"
      ]
     },
     "execution_count": 1159,
     "metadata": {},
     "output_type": "execute_result"
    }
   ],
   "source": [
    "phyla_abundance_top"
   ]
  },
  {
   "cell_type": "code",
   "execution_count": 1155,
   "id": "160738c5-ed7c-433d-87fe-f92177ef933b",
   "metadata": {},
   "outputs": [
    {
     "ename": "ValueError",
     "evalue": "autodetected range of [nan, nan] is not finite",
     "output_type": "error",
     "traceback": [
      "\u001b[0;31m---------------------------------------------------------------------------\u001b[0m",
      "\u001b[0;31mValueError\u001b[0m                                Traceback (most recent call last)",
      "Cell \u001b[0;32mIn[1155], line 11\u001b[0m\n\u001b[1;32m      9\u001b[0m \u001b[38;5;66;03m# 生成统一的丰度分箱区间\u001b[39;00m\n\u001b[1;32m     10\u001b[0m all_values \u001b[38;5;241m=\u001b[39m phyla_abundance_top[top_phyla]\u001b[38;5;241m.\u001b[39mvalues\u001b[38;5;241m.\u001b[39mflatten()\n\u001b[0;32m---> 11\u001b[0m _, bin_edges \u001b[38;5;241m=\u001b[39m \u001b[43mnp\u001b[49m\u001b[38;5;241;43m.\u001b[39;49m\u001b[43mhistogram\u001b[49m\u001b[43m(\u001b[49m\u001b[43mall_values\u001b[49m\u001b[43m,\u001b[49m\u001b[43m \u001b[49m\u001b[43mbins\u001b[49m\u001b[38;5;241;43m=\u001b[39;49m\u001b[43mBINS\u001b[49m\u001b[43m)\u001b[49m\n\u001b[1;32m     13\u001b[0m \u001b[38;5;66;03m# 设置对数坐标系\u001b[39;00m\n\u001b[1;32m     14\u001b[0m ax\u001b[38;5;241m.\u001b[39mset_yscale(\u001b[38;5;124m'\u001b[39m\u001b[38;5;124mlog\u001b[39m\u001b[38;5;124m'\u001b[39m)  \n",
      "File \u001b[0;32m<__array_function__ internals>:200\u001b[0m, in \u001b[0;36mhistogram\u001b[0;34m(*args, **kwargs)\u001b[0m\n",
      "File \u001b[0;32m~/.conda/envs/jupyter_notebook/lib/python3.9/site-packages/numpy/lib/histograms.py:780\u001b[0m, in \u001b[0;36mhistogram\u001b[0;34m(a, bins, range, density, weights)\u001b[0m\n\u001b[1;32m    680\u001b[0m \u001b[38;5;250m\u001b[39m\u001b[38;5;124mr\u001b[39m\u001b[38;5;124;03m\"\"\"\u001b[39;00m\n\u001b[1;32m    681\u001b[0m \u001b[38;5;124;03mCompute the histogram of a dataset.\u001b[39;00m\n\u001b[1;32m    682\u001b[0m \n\u001b[0;32m   (...)\u001b[0m\n\u001b[1;32m    776\u001b[0m \n\u001b[1;32m    777\u001b[0m \u001b[38;5;124;03m\"\"\"\u001b[39;00m\n\u001b[1;32m    778\u001b[0m a, weights \u001b[38;5;241m=\u001b[39m _ravel_and_check_weights(a, weights)\n\u001b[0;32m--> 780\u001b[0m bin_edges, uniform_bins \u001b[38;5;241m=\u001b[39m \u001b[43m_get_bin_edges\u001b[49m\u001b[43m(\u001b[49m\u001b[43ma\u001b[49m\u001b[43m,\u001b[49m\u001b[43m \u001b[49m\u001b[43mbins\u001b[49m\u001b[43m,\u001b[49m\u001b[43m \u001b[49m\u001b[38;5;28;43mrange\u001b[39;49m\u001b[43m,\u001b[49m\u001b[43m \u001b[49m\u001b[43mweights\u001b[49m\u001b[43m)\u001b[49m\n\u001b[1;32m    782\u001b[0m \u001b[38;5;66;03m# Histogram is an integer or a float array depending on the weights.\u001b[39;00m\n\u001b[1;32m    783\u001b[0m \u001b[38;5;28;01mif\u001b[39;00m weights \u001b[38;5;129;01mis\u001b[39;00m \u001b[38;5;28;01mNone\u001b[39;00m:\n",
      "File \u001b[0;32m~/.conda/envs/jupyter_notebook/lib/python3.9/site-packages/numpy/lib/histograms.py:426\u001b[0m, in \u001b[0;36m_get_bin_edges\u001b[0;34m(a, bins, range, weights)\u001b[0m\n\u001b[1;32m    423\u001b[0m     \u001b[38;5;28;01mif\u001b[39;00m n_equal_bins \u001b[38;5;241m<\u001b[39m \u001b[38;5;241m1\u001b[39m:\n\u001b[1;32m    424\u001b[0m         \u001b[38;5;28;01mraise\u001b[39;00m \u001b[38;5;167;01mValueError\u001b[39;00m(\u001b[38;5;124m'\u001b[39m\u001b[38;5;124m`bins` must be positive, when an integer\u001b[39m\u001b[38;5;124m'\u001b[39m)\n\u001b[0;32m--> 426\u001b[0m     first_edge, last_edge \u001b[38;5;241m=\u001b[39m \u001b[43m_get_outer_edges\u001b[49m\u001b[43m(\u001b[49m\u001b[43ma\u001b[49m\u001b[43m,\u001b[49m\u001b[43m \u001b[49m\u001b[38;5;28;43mrange\u001b[39;49m\u001b[43m)\u001b[49m\n\u001b[1;32m    428\u001b[0m \u001b[38;5;28;01melif\u001b[39;00m np\u001b[38;5;241m.\u001b[39mndim(bins) \u001b[38;5;241m==\u001b[39m \u001b[38;5;241m1\u001b[39m:\n\u001b[1;32m    429\u001b[0m     bin_edges \u001b[38;5;241m=\u001b[39m np\u001b[38;5;241m.\u001b[39masarray(bins)\n",
      "File \u001b[0;32m~/.conda/envs/jupyter_notebook/lib/python3.9/site-packages/numpy/lib/histograms.py:323\u001b[0m, in \u001b[0;36m_get_outer_edges\u001b[0;34m(a, range)\u001b[0m\n\u001b[1;32m    321\u001b[0m     first_edge, last_edge \u001b[38;5;241m=\u001b[39m a\u001b[38;5;241m.\u001b[39mmin(), a\u001b[38;5;241m.\u001b[39mmax()\n\u001b[1;32m    322\u001b[0m     \u001b[38;5;28;01mif\u001b[39;00m \u001b[38;5;129;01mnot\u001b[39;00m (np\u001b[38;5;241m.\u001b[39misfinite(first_edge) \u001b[38;5;129;01mand\u001b[39;00m np\u001b[38;5;241m.\u001b[39misfinite(last_edge)):\n\u001b[0;32m--> 323\u001b[0m         \u001b[38;5;28;01mraise\u001b[39;00m \u001b[38;5;167;01mValueError\u001b[39;00m(\n\u001b[1;32m    324\u001b[0m             \u001b[38;5;124m\"\u001b[39m\u001b[38;5;124mautodetected range of [\u001b[39m\u001b[38;5;132;01m{}\u001b[39;00m\u001b[38;5;124m, \u001b[39m\u001b[38;5;132;01m{}\u001b[39;00m\u001b[38;5;124m] is not finite\u001b[39m\u001b[38;5;124m\"\u001b[39m\u001b[38;5;241m.\u001b[39mformat(first_edge, last_edge))\n\u001b[1;32m    326\u001b[0m \u001b[38;5;66;03m# expand empty range to avoid divide by zero\u001b[39;00m\n\u001b[1;32m    327\u001b[0m \u001b[38;5;28;01mif\u001b[39;00m first_edge \u001b[38;5;241m==\u001b[39m last_edge:\n",
      "\u001b[0;31mValueError\u001b[0m: autodetected range of [nan, nan] is not finite"
     ]
    },
    {
     "data": {
      "image/png": "[encoded data removed]",
      "text/plain": [
       "<Figure size 400x300 with 1 Axes>"
      ]
     },
     "metadata": {},
     "output_type": "display_data"
    }
   ],
   "source": [
    "# 设置全局参数\n",
    "BINS = 30  # 分箱数量，控制曲线平滑度\n",
    "LINE_WIDTH = 2.5\n",
    "\n",
    "plt.style.use('ggplot')\n",
    "fig, ax = plt.subplots(figsize=(4, 3), facecolor='white')\n",
    "ax.set_facecolor('white')\n",
    "\n",
    "# 生成统一的丰度分箱区间\n",
    "all_values = phyla_abundance_top[top_phyla].values.flatten()\n",
    "_, bin_edges = np.histogram(all_values, bins=BINS)\n",
    "\n",
    "# 设置对数坐标系\n",
    "ax.set_yscale('log')  \n",
    "\n",
    "# 自定义Y轴格式\n",
    "def log_format(y, pos):\n",
    "    if  y >= 1e3:\n",
    "        return f'{int(y/1e3)}k'  # 千单位\n",
    "    else:\n",
    "        return str(int(y))\n",
    "\n",
    "# 应用格式器\n",
    "ax.yaxis.set_major_formatter(ticker.FuncFormatter(log_format))\n",
    "ax.yaxis.set_minor_formatter(ticker.NullFormatter())\n",
    "\n",
    "# 绘制各Phylum分布曲线\n",
    "for phylum in top_phyla:\n",
    "    # 过滤零值样本\n",
    "    values = phyla_abundance_top[phylum][phyla_abundance_top[phylum] > 0]\n",
    "    \n",
    "    # 计算分箱频数\n",
    "    counts, _ = np.histogram(values, bins=bin_edges)\n",
    "    bin_centers = (bin_edges[:-1] + bin_edges[1:]) / 2  # 计算分箱中点\n",
    "    \n",
    "    ax.plot(bin_centers, counts,\n",
    "           color=PHYLUM_COLORS[phylum],\n",
    "           linewidth=LINE_WIDTH,\n",
    "           marker='',\n",
    "           label=f'{phylum} (n={len(values)})')\n",
    "\n",
    "    \n",
    "# 坐标轴设置\n",
    "ax.xaxis.set_major_formatter(ticker.PercentFormatter(decimals=0))\n",
    "ax.set_xlabel('Relative Abundance', fontsize=12, fontweight='bold')\n",
    "ax.set_ylabel('Number of Samples', fontsize=12, fontweight='bold')\n",
    "\n",
    "# 网格线设置\n",
    "ax.grid(which='major', axis='both', \n",
    "       linestyle='--', linewidth=0.5, \n",
    "       alpha=0.7, color='gray')  # 主网格\n",
    "ax.grid(which='minor', axis='both', \n",
    "       linestyle=':', linewidth=0.3, \n",
    "       alpha=0.4, color='lightgray')  # 次网格\n",
    "\n",
    "# 去除次刻度线\n",
    "ax.tick_params(\n",
    "    axis='y', \n",
    "    which='minor', \n",
    "    length=0,          # 次刻度线长度设为0\n",
    "    colors='white'     # 或设为透明色\n",
    ")\n",
    "\n",
    "# 美化边框\n",
    "for spine in ax.spines.values():\n",
    "    spine.set_edgecolor('black')\n",
    "    spine.set_linewidth(0.8)\n",
    "    \n",
    "plt.savefig('Relative_distribution.png', dpi=300, bbox_inches='tight')\n",
    "plt.tight_layout()\n",
    "plt.show()"
   ]
  },
  {
   "cell_type": "markdown",
   "id": "aad1be0b-cf76-4875-b056-aba90febcc18",
   "metadata": {},
   "source": [
    "### shanon 多样性 samples 频数统计"
   ]
  },
  {
   "cell_type": "code",
   "execution_count": 33,
   "id": "e8b400e3-4349-4112-8e2d-5991310f89eb",
   "metadata": {},
   "outputs": [
    {
     "data": {
      "text/plain": [
       "14116 x 210108 <class 'biom.table.Table'> with 25357065 nonzero entries (0% dense)"
      ]
     },
     "execution_count": 33,
     "metadata": {},
     "output_type": "execute_result"
    }
   ],
   "source": [
    "table"
   ]
  },
  {
   "cell_type": "code",
   "execution_count": 34,
   "id": "a5b1dd24-a324-40db-aeec-72707c314f03",
   "metadata": {},
   "outputs": [],
   "source": [
    "rarefied_biom = table.subsample(5000, by_id=False)"
   ]
  },
  {
   "cell_type": "code",
   "execution_count": 12,
   "id": "6ec9b785-01f4-43f5-aff0-ef49fd07d664",
   "metadata": {},
   "outputs": [],
   "source": [
    "from skbio.diversity import alpha_diversity"
   ]
  },
  {
   "cell_type": "code",
   "execution_count": 35,
   "id": "04a2ee2c-b18a-4f09-96d6-bcf8bc2b99d0",
   "metadata": {},
   "outputs": [
    {
     "name": "stdout",
     "output_type": "stream",
     "text": [
      "10532.00954e18.1dcf.40fc.a52e.255f5cda6f9c    3.496639\n",
      "10532.00cdbb86.acbd.429c.abe3.12f19990314a    3.292231\n",
      "10532.00e6b118.fb6e.4022.96d1.62e553d9b40c    2.569330\n",
      "10532.0129210b.a355.4608.8aac.7e6d637c0b5c    4.087780\n",
      "10532.0476f5aa.a4f4.4835.ada1.4e72fb601e0a    3.995244\n",
      "dtype: float64 3.133833773074092\n"
     ]
    }
   ],
   "source": [
    "# shanon 多样性计算\n",
    "adiv_shannon = alpha_diversity('shannon', rarefied_biom.to_dataframe().T, rarefied_biom.ids(axis=\"sample\"), base=np.e)\n",
    "print(adiv_shannon.head(),adiv_shannon.median())"
   ]
  },
  {
   "cell_type": "code",
   "execution_count": 1,
   "id": "e63c90b6-03cc-4195-9c69-b450f1012a66",
   "metadata": {},
   "outputs": [
    {
     "name": "stdout",
     "output_type": "stream",
     "text": [
      "The history saving thread hit an unexpected error (OperationalError('attempt to write a readonly database')).History will not be written to the database.\n"
     ]
    },
    {
     "ename": "NameError",
     "evalue": "name 'pd' is not defined",
     "output_type": "error",
     "traceback": [
      "\u001b[0;31m---------------------------------------------------------------------------\u001b[0m",
      "\u001b[0;31mNameError\u001b[0m                                 Traceback (most recent call last)",
      "Cell \u001b[0;32mIn[1], line 1\u001b[0m\n\u001b[0;32m----> 1\u001b[0m metadata \u001b[38;5;241m=\u001b[39m \u001b[43mpd\u001b[49m\u001b[38;5;241m.\u001b[39mread_csv(\u001b[38;5;124m\"\u001b[39m\u001b[38;5;124mData/metadata_filter.txt\u001b[39m\u001b[38;5;124m\"\u001b[39m, sep\u001b[38;5;241m=\u001b[39m\u001b[38;5;124m\"\u001b[39m\u001b[38;5;130;01m\\t\u001b[39;00m\u001b[38;5;124m\"\u001b[39m)\n",
      "\u001b[0;31mNameError\u001b[0m: name 'pd' is not defined"
     ]
    }
   ],
   "source": [
    "metadata = pd.read_csv(\"Data/metadata_filter.txt\", sep=\"\\t\")"
   ]
  },
  {
   "cell_type": "code",
   "execution_count": null,
   "id": "ed90de90-1b4c-489c-90c1-922ab536d858",
   "metadata": {},
   "outputs": [],
   "source": [
    "# Step 1: 设置索引为 sample_id\n",
    "metadata = metadata.set_index(\"sample_id\")\n",
    "\n",
    "# Step 2: 赋值\n",
    "sample_ids = rarefied_biom.ids(axis=\"sample\")\n",
    "metadata.loc[sample_ids, \"shannon\"] = adiv_shannon\n",
    "\n",
    "# Step 3: 恢复索引（可选）\n",
    "# metadata_reindex = metadata_reindex.reset_index()\n",
    "metadata.head()"
   ]
  },
  {
   "cell_type": "code",
   "execution_count": 31,
   "id": "8dbda24f-3ba9-4778-9e3e-80b2897f6ece",
   "metadata": {},
   "outputs": [],
   "source": [
    "metadata = metadata.loc[sample_ids]\n",
    "metadata[\"read_depth\"] = sample_sums\n",
    "metadata.to_csv(\"meta_data_include_shannon.csv\", index=None)"
   ]
  },
  {
   "cell_type": "code",
   "execution_count": 32,
   "id": "b96a76d9-2f1e-4d13-b918-278e54d9fade",
   "metadata": {},
   "outputs": [
    {
     "data": {
      "text/plain": [
       "(210108, 8)"
      ]
     },
     "execution_count": 32,
     "metadata": {},
     "output_type": "execute_result"
    }
   ],
   "source": [
    "metadata.shape"
   ]
  },
  {
   "cell_type": "code",
   "execution_count": 542,
   "id": "ac82cd67-8142-4893-bb90-6d563231aba0",
   "metadata": {},
   "outputs": [
    {
     "data": {
      "image/png": "[encoded data removed]",
      "text/plain": [
       "<Figure size 400x300 with 1 Axes>"
      ]
     },
     "metadata": {},
     "output_type": "display_data"
    }
   ],
   "source": [
    "plt.style.use('ggplot')  # 使用ggplot风格\n",
    "fig, ax = plt.subplots(figsize=(4, 3), facecolor='white')\n",
    "ax.set_facecolor('white')  # 绘图区背景\n",
    "\n",
    "adiv_shannon = metadata_reindex[\"shannon\"].values\n",
    "# 计算统计量\n",
    "median_shannon = np.median(adiv_shannon)\n",
    "min_shannon = np.min(adiv_shannon)\n",
    "max_shannon = np.max(adiv_shannon)\n",
    "\n",
    "# 生成分箱（改用线性分箱）\n",
    "bins = np.linspace(min_shannon, \n",
    "                  max_shannon, \n",
    "                  20)  # 减少分箱数量到20\n",
    "\n",
    "# 绘制直方图（优化颜色和边框）\n",
    "n, bins, patches = ax.hist(\n",
    "    adiv_shannon,\n",
    "    bins=bins,\n",
    "    color='black',\n",
    "    edgecolor='none',  # 去除黑色边框\n",
    "    linewidth=0.5,\n",
    "    alpha=0.8\n",
    ")\n",
    "\n",
    "# 添加中位线（增强可视性）\n",
    "median_line = ax.axvline(\n",
    "    median_shannon,\n",
    "    color='white',  \n",
    "    linestyle='-',    \n",
    "    linewidth=1.5,\n",
    "    zorder=3\n",
    ")\n",
    "\n",
    "max_n = max(n)  # 获取直方图最高频数\n",
    "ax.set_ylim(top=1.1 * max_n)  # 扩展Y轴上限为最高频数的1.2倍\n",
    "\n",
    "# 添加统计标注（优化位置和样式）\n",
    "ax.text(\n",
    "    x=median_shannon ,  \n",
    "    y=1.05*max(n),\n",
    "    s=f'Median: {median_shannon:.2f}',\n",
    "    fontsize=10,\n",
    "    color='black',\n",
    "    ha='left',\n",
    "    va='center'\n",
    ")\n",
    "\n",
    "# 坐标轴设置\n",
    "ax.set_xlabel('Shannon Diversity Index', \n",
    "             fontsize=12, \n",
    "             fontweight='bold',\n",
    "             labelpad=10)\n",
    "ax.set_ylabel('Number of Samples', \n",
    "             fontsize=12, \n",
    "             fontweight='bold',\n",
    "             labelpad=10)\n",
    "\n",
    "# 刻度格式优化\n",
    "ax.xaxis.set_major_formatter(ticker.StrMethodFormatter(\"{x:.1f}\"))  # X轴保留1位小数\n",
    "ax.yaxis.set_major_formatter(ticker.StrMethodFormatter(\"{x:,.0f}\"))  # Y轴添加千分位  \n",
    "\n",
    "# 刻度参数设置\n",
    "ax.tick_params(axis='both', which='major', labelsize=10)\n",
    "ax.tick_params(axis='both', which='major', labelsize=10)\n",
    "\n",
    "\n",
    "# 网格线优化\n",
    "ax.grid(\n",
    "    which='major',\n",
    "    axis='y',\n",
    "    linestyle='--',\n",
    "    linewidth=0.5,\n",
    "    alpha=0.5,\n",
    "    color='gray'\n",
    ")\n",
    "\n",
    "# 边框美化\n",
    "for spine in ax.spines.values():\n",
    "    spine.set_edgecolor('black')\n",
    "    spine.set_linewidth(0.8)\n",
    "\n",
    "plt.tight_layout()\n",
    "plt.savefig('shannon_distribution.png', dpi=300, bbox_inches='tight')\n",
    "plt.show()"
   ]
  },
  {
   "cell_type": "markdown",
   "id": "ace7bdeb-1ffe-4f61-95b4-9162ac797a68",
   "metadata": {},
   "source": [
    "### prevalence"
   ]
  },
  {
   "cell_type": "code",
   "execution_count": 67,
   "id": "371259b8-8b4a-423e-af27-7b25e48e5f6c",
   "metadata": {},
   "outputs": [],
   "source": [
    "table = biom.load_table(\"Data/table_filter.biom\")"
   ]
  },
  {
   "cell_type": "code",
   "execution_count": 69,
   "id": "ba7248cc-3747-424b-8cd2-6a193aeece66",
   "metadata": {},
   "outputs": [],
   "source": [
    "fid = table.ids(axis=\"observation\")"
   ]
  },
  {
   "cell_type": "code",
   "execution_count": 70,
   "id": "988eda72-b64d-47b1-813b-aa84c6078573",
   "metadata": {},
   "outputs": [],
   "source": [
    "import matplotlib.ticker as ticker\n",
    "# 处理原始数据中的0值\n",
    "prevalence = table.nonzero_counts(axis=\"observation\") / table.shape[1]"
   ]
  },
  {
   "cell_type": "code",
   "execution_count": 71,
   "id": "11a8e73c-aa7d-4310-b412-0b1c8d182a8b",
   "metadata": {},
   "outputs": [],
   "source": [
    "OTU_prevalence_abundance = pd.DataFrame({\"OTU\":fid, \"prevalence\":prevalence, \"mean_abc\":fid_abc_mean})"
   ]
  },
  {
   "cell_type": "code",
   "execution_count": 72,
   "id": "074b918c-2972-4bde-a9b7-b196dae7c282",
   "metadata": {},
   "outputs": [],
   "source": [
    "OTU_prevalence_abundance.to_csv(\"Data/OTU_prevalence_abundance.csv\")"
   ]
  },
  {
   "cell_type": "code",
   "execution_count": 1169,
   "id": "52175118-6211-40cd-b73f-54d583143617",
   "metadata": {},
   "outputs": [
    {
     "data": {
      "text/plain": [
       "Text(0, 0.5, 'Density')"
      ]
     },
     "execution_count": 1169,
     "metadata": {},
     "output_type": "execute_result"
    },
    {
     "data": {
      "image/png": "[encoded data removed]",
      "text/plain": [
       "<Figure size 400x300 with 1 Axes>"
      ]
     },
     "metadata": {},
     "output_type": "display_data"
    }
   ],
   "source": [
    "plt.figure(figsize=(4, 3), facecolor='white')\n",
    "plt.style.use('ggplot')\n",
    "ax = sns.histplot(\n",
    "    x=prevalence,\n",
    "    stat='density',\n",
    "    log_scale=True,\n",
    "    color='black',\n",
    "    alpha=0.5,\n",
    "    kde=False,\n",
    "    bins=30,\n",
    "    edgecolor='none'\n",
    ")\n",
    "\n",
    "# 设置坐标轴范围和标签\n",
    "ax.set_xlabel('log$_{10}$(Prevalence)', fontsize=12, fontweight='bold')\n",
    "ax.set_ylabel('Density', fontsize=12, fontweight='bold')"
   ]
  },
  {
   "cell_type": "code",
   "execution_count": 1170,
   "id": "d1c90688-148f-423c-a30a-2de7f74663fc",
   "metadata": {},
   "outputs": [],
   "source": [
    "prevalence = pd.DataFrame({\"prevalence\":prevalence})\n",
    "prevalence.to_csv(\"Data/prevalence.csv\", index=None)"
   ]
  }
 ],
 "metadata": {
  "kernelspec": {
   "display_name": "Python 3 (ipykernel)",
   "language": "python",
   "name": "python3"
  },
  "language_info": {
   "codemirror_mode": {
    "name": "ipython",
    "version": 3
   },
   "file_extension": ".py",
   "mimetype": "text/x-python",
   "name": "python",
   "nbconvert_exporter": "python",
   "pygments_lexer": "ipython3",
   "version": "3.9.22"
  }
 },
 "nbformat": 4,
 "nbformat_minor": 5
}
