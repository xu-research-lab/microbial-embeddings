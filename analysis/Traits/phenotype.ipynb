{
 "cells": [
  {
   "cell_type": "code",
   "execution_count": 346,
   "id": "cd1e8ded-4678-43a4-86d0-d8dedbd9346f",
   "metadata": {},
   "outputs": [],
   "source": [
    "import pandas as pd\n",
    "import numpy as np\n",
    "import seaborn as sns\n",
    "from Bio import SeqIO\n",
    "from sklearn.metrics.pairwise import cosine_similarity"
   ]
  },
  {
   "cell_type": "code",
   "execution_count": 89,
   "id": "db12fbeb-26f8-4350-a6dc-617b297ca6c7",
   "metadata": {},
   "outputs": [],
   "source": [
    "from sklearn.metrics import roc_curve, auc \n",
    "from sklearn.model_selection import KFold\n",
    "from sklearn.ensemble import RandomForestClassifier  \n",
    "from sklearn.model_selection import cross_val_score \n",
    "from sklearn.metrics import roc_auc_score, roc_curve"
   ]
  },
  {
   "cell_type": "code",
   "execution_count": 442,
   "id": "28ac3ae7-f10f-46b4-b699-64b2fe2fb74a",
   "metadata": {},
   "outputs": [],
   "source": [
    "from sklearn.model_selection import train_test_split\n",
    "from sklearn.preprocessing import label_binarize\n",
    "from sklearn.datasets import make_classification"
   ]
  },
  {
   "cell_type": "code",
   "execution_count": 113,
   "id": "b696267c-337c-499a-ba06-74343e9b81f4",
   "metadata": {},
   "outputs": [],
   "source": [
    "from phylodm import PhyloDM\n",
    "import dendropy"
   ]
  },
  {
   "cell_type": "code",
   "execution_count": 108,
   "id": "7e12f4c6-6015-4d4a-b2ff-46330f2d4d31",
   "metadata": {},
   "outputs": [],
   "source": [
    "from skbio.stats.ordination import pcoa\n",
    "from skbio import DistanceMatrix\n",
    "from sklearn.manifold import TSNE"
   ]
  },
  {
   "cell_type": "code",
   "execution_count": 376,
   "id": "cd67dc72-c9fc-4282-990d-707dfaa3c7e2",
   "metadata": {},
   "outputs": [],
   "source": [
    "from tqdm import tqdm"
   ]
  },
  {
   "cell_type": "code",
   "execution_count": 210,
   "id": "651f7ebd-bf87-427d-8c47-3aeaaee50f39",
   "metadata": {},
   "outputs": [],
   "source": [
    "import dendropy\n",
    "from phylodm import PhyloDM"
   ]
  },
  {
   "cell_type": "markdown",
   "id": "409bb074-a982-4a3c-933b-8d154a04e7bd",
   "metadata": {},
   "source": [
    "### metabolic"
   ]
  },
  {
   "cell_type": "code",
   "execution_count": 1334,
   "id": "d6f6c768-2331-4c5a-8799-3dfd1842096e",
   "metadata": {},
   "outputs": [],
   "source": [
    "co_embedding = pd.read_csv(\"../../data/social_niche_embedding_100.txt\",\n",
    "                          header=None, sep=\" \", low_memory=False, index_col=0)\n",
    "co_embedding.drop(\"<unk>\", inplace=True)\n",
    "fid = co_embedding.index.values"
   ]
  },
  {
   "cell_type": "code",
   "execution_count": 1335,
   "id": "a4fd5dc2-23bb-482d-be1b-765aca78b2c7",
   "metadata": {},
   "outputs": [],
   "source": [
    "taxonomy = pd.read_csv(\"../Pretraining_data_profile/Data/taxmap_slv_ssu_ref_nr_138.2.txt\", sep=\"\\t\", low_memory=False)\n",
    "\n",
    "acc = []\n",
    "for i in range(taxonomy.shape[0]):\n",
    "    temp = taxonomy.iloc[i]\n",
    "    acc.append(f\"{temp[0]}.{temp[1]}.{temp[2]}\")\n",
    "\n",
    "taxonomy = taxonomy.loc[:, \"path\"].str.split(';', expand=True)\n",
    "taxonomy.index = acc\n",
    "taxonomy = taxonomy.iloc[:, 0: 7]\n",
    "taxonomy.columns = [\"k\", \"p\", \"c\", \"o\", \"f\", \"g\", \"s\"]\n",
    "taxonomy = taxonomy.loc[fid]"
   ]
  },
  {
   "cell_type": "code",
   "execution_count": 1360,
   "id": "500cb0b9-0ad0-48a5-b595-c17f7d9ebd68",
   "metadata": {},
   "outputs": [],
   "source": [
    "metabolic_res = pd.read_csv(\"Data/metabolic_res.csv\")"
   ]
  },
  {
   "cell_type": "code",
   "execution_count": 1337,
   "id": "cd80101b-8af2-4dc4-bab2-6ec1789ad36d",
   "metadata": {},
   "outputs": [
    {
     "data": {
      "text/plain": [
       "array(['D-Xylose', 'Lactose', 'Raffinose', 'Melibiose', 'Glycerol',\n",
       "       'ONPG (beta galactosidase)', 'Esculin hydrolysis', 'L-Arabinose',\n",
       "       'L-Rhamnose', 'myo-Inositol', 'D-Mannose', 'Maltose', 'Trehalose',\n",
       "       'Salicin', 'Sucrose', 'D-Sorbitol', 'D-Mannitol',\n",
       "       'Starch hydrolysis'], dtype=object)"
      ]
     },
     "execution_count": 1337,
     "metadata": {},
     "output_type": "execute_result"
    }
   ],
   "source": [
    "metabolic_res.loc[metabolic_res.group_1.values == \"Traitar\"].Traits.values"
   ]
  },
  {
   "cell_type": "code",
   "execution_count": 1338,
   "id": "93b06f20-2095-45e6-bf10-7d1a6474c507",
   "metadata": {},
   "outputs": [
    {
     "data": {
      "text/plain": [
       "array(['Adipate', 'Esculin', 'Malate', 'Lactose', 'Glycogen', 'Salicin',\n",
       "       'Raffinose', 'Starch', 'Glycerol', 'Amygdalin', 'Melibiose',\n",
       "       'Arbutin', 'Gluconate', 'Maltose', 'Cellobiose', 'Turanose',\n",
       "       'Melezitose', 'Trehalose', 'Gentiobiose', 'Sucrose', 'Sorbitol',\n",
       "       'Gluconate', 'Maltose'], dtype=object)"
      ]
     },
     "execution_count": 1338,
     "metadata": {},
     "output_type": "execute_result"
    }
   ],
   "source": [
    "metabolic_res.loc[metabolic_res.group_1.values == \"BacDive\"].Traits.values"
   ]
  },
  {
   "cell_type": "code",
   "execution_count": 1339,
   "id": "adc1c1aa-c7a4-43b6-a05a-40ee7d0fd582",
   "metadata": {},
   "outputs": [],
   "source": [
    "inter_metabolic = [\"Lactose\", \"Melibiose\", \"Glycerol\", \"Maltose\", \"Trehalose\", \"Salicin\", \"Sucrose\", \"Sorbitol\", \"D-Sorbitol\"]"
   ]
  },
  {
   "cell_type": "code",
   "execution_count": 1340,
   "id": "38ee26af-e73c-4e9f-a000-09adcd8abe20",
   "metadata": {},
   "outputs": [],
   "source": [
    "traits =  pd.read_csv(\"Data/trait_predcit.csv\", index_col=0)\n",
    "inter_id = np.intersect1d(fid, traits.index.values)\n",
    "traits = traits.loc[inter_id]\n",
    "traits = traits.astype(int)\n",
    "traits[traits.values == 3] = 1\n",
    "traits_traitor = traits.loc[:, [i in inter_metabolic for i in traits.columns.values]]"
   ]
  },
  {
   "cell_type": "code",
   "execution_count": 1341,
   "id": "6e7522ee-cca6-44d5-b675-9dd00a86b166",
   "metadata": {},
   "outputs": [
    {
     "data": {
      "text/plain": [
       "Index(['Lactose', 'Salicin', 'Glycerol', 'Melibiose', 'Maltose', 'Sucrose',\n",
       "       'Trehalose', 'D-Sorbitol'],\n",
       "      dtype='object')"
      ]
     },
     "execution_count": 1341,
     "metadata": {},
     "output_type": "execute_result"
    }
   ],
   "source": [
    "traits_traitor.columns"
   ]
  },
  {
   "cell_type": "code",
   "execution_count": 1342,
   "id": "27e5377f-ff92-4303-93ba-22334f829553",
   "metadata": {},
   "outputs": [],
   "source": [
    "traits_traitor.columns = ['Lactose', 'Salicin', 'Glycerol', 'Melibiose', 'Maltose', 'Sucrose', 'Trehalose', 'Sorbitol']"
   ]
  },
  {
   "cell_type": "code",
   "execution_count": 1343,
   "id": "8f2bd27d-c674-43df-a0fb-154fe9c853c0",
   "metadata": {},
   "outputs": [
    {
     "data": {
      "text/plain": [
       "array(['Lactose', 'Salicin', 'Glycerol', 'Melibiose', 'Maltose',\n",
       "       'Sucrose', 'Trehalose', 'Sorbitol'], dtype=object)"
      ]
     },
     "execution_count": 1343,
     "metadata": {},
     "output_type": "execute_result"
    }
   ],
   "source": [
    "traits_traitor.columns.values"
   ]
  },
  {
   "cell_type": "code",
   "execution_count": 1344,
   "id": "28183533-8665-418b-a60b-f9cef03a1965",
   "metadata": {
    "scrolled": true
   },
   "outputs": [
    {
     "name": "stderr",
     "output_type": "stream",
     "text": [
      "/home/dongbiao/tmp/ipykernel_317178/2965934219.py:3: DtypeWarning: Columns (8,20,21,22,23,24,25,26,27,28,29,30,31,32,33,34,35,36,37,38,39,40,41,42,43,44,45,46,47,48,49,160,161,162,163,165,166,167,168,169,170,171,172,177,179,180,183,184,185,186,187,189,190,191,192,193,194,195,304,309,313,348,351,352,353,354,356,361,363,364,366,367,370,374,375,382,389,390,398,400,401,403,404,405,408,417,420,421,424,482,483,496,497,498,499,500,501,502,503,505,506,507,510,512,514,521,522,523,526,530,531,532,533,534,535,536,537,539,540,541,542,544,545,546,547,548,549,550,552,555,556,559,561,562,563,564,568,569,570,571,572,573,576,578,579,580,581,582,583,584,585,586,587,588,589,590,591,592,593,594,595,596,597,598,599,600,601,602,603,604,605,606,607,608,609,610,611,612,613,614,615,616,617,618,619,620,621,622,623,624,625,626,627,628,629,630,631,632,633,634,635,636,637,638,639,640,641,642,643,644,645,646,647,648,649,650,651,652,653,654,655,656,657,658,659,660,661,662,663,664,665,666,667,668,669,670,671,672,673,674,675,676,677,678,679,680,681,682,683,684,685,686,687,688,689,690,691,692,693,694,695,696,697,698,699,700,701,702,703,704,705,706,707,708,709,710,711,712,713,714,715,716,717,718,719,720,721,722,723,724,725,726,727,728,729,730,733,734,735,736,737,738,739,740,741,742,743,744,745,746,747,748,749,750,751,752,753,754,755,756,757,758,759,760,761,762,763,764,765,766,767,768,769,770,771,772,773,774,775,776,777,778,779,780,781,782,783,784,785,786,787,788,789,790,791,792,793,794,795,796,797,798,799,800,801,802,803,804,805,806,807,808,809,810,811,812,813,814,815,816,817,818,819,820,821,822,823,824,825,826,827,828,829,830,831,832,833,834,835,836,837,838,839,840,841,842,843,844,845,846,847,848,850,853,854,855) have mixed types. Specify dtype option on import or set low_memory=False.\n",
      "  traits = pd.read_csv(\"/home/dongbiao/word_embedding_microbiome/all_data/gut/pheno/bacDive.csv\")\n"
     ]
    }
   ],
   "source": [
    "# --- 1. Load and prepare the traits data ---\n",
    "# Read the CSV, drop duplicates based on 'X16s_ID', and set it as the index\n",
    "traits = pd.read_csv(\"Data/bacDive.csv\")\n",
    "traits.drop_duplicates(subset='16s_ID', inplace=True)\n",
    "traits.set_index('16s_ID', inplace=True)\n",
    "\n",
    "# Extract the accession number by splitting the index string at the period '.'\n",
    "accessions_num = co_embedding.index.str.split('.').str[0]\n",
    "\n",
    "# Create a helper DataFrame to map the full embed_id to the shortened accession number\n",
    "df_map = pd.DataFrame({\n",
    "    'accessions': accessions_num,\n",
    "    'embed_id': co_embedding.index\n",
    "})\n",
    "\n",
    "# --- 3. Align traits and embedding data ---\n",
    "# Find the common accession numbers between the two datasets\n",
    "inter_id = np.intersect1d(traits.index, df_map['accessions'])\n",
    "\n",
    "# Filter the mapping and traits DataFrames to keep only the common entries\n",
    "df_map = df_map[df_map['accessions'].isin(inter_id)]\n",
    "traits = traits.loc[df_map['accessions']]\n",
    "\n",
    "# Update the traits index to match the full embedding ID for consistency\n",
    "traits.index = df_map['embed_id']\n",
    "\n",
    "# --- 4. Clean and standardize data in the traits DataFrame ---\n",
    "# Create a dictionary for all values that need to be replaced\n",
    "replace_dict = {\"NA\": np.nan, \"-\": \"no\", \"+\": \"yes\",\n",
    "    \"\": np.nan, \"+;NA\": np.nan, \"coccus-shaped\": \"coccus\",\n",
    "    \"rod-shaped\": \"rod\", \"mixed\": np.nan, \"negative;variable\": np.nan,\n",
    "    \"no;yes\": np.nan, \"negative;positive\": np.nan, \"variable\": np.nan\n",
    "                \n",
    "}\n",
    "traits.replace(replace_dict, inplace=True)\n",
    "\n",
    "# Standardize the 'cell_shape' column: keep only 'coccus' or 'rod', set others to NaN\n",
    "valid_shapes = ['coccus', 'rod']\n",
    "traits['cell_shape'] = traits['cell_shape'].where(traits['cell_shape'].isin(valid_shapes), np.nan)\n",
    "\n",
    "# --- 5. Create the 'Oxygen.Preference' column ---\n",
    "# Define conditions and corresponding choices for oxygen preference\n",
    "conditions = [\n",
    "    traits['aerobe'] == 1,\n",
    "    traits['facultative.anaerobe'] == 1,\n",
    "    traits['anaerobe'] == 1\n",
    "]\n",
    "choices = ['aerobic', 'facultatively', 'anaerobic']\n",
    "\n",
    "# Use np.select (similar to R's case_when) to create the new column\n",
    "# The default value is NaN for anything that doesn't meet a condition\n",
    "traits['Oxygen.Preference'] = np.select(conditions, choices, default=np.nan)\n",
    "\n",
    "# --- 6. Final cleanup ---\n",
    "# Define columns to remove\n",
    "remove_cols = ['X16s_ID', 'aerobe', 'facultative.anaerobe', 'anaerobe']\n",
    "# Drop the specified columns; 'errors='ignore'' prevents an error if a column is already gone\n",
    "traits.drop(columns=remove_cols, inplace=True, errors='ignore')\n",
    "\n",
    "# Drop any column where all values are missing (NaN)\n",
    "traits.dropna(axis=1, how='all', inplace=True)"
   ]
  },
  {
   "cell_type": "code",
   "execution_count": 1345,
   "id": "37100474-0b00-4bda-b3e2-bfe8f39cefe7",
   "metadata": {},
   "outputs": [],
   "source": [
    "traits_bacdive = traits.loc[:, [i in inter_metabolic for i in traits.columns.values]]"
   ]
  },
  {
   "cell_type": "code",
   "execution_count": 1346,
   "id": "68ae59f2-c4b1-43b3-b533-30f9eeb2a3df",
   "metadata": {},
   "outputs": [],
   "source": [
    "agg_bac = pd.read_csv(\"Data/agg_bac.csv\")\n",
    "agg_bac.level_3 = [i.capitalize() for i in agg_bac.level_3.values]\n",
    "agg_bac = agg_bac.loc[[i in inter_metabolic for i in agg_bac.level_3.values]]\n",
    "agg_bac = agg_bac.loc[[i in [\"builds_acid_from\"] for i in agg_bac.level_2.values]]\n",
    "agg_bac = agg_bac.loc[agg_bac.type == 1]"
   ]
  },
  {
   "cell_type": "code",
   "execution_count": 1347,
   "id": "b3c9eb56-8b73-42c8-bd6b-f9a11af015bb",
   "metadata": {},
   "outputs": [
    {
     "data": {
      "text/html": [
       "<div>\n",
       "<style scoped>\n",
       "    .dataframe tbody tr th:only-of-type {\n",
       "        vertical-align: middle;\n",
       "    }\n",
       "\n",
       "    .dataframe tbody tr th {\n",
       "        vertical-align: top;\n",
       "    }\n",
       "\n",
       "    .dataframe thead th {\n",
       "        text-align: right;\n",
       "    }\n",
       "</style>\n",
       "<table border=\"1\" class=\"dataframe\">\n",
       "  <thead>\n",
       "    <tr style=\"text-align: right;\">\n",
       "      <th></th>\n",
       "      <th>terms</th>\n",
       "      <th>level_1</th>\n",
       "      <th>level_2</th>\n",
       "      <th>level_3</th>\n",
       "      <th>type</th>\n",
       "      <th>Number</th>\n",
       "    </tr>\n",
       "  </thead>\n",
       "  <tbody>\n",
       "    <tr>\n",
       "      <th>1</th>\n",
       "      <td>metabolite_utilization.maltose.builds_acid_from</td>\n",
       "      <td>metabolite_utilization</td>\n",
       "      <td>builds_acid_from</td>\n",
       "      <td>Maltose</td>\n",
       "      <td>1</td>\n",
       "      <td>94</td>\n",
       "    </tr>\n",
       "    <tr>\n",
       "      <th>3</th>\n",
       "      <td>metabolite_utilization.sucrose.builds_acid_from</td>\n",
       "      <td>metabolite_utilization</td>\n",
       "      <td>builds_acid_from</td>\n",
       "      <td>Sucrose</td>\n",
       "      <td>1</td>\n",
       "      <td>81</td>\n",
       "    </tr>\n",
       "    <tr>\n",
       "      <th>6</th>\n",
       "      <td>metabolite_utilization.lactose.builds_acid_from</td>\n",
       "      <td>metabolite_utilization</td>\n",
       "      <td>builds_acid_from</td>\n",
       "      <td>Lactose</td>\n",
       "      <td>1</td>\n",
       "      <td>67</td>\n",
       "    </tr>\n",
       "    <tr>\n",
       "      <th>10</th>\n",
       "      <td>metabolite_utilization.trehalose.builds_acid_from</td>\n",
       "      <td>metabolite_utilization</td>\n",
       "      <td>builds_acid_from</td>\n",
       "      <td>Trehalose</td>\n",
       "      <td>1</td>\n",
       "      <td>57</td>\n",
       "    </tr>\n",
       "    <tr>\n",
       "      <th>20</th>\n",
       "      <td>metabolite_utilization.salicin.builds_acid_from</td>\n",
       "      <td>metabolite_utilization</td>\n",
       "      <td>builds_acid_from</td>\n",
       "      <td>Salicin</td>\n",
       "      <td>1</td>\n",
       "      <td>42</td>\n",
       "    </tr>\n",
       "    <tr>\n",
       "      <th>28</th>\n",
       "      <td>metabolite_utilization.melibiose.builds_acid_from</td>\n",
       "      <td>metabolite_utilization</td>\n",
       "      <td>builds_acid_from</td>\n",
       "      <td>Melibiose</td>\n",
       "      <td>1</td>\n",
       "      <td>32</td>\n",
       "    </tr>\n",
       "    <tr>\n",
       "      <th>44</th>\n",
       "      <td>metabolite_utilization.glycerol.builds_acid_from</td>\n",
       "      <td>metabolite_utilization</td>\n",
       "      <td>builds_acid_from</td>\n",
       "      <td>Glycerol</td>\n",
       "      <td>1</td>\n",
       "      <td>21</td>\n",
       "    </tr>\n",
       "    <tr>\n",
       "      <th>92</th>\n",
       "      <td>metabolite_utilization.sorbitol.builds_acid_from</td>\n",
       "      <td>metabolite_utilization</td>\n",
       "      <td>builds_acid_from</td>\n",
       "      <td>Sorbitol</td>\n",
       "      <td>1</td>\n",
       "      <td>6</td>\n",
       "    </tr>\n",
       "  </tbody>\n",
       "</table>\n",
       "</div>"
      ],
      "text/plain": [
       "                                                terms                 level_1  \\\n",
       "1     metabolite_utilization.maltose.builds_acid_from  metabolite_utilization   \n",
       "3     metabolite_utilization.sucrose.builds_acid_from  metabolite_utilization   \n",
       "6     metabolite_utilization.lactose.builds_acid_from  metabolite_utilization   \n",
       "10  metabolite_utilization.trehalose.builds_acid_from  metabolite_utilization   \n",
       "20    metabolite_utilization.salicin.builds_acid_from  metabolite_utilization   \n",
       "28  metabolite_utilization.melibiose.builds_acid_from  metabolite_utilization   \n",
       "44   metabolite_utilization.glycerol.builds_acid_from  metabolite_utilization   \n",
       "92   metabolite_utilization.sorbitol.builds_acid_from  metabolite_utilization   \n",
       "\n",
       "             level_2    level_3  type  Number  \n",
       "1   builds_acid_from    Maltose     1      94  \n",
       "3   builds_acid_from    Sucrose     1      81  \n",
       "6   builds_acid_from    Lactose     1      67  \n",
       "10  builds_acid_from  Trehalose     1      57  \n",
       "20  builds_acid_from    Salicin     1      42  \n",
       "28  builds_acid_from  Melibiose     1      32  \n",
       "44  builds_acid_from   Glycerol     1      21  \n",
       "92  builds_acid_from   Sorbitol     1       6  "
      ]
     },
     "execution_count": 1347,
     "metadata": {},
     "output_type": "execute_result"
    }
   ],
   "source": [
    "agg_bac"
   ]
  },
  {
   "cell_type": "code",
   "execution_count": 1348,
   "id": "e56af159-22dd-4fdc-975b-55d8ad7153df",
   "metadata": {},
   "outputs": [],
   "source": [
    "traits_bacdive = traits[agg_bac.terms.values]\n",
    "traits_bacdive.columns = agg_bac.level_3.values"
   ]
  },
  {
   "cell_type": "code",
   "execution_count": 1350,
   "id": "92b3ac68-e80e-4466-b21d-abb226809d28",
   "metadata": {},
   "outputs": [],
   "source": [
    "names = ['Lactose', 'Salicin', 'Glycerol', 'Melibiose', 'Maltose', 'Sucrose', 'Trehalose', 'Sorbitol']"
   ]
  },
  {
   "cell_type": "code",
   "execution_count": 1351,
   "id": "eb0fd74c-7974-4266-8d2c-3cb86a352da5",
   "metadata": {},
   "outputs": [
    {
     "data": {
      "text/html": [
       "<div>\n",
       "<style scoped>\n",
       "    .dataframe tbody tr th:only-of-type {\n",
       "        vertical-align: middle;\n",
       "    }\n",
       "\n",
       "    .dataframe tbody tr th {\n",
       "        vertical-align: top;\n",
       "    }\n",
       "\n",
       "    .dataframe thead th {\n",
       "        text-align: right;\n",
       "    }\n",
       "</style>\n",
       "<table border=\"1\" class=\"dataframe\">\n",
       "  <thead>\n",
       "    <tr style=\"text-align: right;\">\n",
       "      <th></th>\n",
       "      <th>k</th>\n",
       "      <th>c</th>\n",
       "      <th>o</th>\n",
       "      <th>f</th>\n",
       "      <th>g</th>\n",
       "      <th>s</th>\n",
       "    </tr>\n",
       "    <tr>\n",
       "      <th>p</th>\n",
       "      <th></th>\n",
       "      <th></th>\n",
       "      <th></th>\n",
       "      <th></th>\n",
       "      <th></th>\n",
       "      <th></th>\n",
       "    </tr>\n",
       "  </thead>\n",
       "  <tbody>\n",
       "    <tr>\n",
       "      <th>Bacteroidota</th>\n",
       "      <td>30</td>\n",
       "      <td>30</td>\n",
       "      <td>30</td>\n",
       "      <td>30</td>\n",
       "      <td>30</td>\n",
       "      <td>30</td>\n",
       "    </tr>\n",
       "    <tr>\n",
       "      <th>Bacillota</th>\n",
       "      <td>28</td>\n",
       "      <td>28</td>\n",
       "      <td>28</td>\n",
       "      <td>28</td>\n",
       "      <td>28</td>\n",
       "      <td>28</td>\n",
       "    </tr>\n",
       "    <tr>\n",
       "      <th>Actinomycetota</th>\n",
       "      <td>11</td>\n",
       "      <td>11</td>\n",
       "      <td>11</td>\n",
       "      <td>11</td>\n",
       "      <td>11</td>\n",
       "      <td>11</td>\n",
       "    </tr>\n",
       "    <tr>\n",
       "      <th>Fusobacteriota</th>\n",
       "      <td>3</td>\n",
       "      <td>3</td>\n",
       "      <td>3</td>\n",
       "      <td>3</td>\n",
       "      <td>3</td>\n",
       "      <td>3</td>\n",
       "    </tr>\n",
       "    <tr>\n",
       "      <th>Pseudomonadota</th>\n",
       "      <td>2</td>\n",
       "      <td>2</td>\n",
       "      <td>2</td>\n",
       "      <td>2</td>\n",
       "      <td>2</td>\n",
       "      <td>2</td>\n",
       "    </tr>\n",
       "    <tr>\n",
       "      <th>Campylobacterota</th>\n",
       "      <td>1</td>\n",
       "      <td>1</td>\n",
       "      <td>1</td>\n",
       "      <td>1</td>\n",
       "      <td>1</td>\n",
       "      <td>1</td>\n",
       "    </tr>\n",
       "    <tr>\n",
       "      <th>Synergistota</th>\n",
       "      <td>1</td>\n",
       "      <td>1</td>\n",
       "      <td>1</td>\n",
       "      <td>1</td>\n",
       "      <td>1</td>\n",
       "      <td>1</td>\n",
       "    </tr>\n",
       "  </tbody>\n",
       "</table>\n",
       "</div>"
      ],
      "text/plain": [
       "                   k   c   o   f   g   s\n",
       "p                                       \n",
       "Bacteroidota      30  30  30  30  30  30\n",
       "Bacillota         28  28  28  28  28  28\n",
       "Actinomycetota    11  11  11  11  11  11\n",
       "Fusobacteriota     3   3   3   3   3   3\n",
       "Pseudomonadota     2   2   2   2   2   2\n",
       "Campylobacterota   1   1   1   1   1   1\n",
       "Synergistota       1   1   1   1   1   1"
      ]
     },
     "execution_count": 1351,
     "metadata": {},
     "output_type": "execute_result"
    }
   ],
   "source": [
    "j = \"Sorbitol\"\n",
    "temp = traits_bacdive.loc[traits_bacdive.loc[:, j].values != 'nan']\n",
    "temp = temp.loc[temp.loc[:, j].values == temp.loc[:, j].values]\n",
    "tax_bacdive = taxonomy.loc[temp.index.values]\n",
    "tax_bacdive.groupby(\"p\").count().sort_values(\"k\", ascending=False)"
   ]
  },
  {
   "cell_type": "code",
   "execution_count": 1352,
   "id": "06d364b0-46a1-4a30-b593-d9deefaf8384",
   "metadata": {},
   "outputs": [],
   "source": [
    "labels_dict = {\"yes\":1, \"no\": 0}\n",
    "phylum_id = [\"Bacillota\", \"Bacteroidota\", \"Actinomycetota\"]"
   ]
  },
  {
   "cell_type": "code",
   "execution_count": 1353,
   "id": "ed2b862a-939e-447b-907d-97b0922aa96b",
   "metadata": {},
   "outputs": [],
   "source": [
    "auc = []\n",
    "traits_type = []\n",
    "tax = []\n",
    "for j in names:\n",
    "    for i in phylum_id:\n",
    "        temp = traits_bacdive.loc[traits_bacdive.loc[:, j].values != 'nan']\n",
    "        temp = temp.loc[temp.loc[:, j].values == temp.loc[:, j].values]\n",
    "        tax_bacdive = taxonomy.loc[temp.index.values]\n",
    "        phylum = tax_bacdive.p.unique()\n",
    "        test_phylum = list(phylum[[i not in phylum_id for i in phylum]]) + [i]\n",
    "        test_id = tax_bacdive.loc[[i in test_phylum for i in tax_bacdive.p]].index.values\n",
    "        test_id = test_id[traits_bacdive.loc[test_id, j].values == traits_bacdive.loc[test_id, j].values]\n",
    "        \n",
    "        tax_traitor = taxonomy.loc[traits_traitor.index.values]\n",
    "        phylum = tax_traitor.p.unique()\n",
    "        train_id = tax_traitor.loc[[i not in test_phylum for i in tax_traitor.p]].index.values\n",
    "    \n",
    "        train_id = train_id[traits_traitor.loc[train_id, j].values == traits_traitor.loc[train_id, j].values]\n",
    "        X_train = co_embedding.loc[train_id]\n",
    "        y_train = traits_traitor.loc[train_id, j].values\n",
    "        X_test = co_embedding.loc[test_id]\n",
    "        y_test = traits_bacdive.loc[test_id, j].values\n",
    "        y_test = [labels_dict[i] for i in y_test]\n",
    "        \n",
    "        countsunique_elements, counts = np.unique(y_test, return_counts=True)\n",
    "        if np.all(counts > 5) and len(countsunique_elements) > 1:\n",
    "            rf_model.fit(X_train, y_train)\n",
    "            y_pred = rf_model.predict(X_test)\n",
    "            y_pred_proba = rf_model.predict_proba(X_test)\n",
    "            auc.append(roc_auc_score(y_test, y_pred_proba[:, 1]))\n",
    "            traits_type.append(j)\n",
    "            tax.append(i)"
   ]
  },
  {
   "cell_type": "code",
   "execution_count": 1354,
   "id": "eadeb762-2293-4f81-9230-bc12660c2848",
   "metadata": {},
   "outputs": [],
   "source": [
    "res = pd.DataFrame({\"AUC\":auc, \"traits\":traits_type, \"tax\":tax})"
   ]
  },
  {
   "cell_type": "code",
   "execution_count": 1355,
   "id": "5b3e5f2f-9f13-40f0-8922-b2f3713747ec",
   "metadata": {},
   "outputs": [],
   "source": [
    "res.to_csv(\"Data/predict_metabolics_res.csv\", index=None)"
   ]
  },
  {
   "cell_type": "code",
   "execution_count": null,
   "id": "293e1884-438b-4573-b1ae-b8b60324fb95",
   "metadata": {},
   "outputs": [],
   "source": []
  }
 ],
 "metadata": {
  "kernelspec": {
   "display_name": "Python 3 (ipykernel)",
   "language": "python",
   "name": "python3"
  },
  "language_info": {
   "codemirror_mode": {
    "name": "ipython",
    "version": 3
   },
   "file_extension": ".py",
   "mimetype": "text/x-python",
   "name": "python",
   "nbconvert_exporter": "python",
   "pygments_lexer": "ipython3",
   "version": "3.9.20"
  }
 },
 "nbformat": 4,
 "nbformat_minor": 5
}
