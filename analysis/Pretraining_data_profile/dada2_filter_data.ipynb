{
 "cells": [
  {
   "cell_type": "code",
   "execution_count": 2,
   "id": "3faccfbd-0fe0-4c43-b5af-a6a5e1d8d286",
   "metadata": {},
   "outputs": [],
   "source": [
    "import os\n",
    "import numpy as np\n",
    "import pandas as pd\n",
    "import biom\n",
    "from biom import Table\n",
    "import matplotlib.pyplot as plt\n",
    "import csv"
   ]
  },
  {
   "cell_type": "markdown",
   "id": "5ef2bdf0-155e-482d-ac39-5e6eec87b7db",
   "metadata": {},
   "source": [
    "### 新添加的样本数"
   ]
  },
  {
   "cell_type": "code",
   "execution_count": 3,
   "id": "7405f725-a7eb-47f6-8b28-1288c34ddf18",
   "metadata": {},
   "outputs": [],
   "source": [
    "metadata = pd.read_csv(\"../../data/Pretraining_data_profile/gut_dada2_add.txt\", sep = \"\\t\", index_col=0, dtype=\"str\", quoting=csv.QUOTE_NONE)"
   ]
  },
  {
   "cell_type": "markdown",
   "metadata": {},
   "source": []
  },
  {
   "cell_type": "code",
   "execution_count": 4,
   "id": "964c976a-9c4a-4055-88de-70e5cd4cdc2c",
   "metadata": {},
   "outputs": [
    {
     "data": {
      "text/plain": [
       "(3137, 10)"
      ]
     },
     "execution_count": 4,
     "metadata": {},
     "output_type": "execute_result"
    }
   ],
   "source": [
    "metadata.shape"
   ]
  },
  {
   "cell_type": "code",
   "execution_count": 9,
   "id": "eaa9b8f7-7ebc-4288-9037-ceee43053b7a",
   "metadata": {},
   "outputs": [
    {
     "data": {
      "text/plain": [
       "6"
      ]
     },
     "execution_count": 9,
     "metadata": {},
     "output_type": "execute_result"
    }
   ],
   "source": [
    "len(metadata.BioProject.unique())"
   ]
  },
  {
   "cell_type": "markdown",
   "id": "b8915cdc-da06-41a5-a7fc-3c7e1b57f1ad",
   "metadata": {},
   "source": [
    "### quality control"
   ]
  },
  {
   "cell_type": "code",
   "execution_count": 868,
   "id": "4e7bdbc7-3ba4-4da6-9d68-a8f2f33c01cd",
   "metadata": {},
   "outputs": [],
   "source": [
    "filter_keeping_sample = []\n",
    "for name in metadata.BioProject.unique():\n",
    "    summary = pd.read_csv(f\"/home/dongbiao/word_embedding_microbiome/all_data/gut/biom_gut/{name}/results/summary.tsv\", sep=\"\\t\", dtype=\"str\")\n",
    "    filter_keeping_sample = filter_keeping_sample + summary.iloc[:, 0].tolist()"
   ]
  },
  {
   "cell_type": "code",
   "execution_count": 869,
   "id": "3f682a0b-1455-437a-9b27-03684de012a5",
   "metadata": {},
   "outputs": [],
   "source": [
    "filter_keeping_sample = [i.split('_1.fastq')[0] for i in filter_keeping_sample]\n",
    "filter_keeping_sample = [i.split('_1.fq.gz')[0] for i in filter_keeping_sample]\n",
    "filter_keeping_sample = [i.split('.fastq')[0] for i in filter_keeping_sample]"
   ]
  },
  {
   "cell_type": "code",
   "execution_count": 870,
   "id": "32db267b-4941-4ab2-af86-dff815c2c382",
   "metadata": {},
   "outputs": [],
   "source": [
    "inter_id = np.intersect1d(filter_keeping_sample, metadata.index.values)"
   ]
  },
  {
   "cell_type": "code",
   "execution_count": 871,
   "id": "ddf3652b-7e32-4d1c-97b8-bf582a5ba1d4",
   "metadata": {},
   "outputs": [],
   "source": [
    "metadata_quality_control = metadata.loc[inter_id]"
   ]
  },
  {
   "cell_type": "code",
   "execution_count": 872,
   "id": "d46e191a-e2b1-45c0-9cfd-dfd0b5bd80d4",
   "metadata": {},
   "outputs": [
    {
     "data": {
      "text/plain": [
       "(84449, 10)"
      ]
     },
     "execution_count": 872,
     "metadata": {},
     "output_type": "execute_result"
    }
   ],
   "source": [
    "metadata_quality_control.shape"
   ]
  },
  {
   "cell_type": "code",
   "execution_count": 873,
   "id": "59bf04f2-d327-4cb0-88b7-61e5ff970ebe",
   "metadata": {},
   "outputs": [
    {
     "data": {
      "text/plain": [
       "259"
      ]
     },
     "execution_count": 873,
     "metadata": {},
     "output_type": "execute_result"
    }
   ],
   "source": [
    "len(metadata_quality_control.BioProject.unique())"
   ]
  },
  {
   "cell_type": "markdown",
   "id": "fe43b435-17ad-4580-a29b-97b80f925b09",
   "metadata": {},
   "source": [
    "### DADA2 filter"
   ]
  },
  {
   "cell_type": "code",
   "execution_count": 874,
   "id": "b146e7ca-eb18-40cf-9a4d-a781a67a2761",
   "metadata": {},
   "outputs": [],
   "source": [
    "study_id = metadata_quality_control.BioProject.unique()\n",
    "chim_perc_rate = []\n",
    "for name in study_id:\n",
    "    summary_dada2 = pd.read_csv(f\"/home/dongbiao/word_embedding_microbiome/all_data/gut/biom_gut/{name}/results/summary.tsv\", \n",
    "                                index_col=0, sep=\"\\t\")\n",
    "    summary_dada2.index = [str(i) for i in summary_dada2.index.values]\n",
    "    summary_dada2.index = [i.split(\".fastq\")[0] for i in summary_dada2.index.values]\n",
    "    chim_perc_rate.append(sum(summary_dada2.chim_perc.values > 25) / summary_dada2.shape[0])\n",
    "\n",
    "study_chim_perc_rate = pd.DataFrame({\"study_id\":study_id, \"chim_perc_rate\":chim_perc_rate})\n",
    "study_filter = study_chim_perc_rate.loc[study_chim_perc_rate.chim_perc_rate.values < 0.3]"
   ]
  },
  {
   "cell_type": "code",
   "execution_count": 875,
   "id": "d0771173-328a-4883-b9f3-a05f177d564b",
   "metadata": {},
   "outputs": [
    {
     "data": {
      "text/plain": [
       "(244, 2)"
      ]
     },
     "execution_count": 875,
     "metadata": {},
     "output_type": "execute_result"
    }
   ],
   "source": [
    "study_filter.shape"
   ]
  },
  {
   "cell_type": "code",
   "execution_count": 876,
   "id": "34b8c5d8-ce66-4a8d-ad48-922115b4e78e",
   "metadata": {},
   "outputs": [],
   "source": [
    "metadata_dada2 = metadata_quality_control.loc[[i in study_filter.study_id.values for i in metadata_quality_control.BioProject.values]]"
   ]
  },
  {
   "cell_type": "code",
   "execution_count": 887,
   "id": "7d86ae98-a134-4b9a-bea2-9591c0a8cd2a",
   "metadata": {},
   "outputs": [
    {
     "data": {
      "text/plain": [
       "244"
      ]
     },
     "execution_count": 887,
     "metadata": {},
     "output_type": "execute_result"
    }
   ],
   "source": [
    "len(np.unique(metadata_dada2.BioProject.unique()))"
   ]
  },
  {
   "cell_type": "code",
   "execution_count": 883,
   "id": "a6c17542-f410-4d73-b256-0f3c3212611e",
   "metadata": {},
   "outputs": [
    {
     "data": {
      "text/plain": [
       "(83839, 10)"
      ]
     },
     "execution_count": 883,
     "metadata": {},
     "output_type": "execute_result"
    }
   ],
   "source": [
    "metadata_dada2.shape"
   ]
  },
  {
   "cell_type": "markdown",
   "id": "ea182596-a2f5-4ccf-8df4-605d7f0dee7a",
   "metadata": {},
   "source": [
    "### close reference filter"
   ]
  },
  {
   "cell_type": "code",
   "execution_count": 888,
   "id": "1624daff-b326-46a3-8495-96fd3d2a70c9",
   "metadata": {},
   "outputs": [],
   "source": [
    "ratio = []\n",
    "sid = metadata_dada2.index.values\n",
    "study_id = metadata_dada2.BioProject.unique()\n",
    "for name in study_id:\n",
    "    table = biom.load_table(f\"/home/dongbiao/word_embedding_microbiome/all_data/gut/biom_gut/{name}/results/ASVs_counts.biom\")\n",
    "    inter_id = np.intersect1d(table.ids(axis=\"sample\"), sid)\n",
    "    table = table.filter(inter_id)\n",
    "    totall_1 = np.sum(table.sum(axis='sample'))\n",
    "\n",
    "    table = biom.load_table(f\"/home/dongbiao/word_embedding_microbiome/all_data/gut/biom_gut/{name}/results/extracted-feature-table/feature-table.biom\")\n",
    "    inter_id = np.intersect1d(table.ids(axis=\"sample\"), sid)\n",
    "    table = table.filter(inter_id)\n",
    "    totall_2 = np.sum(table.sum(axis='sample'))\n",
    "\n",
    "    ratio.append(totall_2 / totall_1)"
   ]
  },
  {
   "cell_type": "code",
   "execution_count": 889,
   "id": "55b46c2c-684b-4aef-9dd3-e1daa95a4269",
   "metadata": {},
   "outputs": [],
   "source": [
    "ratio = np.array(ratio)"
   ]
  },
  {
   "cell_type": "code",
   "execution_count": 890,
   "id": "e48f71f1-dac0-4b71-b54f-fd452fd07043",
   "metadata": {},
   "outputs": [],
   "source": [
    "keep_res = pd.DataFrame({\"study_id\":study_id, \"ratio\":ratio})"
   ]
  },
  {
   "cell_type": "code",
   "execution_count": 891,
   "id": "858a9de0-e2a8-4459-9380-3b315c013b36",
   "metadata": {},
   "outputs": [
    {
     "data": {
      "text/plain": [
       "Text(0, 0.5, 'Density')"
      ]
     },
     "execution_count": 891,
     "metadata": {},
     "output_type": "execute_result"
    },
    {
     "data": {
      "image/png": "[encoded data removed]",
      "text/plain": [
       "<Figure size 300x200 with 1 Axes>"
      ]
     },
     "metadata": {},
     "output_type": "display_data"
    }
   ],
   "source": [
    "plt.figure(figsize=(3, 2))\n",
    "plt.hist(ratio, bins=50)\n",
    "plt.xlabel('keeping reads rate', fontsize=12)\n",
    "plt.ylabel('Density', fontsize=12)"
   ]
  },
  {
   "cell_type": "code",
   "execution_count": 930,
   "id": "c3a338cb-22c6-4da3-9b11-2095bd831070",
   "metadata": {},
   "outputs": [],
   "source": [
    "study_id_filter = study_id[ratio>0.89]"
   ]
  },
  {
   "cell_type": "code",
   "execution_count": 912,
   "id": "7103775d-14b3-4fdd-9ff8-c559c61b4e5d",
   "metadata": {},
   "outputs": [
    {
     "data": {
      "text/html": [
       "<div>\n",
       "<style scoped>\n",
       "    .dataframe tbody tr th:only-of-type {\n",
       "        vertical-align: middle;\n",
       "    }\n",
       "\n",
       "    .dataframe tbody tr th {\n",
       "        vertical-align: top;\n",
       "    }\n",
       "\n",
       "    .dataframe thead th {\n",
       "        text-align: right;\n",
       "    }\n",
       "</style>\n",
       "<table border=\"1\" class=\"dataframe\">\n",
       "  <thead>\n",
       "    <tr style=\"text-align: right;\">\n",
       "      <th></th>\n",
       "      <th>study_id</th>\n",
       "      <th>ratio</th>\n",
       "    </tr>\n",
       "  </thead>\n",
       "  <tbody>\n",
       "    <tr>\n",
       "      <th>52</th>\n",
       "      <td>PRJEB24771</td>\n",
       "      <td>0.852627</td>\n",
       "    </tr>\n",
       "    <tr>\n",
       "      <th>63</th>\n",
       "      <td>PRJEB28485</td>\n",
       "      <td>0.855999</td>\n",
       "    </tr>\n",
       "    <tr>\n",
       "      <th>81</th>\n",
       "      <td>PRJEB34394</td>\n",
       "      <td>0.873373</td>\n",
       "    </tr>\n",
       "    <tr>\n",
       "      <th>139</th>\n",
       "      <td>PRJNA445932</td>\n",
       "      <td>0.418232</td>\n",
       "    </tr>\n",
       "    <tr>\n",
       "      <th>164</th>\n",
       "      <td>PRJNA762360</td>\n",
       "      <td>0.855428</td>\n",
       "    </tr>\n",
       "    <tr>\n",
       "      <th>179</th>\n",
       "      <td>PRJNA417579</td>\n",
       "      <td>0.671462</td>\n",
       "    </tr>\n",
       "    <tr>\n",
       "      <th>197</th>\n",
       "      <td>PRJNA379437</td>\n",
       "      <td>0.855221</td>\n",
       "    </tr>\n",
       "    <tr>\n",
       "      <th>226</th>\n",
       "      <td>PRJNA480674</td>\n",
       "      <td>0.887510</td>\n",
       "    </tr>\n",
       "  </tbody>\n",
       "</table>\n",
       "</div>"
      ],
      "text/plain": [
       "        study_id     ratio\n",
       "52    PRJEB24771  0.852627\n",
       "63    PRJEB28485  0.855999\n",
       "81    PRJEB34394  0.873373\n",
       "139  PRJNA445932  0.418232\n",
       "164  PRJNA762360  0.855428\n",
       "179  PRJNA417579  0.671462\n",
       "197  PRJNA379437  0.855221\n",
       "226  PRJNA480674  0.887510"
      ]
     },
     "execution_count": 912,
     "metadata": {},
     "output_type": "execute_result"
    }
   ],
   "source": [
    "filter_table"
   ]
  },
  {
   "cell_type": "code",
   "execution_count": 900,
   "id": "6106ad76-7ab7-4eaf-b0f2-c2b9c165683b",
   "metadata": {},
   "outputs": [],
   "source": [
    "metadata_close_reference = metadata_dada2.loc[[i in study_id_filter for i in metadata_dada2.BioProject.values]]"
   ]
  },
  {
   "cell_type": "code",
   "execution_count": 901,
   "id": "54ac6519-d751-43a7-9af0-193fd81ed91b",
   "metadata": {},
   "outputs": [
    {
     "data": {
      "text/plain": [
       "236"
      ]
     },
     "execution_count": 901,
     "metadata": {},
     "output_type": "execute_result"
    }
   ],
   "source": [
    "len(metadata_close_reference.BioProject.unique())"
   ]
  },
  {
   "cell_type": "code",
   "execution_count": 902,
   "id": "72f78c04-f14b-4c74-9eeb-0a18b6e3f1c8",
   "metadata": {},
   "outputs": [
    {
     "data": {
      "text/plain": [
       "(76823, 10)"
      ]
     },
     "execution_count": 902,
     "metadata": {},
     "output_type": "execute_result"
    }
   ],
   "source": [
    "metadata_close_reference.shape"
   ]
  },
  {
   "cell_type": "code",
   "execution_count": 903,
   "id": "0148ea0c-8203-4cd4-9878-b89706461de1",
   "metadata": {},
   "outputs": [
    {
     "data": {
      "text/plain": [
       "81298 x 76546 <class 'biom.table.Table'> with 10748397 nonzero entries (0% dense)"
      ]
     },
     "execution_count": 903,
     "metadata": {},
     "output_type": "execute_result"
    }
   ],
   "source": [
    "n = 1\n",
    "sid = metadata_close_reference.index.values\n",
    "for i in metadata_close_reference.BioProject.unique():\n",
    "    if n == 1:\n",
    "        table = biom.load_table(f\"/home/dongbiao/word_embedding_microbiome/all_data/gut/biom_gut/{i}/results/extracted-feature-table/feature-table.biom\")\n",
    "        inter_id = np.intersect1d(table.ids(axis=\"sample\"), sid)\n",
    "        table = table.filter(inter_id)\n",
    "    else:\n",
    "        temp = biom.load_table(f\"/home/dongbiao/word_embedding_microbiome/all_data/gut/biom_gut/{i}/results/extracted-feature-table/feature-table.biom\")\n",
    "        inter_id = np.intersect1d(temp.ids(axis=\"sample\"), sid)\n",
    "        temp = temp.filter(inter_id)\n",
    "        table = table.merge(temp)\n",
    "    n = n + 1\n",
    "table.remove_empty()"
   ]
  },
  {
   "cell_type": "code",
   "execution_count": 904,
   "id": "2183b185-5dff-4cf6-bd51-dd22ad6e00a8",
   "metadata": {},
   "outputs": [],
   "source": [
    "inter_id = np.intersect1d(table.ids(axis=\"sample\"), metadata_close_reference.index.values)"
   ]
  },
  {
   "cell_type": "code",
   "execution_count": 905,
   "id": "170e569e-af3b-4a50-8828-e55b73c1d8c2",
   "metadata": {},
   "outputs": [],
   "source": [
    "metadata_close_reference = metadata_close_reference.loc[inter_id]\n",
    "table = table.filter(inter_id, axis=\"sample\")"
   ]
  },
  {
   "cell_type": "code",
   "execution_count": 906,
   "id": "90c0e127-0be7-4245-b7b9-b7d88747e45c",
   "metadata": {},
   "outputs": [],
   "source": [
    "with biom.util.biom_open(f\"/home/dongbiao/word_embedding_microbiome/all_data/gut/complete_data_add/table_add.biom\", 'w') as f:\n",
    "    table.to_hdf5(f, 'example')"
   ]
  },
  {
   "cell_type": "code",
   "execution_count": 907,
   "id": "cab10fac-8f2b-4c04-bd61-43af3c674293",
   "metadata": {},
   "outputs": [],
   "source": [
    "metadata_close_reference.to_csv(\"/home/dongbiao/word_embedding_microbiome/all_data/gut/complete_data_add/metadata_add.txt\", sep=\"\\t\")"
   ]
  },
  {
   "cell_type": "code",
   "execution_count": 908,
   "id": "a6669c4f-6940-4f3f-adad-4613c57a0159",
   "metadata": {},
   "outputs": [
    {
     "data": {
      "text/plain": [
       "array(['feces', 'stool'], dtype=object)"
      ]
     },
     "execution_count": 908,
     "metadata": {},
     "output_type": "execute_result"
    }
   ],
   "source": [
    "metadata_close_reference.Site.unique()"
   ]
  },
  {
   "cell_type": "code",
   "execution_count": 909,
   "id": "1da13588-07e5-48f6-8a7c-637c4dc84550",
   "metadata": {},
   "outputs": [
    {
     "data": {
      "text/plain": [
       "(76546, 10)"
      ]
     },
     "execution_count": 909,
     "metadata": {},
     "output_type": "execute_result"
    }
   ],
   "source": [
    "metadata_close_reference.shape"
   ]
  },
  {
   "cell_type": "code",
   "execution_count": 910,
   "id": "bd4042c3-e27a-494e-86fb-bca7a6685c4c",
   "metadata": {},
   "outputs": [
    {
     "data": {
      "text/plain": [
       "236"
      ]
     },
     "execution_count": 910,
     "metadata": {},
     "output_type": "execute_result"
    }
   ],
   "source": [
    "len(metadata_close_reference.BioProject.unique())"
   ]
  }
 ],
 "metadata": {
  "kernelspec": {
   "display_name": "Python 3 (ipykernel)",
   "language": "python",
   "name": "python3"
  },
  "language_info": {
   "codemirror_mode": {
    "name": "ipython",
    "version": 3
   },
   "file_extension": ".py",
   "mimetype": "text/x-python",
   "name": "python",
   "nbconvert_exporter": "python",
   "pygments_lexer": "ipython3",
   "version": "3.9.22"
  }
 },
 "nbformat": 4,
 "nbformat_minor": 5
}
