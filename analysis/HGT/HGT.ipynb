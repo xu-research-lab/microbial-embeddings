{
 "cells": [
  {
   "cell_type": "code",
   "execution_count": 427,
   "id": "e330ec4b-e2cd-49ff-992e-8f8226827e1f",
   "metadata": {},
   "outputs": [],
   "source": [
    "import re"
   ]
  },
  {
   "cell_type": "code",
   "execution_count": 10,
   "id": "230e2859-4e62-4116-a46c-ee40e75447a7",
   "metadata": {},
   "outputs": [],
   "source": [
    "import numpy as np\n",
    "import pandas as pd"
   ]
  },
  {
   "cell_type": "code",
   "execution_count": 11,
   "id": "dd62f2c6-95d9-4aa2-a348-2f8cc492455b",
   "metadata": {},
   "outputs": [],
   "source": [
    "from Bio import SeqIO\n",
    "import os"
   ]
  },
  {
   "cell_type": "code",
   "execution_count": 12,
   "id": "a631deb1-f3a7-4690-82da-fbdca1992d22",
   "metadata": {},
   "outputs": [],
   "source": [
    "from tqdm import tqdm"
   ]
  },
  {
   "cell_type": "code",
   "execution_count": 13,
   "id": "3dcf4ae8-7169-46cb-9e78-bb69aa9182ff",
   "metadata": {},
   "outputs": [],
   "source": [
    "import json"
   ]
  },
  {
   "cell_type": "code",
   "execution_count": 14,
   "id": "ad4430fc-8c07-4db5-8714-317fd9f96cc5",
   "metadata": {},
   "outputs": [],
   "source": [
    "from sklearn.metrics.pairwise import cosine_similarity"
   ]
  },
  {
   "cell_type": "code",
   "execution_count": 15,
   "id": "e764c6ce-4ade-4481-a011-93a91726adb8",
   "metadata": {},
   "outputs": [],
   "source": [
    "import matplotlib.pyplot as plt"
   ]
  },
  {
   "cell_type": "code",
   "execution_count": 16,
   "id": "2aa0bbf0-421a-40b2-83d8-2ab58831125d",
   "metadata": {},
   "outputs": [],
   "source": [
    "from sklearn.metrics import roc_curve, auc "
   ]
  },
  {
   "cell_type": "code",
   "execution_count": 64,
   "id": "22d545ee-550f-4c77-9b56-41e0ae4005f0",
   "metadata": {},
   "outputs": [],
   "source": [
    "from sklearn.model_selection import KFold\n",
    "from sklearn.ensemble import RandomForestClassifier  \n",
    "from sklearn.model_selection import cross_val_score \n",
    "from sklearn.metrics import roc_auc_score, roc_curve\n",
    "from sklearn.linear_model import LogisticRegression"
   ]
  },
  {
   "cell_type": "code",
   "execution_count": 65,
   "id": "c357e34c-8842-438a-8608-230bb7a4e33b",
   "metadata": {},
   "outputs": [],
   "source": [
    "import random\n",
    "from phylodm import PhyloDM\n",
    "import dendropy"
   ]
  },
  {
   "cell_type": "code",
   "execution_count": 66,
   "id": "74e0ad4a-f618-4a2d-b937-3561e2236b2b",
   "metadata": {},
   "outputs": [],
   "source": [
    "import seaborn as sns\n",
    "from scipy import stats"
   ]
  },
  {
   "cell_type": "code",
   "execution_count": 372,
   "id": "4b625c6f-9d49-424e-a8c0-f51f0c4486f1",
   "metadata": {},
   "outputs": [],
   "source": [
    "co_embedding = pd.read_csv(\"/home/dongbiao/word_embedding_microbiome/all_data/gut/glove/abundance-percentile_100.txt\",\n",
    "                          header=None, sep=\" \", low_memory=False, index_col=0)\n",
    "co_embedding = co_embedding.drop(\"<unk>\")\n",
    "\n",
    "embed_cos = cosine_similarity(co_embedding)\n",
    "embed_cos = pd.DataFrame(data=embed_cos, index=co_embedding.index, columns=co_embedding.index)\n",
    "\n",
    "phy_embedding = pd.read_csv(\"/home/dongbiao/word_embedding_microbiome/all_data/gut/Phy_embedding/PCA/PCA_100.txt\",\n",
    "                          header=None, sep=\" \", low_memory=False, index_col=0)\n",
    "phy_embedding = phy_embedding.loc[co_embedding.index]\n",
    "\n",
    "embed_cos_phy = cosine_similarity(phy_embedding)\n",
    "embed_cos_phy = pd.DataFrame(data=embed_cos_phy, index=phy_embedding.index, columns=phy_embedding.index)"
   ]
  },
  {
   "cell_type": "code",
   "execution_count": 62,
   "id": "ab4e1396-184b-471a-ae5d-9fb291f4c982",
   "metadata": {},
   "outputs": [],
   "source": [
    "from scipy.stats import entropy"
   ]
  },
  {
   "cell_type": "markdown",
   "id": "43d8963e-78be-4326-bf14-5864f002094c",
   "metadata": {},
   "source": [
    "### vsearch"
   ]
  },
  {
   "cell_type": "code",
   "execution_count": 261,
   "id": "33e100b8-048b-40cc-8d79-2847ec96e164",
   "metadata": {},
   "outputs": [],
   "source": [
    "from Bio import SeqIO\n",
    "\n",
    "def get_sequence_lengths(fasta_file):\n",
    "    seq_lengths = {}\n",
    "    for record in SeqIO.parse(fasta_file, \"fasta\"):\n",
    "        seq_lengths[record.id] = len(record.seq)  # 存储序列ID和长度\n",
    "    return seq_lengths\n",
    "\n",
    "# 示例调用\n",
    "fasta_path = \"/home/dongbiao/word_embedding_microbiome/programe_test/phylogeny/data/feces_seq_16S_new.fasta\"\n",
    "length_dict = get_sequence_lengths(fasta_path)"
   ]
  },
  {
   "cell_type": "code",
   "execution_count": 251,
   "id": "1b7960ff-dba9-48ef-aecd-e51e0185bee5",
   "metadata": {},
   "outputs": [],
   "source": [
    "colnames = [\"query_id\", \"refer_id\", \"identity\", \"alignment_length\", \"mismatches\", \"gap_openings\", \"q.start\",\n",
    "            \"q.end\", \"s.start\", \"s.end\", \"e-value\", \"bit_score\"]"
   ]
  },
  {
   "cell_type": "code",
   "execution_count": 281,
   "id": "feed95b8-92b2-4405-84c3-06bbcc88db2d",
   "metadata": {},
   "outputs": [],
   "source": [
    "vsearch_out = pd.read_csv(\"/home/dongbiao/word_embedding_microbiome/HGT/results/vsearch_blast.out\", sep=\"\\t\", header=None)\n",
    "vsearch_out.columns = colnames\n",
    "vsearch_out.loc[:, \"length\"] = [length_dict[i] for i in vsearch_out.query_id.values]\n",
    "vsearch_out.loc[:, \"coverage\"] = vsearch_out.alignment_length.values / vsearch_out.length.values"
   ]
  },
  {
   "cell_type": "code",
   "execution_count": 282,
   "id": "8a051442-d31c-45d1-9c93-c2740c7e2f76",
   "metadata": {},
   "outputs": [],
   "source": [
    "vsearch_out = vsearch_out.loc[vsearch_out[\"q.start\"] == 1]\n",
    "vsearch_out = vsearch_out.loc[vsearch_out[\"coverage\"] == 1]\n",
    "vsearch_out.loc[:, \"refer\"] = [i.split(\"::\")[1].split(\":\")[0] for i in vsearch_out.refer_id.values]"
   ]
  },
  {
   "cell_type": "code",
   "execution_count": 287,
   "id": "85383351-dcc9-456a-85df-cab6caf5d1a6",
   "metadata": {},
   "outputs": [],
   "source": [
    "vsearch_out = vsearch_out.loc[vsearch_out.groupby('refer')['identity'].idxmax()]"
   ]
  },
  {
   "cell_type": "code",
   "execution_count": 291,
   "id": "c46ce205-ecf1-488a-a40f-4d36a0508faa",
   "metadata": {},
   "outputs": [
    {
     "data": {
      "text/plain": [
       "(1011, 15)"
      ]
     },
     "execution_count": 291,
     "metadata": {},
     "output_type": "execute_result"
    }
   ],
   "source": [
    "vsearch_out.shape"
   ]
  },
  {
   "cell_type": "code",
   "execution_count": 292,
   "id": "4806df94-838d-499c-bb82-574050ba131d",
   "metadata": {},
   "outputs": [
    {
     "data": {
      "text/html": [
       "<div>\n",
       "<style scoped>\n",
       "    .dataframe tbody tr th:only-of-type {\n",
       "        vertical-align: middle;\n",
       "    }\n",
       "\n",
       "    .dataframe tbody tr th {\n",
       "        vertical-align: top;\n",
       "    }\n",
       "\n",
       "    .dataframe thead th {\n",
       "        text-align: right;\n",
       "    }\n",
       "</style>\n",
       "<table border=\"1\" class=\"dataframe\">\n",
       "  <thead>\n",
       "    <tr style=\"text-align: right;\">\n",
       "      <th></th>\n",
       "      <th>query_id</th>\n",
       "      <th>refer_id</th>\n",
       "      <th>identity</th>\n",
       "      <th>alignment_length</th>\n",
       "      <th>mismatches</th>\n",
       "      <th>gap_openings</th>\n",
       "      <th>q.start</th>\n",
       "      <th>q.end</th>\n",
       "      <th>s.start</th>\n",
       "      <th>s.end</th>\n",
       "      <th>e-value</th>\n",
       "      <th>bit_score</th>\n",
       "      <th>length</th>\n",
       "      <th>coverage</th>\n",
       "      <th>refer</th>\n",
       "    </tr>\n",
       "  </thead>\n",
       "  <tbody>\n",
       "    <tr>\n",
       "      <th>1028</th>\n",
       "      <td>CP007065.253054.254560</td>\n",
       "      <td>16S_rRNA::AABF01000026.1:18737-20251(+)</td>\n",
       "      <td>99.7</td>\n",
       "      <td>1507</td>\n",
       "      <td>4</td>\n",
       "      <td>0</td>\n",
       "      <td>1</td>\n",
       "      <td>1507</td>\n",
       "      <td>1</td>\n",
       "      <td>1514</td>\n",
       "      <td>-1</td>\n",
       "      <td>0</td>\n",
       "      <td>1507</td>\n",
       "      <td>1.0</td>\n",
       "      <td>AABF01000026.1</td>\n",
       "    </tr>\n",
       "    <tr>\n",
       "      <th>26</th>\n",
       "      <td>AJ239289.1.1355</td>\n",
       "      <td>16S_rRNA::ADBE01000137.1:300-1836(+)</td>\n",
       "      <td>100.0</td>\n",
       "      <td>1355</td>\n",
       "      <td>0</td>\n",
       "      <td>0</td>\n",
       "      <td>1</td>\n",
       "      <td>1355</td>\n",
       "      <td>1</td>\n",
       "      <td>1536</td>\n",
       "      <td>-1</td>\n",
       "      <td>0</td>\n",
       "      <td>1355</td>\n",
       "      <td>1.0</td>\n",
       "      <td>ADBE01000137.1</td>\n",
       "    </tr>\n",
       "    <tr>\n",
       "      <th>684</th>\n",
       "      <td>AP018533.3254502.3256012</td>\n",
       "      <td>16S_rRNA::AP018533.1:3254488-3256017(-)</td>\n",
       "      <td>100.0</td>\n",
       "      <td>1511</td>\n",
       "      <td>0</td>\n",
       "      <td>0</td>\n",
       "      <td>1</td>\n",
       "      <td>1511</td>\n",
       "      <td>1</td>\n",
       "      <td>1529</td>\n",
       "      <td>-1</td>\n",
       "      <td>0</td>\n",
       "      <td>1511</td>\n",
       "      <td>1.0</td>\n",
       "      <td>AP018533.1</td>\n",
       "    </tr>\n",
       "    <tr>\n",
       "      <th>1384</th>\n",
       "      <td>HQ767419.1.1452</td>\n",
       "      <td>16S_rRNA::AP025573.1:47380-48910(+)</td>\n",
       "      <td>99.8</td>\n",
       "      <td>1452</td>\n",
       "      <td>3</td>\n",
       "      <td>0</td>\n",
       "      <td>1</td>\n",
       "      <td>1452</td>\n",
       "      <td>1</td>\n",
       "      <td>1530</td>\n",
       "      <td>-1</td>\n",
       "      <td>0</td>\n",
       "      <td>1452</td>\n",
       "      <td>1.0</td>\n",
       "      <td>AP025573.1</td>\n",
       "    </tr>\n",
       "    <tr>\n",
       "      <th>1622</th>\n",
       "      <td>JF160900.1.1352</td>\n",
       "      <td>16S_rRNA::AP025583.1:128195-129724(+)</td>\n",
       "      <td>99.6</td>\n",
       "      <td>1352</td>\n",
       "      <td>6</td>\n",
       "      <td>0</td>\n",
       "      <td>1</td>\n",
       "      <td>1352</td>\n",
       "      <td>1</td>\n",
       "      <td>1529</td>\n",
       "      <td>-1</td>\n",
       "      <td>0</td>\n",
       "      <td>1352</td>\n",
       "      <td>1.0</td>\n",
       "      <td>AP025583.1</td>\n",
       "    </tr>\n",
       "  </tbody>\n",
       "</table>\n",
       "</div>"
      ],
      "text/plain": [
       "                      query_id                                 refer_id  \\\n",
       "1028    CP007065.253054.254560  16S_rRNA::AABF01000026.1:18737-20251(+)   \n",
       "26             AJ239289.1.1355     16S_rRNA::ADBE01000137.1:300-1836(+)   \n",
       "684   AP018533.3254502.3256012  16S_rRNA::AP018533.1:3254488-3256017(-)   \n",
       "1384           HQ767419.1.1452      16S_rRNA::AP025573.1:47380-48910(+)   \n",
       "1622           JF160900.1.1352    16S_rRNA::AP025583.1:128195-129724(+)   \n",
       "\n",
       "      identity  alignment_length  mismatches  gap_openings  q.start  q.end  \\\n",
       "1028      99.7              1507           4             0        1   1507   \n",
       "26       100.0              1355           0             0        1   1355   \n",
       "684      100.0              1511           0             0        1   1511   \n",
       "1384      99.8              1452           3             0        1   1452   \n",
       "1622      99.6              1352           6             0        1   1352   \n",
       "\n",
       "      s.start  s.end  e-value  bit_score  length  coverage           refer  \n",
       "1028        1   1514       -1          0    1507       1.0  AABF01000026.1  \n",
       "26          1   1536       -1          0    1355       1.0  ADBE01000137.1  \n",
       "684         1   1529       -1          0    1511       1.0      AP018533.1  \n",
       "1384        1   1530       -1          0    1452       1.0      AP025573.1  \n",
       "1622        1   1529       -1          0    1352       1.0      AP025583.1  "
      ]
     },
     "execution_count": 292,
     "metadata": {},
     "output_type": "execute_result"
    }
   ],
   "source": [
    "vsearch_out.head()"
   ]
  },
  {
   "cell_type": "code",
   "execution_count": 289,
   "id": "34ceee8c-0109-4986-9545-31b33250b4fc",
   "metadata": {},
   "outputs": [
    {
     "data": {
      "text/plain": [
       "1011"
      ]
     },
     "execution_count": 289,
     "metadata": {},
     "output_type": "execute_result"
    }
   ],
   "source": [
    "len(vsearch_out.query_id.unique())"
   ]
  },
  {
   "cell_type": "code",
   "execution_count": 297,
   "id": "6137a8c0-1937-4e11-aa97-e63c44df59cb",
   "metadata": {},
   "outputs": [
    {
     "name": "stdout",
     "output_type": "stream",
     "text": [
      "已保存 1011 条序列到 /home/dongbiao/word_embedding_microbiome/HGT/16S/pick_otu.fasta\n"
     ]
    }
   ],
   "source": [
    "def select_sequences_by_ids(input_fasta, output_fasta, selected_ids):\n",
    "    \"\"\"\n",
    "    根据序列名称选择指定的序列并保存到新文件\n",
    "    \n",
    "    参数:\n",
    "        input_fasta (str): 输入 FASTA 文件路径\n",
    "        output_fasta (str): 输出 FASTA 文件路径\n",
    "        selected_ids (list): 需要选择的序列名称列表\n",
    "    \"\"\"\n",
    "    \n",
    "    # 读取输入文件并筛选序列\n",
    "    selected_sequences = []\n",
    "    for record in SeqIO.parse(input_fasta, \"fasta\"):\n",
    "        if record.id in selected_ids:  # 如果序列名称在指定列表中\n",
    "            record.id = record.id.split(\"::\")[1].split(\":\")[0]\n",
    "            selected_sequences.append(record)\n",
    "    \n",
    "    # 将筛选后的序列写入新文件\n",
    "    SeqIO.write(selected_sequences, output_fasta, \"fasta\")\n",
    "    print(f\"已保存 {len(selected_sequences)} 条序列到 {output_fasta}\")\n",
    "\n",
    "# 示例调用\n",
    "target_id = vsearch_out.refer_id.values\n",
    "input_fasta = \"/home/dongbiao/word_embedding_microbiome/HGT/barrnap.fna\"  # 输入 FASTA 文件路径\n",
    "output_fasta = \"/home/dongbiao/word_embedding_microbiome/HGT/16S/pick_otu.fasta\"  # 输出 FASTA 文件路径\n",
    "select_sequences_by_ids(input_fasta, output_fasta, target_id) "
   ]
  },
  {
   "cell_type": "code",
   "execution_count": 28,
   "id": "ca4b4bfb-ecd9-4666-ba0e-47f72f3ab5e7",
   "metadata": {},
   "outputs": [],
   "source": [
    "def get_fasta_sequence_names(fasta_file):\n",
    "    \"\"\"\n",
    "    提取单个 FASTA 文件中的所有序列名称\n",
    "    \n",
    "    参数:\n",
    "        fasta_file (str): FASTA 文件路径\n",
    "    \n",
    "    返回:\n",
    "        list: 序列名称列表\n",
    "    \"\"\"\n",
    "    sequence_names = []\n",
    "    for record in SeqIO.parse(fasta_file, \"fasta\"):\n",
    "        sequence_names.append(record.id)\n",
    "    return sequence_names\n",
    "\n",
    "def process_fasta_folder(folder_path):\n",
    "    \"\"\"\n",
    "    处理文件夹中的所有 FASTA 文件，生成字典\n",
    "    \n",
    "    参数:\n",
    "        folder_path (str): 文件夹路径\n",
    "    \n",
    "    返回:\n",
    "        dict: key 是基因组名称（文件名），value 是序列名称列表\n",
    "    \"\"\"\n",
    "    fasta_dict = {}\n",
    "    \n",
    "    # 遍历文件夹中的所有文件\n",
    "    for filename in tqdm(os.listdir(folder_path), desc=\"Processing\"):\n",
    "        if filename.endswith(\".fna\"):  # 检查文件扩展名\n",
    "            file_path = os.path.join(folder_path, filename)\n",
    "            genome_name = os.path.splitext(filename)[0]  # 去掉扩展名作为基因组名称\n",
    "            sequence_names = get_fasta_sequence_names(file_path)\n",
    "            fasta_dict[genome_name] = sequence_names\n",
    "    \n",
    "    return fasta_dict"
   ]
  },
  {
   "cell_type": "code",
   "execution_count": 528,
   "id": "a1939903-a825-4d25-af8c-273aa1890e1d",
   "metadata": {},
   "outputs": [
    {
     "name": "stderr",
     "output_type": "stream",
     "text": [
      "Processing: 100%|██████████| 61558/61558 [1:05:12<00:00, 15.73it/s] \n"
     ]
    }
   ],
   "source": [
    "# 示例调用\n",
    "folder_path = \"/home/dongbiao/word_embedding_microbiome/HGT/high_quality_genome\"  \n",
    "fasta_dict = process_fasta_folder(folder_path)"
   ]
  },
  {
   "cell_type": "code",
   "execution_count": 298,
   "id": "a59c7eb4-bd5b-46af-8d4c-c394a72d176e",
   "metadata": {},
   "outputs": [],
   "source": [
    "# 读取 JSON 文件\n",
    "with open('/home/dongbiao/word_embedding_microbiome/HGT/results/fasta_dict.json', 'r', encoding='utf-8') as f:\n",
    "    fasta_dict = json.load(f)  # 返回字典或列表"
   ]
  },
  {
   "cell_type": "code",
   "execution_count": 300,
   "id": "b8b5a474-3fcb-4d9f-bbed-a65025a47094",
   "metadata": {},
   "outputs": [
    {
     "name": "stderr",
     "output_type": "stream",
     "text": [
      "Processing: 100%|██████████| 1011/1011 [00:22<00:00, 44.88it/s]\n"
     ]
    }
   ],
   "source": [
    "target_genome = {}\n",
    "for target in tqdm(vsearch_out.refer.values, desc=\"Processing\"):\n",
    "    for key, value in fasta_dict.items():\n",
    "        if target in value:\n",
    "            target_genome[target] = key\n",
    "            continue"
   ]
  },
  {
   "cell_type": "code",
   "execution_count": 301,
   "id": "741f5d55-1359-4973-98cf-11a111d81e30",
   "metadata": {},
   "outputs": [],
   "source": [
    "vsearch_out.loc[:, \"genome_id\"] = [target_genome[i] for i in vsearch_out.refer.values]"
   ]
  },
  {
   "cell_type": "code",
   "execution_count": 309,
   "id": "b16d0243-dc7b-40b3-ac0f-c288206f05a6",
   "metadata": {},
   "outputs": [],
   "source": [
    "vsearch_out = vsearch_out.loc[vsearch_out.groupby('genome_id')['identity'].idxmax()]"
   ]
  },
  {
   "cell_type": "code",
   "execution_count": 310,
   "id": "fafd14ea-cbba-4c08-8a49-f6f8726f2576",
   "metadata": {},
   "outputs": [
    {
     "data": {
      "text/html": [
       "<div>\n",
       "<style scoped>\n",
       "    .dataframe tbody tr th:only-of-type {\n",
       "        vertical-align: middle;\n",
       "    }\n",
       "\n",
       "    .dataframe tbody tr th {\n",
       "        vertical-align: top;\n",
       "    }\n",
       "\n",
       "    .dataframe thead th {\n",
       "        text-align: right;\n",
       "    }\n",
       "</style>\n",
       "<table border=\"1\" class=\"dataframe\">\n",
       "  <thead>\n",
       "    <tr style=\"text-align: right;\">\n",
       "      <th></th>\n",
       "      <th>query_id</th>\n",
       "      <th>refer_id</th>\n",
       "      <th>identity</th>\n",
       "      <th>alignment_length</th>\n",
       "      <th>mismatches</th>\n",
       "      <th>gap_openings</th>\n",
       "      <th>q.start</th>\n",
       "      <th>q.end</th>\n",
       "      <th>s.start</th>\n",
       "      <th>s.end</th>\n",
       "      <th>e-value</th>\n",
       "      <th>bit_score</th>\n",
       "      <th>length</th>\n",
       "      <th>coverage</th>\n",
       "      <th>refer</th>\n",
       "      <th>genome_id</th>\n",
       "    </tr>\n",
       "  </thead>\n",
       "  <tbody>\n",
       "    <tr>\n",
       "      <th>26</th>\n",
       "      <td>AJ239289.1.1355</td>\n",
       "      <td>16S_rRNA::ADBE01000137.1:300-1836(+)</td>\n",
       "      <td>100.0</td>\n",
       "      <td>1355</td>\n",
       "      <td>0</td>\n",
       "      <td>0</td>\n",
       "      <td>1</td>\n",
       "      <td>1355</td>\n",
       "      <td>1</td>\n",
       "      <td>1536</td>\n",
       "      <td>-1</td>\n",
       "      <td>0</td>\n",
       "      <td>1355</td>\n",
       "      <td>1.0</td>\n",
       "      <td>ADBE01000137.1</td>\n",
       "      <td>GCA_000176735.1_genomic</td>\n",
       "    </tr>\n",
       "    <tr>\n",
       "      <th>1028</th>\n",
       "      <td>CP007065.253054.254560</td>\n",
       "      <td>16S_rRNA::AABF01000026.1:18737-20251(+)</td>\n",
       "      <td>99.7</td>\n",
       "      <td>1507</td>\n",
       "      <td>4</td>\n",
       "      <td>0</td>\n",
       "      <td>1</td>\n",
       "      <td>1507</td>\n",
       "      <td>1</td>\n",
       "      <td>1514</td>\n",
       "      <td>-1</td>\n",
       "      <td>0</td>\n",
       "      <td>1507</td>\n",
       "      <td>1.0</td>\n",
       "      <td>AABF01000026.1</td>\n",
       "      <td>GCA_000182945.1_genomic</td>\n",
       "    </tr>\n",
       "    <tr>\n",
       "      <th>504</th>\n",
       "      <td>JX424767.1.1450</td>\n",
       "      <td>16S_rRNA::CAPI01000044.1:3321-4819(-)</td>\n",
       "      <td>99.9</td>\n",
       "      <td>1450</td>\n",
       "      <td>1</td>\n",
       "      <td>0</td>\n",
       "      <td>1</td>\n",
       "      <td>1450</td>\n",
       "      <td>1</td>\n",
       "      <td>1498</td>\n",
       "      <td>-1</td>\n",
       "      <td>0</td>\n",
       "      <td>1450</td>\n",
       "      <td>1.0</td>\n",
       "      <td>CAPI01000044.1</td>\n",
       "      <td>GCA_000333815.1_genomic</td>\n",
       "    </tr>\n",
       "    <tr>\n",
       "      <th>2086</th>\n",
       "      <td>ATWA01000156.1.1244</td>\n",
       "      <td>16S_rRNA::ATWA01000156.1:0-1245(-)</td>\n",
       "      <td>100.0</td>\n",
       "      <td>1244</td>\n",
       "      <td>0</td>\n",
       "      <td>0</td>\n",
       "      <td>1</td>\n",
       "      <td>1244</td>\n",
       "      <td>1</td>\n",
       "      <td>1245</td>\n",
       "      <td>-1</td>\n",
       "      <td>0</td>\n",
       "      <td>1244</td>\n",
       "      <td>1.0</td>\n",
       "      <td>ATWA01000156.1</td>\n",
       "      <td>GCA_000421005.1_genomic</td>\n",
       "    </tr>\n",
       "    <tr>\n",
       "      <th>887</th>\n",
       "      <td>HE681338.1.1507</td>\n",
       "      <td>16S_rRNA::AZKM01000010.1:338-1852(+)</td>\n",
       "      <td>99.5</td>\n",
       "      <td>1507</td>\n",
       "      <td>7</td>\n",
       "      <td>0</td>\n",
       "      <td>1</td>\n",
       "      <td>1507</td>\n",
       "      <td>1</td>\n",
       "      <td>1514</td>\n",
       "      <td>-1</td>\n",
       "      <td>0</td>\n",
       "      <td>1507</td>\n",
       "      <td>1.0</td>\n",
       "      <td>AZKM01000010.1</td>\n",
       "      <td>GCA_000510425.1_genomic</td>\n",
       "    </tr>\n",
       "  </tbody>\n",
       "</table>\n",
       "</div>"
      ],
      "text/plain": [
       "                    query_id                                 refer_id  \\\n",
       "26           AJ239289.1.1355     16S_rRNA::ADBE01000137.1:300-1836(+)   \n",
       "1028  CP007065.253054.254560  16S_rRNA::AABF01000026.1:18737-20251(+)   \n",
       "504          JX424767.1.1450    16S_rRNA::CAPI01000044.1:3321-4819(-)   \n",
       "2086     ATWA01000156.1.1244       16S_rRNA::ATWA01000156.1:0-1245(-)   \n",
       "887          HE681338.1.1507     16S_rRNA::AZKM01000010.1:338-1852(+)   \n",
       "\n",
       "      identity  alignment_length  mismatches  gap_openings  q.start  q.end  \\\n",
       "26       100.0              1355           0             0        1   1355   \n",
       "1028      99.7              1507           4             0        1   1507   \n",
       "504       99.9              1450           1             0        1   1450   \n",
       "2086     100.0              1244           0             0        1   1244   \n",
       "887       99.5              1507           7             0        1   1507   \n",
       "\n",
       "      s.start  s.end  e-value  bit_score  length  coverage           refer  \\\n",
       "26          1   1536       -1          0    1355       1.0  ADBE01000137.1   \n",
       "1028        1   1514       -1          0    1507       1.0  AABF01000026.1   \n",
       "504         1   1498       -1          0    1450       1.0  CAPI01000044.1   \n",
       "2086        1   1245       -1          0    1244       1.0  ATWA01000156.1   \n",
       "887         1   1514       -1          0    1507       1.0  AZKM01000010.1   \n",
       "\n",
       "                    genome_id  \n",
       "26    GCA_000176735.1_genomic  \n",
       "1028  GCA_000182945.1_genomic  \n",
       "504   GCA_000333815.1_genomic  \n",
       "2086  GCA_000421005.1_genomic  \n",
       "887   GCA_000510425.1_genomic  "
      ]
     },
     "execution_count": 310,
     "metadata": {},
     "output_type": "execute_result"
    }
   ],
   "source": [
    "vsearch_out.head()"
   ]
  },
  {
   "cell_type": "code",
   "execution_count": 365,
   "id": "1e6735d1-80bd-4068-8bc5-5cf2acbbc0b3",
   "metadata": {},
   "outputs": [],
   "source": [
    "vsearch_out[\"query_id\"] = [id_mapping[i] for i in vsearch_out.query_id.values]"
   ]
  },
  {
   "cell_type": "code",
   "execution_count": 366,
   "id": "3c123769-4872-4cbf-91b7-98471be64920",
   "metadata": {},
   "outputs": [],
   "source": [
    "vsearch_out.to_csv(\"/home/dongbiao/word_embedding_microbiome/HGT/results/vsearch_res.csv\", index=None)"
   ]
  },
  {
   "cell_type": "code",
   "execution_count": 367,
   "id": "92cfd2cd-3847-42ab-a8f0-af1a414f9815",
   "metadata": {},
   "outputs": [
    {
     "data": {
      "text/plain": [
       "1001"
      ]
     },
     "execution_count": 367,
     "metadata": {},
     "output_type": "execute_result"
    }
   ],
   "source": [
    "len(vsearch_out.genome_id.unique())"
   ]
  },
  {
   "cell_type": "code",
   "execution_count": 313,
   "id": "9a7edcaf-ae47-401b-a84b-2ddbb95b26c4",
   "metadata": {},
   "outputs": [],
   "source": [
    "genome_fid = {}\n",
    "for i in range(vsearch_out.shape[0]):\n",
    "    temp = vsearch_out.iloc[i].values\n",
    "    genome_fid[temp[1]] = temp[0]"
   ]
  },
  {
   "cell_type": "code",
   "execution_count": 314,
   "id": "549e6782-e7a4-4173-8163-345b67096573",
   "metadata": {},
   "outputs": [
    {
     "data": {
      "text/plain": [
       "1001"
      ]
     },
     "execution_count": 314,
     "metadata": {},
     "output_type": "execute_result"
    }
   ],
   "source": [
    "len(genome_fid)"
   ]
  },
  {
   "cell_type": "code",
   "execution_count": 315,
   "id": "57870783-f971-4b50-b9d2-a7d0ce3c04ad",
   "metadata": {},
   "outputs": [],
   "source": [
    "# 保存为 JSON 文件\n",
    "with open(\"/home/dongbiao/word_embedding_microbiome/HGT/results/genome_fid.json\", \"w\") as f:\n",
    "    json.dump(genome_fid, f, indent=4)  # indent 用于美化输出"
   ]
  },
  {
   "cell_type": "code",
   "execution_count": 336,
   "id": "ce410c57-d041-47b8-92b1-d25ce6547aea",
   "metadata": {},
   "outputs": [
    {
     "data": {
      "text/html": [
       "<div>\n",
       "<style scoped>\n",
       "    .dataframe tbody tr th:only-of-type {\n",
       "        vertical-align: middle;\n",
       "    }\n",
       "\n",
       "    .dataframe tbody tr th {\n",
       "        vertical-align: top;\n",
       "    }\n",
       "\n",
       "    .dataframe thead th {\n",
       "        text-align: right;\n",
       "    }\n",
       "</style>\n",
       "<table border=\"1\" class=\"dataframe\">\n",
       "  <thead>\n",
       "    <tr style=\"text-align: right;\">\n",
       "      <th></th>\n",
       "      <th>query_id</th>\n",
       "      <th>refer_id</th>\n",
       "      <th>identity</th>\n",
       "      <th>alignment_length</th>\n",
       "      <th>mismatches</th>\n",
       "      <th>gap_openings</th>\n",
       "      <th>q.start</th>\n",
       "      <th>q.end</th>\n",
       "      <th>s.start</th>\n",
       "      <th>s.end</th>\n",
       "      <th>e-value</th>\n",
       "      <th>bit_score</th>\n",
       "      <th>length</th>\n",
       "      <th>coverage</th>\n",
       "      <th>refer</th>\n",
       "      <th>genome_id</th>\n",
       "    </tr>\n",
       "  </thead>\n",
       "  <tbody>\n",
       "    <tr>\n",
       "      <th>26</th>\n",
       "      <td>AJ239289.1.1355</td>\n",
       "      <td>16S_rRNA::ADBE01000137.1:300-1836(+)</td>\n",
       "      <td>100.0</td>\n",
       "      <td>1355</td>\n",
       "      <td>0</td>\n",
       "      <td>0</td>\n",
       "      <td>1</td>\n",
       "      <td>1355</td>\n",
       "      <td>1</td>\n",
       "      <td>1536</td>\n",
       "      <td>-1</td>\n",
       "      <td>0</td>\n",
       "      <td>1355</td>\n",
       "      <td>1.0</td>\n",
       "      <td>ADBE01000137.1</td>\n",
       "      <td>GCA_000176735.1_genomic</td>\n",
       "    </tr>\n",
       "    <tr>\n",
       "      <th>1028</th>\n",
       "      <td>CP007065.253054.254560</td>\n",
       "      <td>16S_rRNA::AABF01000026.1:18737-20251(+)</td>\n",
       "      <td>99.7</td>\n",
       "      <td>1507</td>\n",
       "      <td>4</td>\n",
       "      <td>0</td>\n",
       "      <td>1</td>\n",
       "      <td>1507</td>\n",
       "      <td>1</td>\n",
       "      <td>1514</td>\n",
       "      <td>-1</td>\n",
       "      <td>0</td>\n",
       "      <td>1507</td>\n",
       "      <td>1.0</td>\n",
       "      <td>AABF01000026.1</td>\n",
       "      <td>GCA_000182945.1_genomic</td>\n",
       "    </tr>\n",
       "    <tr>\n",
       "      <th>504</th>\n",
       "      <td>JX424767.1.1450</td>\n",
       "      <td>16S_rRNA::CAPI01000044.1:3321-4819(-)</td>\n",
       "      <td>99.9</td>\n",
       "      <td>1450</td>\n",
       "      <td>1</td>\n",
       "      <td>0</td>\n",
       "      <td>1</td>\n",
       "      <td>1450</td>\n",
       "      <td>1</td>\n",
       "      <td>1498</td>\n",
       "      <td>-1</td>\n",
       "      <td>0</td>\n",
       "      <td>1450</td>\n",
       "      <td>1.0</td>\n",
       "      <td>CAPI01000044.1</td>\n",
       "      <td>GCA_000333815.1_genomic</td>\n",
       "    </tr>\n",
       "    <tr>\n",
       "      <th>2086</th>\n",
       "      <td>ATWA01000156.1.1244</td>\n",
       "      <td>16S_rRNA::ATWA01000156.1:0-1245(-)</td>\n",
       "      <td>100.0</td>\n",
       "      <td>1244</td>\n",
       "      <td>0</td>\n",
       "      <td>0</td>\n",
       "      <td>1</td>\n",
       "      <td>1244</td>\n",
       "      <td>1</td>\n",
       "      <td>1245</td>\n",
       "      <td>-1</td>\n",
       "      <td>0</td>\n",
       "      <td>1244</td>\n",
       "      <td>1.0</td>\n",
       "      <td>ATWA01000156.1</td>\n",
       "      <td>GCA_000421005.1_genomic</td>\n",
       "    </tr>\n",
       "    <tr>\n",
       "      <th>887</th>\n",
       "      <td>HE681338.1.1507</td>\n",
       "      <td>16S_rRNA::AZKM01000010.1:338-1852(+)</td>\n",
       "      <td>99.5</td>\n",
       "      <td>1507</td>\n",
       "      <td>7</td>\n",
       "      <td>0</td>\n",
       "      <td>1</td>\n",
       "      <td>1507</td>\n",
       "      <td>1</td>\n",
       "      <td>1514</td>\n",
       "      <td>-1</td>\n",
       "      <td>0</td>\n",
       "      <td>1507</td>\n",
       "      <td>1.0</td>\n",
       "      <td>AZKM01000010.1</td>\n",
       "      <td>GCA_000510425.1_genomic</td>\n",
       "    </tr>\n",
       "    <tr>\n",
       "      <th>...</th>\n",
       "      <td>...</td>\n",
       "      <td>...</td>\n",
       "      <td>...</td>\n",
       "      <td>...</td>\n",
       "      <td>...</td>\n",
       "      <td>...</td>\n",
       "      <td>...</td>\n",
       "      <td>...</td>\n",
       "      <td>...</td>\n",
       "      <td>...</td>\n",
       "      <td>...</td>\n",
       "      <td>...</td>\n",
       "      <td>...</td>\n",
       "      <td>...</td>\n",
       "      <td>...</td>\n",
       "      <td>...</td>\n",
       "    </tr>\n",
       "    <tr>\n",
       "      <th>2097</th>\n",
       "      <td>ATCH01000005.67148.68647</td>\n",
       "      <td>16S_rRNA::NZ_OX424407.1:625367-626876(-)</td>\n",
       "      <td>99.7</td>\n",
       "      <td>1500</td>\n",
       "      <td>4</td>\n",
       "      <td>0</td>\n",
       "      <td>1</td>\n",
       "      <td>1500</td>\n",
       "      <td>1</td>\n",
       "      <td>1509</td>\n",
       "      <td>-1</td>\n",
       "      <td>0</td>\n",
       "      <td>1500</td>\n",
       "      <td>1.0</td>\n",
       "      <td>NZ_OX424407.1</td>\n",
       "      <td>GCF_949152215.1_genomic</td>\n",
       "    </tr>\n",
       "    <tr>\n",
       "      <th>987</th>\n",
       "      <td>JF920339.1.1383</td>\n",
       "      <td>16S_rRNA::NZ_CASCJC010000001.1:128146-129705(+)</td>\n",
       "      <td>99.2</td>\n",
       "      <td>1383</td>\n",
       "      <td>11</td>\n",
       "      <td>0</td>\n",
       "      <td>1</td>\n",
       "      <td>1383</td>\n",
       "      <td>1</td>\n",
       "      <td>1559</td>\n",
       "      <td>-1</td>\n",
       "      <td>0</td>\n",
       "      <td>1383</td>\n",
       "      <td>1.0</td>\n",
       "      <td>NZ_CASCJC010000001.1</td>\n",
       "      <td>GCF_949152225.1_genomic</td>\n",
       "    </tr>\n",
       "    <tr>\n",
       "      <th>1509</th>\n",
       "      <td>KF564570.1.1498</td>\n",
       "      <td>16S_rRNA::NZ_CATNVC010000030.1:3669-5204(-)</td>\n",
       "      <td>99.8</td>\n",
       "      <td>1498</td>\n",
       "      <td>3</td>\n",
       "      <td>0</td>\n",
       "      <td>1</td>\n",
       "      <td>1498</td>\n",
       "      <td>1</td>\n",
       "      <td>1535</td>\n",
       "      <td>-1</td>\n",
       "      <td>0</td>\n",
       "      <td>1498</td>\n",
       "      <td>1.0</td>\n",
       "      <td>NZ_CATNVC010000030.1</td>\n",
       "      <td>GCF_951230135.1_genomic</td>\n",
       "    </tr>\n",
       "    <tr>\n",
       "      <th>803</th>\n",
       "      <td>AF192152.1.1542</td>\n",
       "      <td>16S_rRNA::NZ_OX636706.1:1521468-1523014(+)</td>\n",
       "      <td>99.6</td>\n",
       "      <td>1542</td>\n",
       "      <td>6</td>\n",
       "      <td>0</td>\n",
       "      <td>1</td>\n",
       "      <td>1542</td>\n",
       "      <td>1</td>\n",
       "      <td>1546</td>\n",
       "      <td>-1</td>\n",
       "      <td>0</td>\n",
       "      <td>1542</td>\n",
       "      <td>1.0</td>\n",
       "      <td>NZ_OX636706.1</td>\n",
       "      <td>GCF_951793255.1_genomic</td>\n",
       "    </tr>\n",
       "    <tr>\n",
       "      <th>1058</th>\n",
       "      <td>GQ014737.1.1357</td>\n",
       "      <td>16S_rRNA::NZ_CATQJU010000001.1:1496095-1497621(+)</td>\n",
       "      <td>99.5</td>\n",
       "      <td>1357</td>\n",
       "      <td>7</td>\n",
       "      <td>0</td>\n",
       "      <td>1</td>\n",
       "      <td>1357</td>\n",
       "      <td>1</td>\n",
       "      <td>1526</td>\n",
       "      <td>-1</td>\n",
       "      <td>0</td>\n",
       "      <td>1357</td>\n",
       "      <td>1.0</td>\n",
       "      <td>NZ_CATQJU010000001.1</td>\n",
       "      <td>GCF_958301595.1_genomic</td>\n",
       "    </tr>\n",
       "  </tbody>\n",
       "</table>\n",
       "<p>1001 rows × 16 columns</p>\n",
       "</div>"
      ],
      "text/plain": [
       "                      query_id  \\\n",
       "26             AJ239289.1.1355   \n",
       "1028    CP007065.253054.254560   \n",
       "504            JX424767.1.1450   \n",
       "2086       ATWA01000156.1.1244   \n",
       "887            HE681338.1.1507   \n",
       "...                        ...   \n",
       "2097  ATCH01000005.67148.68647   \n",
       "987            JF920339.1.1383   \n",
       "1509           KF564570.1.1498   \n",
       "803            AF192152.1.1542   \n",
       "1058           GQ014737.1.1357   \n",
       "\n",
       "                                               refer_id  identity  \\\n",
       "26                 16S_rRNA::ADBE01000137.1:300-1836(+)     100.0   \n",
       "1028            16S_rRNA::AABF01000026.1:18737-20251(+)      99.7   \n",
       "504               16S_rRNA::CAPI01000044.1:3321-4819(-)      99.9   \n",
       "2086                 16S_rRNA::ATWA01000156.1:0-1245(-)     100.0   \n",
       "887                16S_rRNA::AZKM01000010.1:338-1852(+)      99.5   \n",
       "...                                                 ...       ...   \n",
       "2097           16S_rRNA::NZ_OX424407.1:625367-626876(-)      99.7   \n",
       "987     16S_rRNA::NZ_CASCJC010000001.1:128146-129705(+)      99.2   \n",
       "1509        16S_rRNA::NZ_CATNVC010000030.1:3669-5204(-)      99.8   \n",
       "803          16S_rRNA::NZ_OX636706.1:1521468-1523014(+)      99.6   \n",
       "1058  16S_rRNA::NZ_CATQJU010000001.1:1496095-1497621(+)      99.5   \n",
       "\n",
       "      alignment_length  mismatches  gap_openings  q.start  q.end  s.start  \\\n",
       "26                1355           0             0        1   1355        1   \n",
       "1028              1507           4             0        1   1507        1   \n",
       "504               1450           1             0        1   1450        1   \n",
       "2086              1244           0             0        1   1244        1   \n",
       "887               1507           7             0        1   1507        1   \n",
       "...                ...         ...           ...      ...    ...      ...   \n",
       "2097              1500           4             0        1   1500        1   \n",
       "987               1383          11             0        1   1383        1   \n",
       "1509              1498           3             0        1   1498        1   \n",
       "803               1542           6             0        1   1542        1   \n",
       "1058              1357           7             0        1   1357        1   \n",
       "\n",
       "      s.end  e-value  bit_score  length  coverage                 refer  \\\n",
       "26     1536       -1          0    1355       1.0        ADBE01000137.1   \n",
       "1028   1514       -1          0    1507       1.0        AABF01000026.1   \n",
       "504    1498       -1          0    1450       1.0        CAPI01000044.1   \n",
       "2086   1245       -1          0    1244       1.0        ATWA01000156.1   \n",
       "887    1514       -1          0    1507       1.0        AZKM01000010.1   \n",
       "...     ...      ...        ...     ...       ...                   ...   \n",
       "2097   1509       -1          0    1500       1.0         NZ_OX424407.1   \n",
       "987    1559       -1          0    1383       1.0  NZ_CASCJC010000001.1   \n",
       "1509   1535       -1          0    1498       1.0  NZ_CATNVC010000030.1   \n",
       "803    1546       -1          0    1542       1.0         NZ_OX636706.1   \n",
       "1058   1526       -1          0    1357       1.0  NZ_CATQJU010000001.1   \n",
       "\n",
       "                    genome_id  \n",
       "26    GCA_000176735.1_genomic  \n",
       "1028  GCA_000182945.1_genomic  \n",
       "504   GCA_000333815.1_genomic  \n",
       "2086  GCA_000421005.1_genomic  \n",
       "887   GCA_000510425.1_genomic  \n",
       "...                       ...  \n",
       "2097  GCF_949152215.1_genomic  \n",
       "987   GCF_949152225.1_genomic  \n",
       "1509  GCF_951230135.1_genomic  \n",
       "803   GCF_951793255.1_genomic  \n",
       "1058  GCF_958301595.1_genomic  \n",
       "\n",
       "[1001 rows x 16 columns]"
      ]
     },
     "execution_count": 336,
     "metadata": {},
     "output_type": "execute_result"
    }
   ],
   "source": [
    "vsearch_out"
   ]
  },
  {
   "cell_type": "code",
   "execution_count": 368,
   "id": "97d7860b-2ac9-4eb6-8898-b627083c65fa",
   "metadata": {},
   "outputs": [],
   "source": [
    "genome_fid = {}\n",
    "for i in range(vsearch_out.shape[0]):\n",
    "    temp = vsearch_out.iloc[i].values\n",
    "    genome_fid[temp[15]] = temp[0]"
   ]
  },
  {
   "cell_type": "code",
   "execution_count": 339,
   "id": "0b6cdab9-5916-465e-aeba-b2f919c4ac7f",
   "metadata": {},
   "outputs": [],
   "source": [
    "id_genome = {}\n",
    "for i in range(vsearch_out.shape[0]):\n",
    "    temp = vsearch_out.iloc[i].values\n",
    "    id_genome[temp[14]] = temp[15]"
   ]
  },
  {
   "cell_type": "markdown",
   "id": "692f4519-15aa-4953-b562-7d5f6c6564aa",
   "metadata": {},
   "source": [
    "### 16S identity"
   ]
  },
  {
   "cell_type": "code",
   "execution_count": 320,
   "id": "51d9260f-de15-4c6c-bdeb-9caf9c9be63a",
   "metadata": {
    "scrolled": true
   },
   "outputs": [],
   "source": [
    "with open(\"/home/dongbiao/word_embedding_microbiome/HGT/16S/identity_matrix.txt\", \"r\") as file:\n",
    "    data = file.readlines()\n",
    "value = []\n",
    "genome_id = []\n",
    "for line in data:\n",
    "    genome_id.append(line.split(\" \")[0])\n",
    "    temp = line.split(\"\\n\")[0].split(\" \")[1:]\n",
    "    temp = [float(item) for item in temp if item != \"\"]\n",
    "    value.append(temp)"
   ]
  },
  {
   "cell_type": "code",
   "execution_count": 324,
   "id": "fb591072-63ee-4d77-b039-54a31df03d27",
   "metadata": {},
   "outputs": [],
   "source": [
    "identity_table = pd.DataFrame(data=value[1:], index=genome_id[1:], columns=genome_id[1:])\n",
    "identity_table = identity_table.loc[vsearch_out.refer.values, vsearch_out.refer.values]"
   ]
  },
  {
   "cell_type": "code",
   "execution_count": 325,
   "id": "31df0db4-5433-4432-bf92-b64fa1bc8891",
   "metadata": {},
   "outputs": [
    {
     "data": {
      "text/html": [
       "<div>\n",
       "<style scoped>\n",
       "    .dataframe tbody tr th:only-of-type {\n",
       "        vertical-align: middle;\n",
       "    }\n",
       "\n",
       "    .dataframe tbody tr th {\n",
       "        vertical-align: top;\n",
       "    }\n",
       "\n",
       "    .dataframe thead th {\n",
       "        text-align: right;\n",
       "    }\n",
       "</style>\n",
       "<table border=\"1\" class=\"dataframe\">\n",
       "  <thead>\n",
       "    <tr style=\"text-align: right;\">\n",
       "      <th></th>\n",
       "      <th>ADBE01000137.1</th>\n",
       "      <th>AABF01000026.1</th>\n",
       "      <th>CAPI01000044.1</th>\n",
       "      <th>ATWA01000156.1</th>\n",
       "      <th>AZKM01000010.1</th>\n",
       "      <th>BAJA01000095.1</th>\n",
       "      <th>BAJX01000046.1</th>\n",
       "      <th>JMMB01000007.1</th>\n",
       "      <th>JRQN01000027.1</th>\n",
       "      <th>LDAQ01000152.1</th>\n",
       "      <th>...</th>\n",
       "      <th>NZ_CAKMRU010000001.1</th>\n",
       "      <th>NZ_CAKMSR010000027.1</th>\n",
       "      <th>NZ_OW711693.1</th>\n",
       "      <th>NZ_CALPCV010000064.1</th>\n",
       "      <th>NZ_CANOOQ010000001.1</th>\n",
       "      <th>NZ_OX424407.1</th>\n",
       "      <th>NZ_CASCJC010000001.1</th>\n",
       "      <th>NZ_CATNVC010000030.1</th>\n",
       "      <th>NZ_OX636706.1</th>\n",
       "      <th>NZ_CATQJU010000001.1</th>\n",
       "    </tr>\n",
       "  </thead>\n",
       "  <tbody>\n",
       "    <tr>\n",
       "      <th>ADBE01000137.1</th>\n",
       "      <td>100.000000</td>\n",
       "      <td>74.042273</td>\n",
       "      <td>71.762347</td>\n",
       "      <td>79.598391</td>\n",
       "      <td>74.306470</td>\n",
       "      <td>69.894600</td>\n",
       "      <td>69.548136</td>\n",
       "      <td>76.066667</td>\n",
       "      <td>74.544269</td>\n",
       "      <td>75.751632</td>\n",
       "      <td>...</td>\n",
       "      <td>73.784494</td>\n",
       "      <td>74.885243</td>\n",
       "      <td>74.191421</td>\n",
       "      <td>84.635419</td>\n",
       "      <td>76.730388</td>\n",
       "      <td>74.287605</td>\n",
       "      <td>75.976562</td>\n",
       "      <td>75.179154</td>\n",
       "      <td>77.604169</td>\n",
       "      <td>69.134992</td>\n",
       "    </tr>\n",
       "    <tr>\n",
       "      <th>AABF01000026.1</th>\n",
       "      <td>74.042273</td>\n",
       "      <td>100.000000</td>\n",
       "      <td>72.029370</td>\n",
       "      <td>78.955823</td>\n",
       "      <td>72.258919</td>\n",
       "      <td>71.003962</td>\n",
       "      <td>70.673710</td>\n",
       "      <td>76.133335</td>\n",
       "      <td>76.816380</td>\n",
       "      <td>78.137386</td>\n",
       "      <td>...</td>\n",
       "      <td>76.221931</td>\n",
       "      <td>75.627476</td>\n",
       "      <td>75.033027</td>\n",
       "      <td>72.457069</td>\n",
       "      <td>75.891680</td>\n",
       "      <td>73.426110</td>\n",
       "      <td>76.221931</td>\n",
       "      <td>74.900925</td>\n",
       "      <td>73.910171</td>\n",
       "      <td>70.079261</td>\n",
       "    </tr>\n",
       "    <tr>\n",
       "      <th>CAPI01000044.1</th>\n",
       "      <td>71.762347</td>\n",
       "      <td>72.029370</td>\n",
       "      <td>100.000000</td>\n",
       "      <td>76.706827</td>\n",
       "      <td>74.432576</td>\n",
       "      <td>68.758345</td>\n",
       "      <td>69.092125</td>\n",
       "      <td>74.365819</td>\n",
       "      <td>73.765022</td>\n",
       "      <td>74.699599</td>\n",
       "      <td>...</td>\n",
       "      <td>73.965287</td>\n",
       "      <td>78.170896</td>\n",
       "      <td>73.564756</td>\n",
       "      <td>72.563416</td>\n",
       "      <td>75.233644</td>\n",
       "      <td>85.380507</td>\n",
       "      <td>74.432576</td>\n",
       "      <td>76.969290</td>\n",
       "      <td>75.033379</td>\n",
       "      <td>67.289722</td>\n",
       "    </tr>\n",
       "    <tr>\n",
       "      <th>ATWA01000156.1</th>\n",
       "      <td>79.598391</td>\n",
       "      <td>78.955823</td>\n",
       "      <td>76.706827</td>\n",
       "      <td>100.000000</td>\n",
       "      <td>80.481929</td>\n",
       "      <td>74.216866</td>\n",
       "      <td>73.574299</td>\n",
       "      <td>83.453816</td>\n",
       "      <td>82.409638</td>\n",
       "      <td>85.301203</td>\n",
       "      <td>...</td>\n",
       "      <td>80.642569</td>\n",
       "      <td>81.124496</td>\n",
       "      <td>82.971889</td>\n",
       "      <td>78.795183</td>\n",
       "      <td>84.337348</td>\n",
       "      <td>80.321288</td>\n",
       "      <td>83.614457</td>\n",
       "      <td>88.112450</td>\n",
       "      <td>79.839355</td>\n",
       "      <td>72.610444</td>\n",
       "    </tr>\n",
       "    <tr>\n",
       "      <th>AZKM01000010.1</th>\n",
       "      <td>74.306470</td>\n",
       "      <td>72.258919</td>\n",
       "      <td>74.432576</td>\n",
       "      <td>80.481929</td>\n",
       "      <td>100.000000</td>\n",
       "      <td>71.598417</td>\n",
       "      <td>71.532363</td>\n",
       "      <td>83.066666</td>\n",
       "      <td>77.410835</td>\n",
       "      <td>80.845445</td>\n",
       "      <td>...</td>\n",
       "      <td>78.533685</td>\n",
       "      <td>76.486129</td>\n",
       "      <td>80.911493</td>\n",
       "      <td>72.721267</td>\n",
       "      <td>77.542931</td>\n",
       "      <td>76.872098</td>\n",
       "      <td>77.542931</td>\n",
       "      <td>78.863937</td>\n",
       "      <td>75.231177</td>\n",
       "      <td>69.815058</td>\n",
       "    </tr>\n",
       "  </tbody>\n",
       "</table>\n",
       "<p>5 rows × 1001 columns</p>\n",
       "</div>"
      ],
      "text/plain": [
       "                ADBE01000137.1  AABF01000026.1  CAPI01000044.1  \\\n",
       "ADBE01000137.1      100.000000       74.042273       71.762347   \n",
       "AABF01000026.1       74.042273      100.000000       72.029370   \n",
       "CAPI01000044.1       71.762347       72.029370      100.000000   \n",
       "ATWA01000156.1       79.598391       78.955823       76.706827   \n",
       "AZKM01000010.1       74.306470       72.258919       74.432576   \n",
       "\n",
       "                ATWA01000156.1  AZKM01000010.1  BAJA01000095.1  \\\n",
       "ADBE01000137.1       79.598391       74.306470       69.894600   \n",
       "AABF01000026.1       78.955823       72.258919       71.003962   \n",
       "CAPI01000044.1       76.706827       74.432576       68.758345   \n",
       "ATWA01000156.1      100.000000       80.481929       74.216866   \n",
       "AZKM01000010.1       80.481929      100.000000       71.598417   \n",
       "\n",
       "                BAJX01000046.1  JMMB01000007.1  JRQN01000027.1  \\\n",
       "ADBE01000137.1       69.548136       76.066667       74.544269   \n",
       "AABF01000026.1       70.673710       76.133335       76.816380   \n",
       "CAPI01000044.1       69.092125       74.365819       73.765022   \n",
       "ATWA01000156.1       73.574299       83.453816       82.409638   \n",
       "AZKM01000010.1       71.532363       83.066666       77.410835   \n",
       "\n",
       "                LDAQ01000152.1  ...  NZ_CAKMRU010000001.1  \\\n",
       "ADBE01000137.1       75.751632  ...             73.784494   \n",
       "AABF01000026.1       78.137386  ...             76.221931   \n",
       "CAPI01000044.1       74.699599  ...             73.965287   \n",
       "ATWA01000156.1       85.301203  ...             80.642569   \n",
       "AZKM01000010.1       80.845445  ...             78.533685   \n",
       "\n",
       "                NZ_CAKMSR010000027.1  NZ_OW711693.1  NZ_CALPCV010000064.1  \\\n",
       "ADBE01000137.1             74.885243      74.191421             84.635419   \n",
       "AABF01000026.1             75.627476      75.033027             72.457069   \n",
       "CAPI01000044.1             78.170896      73.564756             72.563416   \n",
       "ATWA01000156.1             81.124496      82.971889             78.795183   \n",
       "AZKM01000010.1             76.486129      80.911493             72.721267   \n",
       "\n",
       "                NZ_CANOOQ010000001.1  NZ_OX424407.1  NZ_CASCJC010000001.1  \\\n",
       "ADBE01000137.1             76.730388      74.287605             75.976562   \n",
       "AABF01000026.1             75.891680      73.426110             76.221931   \n",
       "CAPI01000044.1             75.233644      85.380507             74.432576   \n",
       "ATWA01000156.1             84.337348      80.321288             83.614457   \n",
       "AZKM01000010.1             77.542931      76.872098             77.542931   \n",
       "\n",
       "                NZ_CATNVC010000030.1  NZ_OX636706.1  NZ_CATQJU010000001.1  \n",
       "ADBE01000137.1             75.179154      77.604169             69.134992  \n",
       "AABF01000026.1             74.900925      73.910171             70.079261  \n",
       "CAPI01000044.1             76.969290      75.033379             67.289722  \n",
       "ATWA01000156.1             88.112450      79.839355             72.610444  \n",
       "AZKM01000010.1             78.863937      75.231177             69.815058  \n",
       "\n",
       "[5 rows x 1001 columns]"
      ]
     },
     "execution_count": 325,
     "metadata": {},
     "output_type": "execute_result"
    }
   ],
   "source": [
    "identity_table.head()"
   ]
  },
  {
   "cell_type": "code",
   "execution_count": 326,
   "id": "b77e692d-da36-47a6-bf93-7c76138f0ac3",
   "metadata": {},
   "outputs": [],
   "source": [
    "upper_triangle = np.triu(identity_table, k=1)\n",
    "upper_triangle = pd.DataFrame(data=upper_triangle, index=identity_table.index, columns=identity_table.index)\n",
    "upper_triangle['id_1'] = upper_triangle.index.tolist()\n",
    "upper_triangle = pd.melt(upper_triangle, id_vars=\"id_1\")\n",
    "upper_triangle = upper_triangle.loc[upper_triangle.value != 0]\n",
    "upper_triangle.columns = [\"id_1\", \"id_2\", \"identity\"]"
   ]
  },
  {
   "cell_type": "code",
   "execution_count": 327,
   "id": "acb6677d-05cf-4a45-9e0f-d66cc98d29f6",
   "metadata": {},
   "outputs": [],
   "source": [
    "upper_triangle = upper_triangle.loc[upper_triangle.identity < 97]"
   ]
  },
  {
   "cell_type": "code",
   "execution_count": 328,
   "id": "4f6a0a8c-5700-41c5-84a2-467069d9b4f4",
   "metadata": {},
   "outputs": [
    {
     "data": {
      "text/html": [
       "<div>\n",
       "<style scoped>\n",
       "    .dataframe tbody tr th:only-of-type {\n",
       "        vertical-align: middle;\n",
       "    }\n",
       "\n",
       "    .dataframe tbody tr th {\n",
       "        vertical-align: top;\n",
       "    }\n",
       "\n",
       "    .dataframe thead th {\n",
       "        text-align: right;\n",
       "    }\n",
       "</style>\n",
       "<table border=\"1\" class=\"dataframe\">\n",
       "  <thead>\n",
       "    <tr style=\"text-align: right;\">\n",
       "      <th></th>\n",
       "      <th>id_1</th>\n",
       "      <th>id_2</th>\n",
       "      <th>identity</th>\n",
       "    </tr>\n",
       "  </thead>\n",
       "  <tbody>\n",
       "    <tr>\n",
       "      <th>1001</th>\n",
       "      <td>ADBE01000137.1</td>\n",
       "      <td>AABF01000026.1</td>\n",
       "      <td>74.042273</td>\n",
       "    </tr>\n",
       "    <tr>\n",
       "      <th>2002</th>\n",
       "      <td>ADBE01000137.1</td>\n",
       "      <td>CAPI01000044.1</td>\n",
       "      <td>71.762347</td>\n",
       "    </tr>\n",
       "    <tr>\n",
       "      <th>2003</th>\n",
       "      <td>AABF01000026.1</td>\n",
       "      <td>CAPI01000044.1</td>\n",
       "      <td>72.029370</td>\n",
       "    </tr>\n",
       "    <tr>\n",
       "      <th>3003</th>\n",
       "      <td>ADBE01000137.1</td>\n",
       "      <td>ATWA01000156.1</td>\n",
       "      <td>79.598391</td>\n",
       "    </tr>\n",
       "    <tr>\n",
       "      <th>3004</th>\n",
       "      <td>AABF01000026.1</td>\n",
       "      <td>ATWA01000156.1</td>\n",
       "      <td>78.955823</td>\n",
       "    </tr>\n",
       "  </tbody>\n",
       "</table>\n",
       "</div>"
      ],
      "text/plain": [
       "                id_1            id_2   identity\n",
       "1001  ADBE01000137.1  AABF01000026.1  74.042273\n",
       "2002  ADBE01000137.1  CAPI01000044.1  71.762347\n",
       "2003  AABF01000026.1  CAPI01000044.1  72.029370\n",
       "3003  ADBE01000137.1  ATWA01000156.1  79.598391\n",
       "3004  AABF01000026.1  ATWA01000156.1  78.955823"
      ]
     },
     "execution_count": 328,
     "metadata": {},
     "output_type": "execute_result"
    }
   ],
   "source": [
    "upper_triangle.head()"
   ]
  },
  {
   "cell_type": "code",
   "execution_count": 340,
   "id": "1b004b60-5546-4fb1-a4f0-b3bc45e6e420",
   "metadata": {},
   "outputs": [],
   "source": [
    "genome_id_1 = []\n",
    "genome_id_2 = []\n",
    "for i in range(upper_triangle.shape[0]):\n",
    "    temp = upper_triangle.iloc[i].values\n",
    "    genome_id_1.append(id_genome[temp[0]])\n",
    "    genome_id_2.append(id_genome[temp[1]])"
   ]
  },
  {
   "cell_type": "code",
   "execution_count": 341,
   "id": "153ecc9a-b48f-4797-9b8f-f37a153d402c",
   "metadata": {},
   "outputs": [],
   "source": [
    "genome_pairs = pd.DataFrame({\"id_1\":genome_id_1, \"id_2\":genome_id_2})"
   ]
  },
  {
   "cell_type": "code",
   "execution_count": 342,
   "id": "6f127fc3-4f20-4ab4-ae5a-b254667039ec",
   "metadata": {},
   "outputs": [
    {
     "data": {
      "text/plain": [
       "(499166, 2)"
      ]
     },
     "execution_count": 342,
     "metadata": {},
     "output_type": "execute_result"
    }
   ],
   "source": [
    "genome_pairs.shape"
   ]
  },
  {
   "cell_type": "code",
   "execution_count": 343,
   "id": "78c74cf5-6a5e-427c-9e34-6d3aa844d690",
   "metadata": {},
   "outputs": [
    {
     "data": {
      "text/html": [
       "<div>\n",
       "<style scoped>\n",
       "    .dataframe tbody tr th:only-of-type {\n",
       "        vertical-align: middle;\n",
       "    }\n",
       "\n",
       "    .dataframe tbody tr th {\n",
       "        vertical-align: top;\n",
       "    }\n",
       "\n",
       "    .dataframe thead th {\n",
       "        text-align: right;\n",
       "    }\n",
       "</style>\n",
       "<table border=\"1\" class=\"dataframe\">\n",
       "  <thead>\n",
       "    <tr style=\"text-align: right;\">\n",
       "      <th></th>\n",
       "      <th>id_1</th>\n",
       "      <th>id_2</th>\n",
       "    </tr>\n",
       "  </thead>\n",
       "  <tbody>\n",
       "    <tr>\n",
       "      <th>0</th>\n",
       "      <td>GCA_000176735.1_genomic</td>\n",
       "      <td>GCA_000182945.1_genomic</td>\n",
       "    </tr>\n",
       "    <tr>\n",
       "      <th>1</th>\n",
       "      <td>GCA_000176735.1_genomic</td>\n",
       "      <td>GCA_000333815.1_genomic</td>\n",
       "    </tr>\n",
       "    <tr>\n",
       "      <th>2</th>\n",
       "      <td>GCA_000182945.1_genomic</td>\n",
       "      <td>GCA_000333815.1_genomic</td>\n",
       "    </tr>\n",
       "    <tr>\n",
       "      <th>3</th>\n",
       "      <td>GCA_000176735.1_genomic</td>\n",
       "      <td>GCA_000421005.1_genomic</td>\n",
       "    </tr>\n",
       "    <tr>\n",
       "      <th>4</th>\n",
       "      <td>GCA_000182945.1_genomic</td>\n",
       "      <td>GCA_000421005.1_genomic</td>\n",
       "    </tr>\n",
       "  </tbody>\n",
       "</table>\n",
       "</div>"
      ],
      "text/plain": [
       "                      id_1                     id_2\n",
       "0  GCA_000176735.1_genomic  GCA_000182945.1_genomic\n",
       "1  GCA_000176735.1_genomic  GCA_000333815.1_genomic\n",
       "2  GCA_000182945.1_genomic  GCA_000333815.1_genomic\n",
       "3  GCA_000176735.1_genomic  GCA_000421005.1_genomic\n",
       "4  GCA_000182945.1_genomic  GCA_000421005.1_genomic"
      ]
     },
     "execution_count": 343,
     "metadata": {},
     "output_type": "execute_result"
    }
   ],
   "source": [
    "genome_pairs.head()"
   ]
  },
  {
   "cell_type": "code",
   "execution_count": 344,
   "id": "414fe897-d381-42ad-a68a-a60bd85102e3",
   "metadata": {},
   "outputs": [],
   "source": [
    "genome_id = np.unique(genome_pairs.id_1.tolist() + genome_pairs.id_2.tolist())\n",
    "genome_id = pd.DataFrame({\"id\": genome_id})\n",
    "genome_id.to_csv(\"/home/dongbiao/word_embedding_microbiome/HGT/HGT_network/genome_id.txt\", index=None, header=None)"
   ]
  },
  {
   "cell_type": "code",
   "execution_count": 345,
   "id": "b6d21806-8daa-46c5-be92-20cf09b86a9c",
   "metadata": {},
   "outputs": [],
   "source": [
    "genome_pairs.to_csv(\"/home/dongbiao/word_embedding_microbiome/HGT/HGT_network/genome_pairs_vsearch.txt\", sep=\" \", index=None, header=None)"
   ]
  },
  {
   "cell_type": "markdown",
   "id": "2dd91867-9211-48d4-881d-e4dce4f14152",
   "metadata": {},
   "source": [
    "### HGT"
   ]
  },
  {
   "cell_type": "code",
   "execution_count": 420,
   "id": "bd4eee18-f8df-4404-b4b8-fe499126c92c",
   "metadata": {},
   "outputs": [],
   "source": [
    "hgt_embed = pd.read_csv(\"/home/dongbiao/word_embedding_microbiome/HGT/results/hgt.csv\")"
   ]
  },
  {
   "cell_type": "code",
   "execution_count": 421,
   "id": "504f4c67-ce08-4712-9d08-de817e576fde",
   "metadata": {},
   "outputs": [
    {
     "data": {
      "text/html": [
       "<div>\n",
       "<style scoped>\n",
       "    .dataframe tbody tr th:only-of-type {\n",
       "        vertical-align: middle;\n",
       "    }\n",
       "\n",
       "    .dataframe tbody tr th {\n",
       "        vertical-align: top;\n",
       "    }\n",
       "\n",
       "    .dataframe thead th {\n",
       "        text-align: right;\n",
       "    }\n",
       "</style>\n",
       "<table border=\"1\" class=\"dataframe\">\n",
       "  <thead>\n",
       "    <tr style=\"text-align: right;\">\n",
       "      <th></th>\n",
       "      <th>id_1</th>\n",
       "      <th>id_2</th>\n",
       "      <th>identity</th>\n",
       "      <th>cosine_co</th>\n",
       "      <th>hgt</th>\n",
       "      <th>phy_dis</th>\n",
       "    </tr>\n",
       "  </thead>\n",
       "  <tbody>\n",
       "    <tr>\n",
       "      <th>0</th>\n",
       "      <td>AJ239289.1.1355</td>\n",
       "      <td>CP007065.253054.254560</td>\n",
       "      <td>74.042273</td>\n",
       "      <td>0.386691</td>\n",
       "      <td>0</td>\n",
       "      <td>1.07411</td>\n",
       "    </tr>\n",
       "    <tr>\n",
       "      <th>1</th>\n",
       "      <td>AJ239289.1.1355</td>\n",
       "      <td>JX424767.1.1450</td>\n",
       "      <td>71.762347</td>\n",
       "      <td>-0.224302</td>\n",
       "      <td>0</td>\n",
       "      <td>1.06876</td>\n",
       "    </tr>\n",
       "    <tr>\n",
       "      <th>2</th>\n",
       "      <td>CP007065.253054.254560</td>\n",
       "      <td>JX424767.1.1450</td>\n",
       "      <td>72.029370</td>\n",
       "      <td>0.002536</td>\n",
       "      <td>0</td>\n",
       "      <td>1.04679</td>\n",
       "    </tr>\n",
       "    <tr>\n",
       "      <th>3</th>\n",
       "      <td>AJ239289.1.1355</td>\n",
       "      <td>ATWA01000156.1.1244</td>\n",
       "      <td>79.598391</td>\n",
       "      <td>-0.007625</td>\n",
       "      <td>0</td>\n",
       "      <td>1.04354</td>\n",
       "    </tr>\n",
       "    <tr>\n",
       "      <th>4</th>\n",
       "      <td>CP007065.253054.254560</td>\n",
       "      <td>ATWA01000156.1.1244</td>\n",
       "      <td>78.955823</td>\n",
       "      <td>0.303940</td>\n",
       "      <td>0</td>\n",
       "      <td>1.02157</td>\n",
       "    </tr>\n",
       "  </tbody>\n",
       "</table>\n",
       "</div>"
      ],
      "text/plain": [
       "                     id_1                    id_2   identity  cosine_co  hgt  \\\n",
       "0         AJ239289.1.1355  CP007065.253054.254560  74.042273   0.386691    0   \n",
       "1         AJ239289.1.1355         JX424767.1.1450  71.762347  -0.224302    0   \n",
       "2  CP007065.253054.254560         JX424767.1.1450  72.029370   0.002536    0   \n",
       "3         AJ239289.1.1355     ATWA01000156.1.1244  79.598391  -0.007625    0   \n",
       "4  CP007065.253054.254560     ATWA01000156.1.1244  78.955823   0.303940    0   \n",
       "\n",
       "   phy_dis  \n",
       "0  1.07411  \n",
       "1  1.06876  \n",
       "2  1.04679  \n",
       "3  1.04354  \n",
       "4  1.02157  "
      ]
     },
     "execution_count": 421,
     "metadata": {},
     "output_type": "execute_result"
    }
   ],
   "source": [
    "hgt_embed.head()"
   ]
  },
  {
   "cell_type": "code",
   "execution_count": 424,
   "id": "cc2567aa-b314-4411-9c1e-ef8a0185ad41",
   "metadata": {},
   "outputs": [],
   "source": [
    "hgt_embed = hgt_embed.loc[(hgt_embed.phy_dis < 0.5)]"
   ]
  },
  {
   "cell_type": "code",
   "execution_count": 425,
   "id": "e6c45a95-8c08-4d4a-8e91-c267c0015a66",
   "metadata": {},
   "outputs": [
    {
     "data": {
      "text/plain": [
       "(28524, 6)"
      ]
     },
     "execution_count": 425,
     "metadata": {},
     "output_type": "execute_result"
    }
   ],
   "source": [
    "hgt_embed.shape"
   ]
  },
  {
   "cell_type": "code",
   "execution_count": 426,
   "id": "fe6c0e4e-c1bc-4b9b-9d29-9e2dee845be8",
   "metadata": {},
   "outputs": [
    {
     "data": {
      "image/png": "[encoded data removed]",
      "text/plain": [
       "<Figure size 300x200 with 1 Axes>"
      ]
     },
     "metadata": {},
     "output_type": "display_data"
    }
   ],
   "source": [
    "hgt_embed_1 = hgt_embed.loc[hgt_embed.hgt == 1]\n",
    "hgt_embed_0 = hgt_embed.loc[hgt_embed.hgt == 0]\n",
    "\n",
    "plt.figure(figsize=(3, 2))\n",
    "plt.hist(hgt_embed_1.phy_dis, alpha=0.5, density=True, label='1')\n",
    "plt.hist(hgt_embed_0.phy_dis, alpha=0.5, density=True, label='0')\n",
    "\n",
    "plt.xlabel(\"Phylo distance\")\n",
    "plt.ylabel(\"Density\")\n",
    "plt.legend()  # 显示图例\n",
    "plt.show()"
   ]
  },
  {
   "cell_type": "code",
   "execution_count": 398,
   "id": "a1e4b538-fc2b-4960-aeab-9e6657dcf178",
   "metadata": {},
   "outputs": [],
   "source": [
    "hgt_embed_keep = hgt_embed.loc[hgt_embed.hgt > 0]\n",
    "# hgt_embed_keep = hgt_embed_keep.loc[hgt_embed_keep.cosine_co > 0.5]"
   ]
  },
  {
   "cell_type": "code",
   "execution_count": 399,
   "id": "973c3350-c73a-4502-8793-9a0b8db72aba",
   "metadata": {},
   "outputs": [
    {
     "data": {
      "text/plain": [
       "(4277, 6)"
      ]
     },
     "execution_count": 399,
     "metadata": {},
     "output_type": "execute_result"
    }
   ],
   "source": [
    "hgt_embed_keep.shape"
   ]
  },
  {
   "cell_type": "code",
   "execution_count": 400,
   "id": "da3ebd76-71e6-43e2-a891-1579e35629b7",
   "metadata": {},
   "outputs": [
    {
     "data": {
      "text/plain": [
       "(array([0.03368538, 0.07176451, 0.4598787 , 1.54659844, 1.81315234,\n",
       "        1.06035727, 0.61951813, 0.4437683 , 0.18307273, 0.0322208 ]),\n",
       " array([-0.61944859, -0.45980662, -0.30016464, -0.14052266,  0.01911932,\n",
       "         0.1787613 ,  0.33840327,  0.49804525,  0.65768723,  0.81732921,\n",
       "         0.97697118]),\n",
       " <BarContainer object of 10 artists>)"
      ]
     },
     "execution_count": 400,
     "metadata": {},
     "output_type": "execute_result"
    },
    {
     "data": {
      "image/png": "[encoded data removed]",
      "text/plain": [
       "<Figure size 300x200 with 1 Axes>"
      ]
     },
     "metadata": {},
     "output_type": "display_data"
    }
   ],
   "source": [
    "plt.figure(figsize=(3, 2))\n",
    "plt.hist(hgt_embed.cosine_co, alpha=0.5, density=True)\n",
    "plt.hist(hgt_embed_keep.cosine_co, alpha=0.5, density=True)"
   ]
  },
  {
   "cell_type": "code",
   "execution_count": 401,
   "id": "4dcc70ff-af24-48d0-8a8f-60931ee1f8e8",
   "metadata": {},
   "outputs": [
    {
     "data": {
      "text/plain": [
       "(array([0.12678904, 0.51690917, 1.60924552, 2.51627481, 3.60373466,\n",
       "        3.44768661, 2.34559726, 2.26757323, 2.11152518, 2.31146175]),\n",
       " array([0.02026 , 0.068206, 0.116152, 0.164098, 0.212044, 0.25999 ,\n",
       "        0.307936, 0.355882, 0.403828, 0.451774, 0.49972 ]),\n",
       " <BarContainer object of 10 artists>)"
      ]
     },
     "execution_count": 401,
     "metadata": {},
     "output_type": "execute_result"
    },
    {
     "data": {
      "image/png": "[encoded data removed]",
      "text/plain": [
       "<Figure size 300x200 with 1 Axes>"
      ]
     },
     "metadata": {},
     "output_type": "display_data"
    }
   ],
   "source": [
    "plt.figure(figsize=(3, 2))\n",
    "plt.hist(hgt_embed.phy_dis, alpha=0.5, density=True)\n",
    "plt.hist(hgt_embed_keep.phy_dis, alpha=0.5, density=True)"
   ]
  },
  {
   "cell_type": "code",
   "execution_count": 402,
   "id": "b8eba4b7-1131-4e3d-b56f-ec4a0672a7ac",
   "metadata": {},
   "outputs": [],
   "source": [
    "# 初始化逻辑回归模型\n",
    "model = LogisticRegression(\n",
    "    # penalty='l2',          # 正则化类型（L2 正则化）\n",
    "    C=1.0,                # 正则化强度的倒数（越小正则化越强）\n",
    "    solver='lbfgs',       # 优化算法（适用于小数据集）\n",
    "    max_iter=1000,        # 最大迭代次数\n",
    "    random_state=42       # 随机种子\n",
    ")"
   ]
  },
  {
   "cell_type": "code",
   "execution_count": 403,
   "id": "67fec010-4da4-4723-ba17-32c1d2a4fdd4",
   "metadata": {},
   "outputs": [],
   "source": [
    "all_id = np.unique(list(hgt_embed.id_1.unique()) + list(hgt_embed.id_2.unique()))"
   ]
  },
  {
   "cell_type": "code",
   "execution_count": 404,
   "id": "8f15a3c3-71fb-4447-9503-afaf50cc9524",
   "metadata": {},
   "outputs": [],
   "source": [
    "# 初始化随机森林分类器\n",
    "rf_classifier = RandomForestClassifier(\n",
    "    n_estimators=500,  # 树的数量\n",
    "    max_depth=None,    # 树的最大深度（不限制）\n",
    "    random_state=42,    # 随机种子，确保结果可复现\n",
    "    n_jobs=1\n",
    ")\n",
    "\n",
    "kf = KFold(n_splits=5, shuffle=True, random_state=42)"
   ]
  },
  {
   "cell_type": "code",
   "execution_count": 405,
   "id": "a29a3ed5-71a1-40a1-97fa-16c384c1ae6f",
   "metadata": {},
   "outputs": [
    {
     "data": {
      "text/plain": [
       "(array([0.29922243, 0.91904031, 1.56023122, 2.05181092, 2.60750971,\n",
       "        2.47927153, 2.39377941, 2.1800491 , 3.54792305, 4.25323305]),\n",
       " array([0.05121 , 0.096069, 0.140928, 0.185787, 0.230646, 0.275505,\n",
       "        0.320364, 0.365223, 0.410082, 0.454941, 0.4998  ]),\n",
       " <BarContainer object of 10 artists>)"
      ]
     },
     "execution_count": 405,
     "metadata": {},
     "output_type": "execute_result"
    },
    {
     "data": {
      "image/png": "[encoded data removed]",
      "text/plain": [
       "<Figure size 300x200 with 1 Axes>"
      ]
     },
     "metadata": {},
     "output_type": "display_data"
    }
   ],
   "source": [
    "plt.figure(figsize=(3, 2))\n",
    "plt.hist(hgt_embed_test_keep.phy_dis, alpha=0.5, density=True)\n",
    "plt.hist(hgt_embed_test_sample.phy_dis, alpha=0.5, density=True)"
   ]
  },
  {
   "cell_type": "code",
   "execution_count": 382,
   "id": "b935d333-7f6e-43ab-b5eb-16c00ae3378e",
   "metadata": {},
   "outputs": [
    {
     "name": "stdout",
     "output_type": "stream",
     "text": [
      "test_0 AUC 值: 0.8345\n",
      "AUC_0 值: 0.7354\n",
      "test_1 AUC 值: 0.7918\n",
      "AUC_1 值: 0.6180\n",
      "test_2 AUC 值: 0.6706\n",
      "AUC_2 值: 0.7200\n",
      "test_3 AUC 值: 0.6953\n",
      "AUC_3 值: 0.6898\n",
      "test_4 AUC 值: 0.7710\n",
      "AUC_4 值: 0.6896\n"
     ]
    }
   ],
   "source": [
    "test = []\n",
    "group = []\n",
    "labels = []\n",
    "proba = []\n",
    "for fold, (train_index, val_index) in enumerate(kf.split(all_id)):\n",
    "    \n",
    "    train_id = all_id[train_index]\n",
    "    hgt_embed_train = hgt_embed.loc[[i in train_id for i in hgt_embed.id_1.values]]\n",
    "    hgt_embed_train = hgt_embed_train.loc[[i in train_id for i in hgt_embed_train.id_2.values]]\n",
    "    \n",
    "    hgt_embed_test = hgt_embed.loc[[i  not in train_id for i in hgt_embed.id_1.values]]\n",
    "    hgt_embed_test = hgt_embed_test.loc[[i not in train_id for i in hgt_embed_test.id_2.values]]\n",
    "\n",
    "    hgt_embed_train_keep = hgt_embed_train.loc[hgt_embed_train.hgt > 0]\n",
    "    hgt_embed_train_sample = hgt_embed_train.loc[hgt_embed_train.hgt == 0]\n",
    "    \n",
    "    phy_dis_list = np.linspace(0, 0.5, 40)\n",
    "    sample_index = []\n",
    "    for i in range(1, 20):\n",
    "        num = hgt_embed_train_keep.loc[(hgt_embed_train_keep.phy_dis.values > phy_dis_list[i-1]) & (hgt_embed_train_keep.phy_dis.values < phy_dis_list[i])].shape[0]\n",
    "        temp = hgt_embed_train_sample.loc[(hgt_embed_train_sample.phy_dis.values > phy_dis_list[i-1]) & (hgt_embed_train_sample.phy_dis.values < phy_dis_list[i])]\n",
    "        if temp.shape[0] > num:\n",
    "            temp = temp.sample(n = num)\n",
    "        sample_index = sample_index + temp.index.tolist()\n",
    "    \n",
    "    hgt_embed_train_sample = hgt_embed_train_sample.loc[sample_index]\n",
    "\n",
    "    hgt_embed_test_keep = hgt_embed_test.loc[hgt_embed_test.hgt > 0]\n",
    "    hgt_embed_test_sample = hgt_embed_test.loc[hgt_embed_test.hgt == 0]\n",
    "    \n",
    "    sample_index = []\n",
    "    for i in range(1, 40):\n",
    "        num = hgt_embed_test_keep.loc[(hgt_embed_test_keep.phy_dis.values > phy_dis_list[i-1]) & (hgt_embed_test_keep.phy_dis.values < phy_dis_list[i])].shape[0]\n",
    "        temp = hgt_embed_test_sample.loc[(hgt_embed_test_sample.phy_dis.values > phy_dis_list[i-1]) & (hgt_embed_test_sample.phy_dis.values < phy_dis_list[i])]\n",
    "        if temp.shape[0] > num:\n",
    "            temp = temp.sample(n = num)\n",
    "        sample_index = sample_index + temp.index.tolist()\n",
    "    \n",
    "    hgt_embed_test_sample = hgt_embed_test_sample.loc[sample_index]\n",
    "\n",
    "    data = pd.DataFrame({\"id_1\": hgt_embed_train_keep.id_1.tolist() + hgt_embed_train_sample.id_1.tolist(), \n",
    "                     \"id_2\": hgt_embed_train_keep.id_2.tolist() + hgt_embed_train_sample.id_2.tolist(),\n",
    "                     \"hgt\": [1] * hgt_embed_train_keep.shape[0] + [0] * hgt_embed_train_sample.shape[0]})\n",
    "    X_train = np.hstack((co_embedding.loc[data.id_1.values], co_embedding.loc[data.id_2.values]))\n",
    "    y_train = data.hgt.values\n",
    "\n",
    "    data = pd.DataFrame({\"id_1\": hgt_embed_test_keep.id_1.tolist() + hgt_embed_test_sample.id_1.tolist(), \n",
    "                         \"id_2\": hgt_embed_test_keep.id_2.tolist() + hgt_embed_test_sample.id_2.tolist(),\n",
    "                         \"hgt\": [1] * hgt_embed_test_keep.shape[0] + [0] * hgt_embed_test_sample.shape[0]})\n",
    "    x_test = np.hstack((co_embedding.loc[data.id_1.values], co_embedding.loc[data.id_2.values]))\n",
    "    y_test = data.hgt.values\n",
    "\n",
    "    # 训练模型\n",
    "    rf_classifier.fit(X_train, y_train)\n",
    "    # 对测试集进行预测\n",
    "    y_pred_proba = rf_classifier.predict_proba(x_test)\n",
    "    auc_score = roc_auc_score(y_test, y_pred_proba[:,1])\n",
    "    \n",
    "    test = test + [f\"test_{fold}\"] * len(y_test)\n",
    "    group = group + [\"SNE\"] * len(y_test)\n",
    "    labels = labels + list(y_test)\n",
    "    proba = proba + list(y_pred_proba[:,1])\n",
    "    \n",
    "    print(f\"test_{fold} AUC 值: {auc_score:.4f}\")\n",
    "\n",
    "\n",
    "    ### LG\n",
    "    data = pd.DataFrame({\"id_1\": hgt_embed_train_keep.id_1.tolist() + hgt_embed_train_sample.id_1.tolist(), \n",
    "                     \"id_2\": hgt_embed_train_keep.id_2.tolist() + hgt_embed_train_sample.id_2.tolist(),\n",
    "                     \"hgt\": [1] * hgt_embed_train_keep.shape[0] + [0] * hgt_embed_train_sample.shape[0]})\n",
    "    X_train = np.hstack((phy_embedding.loc[data.id_1.values], phy_embedding.loc[data.id_2.values]))\n",
    "    y_train = data.hgt.values\n",
    "\n",
    "    data = pd.DataFrame({\"id_1\": hgt_embed_test_keep.id_1.tolist() + hgt_embed_test_sample.id_1.tolist(), \n",
    "                     \"id_2\": hgt_embed_test_keep.id_2.tolist() + hgt_embed_test_sample.id_2.tolist(),\n",
    "                     \"hgt\": [1] * hgt_embed_test_keep.shape[0] + [0] * hgt_embed_test_sample.shape[0]})\n",
    "    x_test = np.hstack((phy_embedding.loc[data.id_1.values], phy_embedding.loc[data.id_2.values]))\n",
    "    y_test = data.hgt.values\n",
    "\n",
    "    # 训练模型\n",
    "    rf_classifier.fit(X_train, y_train)\n",
    "    # 对测试集进行预测\n",
    "    y_pred_proba = rf_classifier.predict_proba(x_test)\n",
    "    auc_score = roc_auc_score(y_test, y_pred_proba[:,1])\n",
    "    print(f\"AUC_{fold} 值: {auc_score:.4f}\")\n",
    "\n",
    "    test = test + [f\"test_{fold}\"] * len(y_test)\n",
    "    group = group + [\"PhyloE\"] * len(y_test)\n",
    "    labels = labels + list(y_test)\n",
    "    proba = proba + list(y_pred_proba[:,1])"
   ]
  },
  {
   "cell_type": "code",
   "execution_count": null,
   "id": "5c127132-ea4f-4bcf-a535-27b5daab4a93",
   "metadata": {},
   "outputs": [],
   "source": [
    "hgt_predict_res = pd.DataFrame({\"test\":test, \"group\":group, \"labels\":labels, \"proba\":proba})\n",
    "hgt_predict_res.to_csv(\"/home/dongbiao/word_embedding_microbiome/HGT/results/hgt_predict_res.csv\", index=None)"
   ]
  },
  {
   "cell_type": "code",
   "execution_count": 406,
   "id": "6857c855-2b45-4686-9763-be2cb478e10b",
   "metadata": {},
   "outputs": [
    {
     "name": "stdout",
     "output_type": "stream",
     "text": [
      "test_0 AUC 值: 0.7743\n",
      "AUC_0 值: 0.7575\n",
      "test_1 AUC 值: 0.7128\n",
      "AUC_1 值: 0.6592\n",
      "test_2 AUC 值: 0.7292\n",
      "AUC_2 值: 0.7019\n",
      "test_3 AUC 值: 0.7590\n",
      "AUC_3 值: 0.7799\n",
      "test_4 AUC 值: 0.7858\n",
      "AUC_4 值: 0.7336\n"
     ]
    }
   ],
   "source": [
    "test = []\n",
    "group = []\n",
    "labels = []\n",
    "proba = []\n",
    "for fold, (train_index, val_index) in enumerate(kf.split(all_id)):\n",
    "    \n",
    "    train_id = all_id[train_index]\n",
    "    hgt_embed_train = hgt_embed.loc[[i in train_id for i in hgt_embed.id_1.values]]\n",
    "    hgt_embed_train = hgt_embed_train.loc[[i in train_id for i in hgt_embed_train.id_2.values]]\n",
    "    \n",
    "    hgt_embed_test = hgt_embed.loc[[i  not in train_id for i in hgt_embed.id_1.values]]\n",
    "    hgt_embed_test = hgt_embed_test.loc[[i not in train_id for i in hgt_embed_test.id_2.values]]\n",
    "\n",
    "    hgt_embed_train_keep = hgt_embed_train.loc[hgt_embed_train.hgt > 0]\n",
    "    hgt_embed_train_sample = hgt_embed_train.loc[hgt_embed_train.hgt == 0]\n",
    "\n",
    "    hgt_embed_test_keep = hgt_embed_test.loc[hgt_embed_test.hgt > 0]\n",
    "    hgt_embed_test_sample = hgt_embed_test.loc[hgt_embed_test.hgt == 0]\n",
    "\n",
    "    data = pd.DataFrame({\"id_1\": hgt_embed_train_keep.id_1.tolist() + hgt_embed_train_sample.id_1.tolist(), \n",
    "                         \"id_2\": hgt_embed_train_keep.id_2.tolist() + hgt_embed_train_sample.id_2.tolist(),\n",
    "                         \"hgt\": [1] * hgt_embed_train_keep.shape[0] + [0] * hgt_embed_train_sample.shape[0]})\n",
    "    X_train = np.hstack((co_embedding.loc[data.id_1.values], co_embedding.loc[data.id_2.values]))\n",
    "    y_train = data.hgt.values\n",
    "\n",
    "    data = pd.DataFrame({\"id_1\": hgt_embed_test_keep.id_1.tolist() + hgt_embed_test_sample.id_1.tolist(), \n",
    "                         \"id_2\": hgt_embed_test_keep.id_2.tolist() + hgt_embed_test_sample.id_2.tolist(),\n",
    "                         \"hgt\": [1] * hgt_embed_test_keep.shape[0] + [0] * hgt_embed_test_sample.shape[0]})\n",
    "    x_test = np.hstack((co_embedding.loc[data.id_1.values], co_embedding.loc[data.id_2.values]))\n",
    "    y_test = data.hgt.values\n",
    "\n",
    "    # 训练模型\n",
    "    rf_classifier.fit(X_train, y_train)\n",
    "    # 对测试集进行预测\n",
    "    y_pred_proba = rf_classifier.predict_proba(x_test)\n",
    "    auc_score = roc_auc_score(y_test, y_pred_proba[:,1])\n",
    "    \n",
    "    test = test + [f\"test_{fold}\"] * len(y_test)\n",
    "    group = group + [\"SNE\"] * len(y_test)\n",
    "    labels = labels + list(y_test)\n",
    "    proba = proba + list(y_pred_proba[:,1])\n",
    "    \n",
    "    print(f\"test_{fold} AUC 值: {auc_score:.4f}\")\n",
    "\n",
    "\n",
    "    data = pd.DataFrame({\"id_1\": hgt_embed_train_keep.id_1.tolist() + hgt_embed_train_sample.id_1.tolist(), \n",
    "                     \"id_2\": hgt_embed_train_keep.id_2.tolist() + hgt_embed_train_sample.id_2.tolist(),\n",
    "                     \"hgt\": [1] * hgt_embed_train_keep.shape[0] + [0] * hgt_embed_train_sample.shape[0]})\n",
    "    X_train = np.hstack((phy_embedding.loc[data.id_1.values], phy_embedding.loc[data.id_2.values]))\n",
    "    y_train = data.hgt.values\n",
    "\n",
    "    data = pd.DataFrame({\"id_1\": hgt_embed_test_keep.id_1.tolist() + hgt_embed_test_sample.id_1.tolist(), \n",
    "                     \"id_2\": hgt_embed_test_keep.id_2.tolist() + hgt_embed_test_sample.id_2.tolist(),\n",
    "                     \"hgt\": [1] * hgt_embed_test_keep.shape[0] + [0] * hgt_embed_test_sample.shape[0]})\n",
    "    x_test = np.hstack((phy_embedding.loc[data.id_1.values], phy_embedding.loc[data.id_2.values]))\n",
    "    y_test = data.hgt.values\n",
    "\n",
    "    # 训练模型\n",
    "    rf_classifier.fit(X_train, y_train) \n",
    "    # 对测试集进行预测\n",
    "    y_pred_proba = rf_classifier.predict_proba(x_test)\n",
    "    auc_score = roc_auc_score(y_test, y_pred_proba[:,1])\n",
    "    print(f\"AUC_{fold} 值: {auc_score:.4f}\")\n",
    "\n",
    "    test = test + [f\"test_{fold}\"] * len(y_test)\n",
    "    group = group + [\"PhyloE\"] * len(y_test)\n",
    "    labels = labels + list(y_test)\n",
    "    proba = proba + list(y_pred_proba[:,1])"
   ]
  },
  {
   "cell_type": "code",
   "execution_count": 407,
   "id": "7971acb2-9902-47da-b892-ef0bc6926981",
   "metadata": {},
   "outputs": [],
   "source": [
    "hgt_predict_res = pd.DataFrame({\"test\":test, \"group\":group, \"labels\":labels, \"proba\":proba})\n",
    "hgt_predict_res.to_csv(\"/home/dongbiao/word_embedding_microbiome/HGT/results/hgt_predict_res_keep_phy.csv\", index=None)"
   ]
  }
 ],
 "metadata": {
  "kernelspec": {
   "display_name": "Python 3 (ipykernel)",
   "language": "python",
   "name": "python3"
  },
  "language_info": {
   "codemirror_mode": {
    "name": "ipython",
    "version": 3
   },
   "file_extension": ".py",
   "mimetype": "text/x-python",
   "name": "python",
   "nbconvert_exporter": "python",
   "pygments_lexer": "ipython3",
   "version": "3.9.20"
  }
 },
 "nbformat": 4,
 "nbformat_minor": 5
}
