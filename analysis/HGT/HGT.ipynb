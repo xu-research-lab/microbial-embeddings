{
 "cells": [
  {
   "cell_type": "code",
   "execution_count": 2,
   "id": "e330ec4b-e2cd-49ff-992e-8f8226827e1f",
   "metadata": {},
   "outputs": [],
   "source": [
    "import re"
   ]
  },
  {
   "cell_type": "code",
   "execution_count": 3,
   "id": "230e2859-4e62-4116-a46c-ee40e75447a7",
   "metadata": {},
   "outputs": [],
   "source": [
    "import numpy as np\n",
    "import pandas as pd"
   ]
  },
  {
   "cell_type": "code",
   "execution_count": 4,
   "id": "dd62f2c6-95d9-4aa2-a348-2f8cc492455b",
   "metadata": {},
   "outputs": [],
   "source": [
    "from Bio import SeqIO\n",
    "import os"
   ]
  },
  {
   "cell_type": "code",
   "execution_count": 5,
   "id": "a631deb1-f3a7-4690-82da-fbdca1992d22",
   "metadata": {},
   "outputs": [],
   "source": [
    "from tqdm import tqdm"
   ]
  },
  {
   "cell_type": "code",
   "execution_count": 6,
   "id": "3dcf4ae8-7169-46cb-9e78-bb69aa9182ff",
   "metadata": {},
   "outputs": [],
   "source": [
    "import json"
   ]
  },
  {
   "cell_type": "code",
   "execution_count": 7,
   "id": "ad4430fc-8c07-4db5-8714-317fd9f96cc5",
   "metadata": {},
   "outputs": [],
   "source": [
    "from sklearn.metrics.pairwise import cosine_similarity"
   ]
  },
  {
   "cell_type": "code",
   "execution_count": 8,
   "id": "e764c6ce-4ade-4481-a011-93a91726adb8",
   "metadata": {},
   "outputs": [],
   "source": [
    "import matplotlib.pyplot as plt"
   ]
  },
  {
   "cell_type": "code",
   "execution_count": 9,
   "id": "2aa0bbf0-421a-40b2-83d8-2ab58831125d",
   "metadata": {},
   "outputs": [],
   "source": [
    "from sklearn.metrics import roc_curve, auc "
   ]
  },
  {
   "cell_type": "code",
   "execution_count": 10,
   "id": "22d545ee-550f-4c77-9b56-41e0ae4005f0",
   "metadata": {},
   "outputs": [],
   "source": [
    "from sklearn.model_selection import KFold\n",
    "from sklearn.ensemble import RandomForestClassifier  \n",
    "from sklearn.model_selection import cross_val_score \n",
    "from sklearn.metrics import roc_auc_score, roc_curve\n",
    "from sklearn.linear_model import LogisticRegression"
   ]
  },
  {
   "cell_type": "code",
   "execution_count": 11,
   "id": "c357e34c-8842-438a-8608-230bb7a4e33b",
   "metadata": {},
   "outputs": [],
   "source": [
    "import random\n",
    "from phylodm import PhyloDM\n",
    "import dendropy"
   ]
  },
  {
   "cell_type": "code",
   "execution_count": 12,
   "id": "74e0ad4a-f618-4a2d-b937-3561e2236b2b",
   "metadata": {},
   "outputs": [],
   "source": [
    "import seaborn as sns\n",
    "from scipy import stats"
   ]
  },
  {
   "cell_type": "code",
   "execution_count": 14,
   "id": "66748d04-87da-4213-b8bd-f1807e5e0f10",
   "metadata": {},
   "outputs": [],
   "source": [
    "from scipy.stats import entropy"
   ]
  },
  {
   "cell_type": "markdown",
   "id": "fbf4cb1f-6ae0-4b2e-a771-a36630a940c7",
   "metadata": {},
   "source": [
    "### import embedding"
   ]
  },
  {
   "cell_type": "code",
   "execution_count": 13,
   "id": "4b625c6f-9d49-424e-a8c0-f51f0c4486f1",
   "metadata": {},
   "outputs": [],
   "source": [
    "co_embedding = pd.read_csv(\"../../data/social_niche_embedding_100.txt\",\n",
    "                          header=None, sep=\" \", low_memory=False, index_col=0)\n",
    "co_embedding = co_embedding.drop(\"<unk>\")\n",
    "\n",
    "embed_cos = cosine_similarity(co_embedding)\n",
    "embed_cos = pd.DataFrame(data=embed_cos, index=co_embedding.index, columns=co_embedding.index)\n",
    "\n",
    "phy_embedding = pd.read_csv(\"../../data/Embedding_list/PCA_100.txt\",\n",
    "                          header=None, sep=\" \", low_memory=False, index_col=0)\n",
    "phy_embedding = phy_embedding.loc[co_embedding.index]\n",
    "\n",
    "embed_cos_phy = cosine_similarity(phy_embedding)\n",
    "embed_cos_phy = pd.DataFrame(data=embed_cos_phy, index=phy_embedding.index, columns=phy_embedding.index)"
   ]
  },
  {
   "cell_type": "code",
   "execution_count": 18,
   "id": "e9a284b7-991b-407a-9d25-eb1c554d98a1",
   "metadata": {},
   "outputs": [],
   "source": [
    "tree = dendropy.Tree.get_from_path('../SNE_overview/Data//tree.tre', schema='newick')\n",
    "pdm = PhyloDM.load_from_dendropy(tree)\n",
    "dm = pdm.dm(norm=False)\n",
    "labels = pdm.taxa()\n",
    "dm = pd.DataFrame(data=dm, index=labels, columns=labels) \n",
    "dm = dm.loc[co_embedding.index.values, co_embedding.index.values]"
   ]
  },
  {
   "cell_type": "markdown",
   "id": "ae00aae9-3f80-4c32-9dd7-946ffbcde396",
   "metadata": {},
   "source": [
    "### SNE with phylogeny"
   ]
  },
  {
   "cell_type": "code",
   "execution_count": 15,
   "id": "c3d3fbde-e846-452a-b73c-dbdcecb7b941",
   "metadata": {},
   "outputs": [],
   "source": [
    "taxonomy = pd.read_csv(\"../Pretraining_data_profile/Data/taxmap_slv_ssu_ref_nr_138.2.txt\", sep=\"\\t\", low_memory=False)"
   ]
  },
  {
   "cell_type": "code",
   "execution_count": 16,
   "id": "1d922790-3f17-4011-a8e1-337718104776",
   "metadata": {},
   "outputs": [],
   "source": [
    "acc = []\n",
    "for i in range(taxonomy.shape[0]):\n",
    "    temp = taxonomy.iloc[i]\n",
    "    acc.append(f\"{temp[0]}.{temp[1]}.{temp[2]}\")\n",
    "\n",
    "taxonomy = taxonomy.loc[:, \"path\"].str.split(';', expand=True)\n",
    "taxonomy.index = acc\n",
    "taxonomy = taxonomy.iloc[:, 0: 7]\n",
    "taxonomy = taxonomy.loc[co_embedding.index.values, ]\n",
    "taxonomy.columns = [\"k\", \"p\", \"c\", \"o\", \"f\", \"g\", \"s\"]\n",
    "taxonomy = taxonomy.loc[taxonomy.k == \"Bacteria\"]\n",
    "taxonomy = taxonomy.loc[:, [\"p\", \"c\", \"o\", \"f\", \"g\"]]\n",
    "remove_tax = [\"Incertae Sedis\", \"Unknown Family\", ]"
   ]
  },
  {
   "cell_type": "code",
   "execution_count": 19,
   "id": "d7ad2b4d-45e7-4e9b-901b-28723765a9c3",
   "metadata": {},
   "outputs": [],
   "source": [
    "names = [\"Phylum\", \"Class\", \"Order\", \"Family\", \"Genus\"]\n",
    "phy_dist_mean = []\n",
    "embed_cosine_mean = []\n",
    "phy_dist_sd = []\n",
    "embed_cosine_sd = []\n",
    "keep_tax = []\n",
    "tax = []\n",
    "for j in range(0, 5):\n",
    "    group = taxonomy.iloc[:, j].unique()\n",
    "    group = group[[i not in remove_tax for i in group]]\n",
    "    for i in group:\n",
    "        \n",
    "        fid_pick = taxonomy.loc[taxonomy.iloc[:, j] == i].index.values\n",
    "        \n",
    "        if len(fid_pick) > 1:\n",
    "            \n",
    "            keep_tax.append(i)\n",
    "            tax.append(names[j])\n",
    "            \n",
    "            temp = embed_cos.loc[fid_pick, fid_pick]\n",
    "            upper_triangle = np.triu(temp, k=1)\n",
    "            upper_triangle = pd.DataFrame(data=upper_triangle)\n",
    "            upper_triangle['id_1'] = upper_triangle.index.tolist()\n",
    "            upper_triangle = pd.melt(upper_triangle, id_vars=\"id_1\")\n",
    "            upper_triangle = upper_triangle.loc[upper_triangle.value != 0]\n",
    "            upper_triangle.columns = [\"id_1\", \"id_2\", \"value\"]\n",
    "            embed_cosine_mean.append(np.mean(upper_triangle[\"value\"].values))\n",
    "            embed_cosine_sd.append(np.std(upper_triangle[\"value\"].values))\n",
    "            \n",
    "            temp = dm.loc[fid_pick, fid_pick]\n",
    "            upper_triangle = np.triu(temp, k=1)\n",
    "            upper_triangle = pd.DataFrame(data=upper_triangle)\n",
    "            upper_triangle['id_1'] = upper_triangle.index.tolist()\n",
    "            upper_triangle = pd.melt(upper_triangle, id_vars=\"id_1\")\n",
    "            upper_triangle = upper_triangle.loc[upper_triangle.value != 0]\n",
    "            upper_triangle.columns = [\"id_1\", \"id_2\", \"value\"]\n",
    "            phy_dist_mean.append(np.mean(upper_triangle[\"value\"].values))\n",
    "            phy_dist_sd.append(np.std(upper_triangle[\"value\"].values))\n",
    "        "
   ]
  },
  {
   "cell_type": "code",
   "execution_count": 20,
   "id": "13fa8296-b582-47e7-bcf1-2a1469de0082",
   "metadata": {},
   "outputs": [],
   "source": [
    "table_group = pd.DataFrame({\"name\": keep_tax, \"phy_dist_mean\":phy_dist_mean, \"phy_dist_sd\":phy_dist_sd, \n",
    "                            \"embed_cosine_mean\":embed_cosine_mean, \"embed_cosine_sd\":embed_cosine_sd,\n",
    "                            \"tax\":tax})\n",
    "table_group.to_csv(\"Data/tax_group.csv\", index=None)"
   ]
  },
  {
   "cell_type": "markdown",
   "id": "43d8963e-78be-4326-bf14-5864f002094c",
   "metadata": {},
   "source": [
    "### vsearch"
   ]
  },
  {
   "cell_type": "code",
   "execution_count": 261,
   "id": "33e100b8-048b-40cc-8d79-2847ec96e164",
   "metadata": {},
   "outputs": [],
   "source": [
    "from Bio import SeqIO\n",
    "\n",
    "def get_sequence_lengths(fasta_file):\n",
    "    seq_lengths = {}\n",
    "    for record in SeqIO.parse(fasta_file, \"fasta\"):\n",
    "        seq_lengths[record.id] = len(record.seq)  # 存储序列ID和长度\n",
    "    return seq_lengths\n",
    "\n",
    "# 示例调用\n",
    "fasta_path = \"../Traits_function/Data/feces_seq_16S_new.fasta\"\n",
    "length_dict = get_sequence_lengths(fasta_path)"
   ]
  },
  {
   "cell_type": "code",
   "execution_count": 251,
   "id": "1b7960ff-dba9-48ef-aecd-e51e0185bee5",
   "metadata": {},
   "outputs": [],
   "source": [
    "colnames = [\"query_id\", \"refer_id\", \"identity\", \"alignment_length\", \"mismatches\", \"gap_openings\", \"q.start\",\n",
    "            \"q.end\", \"s.start\", \"s.end\", \"e-value\", \"bit_score\"]"
   ]
  },
  {
   "cell_type": "code",
   "execution_count": 281,
   "id": "feed95b8-92b2-4405-84c3-06bbcc88db2d",
   "metadata": {},
   "outputs": [],
   "source": [
    "vsearch_out = pd.read_csv(\"Data/vsearch_blast.out\", sep=\"\\t\", header=None)\n",
    "vsearch_out.columns = colnames\n",
    "vsearch_out.loc[:, \"length\"] = [length_dict[i] for i in vsearch_out.query_id.values]\n",
    "vsearch_out.loc[:, \"coverage\"] = vsearch_out.alignment_length.values / vsearch_out.length.values"
   ]
  },
  {
   "cell_type": "code",
   "execution_count": 282,
   "id": "8a051442-d31c-45d1-9c93-c2740c7e2f76",
   "metadata": {},
   "outputs": [],
   "source": [
    "vsearch_out = vsearch_out.loc[vsearch_out[\"q.start\"] == 1]\n",
    "vsearch_out = vsearch_out.loc[vsearch_out[\"coverage\"] >= 1]\n",
    "vsearch_out.loc[:, \"refer\"] = [i.split(\"::\")[1].split(\":\")[0] for i in vsearch_out.refer_id.values]"
   ]
  },
  {
   "cell_type": "code",
   "execution_count": 287,
   "id": "85383351-dcc9-456a-85df-cab6caf5d1a6",
   "metadata": {},
   "outputs": [],
   "source": [
    "vsearch_out = vsearch_out.loc[vsearch_out.groupby('refer')['identity'].idxmax()]"
   ]
  },
  {
   "cell_type": "code",
   "execution_count": 292,
   "id": "4806df94-838d-499c-bb82-574050ba131d",
   "metadata": {},
   "outputs": [
    {
     "data": {
      "text/html": [
       "<div>\n",
       "<style scoped>\n",
       "    .dataframe tbody tr th:only-of-type {\n",
       "        vertical-align: middle;\n",
       "    }\n",
       "\n",
       "    .dataframe tbody tr th {\n",
       "        vertical-align: top;\n",
       "    }\n",
       "\n",
       "    .dataframe thead th {\n",
       "        text-align: right;\n",
       "    }\n",
       "</style>\n",
       "<table border=\"1\" class=\"dataframe\">\n",
       "  <thead>\n",
       "    <tr style=\"text-align: right;\">\n",
       "      <th></th>\n",
       "      <th>query_id</th>\n",
       "      <th>refer_id</th>\n",
       "      <th>identity</th>\n",
       "      <th>alignment_length</th>\n",
       "      <th>mismatches</th>\n",
       "      <th>gap_openings</th>\n",
       "      <th>q.start</th>\n",
       "      <th>q.end</th>\n",
       "      <th>s.start</th>\n",
       "      <th>s.end</th>\n",
       "      <th>e-value</th>\n",
       "      <th>bit_score</th>\n",
       "      <th>length</th>\n",
       "      <th>coverage</th>\n",
       "      <th>refer</th>\n",
       "    </tr>\n",
       "  </thead>\n",
       "  <tbody>\n",
       "    <tr>\n",
       "      <th>1028</th>\n",
       "      <td>CP007065.253054.254560</td>\n",
       "      <td>16S_rRNA::AABF01000026.1:18737-20251(+)</td>\n",
       "      <td>99.7</td>\n",
       "      <td>1507</td>\n",
       "      <td>4</td>\n",
       "      <td>0</td>\n",
       "      <td>1</td>\n",
       "      <td>1507</td>\n",
       "      <td>1</td>\n",
       "      <td>1514</td>\n",
       "      <td>-1</td>\n",
       "      <td>0</td>\n",
       "      <td>1507</td>\n",
       "      <td>1.0</td>\n",
       "      <td>AABF01000026.1</td>\n",
       "    </tr>\n",
       "    <tr>\n",
       "      <th>26</th>\n",
       "      <td>AJ239289.1.1355</td>\n",
       "      <td>16S_rRNA::ADBE01000137.1:300-1836(+)</td>\n",
       "      <td>100.0</td>\n",
       "      <td>1355</td>\n",
       "      <td>0</td>\n",
       "      <td>0</td>\n",
       "      <td>1</td>\n",
       "      <td>1355</td>\n",
       "      <td>1</td>\n",
       "      <td>1536</td>\n",
       "      <td>-1</td>\n",
       "      <td>0</td>\n",
       "      <td>1355</td>\n",
       "      <td>1.0</td>\n",
       "      <td>ADBE01000137.1</td>\n",
       "    </tr>\n",
       "    <tr>\n",
       "      <th>684</th>\n",
       "      <td>AP018533.3254502.3256012</td>\n",
       "      <td>16S_rRNA::AP018533.1:3254488-3256017(-)</td>\n",
       "      <td>100.0</td>\n",
       "      <td>1511</td>\n",
       "      <td>0</td>\n",
       "      <td>0</td>\n",
       "      <td>1</td>\n",
       "      <td>1511</td>\n",
       "      <td>1</td>\n",
       "      <td>1529</td>\n",
       "      <td>-1</td>\n",
       "      <td>0</td>\n",
       "      <td>1511</td>\n",
       "      <td>1.0</td>\n",
       "      <td>AP018533.1</td>\n",
       "    </tr>\n",
       "    <tr>\n",
       "      <th>1384</th>\n",
       "      <td>HQ767419.1.1452</td>\n",
       "      <td>16S_rRNA::AP025573.1:47380-48910(+)</td>\n",
       "      <td>99.8</td>\n",
       "      <td>1452</td>\n",
       "      <td>3</td>\n",
       "      <td>0</td>\n",
       "      <td>1</td>\n",
       "      <td>1452</td>\n",
       "      <td>1</td>\n",
       "      <td>1530</td>\n",
       "      <td>-1</td>\n",
       "      <td>0</td>\n",
       "      <td>1452</td>\n",
       "      <td>1.0</td>\n",
       "      <td>AP025573.1</td>\n",
       "    </tr>\n",
       "    <tr>\n",
       "      <th>1622</th>\n",
       "      <td>JF160900.1.1352</td>\n",
       "      <td>16S_rRNA::AP025583.1:128195-129724(+)</td>\n",
       "      <td>99.6</td>\n",
       "      <td>1352</td>\n",
       "      <td>6</td>\n",
       "      <td>0</td>\n",
       "      <td>1</td>\n",
       "      <td>1352</td>\n",
       "      <td>1</td>\n",
       "      <td>1529</td>\n",
       "      <td>-1</td>\n",
       "      <td>0</td>\n",
       "      <td>1352</td>\n",
       "      <td>1.0</td>\n",
       "      <td>AP025583.1</td>\n",
       "    </tr>\n",
       "  </tbody>\n",
       "</table>\n",
       "</div>"
      ],
      "text/plain": [
       "                      query_id                                 refer_id  \\\n",
       "1028    CP007065.253054.254560  16S_rRNA::AABF01000026.1:18737-20251(+)   \n",
       "26             AJ239289.1.1355     16S_rRNA::ADBE01000137.1:300-1836(+)   \n",
       "684   AP018533.3254502.3256012  16S_rRNA::AP018533.1:3254488-3256017(-)   \n",
       "1384           HQ767419.1.1452      16S_rRNA::AP025573.1:47380-48910(+)   \n",
       "1622           JF160900.1.1352    16S_rRNA::AP025583.1:128195-129724(+)   \n",
       "\n",
       "      identity  alignment_length  mismatches  gap_openings  q.start  q.end  \\\n",
       "1028      99.7              1507           4             0        1   1507   \n",
       "26       100.0              1355           0             0        1   1355   \n",
       "684      100.0              1511           0             0        1   1511   \n",
       "1384      99.8              1452           3             0        1   1452   \n",
       "1622      99.6              1352           6             0        1   1352   \n",
       "\n",
       "      s.start  s.end  e-value  bit_score  length  coverage           refer  \n",
       "1028        1   1514       -1          0    1507       1.0  AABF01000026.1  \n",
       "26          1   1536       -1          0    1355       1.0  ADBE01000137.1  \n",
       "684         1   1529       -1          0    1511       1.0      AP018533.1  \n",
       "1384        1   1530       -1          0    1452       1.0      AP025573.1  \n",
       "1622        1   1529       -1          0    1352       1.0      AP025583.1  "
      ]
     },
     "execution_count": 292,
     "metadata": {},
     "output_type": "execute_result"
    }
   ],
   "source": [
    "vsearch_out.head()"
   ]
  },
  {
   "cell_type": "code",
   "execution_count": 297,
   "id": "6137a8c0-1937-4e11-aa97-e63c44df59cb",
   "metadata": {},
   "outputs": [
    {
     "name": "stdout",
     "output_type": "stream",
     "text": [
      "已保存 1011 条序列到 /home/dongbiao/word_embedding_microbiome/HGT/16S/pick_otu.fasta\n"
     ]
    }
   ],
   "source": [
    "def select_sequences_by_ids(input_fasta, output_fasta, selected_ids):\n",
    "    \"\"\"\n",
    "    根据序列名称选择指定的序列并保存到新文件\n",
    "    \n",
    "    参数:\n",
    "        input_fasta (str): 输入 FASTA 文件路径\n",
    "        output_fasta (str): 输出 FASTA 文件路径\n",
    "        selected_ids (list): 需要选择的序列名称列表\n",
    "    \"\"\"\n",
    "    \n",
    "    # 读取输入文件并筛选序列\n",
    "    selected_sequences = []\n",
    "    for record in SeqIO.parse(input_fasta, \"fasta\"):\n",
    "        if record.id in selected_ids:  # 如果序列名称在指定列表中\n",
    "            record.id = record.id.split(\"::\")[1].split(\":\")[0]\n",
    "            selected_sequences.append(record)\n",
    "    \n",
    "    # 将筛选后的序列写入新文件\n",
    "    SeqIO.write(selected_sequences, output_fasta, \"fasta\")\n",
    "    print(f\"已保存 {len(selected_sequences)} 条序列到 {output_fasta}\")\n",
    "\n",
    "# 示例调用\n",
    "target_id = vsearch_out.refer_id.values\n",
    "input_fasta = \"Data/barrnap.fna\"  # barrnapt 16S RNA of genome\n",
    "output_fasta = \"Data/pick_otu.fasta\"  # 输出 FASTA 文件路径\n",
    "select_sequences_by_ids(input_fasta, output_fasta, target_id) "
   ]
  },
  {
   "cell_type": "code",
   "execution_count": 28,
   "id": "ca4b4bfb-ecd9-4666-ba0e-47f72f3ab5e7",
   "metadata": {},
   "outputs": [],
   "source": [
    "def get_fasta_sequence_names(fasta_file):\n",
    "    \"\"\"\n",
    "    提取单个 FASTA 文件中的所有序列名称\n",
    "    \n",
    "    参数:\n",
    "        fasta_file (str): FASTA 文件路径\n",
    "    \n",
    "    返回:\n",
    "        list: 序列名称列\n",
    "    \"\"\"\n",
    "    sequence_names = []\n",
    "    for record in SeqIO.parse(fasta_file, \"fasta\"):\n",
    "        sequence_names.append(record.id)\n",
    "    return sequence_names\n",
    "\n",
    "def process_fasta_folder(folder_path):\n",
    "    \"\"\"\n",
    "    处理文件夹中的所有 FASTA 文件，生成字典\n",
    "    \n",
    "    参数:\n",
    "        folder_path (str): 文件夹路径\n",
    "    \n",
    "    返回:\n",
    "        dict: key 是基因组名称（文件名），value 是序列名称列表\n",
    "    \"\"\"\n",
    "    fasta_dict = {}\n",
    "    \n",
    "    # 遍历文件夹中的所有文件\n",
    "    for filename in tqdm(os.listdir(folder_path), desc=\"Processing\"):\n",
    "        if filename.endswith(\".fna\"):  # 检查文件扩展名\n",
    "            file_path = os.path.join(folder_path, filename)\n",
    "            genome_name = os.path.splitext(filename)[0]  # 去掉扩展名作为基因组名称\n",
    "            sequence_names = get_fasta_sequence_names(file_path)\n",
    "            fasta_dict[genome_name] = sequence_names\n",
    "    \n",
    "    return fasta_dict"
   ]
  },
  {
   "cell_type": "code",
   "execution_count": 298,
   "id": "a59c7eb4-bd5b-46af-8d4c-c394a72d176e",
   "metadata": {},
   "outputs": [],
   "source": [
    "# 读取 JSON 文件\n",
    "with open('Data/fasta_dict.json', 'r', encoding='utf-8') as f:\n",
    "    fasta_dict = json.load(f)  # 返回字典或列表"
   ]
  },
  {
   "cell_type": "code",
   "execution_count": 1,
   "id": "b8b5a474-3fcb-4d9f-bbed-a65025a47094",
   "metadata": {},
   "outputs": [],
   "source": [
    "target_genome = {}\n",
    "for target in tqdm(vsearch_out.refer.values, desc=\"Processing\"):\n",
    "    for key, value in fasta_dict.items():\n",
    "        if target in value:\n",
    "            target_genome[target] = key\n",
    "            continue"
   ]
  },
  {
   "cell_type": "code",
   "execution_count": 301,
   "id": "741f5d55-1359-4973-98cf-11a111d81e30",
   "metadata": {},
   "outputs": [],
   "source": [
    "vsearch_out.loc[:, \"genome_id\"] = [target_genome[i] for i in vsearch_out.refer.values]"
   ]
  },
  {
   "cell_type": "code",
   "execution_count": 309,
   "id": "b16d0243-dc7b-40b3-ac0f-c288206f05a6",
   "metadata": {},
   "outputs": [],
   "source": [
    "vsearch_out = vsearch_out.loc[vsearch_out.groupby('genome_id')['identity'].idxmax()]"
   ]
  },
  {
   "cell_type": "code",
   "execution_count": 310,
   "id": "fafd14ea-cbba-4c08-8a49-f6f8726f2576",
   "metadata": {},
   "outputs": [
    {
     "data": {
      "text/html": [
       "<div>\n",
       "<style scoped>\n",
       "    .dataframe tbody tr th:only-of-type {\n",
       "        vertical-align: middle;\n",
       "    }\n",
       "\n",
       "    .dataframe tbody tr th {\n",
       "        vertical-align: top;\n",
       "    }\n",
       "\n",
       "    .dataframe thead th {\n",
       "        text-align: right;\n",
       "    }\n",
       "</style>\n",
       "<table border=\"1\" class=\"dataframe\">\n",
       "  <thead>\n",
       "    <tr style=\"text-align: right;\">\n",
       "      <th></th>\n",
       "      <th>query_id</th>\n",
       "      <th>refer_id</th>\n",
       "      <th>identity</th>\n",
       "      <th>alignment_length</th>\n",
       "      <th>mismatches</th>\n",
       "      <th>gap_openings</th>\n",
       "      <th>q.start</th>\n",
       "      <th>q.end</th>\n",
       "      <th>s.start</th>\n",
       "      <th>s.end</th>\n",
       "      <th>e-value</th>\n",
       "      <th>bit_score</th>\n",
       "      <th>length</th>\n",
       "      <th>coverage</th>\n",
       "      <th>refer</th>\n",
       "      <th>genome_id</th>\n",
       "    </tr>\n",
       "  </thead>\n",
       "  <tbody>\n",
       "    <tr>\n",
       "      <th>26</th>\n",
       "      <td>AJ239289.1.1355</td>\n",
       "      <td>16S_rRNA::ADBE01000137.1:300-1836(+)</td>\n",
       "      <td>100.0</td>\n",
       "      <td>1355</td>\n",
       "      <td>0</td>\n",
       "      <td>0</td>\n",
       "      <td>1</td>\n",
       "      <td>1355</td>\n",
       "      <td>1</td>\n",
       "      <td>1536</td>\n",
       "      <td>-1</td>\n",
       "      <td>0</td>\n",
       "      <td>1355</td>\n",
       "      <td>1.0</td>\n",
       "      <td>ADBE01000137.1</td>\n",
       "      <td>GCA_000176735.1_genomic</td>\n",
       "    </tr>\n",
       "    <tr>\n",
       "      <th>1028</th>\n",
       "      <td>CP007065.253054.254560</td>\n",
       "      <td>16S_rRNA::AABF01000026.1:18737-20251(+)</td>\n",
       "      <td>99.7</td>\n",
       "      <td>1507</td>\n",
       "      <td>4</td>\n",
       "      <td>0</td>\n",
       "      <td>1</td>\n",
       "      <td>1507</td>\n",
       "      <td>1</td>\n",
       "      <td>1514</td>\n",
       "      <td>-1</td>\n",
       "      <td>0</td>\n",
       "      <td>1507</td>\n",
       "      <td>1.0</td>\n",
       "      <td>AABF01000026.1</td>\n",
       "      <td>GCA_000182945.1_genomic</td>\n",
       "    </tr>\n",
       "    <tr>\n",
       "      <th>504</th>\n",
       "      <td>JX424767.1.1450</td>\n",
       "      <td>16S_rRNA::CAPI01000044.1:3321-4819(-)</td>\n",
       "      <td>99.9</td>\n",
       "      <td>1450</td>\n",
       "      <td>1</td>\n",
       "      <td>0</td>\n",
       "      <td>1</td>\n",
       "      <td>1450</td>\n",
       "      <td>1</td>\n",
       "      <td>1498</td>\n",
       "      <td>-1</td>\n",
       "      <td>0</td>\n",
       "      <td>1450</td>\n",
       "      <td>1.0</td>\n",
       "      <td>CAPI01000044.1</td>\n",
       "      <td>GCA_000333815.1_genomic</td>\n",
       "    </tr>\n",
       "    <tr>\n",
       "      <th>2086</th>\n",
       "      <td>ATWA01000156.1.1244</td>\n",
       "      <td>16S_rRNA::ATWA01000156.1:0-1245(-)</td>\n",
       "      <td>100.0</td>\n",
       "      <td>1244</td>\n",
       "      <td>0</td>\n",
       "      <td>0</td>\n",
       "      <td>1</td>\n",
       "      <td>1244</td>\n",
       "      <td>1</td>\n",
       "      <td>1245</td>\n",
       "      <td>-1</td>\n",
       "      <td>0</td>\n",
       "      <td>1244</td>\n",
       "      <td>1.0</td>\n",
       "      <td>ATWA01000156.1</td>\n",
       "      <td>GCA_000421005.1_genomic</td>\n",
       "    </tr>\n",
       "    <tr>\n",
       "      <th>887</th>\n",
       "      <td>HE681338.1.1507</td>\n",
       "      <td>16S_rRNA::AZKM01000010.1:338-1852(+)</td>\n",
       "      <td>99.5</td>\n",
       "      <td>1507</td>\n",
       "      <td>7</td>\n",
       "      <td>0</td>\n",
       "      <td>1</td>\n",
       "      <td>1507</td>\n",
       "      <td>1</td>\n",
       "      <td>1514</td>\n",
       "      <td>-1</td>\n",
       "      <td>0</td>\n",
       "      <td>1507</td>\n",
       "      <td>1.0</td>\n",
       "      <td>AZKM01000010.1</td>\n",
       "      <td>GCA_000510425.1_genomic</td>\n",
       "    </tr>\n",
       "  </tbody>\n",
       "</table>\n",
       "</div>"
      ],
      "text/plain": [
       "                    query_id                                 refer_id  \\\n",
       "26           AJ239289.1.1355     16S_rRNA::ADBE01000137.1:300-1836(+)   \n",
       "1028  CP007065.253054.254560  16S_rRNA::AABF01000026.1:18737-20251(+)   \n",
       "504          JX424767.1.1450    16S_rRNA::CAPI01000044.1:3321-4819(-)   \n",
       "2086     ATWA01000156.1.1244       16S_rRNA::ATWA01000156.1:0-1245(-)   \n",
       "887          HE681338.1.1507     16S_rRNA::AZKM01000010.1:338-1852(+)   \n",
       "\n",
       "      identity  alignment_length  mismatches  gap_openings  q.start  q.end  \\\n",
       "26       100.0              1355           0             0        1   1355   \n",
       "1028      99.7              1507           4             0        1   1507   \n",
       "504       99.9              1450           1             0        1   1450   \n",
       "2086     100.0              1244           0             0        1   1244   \n",
       "887       99.5              1507           7             0        1   1507   \n",
       "\n",
       "      s.start  s.end  e-value  bit_score  length  coverage           refer  \\\n",
       "26          1   1536       -1          0    1355       1.0  ADBE01000137.1   \n",
       "1028        1   1514       -1          0    1507       1.0  AABF01000026.1   \n",
       "504         1   1498       -1          0    1450       1.0  CAPI01000044.1   \n",
       "2086        1   1245       -1          0    1244       1.0  ATWA01000156.1   \n",
       "887         1   1514       -1          0    1507       1.0  AZKM01000010.1   \n",
       "\n",
       "                    genome_id  \n",
       "26    GCA_000176735.1_genomic  \n",
       "1028  GCA_000182945.1_genomic  \n",
       "504   GCA_000333815.1_genomic  \n",
       "2086  GCA_000421005.1_genomic  \n",
       "887   GCA_000510425.1_genomic  "
      ]
     },
     "execution_count": 310,
     "metadata": {},
     "output_type": "execute_result"
    }
   ],
   "source": [
    "vsearch_out.head()"
   ]
  },
  {
   "cell_type": "code",
   "execution_count": 365,
   "id": "1e6735d1-80bd-4068-8bc5-5cf2acbbc0b3",
   "metadata": {},
   "outputs": [],
   "source": [
    "vsearch_out[\"query_id\"] = [id_mapping[i] for i in vsearch_out.query_id.values]"
   ]
  },
  {
   "cell_type": "code",
   "execution_count": 366,
   "id": "3c123769-4872-4cbf-91b7-98471be64920",
   "metadata": {},
   "outputs": [],
   "source": [
    "vsearch_out.to_csv(\"Data/vsearch_res.csv\", index=None)"
   ]
  },
  {
   "cell_type": "code",
   "execution_count": 313,
   "id": "9a7edcaf-ae47-401b-a84b-2ddbb95b26c4",
   "metadata": {},
   "outputs": [],
   "source": [
    "genome_fid = {}\n",
    "for i in range(vsearch_out.shape[0]):\n",
    "    temp = vsearch_out.iloc[i].values\n",
    "    genome_fid[temp[1]] = temp[0]"
   ]
  },
  {
   "cell_type": "code",
   "execution_count": 315,
   "id": "57870783-f971-4b50-b9d2-a7d0ce3c04ad",
   "metadata": {},
   "outputs": [],
   "source": [
    "# 保存为 JSON 文件\n",
    "with open(\"Data/genome_fid.json\", \"w\") as f:\n",
    "    json.dump(genome_fid, f, indent=4)  # indent 用于美化输出"
   ]
  },
  {
   "cell_type": "code",
   "execution_count": 368,
   "id": "97d7860b-2ac9-4eb6-8898-b627083c65fa",
   "metadata": {},
   "outputs": [],
   "source": [
    "genome_fid = {}\n",
    "for i in range(vsearch_out.shape[0]):\n",
    "    temp = vsearch_out.iloc[i].values\n",
    "    genome_fid[temp[15]] = temp[0]"
   ]
  },
  {
   "cell_type": "code",
   "execution_count": 339,
   "id": "0b6cdab9-5916-465e-aeba-b2f919c4ac7f",
   "metadata": {},
   "outputs": [],
   "source": [
    "id_genome = {}\n",
    "for i in range(vsearch_out.shape[0]):\n",
    "    temp = vsearch_out.iloc[i].values\n",
    "    id_genome[temp[14]] = temp[15]"
   ]
  },
  {
   "cell_type": "markdown",
   "id": "692f4519-15aa-4953-b562-7d5f6c6564aa",
   "metadata": {},
   "source": [
    "### 16S identity"
   ]
  },
  {
   "cell_type": "code",
   "execution_count": 320,
   "id": "51d9260f-de15-4c6c-bdeb-9caf9c9be63a",
   "metadata": {
    "scrolled": true
   },
   "outputs": [],
   "source": [
    "with open(\"Data/identity_matrix.txt\", \"r\") as file:\n",
    "    data = file.readlines()\n",
    "value = []\n",
    "genome_id = []\n",
    "for line in data:\n",
    "    genome_id.append(line.split(\" \")[0])\n",
    "    temp = line.split(\"\\n\")[0].split(\" \")[1:]\n",
    "    temp = [float(item) for item in temp if item != \"\"]\n",
    "    value.append(temp)"
   ]
  },
  {
   "cell_type": "code",
   "execution_count": 324,
   "id": "fb591072-63ee-4d77-b039-54a31df03d27",
   "metadata": {},
   "outputs": [],
   "source": [
    "identity_table = pd.DataFrame(data=value[1:], index=genome_id[1:], columns=genome_id[1:])\n",
    "identity_table = identity_table.loc[vsearch_out.refer.values, vsearch_out.refer.values]"
   ]
  },
  {
   "cell_type": "code",
   "execution_count": 326,
   "id": "b77e692d-da36-47a6-bf93-7c76138f0ac3",
   "metadata": {},
   "outputs": [],
   "source": [
    "upper_triangle = np.triu(identity_table, k=1)\n",
    "upper_triangle = pd.DataFrame(data=upper_triangle, index=identity_table.index, columns=identity_table.index)\n",
    "upper_triangle['id_1'] = upper_triangle.index.tolist()\n",
    "upper_triangle = pd.melt(upper_triangle, id_vars=\"id_1\")\n",
    "upper_triangle = upper_triangle.loc[upper_triangle.value != 0]\n",
    "upper_triangle.columns = [\"id_1\", \"id_2\", \"identity\"]"
   ]
  },
  {
   "cell_type": "code",
   "execution_count": 327,
   "id": "acb6677d-05cf-4a45-9e0f-d66cc98d29f6",
   "metadata": {},
   "outputs": [],
   "source": [
    "upper_triangle = upper_triangle.loc[upper_triangle.identity < 97]"
   ]
  },
  {
   "cell_type": "code",
   "execution_count": 328,
   "id": "4f6a0a8c-5700-41c5-84a2-467069d9b4f4",
   "metadata": {},
   "outputs": [
    {
     "data": {
      "text/html": [
       "<div>\n",
       "<style scoped>\n",
       "    .dataframe tbody tr th:only-of-type {\n",
       "        vertical-align: middle;\n",
       "    }\n",
       "\n",
       "    .dataframe tbody tr th {\n",
       "        vertical-align: top;\n",
       "    }\n",
       "\n",
       "    .dataframe thead th {\n",
       "        text-align: right;\n",
       "    }\n",
       "</style>\n",
       "<table border=\"1\" class=\"dataframe\">\n",
       "  <thead>\n",
       "    <tr style=\"text-align: right;\">\n",
       "      <th></th>\n",
       "      <th>id_1</th>\n",
       "      <th>id_2</th>\n",
       "      <th>identity</th>\n",
       "    </tr>\n",
       "  </thead>\n",
       "  <tbody>\n",
       "    <tr>\n",
       "      <th>1001</th>\n",
       "      <td>ADBE01000137.1</td>\n",
       "      <td>AABF01000026.1</td>\n",
       "      <td>74.042273</td>\n",
       "    </tr>\n",
       "    <tr>\n",
       "      <th>2002</th>\n",
       "      <td>ADBE01000137.1</td>\n",
       "      <td>CAPI01000044.1</td>\n",
       "      <td>71.762347</td>\n",
       "    </tr>\n",
       "    <tr>\n",
       "      <th>2003</th>\n",
       "      <td>AABF01000026.1</td>\n",
       "      <td>CAPI01000044.1</td>\n",
       "      <td>72.029370</td>\n",
       "    </tr>\n",
       "    <tr>\n",
       "      <th>3003</th>\n",
       "      <td>ADBE01000137.1</td>\n",
       "      <td>ATWA01000156.1</td>\n",
       "      <td>79.598391</td>\n",
       "    </tr>\n",
       "    <tr>\n",
       "      <th>3004</th>\n",
       "      <td>AABF01000026.1</td>\n",
       "      <td>ATWA01000156.1</td>\n",
       "      <td>78.955823</td>\n",
       "    </tr>\n",
       "  </tbody>\n",
       "</table>\n",
       "</div>"
      ],
      "text/plain": [
       "                id_1            id_2   identity\n",
       "1001  ADBE01000137.1  AABF01000026.1  74.042273\n",
       "2002  ADBE01000137.1  CAPI01000044.1  71.762347\n",
       "2003  AABF01000026.1  CAPI01000044.1  72.029370\n",
       "3003  ADBE01000137.1  ATWA01000156.1  79.598391\n",
       "3004  AABF01000026.1  ATWA01000156.1  78.955823"
      ]
     },
     "execution_count": 328,
     "metadata": {},
     "output_type": "execute_result"
    }
   ],
   "source": [
    "upper_triangle.head()"
   ]
  },
  {
   "cell_type": "code",
   "execution_count": 340,
   "id": "1b004b60-5546-4fb1-a4f0-b3bc45e6e420",
   "metadata": {},
   "outputs": [],
   "source": [
    "genome_id_1 = []\n",
    "genome_id_2 = []\n",
    "for i in range(upper_triangle.shape[0]):\n",
    "    temp = upper_triangle.iloc[i].values\n",
    "    genome_id_1.append(id_genome[temp[0]])\n",
    "    genome_id_2.append(id_genome[temp[1]])"
   ]
  },
  {
   "cell_type": "code",
   "execution_count": 341,
   "id": "153ecc9a-b48f-4797-9b8f-f37a153d402c",
   "metadata": {},
   "outputs": [],
   "source": [
    "genome_pairs = pd.DataFrame({\"id_1\":genome_id_1, \"id_2\":genome_id_2})"
   ]
  },
  {
   "cell_type": "code",
   "execution_count": 343,
   "id": "78c74cf5-6a5e-427c-9e34-6d3aa844d690",
   "metadata": {},
   "outputs": [
    {
     "data": {
      "text/html": [
       "<div>\n",
       "<style scoped>\n",
       "    .dataframe tbody tr th:only-of-type {\n",
       "        vertical-align: middle;\n",
       "    }\n",
       "\n",
       "    .dataframe tbody tr th {\n",
       "        vertical-align: top;\n",
       "    }\n",
       "\n",
       "    .dataframe thead th {\n",
       "        text-align: right;\n",
       "    }\n",
       "</style>\n",
       "<table border=\"1\" class=\"dataframe\">\n",
       "  <thead>\n",
       "    <tr style=\"text-align: right;\">\n",
       "      <th></th>\n",
       "      <th>id_1</th>\n",
       "      <th>id_2</th>\n",
       "    </tr>\n",
       "  </thead>\n",
       "  <tbody>\n",
       "    <tr>\n",
       "      <th>0</th>\n",
       "      <td>GCA_000176735.1_genomic</td>\n",
       "      <td>GCA_000182945.1_genomic</td>\n",
       "    </tr>\n",
       "    <tr>\n",
       "      <th>1</th>\n",
       "      <td>GCA_000176735.1_genomic</td>\n",
       "      <td>GCA_000333815.1_genomic</td>\n",
       "    </tr>\n",
       "    <tr>\n",
       "      <th>2</th>\n",
       "      <td>GCA_000182945.1_genomic</td>\n",
       "      <td>GCA_000333815.1_genomic</td>\n",
       "    </tr>\n",
       "    <tr>\n",
       "      <th>3</th>\n",
       "      <td>GCA_000176735.1_genomic</td>\n",
       "      <td>GCA_000421005.1_genomic</td>\n",
       "    </tr>\n",
       "    <tr>\n",
       "      <th>4</th>\n",
       "      <td>GCA_000182945.1_genomic</td>\n",
       "      <td>GCA_000421005.1_genomic</td>\n",
       "    </tr>\n",
       "  </tbody>\n",
       "</table>\n",
       "</div>"
      ],
      "text/plain": [
       "                      id_1                     id_2\n",
       "0  GCA_000176735.1_genomic  GCA_000182945.1_genomic\n",
       "1  GCA_000176735.1_genomic  GCA_000333815.1_genomic\n",
       "2  GCA_000182945.1_genomic  GCA_000333815.1_genomic\n",
       "3  GCA_000176735.1_genomic  GCA_000421005.1_genomic\n",
       "4  GCA_000182945.1_genomic  GCA_000421005.1_genomic"
      ]
     },
     "execution_count": 343,
     "metadata": {},
     "output_type": "execute_result"
    }
   ],
   "source": [
    "genome_pairs.head()"
   ]
  },
  {
   "cell_type": "code",
   "execution_count": 344,
   "id": "414fe897-d381-42ad-a68a-a60bd85102e3",
   "metadata": {},
   "outputs": [],
   "source": [
    "genome_id = np.unique(genome_pairs.id_1.tolist() + genome_pairs.id_2.tolist())\n",
    "genome_id = pd.DataFrame({\"id\": genome_id})\n",
    "genome_id.to_csv(\"Data/genome_id.txt\", index=None, header=None)"
   ]
  },
  {
   "cell_type": "code",
   "execution_count": 345,
   "id": "b6d21806-8daa-46c5-be92-20cf09b86a9c",
   "metadata": {},
   "outputs": [],
   "source": [
    "genome_pairs.to_csv(\"/home/dongbiao/word_embedding_microbiome/HGT/HGT_network/genome_pairs_vsearch.txt\", sep=\" \", index=None, header=None)"
   ]
  },
  {
   "cell_type": "markdown",
   "id": "2dd91867-9211-48d4-881d-e4dce4f14152",
   "metadata": {},
   "source": [
    "### HGT"
   ]
  },
  {
   "cell_type": "code",
   "execution_count": null,
   "id": "1ba2c88d-321a-4767-88ae-1b37988dec0e",
   "metadata": {},
   "outputs": [],
   "source": [
    "path=\"/home/dongbiao/word_embedding_microbiome/HGT/HGT_network/results/filtered\"\n",
    "\n",
    "hgt = []\n",
    "genome_1 = genome_pairs.iloc[:,0].values\n",
    "genome_2 = genome_pairs.iloc[:,1].values\n",
    "for i in tqdm(range(genome_pairs.shape[0]), desc=\"Processing\"):\n",
    "    temp = genome_pairs.iloc[i].values\n",
    "    try:\n",
    "        table = pd.read_csv(f\"{path}/{temp[0]}.fna_vs_{temp[1]}.fna_filtered.tsv\")\n",
    "        hgt.append(table.shape[0])\n",
    "    except Exception:\n",
    "        hgt.append(0)\n",
    "\n",
    "identity = []\n",
    "cosine_co = []\n",
    "phy_dis = []\n",
    "for i in range(len(id_1)):\n",
    "    identity.append(identity_table.loc[id_1[i], id_2[i]])\n",
    "    cosine_co.append(embed_cos.loc[id_1[i], id_2[i]])\n",
    "    phy_dis.append(dm.loc[id_1[i], id_2[i]])\n",
    "\n",
    "hgt_res = pd.DataFrame({\"id_1\":id_1, \"id_2\":id_2, \"identity\":identity, \n",
    "                        \"cosine_co\":cosine_co, \"hgt\":hgt, \"phy_dis\":phy_dis})\n",
    "hgt_res.to_csv(\"Data/hgt.csv\", index=None)"
   ]
  },
  {
   "cell_type": "code",
   "execution_count": 420,
   "id": "bd4eee18-f8df-4404-b4b8-fe499126c92c",
   "metadata": {},
   "outputs": [],
   "source": [
    "hgt_embed = pd.read_csv(\"Data/hgt.csv\")"
   ]
  },
  {
   "cell_type": "code",
   "execution_count": 421,
   "id": "504f4c67-ce08-4712-9d08-de817e576fde",
   "metadata": {},
   "outputs": [
    {
     "data": {
      "text/html": [
       "<div>\n",
       "<style scoped>\n",
       "    .dataframe tbody tr th:only-of-type {\n",
       "        vertical-align: middle;\n",
       "    }\n",
       "\n",
       "    .dataframe tbody tr th {\n",
       "        vertical-align: top;\n",
       "    }\n",
       "\n",
       "    .dataframe thead th {\n",
       "        text-align: right;\n",
       "    }\n",
       "</style>\n",
       "<table border=\"1\" class=\"dataframe\">\n",
       "  <thead>\n",
       "    <tr style=\"text-align: right;\">\n",
       "      <th></th>\n",
       "      <th>id_1</th>\n",
       "      <th>id_2</th>\n",
       "      <th>identity</th>\n",
       "      <th>cosine_co</th>\n",
       "      <th>hgt</th>\n",
       "      <th>phy_dis</th>\n",
       "    </tr>\n",
       "  </thead>\n",
       "  <tbody>\n",
       "    <tr>\n",
       "      <th>0</th>\n",
       "      <td>AJ239289.1.1355</td>\n",
       "      <td>CP007065.253054.254560</td>\n",
       "      <td>74.042273</td>\n",
       "      <td>0.386691</td>\n",
       "      <td>0</td>\n",
       "      <td>1.07411</td>\n",
       "    </tr>\n",
       "    <tr>\n",
       "      <th>1</th>\n",
       "      <td>AJ239289.1.1355</td>\n",
       "      <td>JX424767.1.1450</td>\n",
       "      <td>71.762347</td>\n",
       "      <td>-0.224302</td>\n",
       "      <td>0</td>\n",
       "      <td>1.06876</td>\n",
       "    </tr>\n",
       "    <tr>\n",
       "      <th>2</th>\n",
       "      <td>CP007065.253054.254560</td>\n",
       "      <td>JX424767.1.1450</td>\n",
       "      <td>72.029370</td>\n",
       "      <td>0.002536</td>\n",
       "      <td>0</td>\n",
       "      <td>1.04679</td>\n",
       "    </tr>\n",
       "    <tr>\n",
       "      <th>3</th>\n",
       "      <td>AJ239289.1.1355</td>\n",
       "      <td>ATWA01000156.1.1244</td>\n",
       "      <td>79.598391</td>\n",
       "      <td>-0.007625</td>\n",
       "      <td>0</td>\n",
       "      <td>1.04354</td>\n",
       "    </tr>\n",
       "    <tr>\n",
       "      <th>4</th>\n",
       "      <td>CP007065.253054.254560</td>\n",
       "      <td>ATWA01000156.1.1244</td>\n",
       "      <td>78.955823</td>\n",
       "      <td>0.303940</td>\n",
       "      <td>0</td>\n",
       "      <td>1.02157</td>\n",
       "    </tr>\n",
       "  </tbody>\n",
       "</table>\n",
       "</div>"
      ],
      "text/plain": [
       "                     id_1                    id_2   identity  cosine_co  hgt  \\\n",
       "0         AJ239289.1.1355  CP007065.253054.254560  74.042273   0.386691    0   \n",
       "1         AJ239289.1.1355         JX424767.1.1450  71.762347  -0.224302    0   \n",
       "2  CP007065.253054.254560         JX424767.1.1450  72.029370   0.002536    0   \n",
       "3         AJ239289.1.1355     ATWA01000156.1.1244  79.598391  -0.007625    0   \n",
       "4  CP007065.253054.254560     ATWA01000156.1.1244  78.955823   0.303940    0   \n",
       "\n",
       "   phy_dis  \n",
       "0  1.07411  \n",
       "1  1.06876  \n",
       "2  1.04679  \n",
       "3  1.04354  \n",
       "4  1.02157  "
      ]
     },
     "execution_count": 421,
     "metadata": {},
     "output_type": "execute_result"
    }
   ],
   "source": [
    "hgt_embed.head()"
   ]
  }
 ],
 "metadata": {
  "kernelspec": {
   "display_name": "Python 3 (ipykernel)",
   "language": "python",
   "name": "python3"
  },
  "language_info": {
   "codemirror_mode": {
    "name": "ipython",
    "version": 3
   },
   "file_extension": ".py",
   "mimetype": "text/x-python",
   "name": "python",
   "nbconvert_exporter": "python",
   "pygments_lexer": "ipython3",
   "version": "3.9.22"
  }
 },
 "nbformat": 4,
 "nbformat_minor": 5
}
