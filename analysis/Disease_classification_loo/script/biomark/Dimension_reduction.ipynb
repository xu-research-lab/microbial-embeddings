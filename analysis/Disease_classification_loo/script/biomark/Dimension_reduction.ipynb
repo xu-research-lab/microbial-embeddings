{
 "cells": [
  {
   "cell_type": "code",
   "execution_count": 1,
   "id": "f839de07-9c00-4a33-8f7e-ae98b61891c9",
   "metadata": {},
   "outputs": [],
   "source": [
    "import pandas as pd\n",
    "import numpy as np"
   ]
  },
  {
   "cell_type": "code",
   "execution_count": 148,
   "id": "f88a05c1-0aa0-493e-8c88-1b74c9985fa2",
   "metadata": {},
   "outputs": [],
   "source": [
    "import matplotlib.pyplot as plt\n",
    "import seaborn as sns"
   ]
  },
  {
   "cell_type": "code",
   "execution_count": 140,
   "id": "e35bc119-1c5a-4e9c-8d55-cb94577a91af",
   "metadata": {},
   "outputs": [],
   "source": [
    "from sklearn.manifold import MDS"
   ]
  },
  {
   "cell_type": "code",
   "execution_count": 45,
   "id": "f73392d7-30ed-4432-ba10-b5699564346a",
   "metadata": {},
   "outputs": [],
   "source": [
    "from sklearn.metrics.pairwise import cosine_similarity"
   ]
  },
  {
   "cell_type": "code",
   "execution_count": 750,
   "id": "591b75fd-b900-4dd5-b668-1411627b20cf",
   "metadata": {},
   "outputs": [],
   "source": [
    "co_embedding = pd.read_csv(\"../../../../data/social_niche_embedding_100.txt\",\n",
    "                          header=None, sep=\" \", low_memory=False, index_col=0)\n",
    "co_embedding.drop(\"<unk>\", inplace=True)\n",
    "phy_embedding = pd.read_csv(\"../../../../data/Embedding_list/PCA_100.txt\",\n",
    "                          header=None, sep=\" \", low_memory=False, index_col=0)\n",
    "phy_embedding.drop(\"<unk>\", inplace=True)\n",
    "inter_id = np.intersect1d(co_embedding.index, phy_embedding.index)\n",
    "co_embedding = co_embedding.loc[inter_id]\n",
    "phy_embedding = phy_embedding.loc[inter_id]"
   ]
  },
  {
   "cell_type": "code",
   "execution_count": 876,
   "id": "a83d0000-f166-4bbc-a371-f7249a71ebe8",
   "metadata": {},
   "outputs": [],
   "source": [
    "metadata = pd.read_csv(\"../../Data/disease_data/IBD/metadata.tsv\", sep=\"\\t\", index_col=0)\n",
    "IBD_study = [\"PRJNA324147\", \"PRJNA368966\", \"PRJNA422193\", \"PRJNA431126\", \"PRJNA450340\", \"qiita_1629\", \"qiita_2538\", \"RISK_PRISM_f\"]"
   ]
  },
  {
   "cell_type": "code",
   "execution_count": 883,
   "id": "1af07064-e7f2-4777-bc85-0cb34052bef3",
   "metadata": {
    "scrolled": true
   },
   "outputs": [],
   "source": [
    "shap_test = {}\n",
    "fids = []\n",
    "sids = []\n",
    "for n in IBD_study:\n",
    "    sid = metadata.loc[metadata.study.values == n].index.values\n",
    "    df = pd.read_csv(f\"../../Data/biomark/shap_table_{n}.csv\", index_col=0)\n",
    "    df = df.loc[sid]\n",
    "    inter_id = np.intersect1d(df.columns.values, co_embedding.index.values)\n",
    "    fids = fids + list(inter_id)\n",
    "    sids = sids + list(df.index.values)\n",
    "    df = df.loc[:, inter_id]\n",
    "    shap_test[n] = df"
   ]
  },
  {
   "cell_type": "code",
   "execution_count": 884,
   "id": "8dc6c8c6-8df3-4f26-90c9-821437d85ff9",
   "metadata": {},
   "outputs": [],
   "source": [
    "fids = np.unique(fids)"
   ]
  },
  {
   "cell_type": "code",
   "execution_count": 885,
   "id": "126c2e34-7edf-4272-b9fe-2c40199caf3e",
   "metadata": {},
   "outputs": [],
   "source": [
    "shape_df = pd.DataFrame(0, index=sids, columns=fids)"
   ]
  },
  {
   "cell_type": "code",
   "execution_count": 887,
   "id": "6e3332c2-2233-4015-a832-fb2af54bd334",
   "metadata": {},
   "outputs": [],
   "source": [
    "for n in IBD_study:\n",
    "    shape_df.loc[shap_test[n].index.values, shap_test[n].columns.values] = shap_test[n].values"
   ]
  },
  {
   "cell_type": "code",
   "execution_count": 888,
   "id": "4e518c0c-9996-4990-b2f8-91ee63f906bc",
   "metadata": {},
   "outputs": [],
   "source": [
    "fid = shape_df.columns\n",
    "fid_importacne = shape_df.mean().values\n",
    "df_shap_mean = pd.DataFrame({\"fid\":fid, \"fid_importacne\":fid_importacne})\n",
    "df_shap_mean = df_shap_mean.sort_values(\"fid_importacne\")"
   ]
  },
  {
   "cell_type": "code",
   "execution_count": 889,
   "id": "1dcf4dbe-7d41-4e9f-aecf-d628ee885444",
   "metadata": {},
   "outputs": [
    {
     "data": {
      "text/html": [
       "<div>\n",
       "<style scoped>\n",
       "    .dataframe tbody tr th:only-of-type {\n",
       "        vertical-align: middle;\n",
       "    }\n",
       "\n",
       "    .dataframe tbody tr th {\n",
       "        vertical-align: top;\n",
       "    }\n",
       "\n",
       "    .dataframe thead th {\n",
       "        text-align: right;\n",
       "    }\n",
       "</style>\n",
       "<table border=\"1\" class=\"dataframe\">\n",
       "  <thead>\n",
       "    <tr style=\"text-align: right;\">\n",
       "      <th></th>\n",
       "      <th>fid</th>\n",
       "      <th>fid_importacne</th>\n",
       "    </tr>\n",
       "  </thead>\n",
       "  <tbody>\n",
       "    <tr>\n",
       "      <th>1413</th>\n",
       "      <td>EF451616.1.1203</td>\n",
       "      <td>-0.015341</td>\n",
       "    </tr>\n",
       "    <tr>\n",
       "      <th>1915</th>\n",
       "      <td>EU766019.1.1351</td>\n",
       "      <td>-0.014384</td>\n",
       "    </tr>\n",
       "    <tr>\n",
       "      <th>4022</th>\n",
       "      <td>JQ456273.1.1334</td>\n",
       "      <td>-0.013953</td>\n",
       "    </tr>\n",
       "    <tr>\n",
       "      <th>1922</th>\n",
       "      <td>EU766108.1.1338</td>\n",
       "      <td>-0.012860</td>\n",
       "    </tr>\n",
       "    <tr>\n",
       "      <th>1896</th>\n",
       "      <td>EU765003.1.1353</td>\n",
       "      <td>-0.010880</td>\n",
       "    </tr>\n",
       "  </tbody>\n",
       "</table>\n",
       "</div>"
      ],
      "text/plain": [
       "                  fid  fid_importacne\n",
       "1413  EF451616.1.1203       -0.015341\n",
       "1915  EU766019.1.1351       -0.014384\n",
       "4022  JQ456273.1.1334       -0.013953\n",
       "1922  EU766108.1.1338       -0.012860\n",
       "1896  EU765003.1.1353       -0.010880"
      ]
     },
     "execution_count": 889,
     "metadata": {},
     "output_type": "execute_result"
    }
   ],
   "source": [
    "df_shap_mean.head()"
   ]
  },
  {
   "cell_type": "code",
   "execution_count": 891,
   "id": "0383da6c-0eeb-4a5a-baed-873880143ce4",
   "metadata": {},
   "outputs": [],
   "source": [
    "health_fid_biomark = df_shap_mean.iloc[0:50].fid.values\n",
    "disease_fid_biomark = df_shap_mean.iloc[-50:].fid.values"
   ]
  },
  {
   "cell_type": "code",
   "execution_count": 892,
   "id": "7d4e039e-7a83-4625-8e0d-be02d69a7509",
   "metadata": {},
   "outputs": [],
   "source": [
    "ibd_biomark_enrich_control = health_fid_biomark\n",
    "ibd_biomark_enrich_ibd = disease_fid_biomark"
   ]
  },
  {
   "cell_type": "code",
   "execution_count": 938,
   "id": "5f8e3b4b-2ae9-477c-b007-5582067679cf",
   "metadata": {
    "scrolled": true
   },
   "outputs": [
    {
     "name": "stderr",
     "output_type": "stream",
     "text": [
      "/home/dongbiao/.conda/envs/jupyter_notebook/lib/python3.9/site-packages/sklearn/manifold/_mds.py:299: FutureWarning: The default value of `normalized_stress` will change to `'auto'` in version 1.4. To suppress this warning, manually set the value of `normalized_stress`.\n",
      "  warnings.warn(\n",
      "/home/dongbiao/.conda/envs/jupyter_notebook/lib/python3.9/site-packages/sklearn/manifold/_mds.py:299: FutureWarning: The default value of `normalized_stress` will change to `'auto'` in version 1.4. To suppress this warning, manually set the value of `normalized_stress`.\n",
      "  warnings.warn(\n"
     ]
    }
   ],
   "source": [
    "mds = MDS(n_components=2, dissimilarity='precomputed', random_state=42)\n",
    "\n",
    "data = phy_embedding.loc[list(ibd_biomark_enrich_control) + list(ibd_biomark_enrich_ibd)]\n",
    "data = 1 - cosine_similarity(data)\n",
    "mds_coordinates = mds.fit_transform(data)\n",
    "id_ = list(health_fid_biomark) + list(disease_fid_biomark)\n",
    "group = [f\"IBD\" if i in disease_fid_biomark else \"Ctrl\" for i in id_]\n",
    "emb_type = [\"Phylo\"] * len(group)\n",
    "plot_data_1 = pd.DataFrame({\"t_SNE_1\": mds_coordinates[:,0], \"t_SNE_2\": mds_coordinates[:,1], \n",
    "                            \"group\": group, \"emb_type\": emb_type, \"fid\": id_})\n",
    "# abundance percentile\n",
    "data = co_embedding.loc[list(ibd_biomark_enrich_control) + list(ibd_biomark_enrich_ibd)]\n",
    "data = 1 - cosine_similarity(data)\n",
    "mds_coordinates = mds.fit_transform(data)\n",
    "id_ = list(health_fid_biomark) + list(disease_fid_biomark)\n",
    "group = [f\"IBD\" if i in disease_fid_biomark else \"Ctrl\" for i in id_]\n",
    "emb_type = [\"SNE\"] * len(group)\n",
    "plot_data_2 = pd.DataFrame({\"t_SNE_1\": mds_coordinates[:,0], \"t_SNE_2\": mds_coordinates[:,1], \n",
    "                          \"group\": group, \"emb_type\": emb_type, \"fid\": id_})"
   ]
  },
  {
   "cell_type": "code",
   "execution_count": 939,
   "id": "7bac4cda-468d-4120-b498-d8dbb005e345",
   "metadata": {},
   "outputs": [],
   "source": [
    "plot_data = pd.concat([plot_data_1, plot_data_2])\n",
    "plot_data.to_csv(\"../../Data/biomark/MDS_IBD_shap.csv\")"
   ]
  },
  {
   "cell_type": "markdown",
   "id": "1beda9ce-4cde-435d-bff8-25829dc02515",
   "metadata": {},
   "source": [
    "### CRC"
   ]
  },
  {
   "cell_type": "code",
   "execution_count": 920,
   "id": "7d326d4b-efa6-4eaa-9872-11753ca9164a",
   "metadata": {},
   "outputs": [],
   "source": [
    "metadata = pd.read_csv(\"../../Data/disease_data/IBD/metadata.tsv\", sep=\"\\t\", index_col=0)\n",
    "CRC_study = [\"PRJDB11845\", \"PRJEB36789\", \"PRJEB6070\", \"PRJNA290926\", \"PRJNA318004\", \"PRJNA430990\", \"PRJNA824020\"]"
   ]
  },
  {
   "cell_type": "code",
   "execution_count": 921,
   "id": "01c6b452-1640-40d4-9cb6-fe6d5eaa579a",
   "metadata": {},
   "outputs": [],
   "source": [
    "shap_test = {}\n",
    "fids = []\n",
    "sids = []\n",
    "for n in CRC_study:\n",
    "    sid = metadata.loc[metadata.study.values == n].index.values\n",
    "    df = pd.read_csv(f\"../../Data/biomark/shap_table_test_{n}.csv\", index_col=0)\n",
    "    df = df.loc[sid]\n",
    "    inter_id = np.intersect1d(df.columns.values, co_embedding.index.values)\n",
    "    fids = fids + list(inter_id)\n",
    "    sids = sids + list(df.index.values)\n",
    "    df = df.loc[:, inter_id]\n",
    "    shap_test[n] = df"
   ]
  },
  {
   "cell_type": "code",
   "execution_count": 922,
   "id": "24ed0033-a0d1-4293-92d3-8616fd99a1d2",
   "metadata": {},
   "outputs": [],
   "source": [
    "fids = np.unique(fids)\n",
    "shape_df = pd.DataFrame(0, index=sids, columns=fids)\n",
    "for n in CRC_study:\n",
    "    shape_df.loc[shap_test[n].index.values, shap_test[n].columns.values] = shap_test[n].values"
   ]
  },
  {
   "cell_type": "code",
   "execution_count": 923,
   "id": "1d131e1e-6488-4692-9ef3-bf24028aaac0",
   "metadata": {},
   "outputs": [],
   "source": [
    "fid = shape_df.columns\n",
    "fid_importacne = shape_df.mean().values\n",
    "df_shap_mean = pd.DataFrame({\"fid\":fid, \"fid_importacne\":fid_importacne})\n",
    "df_shap_mean = df_shap_mean.sort_values(\"fid_importacne\")"
   ]
  },
  {
   "cell_type": "code",
   "execution_count": 924,
   "id": "7c1ea516-95fa-4d9b-b202-0a455dacf226",
   "metadata": {},
   "outputs": [],
   "source": [
    "health_fid_biomark = df_shap_mean.iloc[0:50].fid.values\n",
    "disease_fid_biomark = df_shap_mean.iloc[-50:].fid.values"
   ]
  },
  {
   "cell_type": "code",
   "execution_count": 925,
   "id": "e80a0a0a-b4f6-4417-8a04-c92e8fc6021e",
   "metadata": {},
   "outputs": [],
   "source": [
    "crc_biomark_enrich_control = health_fid_biomark\n",
    "crc_biomark_enrich_crc = disease_fid_biomark"
   ]
  },
  {
   "cell_type": "code",
   "execution_count": 942,
   "id": "178fadf7-3369-44e7-bf9a-26ccdacb277f",
   "metadata": {},
   "outputs": [
    {
     "name": "stderr",
     "output_type": "stream",
     "text": [
      "/home/dongbiao/.conda/envs/jupyter_notebook/lib/python3.9/site-packages/sklearn/manifold/_mds.py:299: FutureWarning: The default value of `normalized_stress` will change to `'auto'` in version 1.4. To suppress this warning, manually set the value of `normalized_stress`.\n",
      "  warnings.warn(\n",
      "/home/dongbiao/.conda/envs/jupyter_notebook/lib/python3.9/site-packages/sklearn/manifold/_mds.py:299: FutureWarning: The default value of `normalized_stress` will change to `'auto'` in version 1.4. To suppress this warning, manually set the value of `normalized_stress`.\n",
      "  warnings.warn(\n"
     ]
    }
   ],
   "source": [
    "mds = MDS(n_components=2, dissimilarity='precomputed', random_state=42)\n",
    "\n",
    "data = phy_embedding.loc[list(crc_biomark_enrich_control) + list(crc_biomark_enrich_crc)]\n",
    "data = 1 - cosine_similarity(data)\n",
    "mds_coordinates = mds.fit_transform(data)\n",
    "id_ = list(health_fid_biomark) + list(disease_fid_biomark)\n",
    "group = [f\"CRC\" if i in disease_fid_biomark else \"Ctrl\" for i in id_]\n",
    "emb_type = [\"Phylo\"] * len(group)\n",
    "plot_data_1 = pd.DataFrame({\"t_SNE_1\": mds_coordinates[:,0], \"t_SNE_2\": mds_coordinates[:,1], \n",
    "                            \"group\": group, \"emb_type\": emb_type, \"fid\": id_})\n",
    "# abundance percentile\n",
    "data = co_embedding.loc[list(crc_biomark_enrich_control) + list(crc_biomark_enrich_crc)]\n",
    "data = 1 - cosine_similarity(data)\n",
    "mds_coordinates = mds.fit_transform(data)\n",
    "id_ = list(health_fid_biomark) + list(disease_fid_biomark)\n",
    "group = [f\"CRC\" if i in disease_fid_biomark else \"Ctrl\" for i in id_]\n",
    "emb_type = [\"SNE\"] * len(group)\n",
    "plot_data_2 = pd.DataFrame({\"t_SNE_1\": mds_coordinates[:,0], \"t_SNE_2\": mds_coordinates[:,1], \n",
    "                          \"group\": group, \"emb_type\": emb_type, \"fid\": id_})"
   ]
  },
  {
   "cell_type": "code",
   "execution_count": 943,
   "id": "a62cdc8e-dfa5-47e4-8bb1-45b4a85f07b8",
   "metadata": {},
   "outputs": [],
   "source": [
    "plot_data = pd.concat([plot_data_1, plot_data_2])\n",
    "plot_data.to_csv(\"../../Data/biomark/MDS_CRC_shap.csv\")"
   ]
  }
 ],
 "metadata": {
  "kernelspec": {
   "display_name": "Python 3 (ipykernel)",
   "language": "python",
   "name": "python3"
  },
  "language_info": {
   "codemirror_mode": {
    "name": "ipython",
    "version": 3
   },
   "file_extension": ".py",
   "mimetype": "text/x-python",
   "name": "python",
   "nbconvert_exporter": "python",
   "pygments_lexer": "ipython3",
   "version": "3.9.22"
  }
 },
 "nbformat": 4,
 "nbformat_minor": 5
}
