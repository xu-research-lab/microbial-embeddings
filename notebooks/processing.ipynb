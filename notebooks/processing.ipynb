{
 "cells": [
  {
   "cell_type": "code",
   "execution_count": 21,
   "id": "c44df793",
   "metadata": {
    "scrolled": true
   },
   "outputs": [],
   "source": [
    "import membed\n",
    "import numpy as np"
   ]
  },
  {
   "cell_type": "code",
   "execution_count": 2,
   "id": "2861bf63",
   "metadata": {},
   "outputs": [],
   "source": [
    "%matplotlib inline"
   ]
  },
  {
   "cell_type": "code",
   "execution_count": 3,
   "id": "670a462d",
   "metadata": {},
   "outputs": [],
   "source": [
    "from matplotlib import pyplot as plt"
   ]
  },
  {
   "cell_type": "code",
   "execution_count": 4,
   "id": "c23962d9",
   "metadata": {},
   "outputs": [],
   "source": [
    "import biom\n",
    "from pathlib import Path"
   ]
  },
  {
   "cell_type": "code",
   "execution_count": 5,
   "id": "261a389b",
   "metadata": {},
   "outputs": [],
   "source": [
    "data_dir = Path('../tests/data')"
   ]
  },
  {
   "cell_type": "code",
   "execution_count": 39,
   "id": "cc3ddfd0",
   "metadata": {},
   "outputs": [
    {
     "data": {
      "text/plain": [
       "41588 x 28743 <class 'biom.table.Table'> with 4932532 nonzero entries (0% dense)"
      ]
     },
     "execution_count": 39,
     "metadata": {},
     "output_type": "execute_result"
    }
   ],
   "source": [
    "ag = biom.load_table(data_dir / 'AGP-full.biom')\n",
    "fid = ag.ids('observation')\n",
    "ag"
   ]
  },
  {
   "cell_type": "code",
   "execution_count": 40,
   "id": "ef726acd",
   "metadata": {},
   "outputs": [
    {
     "data": {
      "text/plain": [
       "40950 x 28082 <class 'biom.table.Table'> with 4850848 nonzero entries (0% dense)"
      ]
     },
     "execution_count": 40,
     "metadata": {},
     "output_type": "execute_result"
    }
   ],
   "source": [
    "ag = biom.load_table(data_dir / 'AGP-noblank.biom')\n",
    "ag"
   ]
  },
  {
   "cell_type": "code",
   "execution_count": 8,
   "id": "2421395f",
   "metadata": {},
   "outputs": [
    {
     "data": {
      "text/plain": [
       "2900"
      ]
     },
     "execution_count": 8,
     "metadata": {},
     "output_type": "execute_result"
    }
   ],
   "source": [
    "singleton = ag.sum(axis='observation') < 2\n",
    "singleton.sum()"
   ]
  },
  {
   "cell_type": "code",
   "execution_count": 9,
   "id": "72747363",
   "metadata": {},
   "outputs": [
    {
     "data": {
      "text/plain": [
       "38050 x 28082 <class 'biom.table.Table'> with 4847948 nonzero entries (0% dense)"
      ]
     },
     "execution_count": 9,
     "metadata": {},
     "output_type": "execute_result"
    }
   ],
   "source": [
    "ag.filter(fid[singleton], invert=True, axis='observation')"
   ]
  },
  {
   "cell_type": "code",
   "execution_count": 10,
   "id": "c46444c6",
   "metadata": {},
   "outputs": [
    {
     "data": {
      "text/plain": [
       "38050 x 28082 <class 'biom.table.Table'> with 4847948 nonzero entries (0% dense)"
      ]
     },
     "execution_count": 10,
     "metadata": {},
     "output_type": "execute_result"
    }
   ],
   "source": [
    "ag.remove_empty()"
   ]
  },
  {
   "cell_type": "code",
   "execution_count": 182,
   "id": "15cd5cfb",
   "metadata": {},
   "outputs": [],
   "source": [
    "with biom.util.biom_open('../tests/data/AGP-ready.biom', 'w') as f:\n",
    "    ag.to_hdf5(f, 'removed blank samples and singleton features')"
   ]
  },
  {
   "cell_type": "code",
   "execution_count": 32,
   "id": "e2d81ee3",
   "metadata": {},
   "outputs": [
    {
     "data": {
      "text/plain": [
       "38050 x 28082 <class 'biom.table.Table'> with 4847948 nonzero entries (0% dense)"
      ]
     },
     "execution_count": 32,
     "metadata": {},
     "output_type": "execute_result"
    }
   ],
   "source": [
    "ag = biom.load_table(data_dir / 'AGP-ready.biom')\n",
    "fid = ag.ids('observation')\n",
    "ag"
   ]
  },
  {
   "cell_type": "code",
   "execution_count": 44,
   "id": "31208eba",
   "metadata": {},
   "outputs": [],
   "source": [
    "f, s = ag.shape"
   ]
  },
  {
   "cell_type": "code",
   "execution_count": 45,
   "id": "3ab5ee94",
   "metadata": {},
   "outputs": [
    {
     "name": "stdout",
     "output_type": "stream",
     "text": [
      "density: 0.004537067669574021\n"
     ]
    }
   ],
   "source": [
    "print('density:', np.sum(ag.matrix_data!=0) / (f * s))"
   ]
  },
  {
   "cell_type": "code",
   "execution_count": 46,
   "id": "29563c37",
   "metadata": {},
   "outputs": [
    {
     "data": {
      "text/plain": [
       "array(['10317.000001000', '10317.000001002', '10317.000001004', ...,\n",
       "       '10317.X00229110', '10317.X00229111', '10317.X00229112'],\n",
       "      dtype=object)"
      ]
     },
     "execution_count": 46,
     "metadata": {},
     "output_type": "execute_result"
    }
   ],
   "source": [
    "ag.ids('sample')"
   ]
  },
  {
   "cell_type": "markdown",
   "id": "3bf96f60",
   "metadata": {},
   "source": [
    "# filter low prevalence ASVs "
   ]
  },
  {
   "cell_type": "code",
   "execution_count": 7,
   "id": "76800ea2",
   "metadata": {},
   "outputs": [
    {
     "data": {
      "text/plain": [
       "['__class__',\n",
       " '__delattr__',\n",
       " '__dict__',\n",
       " '__dir__',\n",
       " '__doc__',\n",
       " '__eq__',\n",
       " '__format__',\n",
       " '__ge__',\n",
       " '__getattribute__',\n",
       " '__getitem__',\n",
       " '__gt__',\n",
       " '__hash__',\n",
       " '__init__',\n",
       " '__init_subclass__',\n",
       " '__iter__',\n",
       " '__le__',\n",
       " '__lt__',\n",
       " '__module__',\n",
       " '__ne__',\n",
       " '__new__',\n",
       " '__reduce__',\n",
       " '__reduce_ex__',\n",
       " '__repr__',\n",
       " '__setattr__',\n",
       " '__sizeof__',\n",
       " '__str__',\n",
       " '__subclasshook__',\n",
       " '__weakref__',\n",
       " '_axis_to_num',\n",
       " '_cast_metadata',\n",
       " '_conv_to_self_type',\n",
       " '_data',\n",
       " '_data_equality',\n",
       " '_extract_data_from_tsv',\n",
       " '_fast_merge',\n",
       " '_get_col',\n",
       " '_get_row',\n",
       " '_get_sparse_data',\n",
       " '_index',\n",
       " '_index_ids',\n",
       " '_intersect_id_order',\n",
       " '_invert_axis',\n",
       " '_iter_obs',\n",
       " '_iter_samp',\n",
       " '_obs_index',\n",
       " '_observation_group_metadata',\n",
       " '_observation_ids',\n",
       " '_observation_metadata',\n",
       " '_sample_group_metadata',\n",
       " '_sample_ids',\n",
       " '_sample_index',\n",
       " '_sample_metadata',\n",
       " '_to_dense',\n",
       " '_to_sparse',\n",
       " '_union_id_order',\n",
       " 'add_group_metadata',\n",
       " 'add_metadata',\n",
       " 'align_to',\n",
       " 'collapse',\n",
       " 'concat',\n",
       " 'copy',\n",
       " 'create_date',\n",
       " 'data',\n",
       " 'del_metadata',\n",
       " 'delimited_self',\n",
       " 'descriptive_equality',\n",
       " 'dtype',\n",
       " 'exists',\n",
       " 'filter',\n",
       " 'format_version',\n",
       " 'from_adjacency',\n",
       " 'from_hdf5',\n",
       " 'from_json',\n",
       " 'from_tsv',\n",
       " 'generated_by',\n",
       " 'get_table_density',\n",
       " 'get_value_by_ids',\n",
       " 'group_metadata',\n",
       " 'head',\n",
       " 'ids',\n",
       " 'index',\n",
       " 'is_empty',\n",
       " 'iter',\n",
       " 'iter_data',\n",
       " 'iter_pairwise',\n",
       " 'length',\n",
       " 'matrix_data',\n",
       " 'max',\n",
       " 'merge',\n",
       " 'metadata',\n",
       " 'metadata_to_dataframe',\n",
       " 'min',\n",
       " 'nnz',\n",
       " 'nonzero',\n",
       " 'nonzero_counts',\n",
       " 'norm',\n",
       " 'pa',\n",
       " 'partition',\n",
       " 'rankdata',\n",
       " 'reduce',\n",
       " 'remove_empty',\n",
       " 'shape',\n",
       " 'sort',\n",
       " 'sort_order',\n",
       " 'subsample',\n",
       " 'sum',\n",
       " 'table_id',\n",
       " 'to_anndata',\n",
       " 'to_dataframe',\n",
       " 'to_hdf5',\n",
       " 'to_json',\n",
       " 'to_tsv',\n",
       " 'transform',\n",
       " 'transpose',\n",
       " 'type',\n",
       " 'update_ids']"
      ]
     },
     "execution_count": 7,
     "metadata": {},
     "output_type": "execute_result"
    }
   ],
   "source": [
    "dir(ag)"
   ]
  },
  {
   "cell_type": "code",
   "execution_count": 24,
   "id": "392a61e0",
   "metadata": {},
   "outputs": [],
   "source": [
    "prevalence = ag.nonzero_counts(axis='observation')"
   ]
  },
  {
   "cell_type": "code",
   "execution_count": 25,
   "id": "3652aade",
   "metadata": {},
   "outputs": [],
   "source": [
    "preval_rate = prevalence / ag.shape[0]"
   ]
  },
  {
   "cell_type": "code",
   "execution_count": 29,
   "id": "fe1dc92b",
   "metadata": {},
   "outputs": [
    {
     "data": {
      "text/plain": [
       "(9287, 28763)"
      ]
     },
     "execution_count": 29,
     "metadata": {},
     "output_type": "execute_result"
    }
   ],
   "source": [
    "np.sum(prevalence == 1), np.sum(prevalence > 1)"
   ]
  },
  {
   "cell_type": "code",
   "execution_count": 27,
   "id": "58643fd4",
   "metadata": {},
   "outputs": [
    {
     "data": {
      "image/png": "[encoded data removed]",
      "text/plain": [
       "<Figure size 432x288 with 1 Axes>"
      ]
     },
     "metadata": {
      "needs_background": "light"
     },
     "output_type": "display_data"
    }
   ],
   "source": [
    "plt.hist(prevalence, bins=50, log=True);"
   ]
  },
  {
   "cell_type": "code",
   "execution_count": 33,
   "id": "45fbca19",
   "metadata": {},
   "outputs": [
    {
     "data": {
      "text/plain": [
       "28763 x 28082 <class 'biom.table.Table'> with 4838661 nonzero entries (0% dense)"
      ]
     },
     "execution_count": 33,
     "metadata": {},
     "output_type": "execute_result"
    }
   ],
   "source": [
    "ag.filter(fid[prevalence > 1], axis='observation')"
   ]
  },
  {
   "cell_type": "code",
   "execution_count": 35,
   "id": "20e41b06",
   "metadata": {},
   "outputs": [
    {
     "data": {
      "text/plain": [
       "28763 x 28082 <class 'biom.table.Table'> with 4838661 nonzero entries (0% dense)"
      ]
     },
     "execution_count": 35,
     "metadata": {},
     "output_type": "execute_result"
    }
   ],
   "source": [
    "ag.remove_empty()"
   ]
  },
  {
   "cell_type": "code",
   "execution_count": 36,
   "id": "7c88857f",
   "metadata": {},
   "outputs": [],
   "source": [
    "with biom.util.biom_open('../tests/data/AGP-ready-preval.1.biom', 'w') as f:\n",
    "    ag.to_hdf5(f, 'removed blank samples and singleton or low prevalence features')"
   ]
  },
  {
   "cell_type": "markdown",
   "id": "40f5fa0d",
   "metadata": {},
   "source": [
    "# subsample AGP table to smaller size"
   ]
  },
  {
   "cell_type": "code",
   "execution_count": 58,
   "id": "80cb48b0",
   "metadata": {},
   "outputs": [
    {
     "data": {
      "text/plain": [
       "array([  700,  1556,  3460,  7695, 17112])"
      ]
     },
     "execution_count": 58,
     "metadata": {},
     "output_type": "execute_result"
    }
   ],
   "source": [
    "np.logspace(np.log10(700), np.log10(f), 5, endpoint=False, dtype=int)"
   ]
  },
  {
   "cell_type": "markdown",
   "id": "e44e171e",
   "metadata": {},
   "source": [
    "### subsample in log scale"
   ]
  },
  {
   "cell_type": "code",
   "execution_count": 62,
   "id": "1b5fc45c",
   "metadata": {},
   "outputs": [
    {
     "name": "stdout",
     "output_type": "stream",
     "text": [
      "--- subsample feature size: 700, sample size: 2000\n",
      "proportion to the original size: 0.0013102233640714853\n",
      "700 x 1992 <class 'biom.table.Table'> with 18823 nonzero entries (1% dense)\n",
      "save subsampled table: ../tests/data/AGP_0.001_700x1992.biom \n",
      "\n",
      "--- subsample feature size: 1556, sample size: 3392\n",
      "proportion to the original size: 0.004939497160605589\n",
      "1556 x 3380 <class 'biom.table.Table'> with 57691 nonzero entries (1% dense)\n",
      "save subsampled table: ../tests/data/AGP_0.005_1556x3380.biom \n",
      "\n",
      "--- subsample feature size: 3460, sample size: 5754\n",
      "proportion to the original size: 0.018632162371114966\n",
      "3460 x 5753 <class 'biom.table.Table'> with 148620 nonzero entries (0% dense)\n",
      "save subsampled table: ../tests/data/AGP_0.019_3460x5753.biom \n",
      "\n",
      "--- subsample feature size: 7695, sample size: 9760\n",
      "proportion to the original size: 0.07028711954038114\n",
      "7695 x 9757 <class 'biom.table.Table'> with 427833 nonzero entries (0% dense)\n",
      "save subsampled table: ../tests/data/AGP_0.070_7695x9757.biom \n",
      "\n",
      "--- subsample feature size: 17112, sample size: 16555\n",
      "proportion to the original size: 0.2651229115858466\n",
      "17112 x 16554 <class 'biom.table.Table'> with 1372349 nonzero entries (0% dense)\n",
      "save subsampled table: ../tests/data/AGP_0.265_17112x16554.biom \n",
      "\n"
     ]
    }
   ],
   "source": [
    "for fi, si in zip(np.logspace(np.log2(700), np.log2(f), 5, base=2, endpoint=False, dtype=int), \n",
    "                  np.logspace(np.log2(2000), np.log2(s), 5, base=2, endpoint=False, dtype=int)):\n",
    "    print(f'--- subsample feature size: {fi}, sample size: {si}')\n",
    "    size = fi * si / (f * s)\n",
    "    print('proportion to the original size:', size)\n",
    "    agsub = ag.subsample(si, axis='sample', by_id=True, with_replacement=False).subsample(fi, axis='observation', by_id=True, with_replacement=False)\n",
    "    print(repr(agsub))\n",
    "    fi, si = agsub.shape\n",
    "    outpath = data_dir / f'AGP_{size:.3f}_{fi}x{si}.biom'\n",
    "    print('save subsampled table:', outpath, '\\n')\n",
    "    with biom.util.biom_open(str(outpath), 'w') as out:\n",
    "        agsub.to_hdf5(out, 'subsampled from AGP')"
   ]
  },
  {
   "cell_type": "markdown",
   "id": "99007fc7",
   "metadata": {},
   "source": [
    "### subsample in linear scale"
   ]
  },
  {
   "cell_type": "code",
   "execution_count": 49,
   "id": "060f189e",
   "metadata": {},
   "outputs": [
    {
     "name": "stdout",
     "output_type": "stream",
     "text": [
      "--- subsample feature size: -9223372036854775808, sample size: -9223372036854775808\n",
      "proportion to the original size: 0.0\n"
     ]
    },
    {
     "name": "stderr",
     "output_type": "stream",
     "text": [
      "/Users/zech/miniconda3/envs/membed/lib/python3.9/site-packages/numpy/core/function_base.py:278: RuntimeWarning: overflow encountered in power\n",
      "  return _nx.power(base, y).astype(dtype, copy=False)\n",
      "/var/folders/2x/jz5qtn5922lfzcnmjfd4hfwm0000gn/T/ipykernel_76972/1406443589.py:3: RuntimeWarning: overflow encountered in long_scalars\n",
      "  size = fi * si / (f * s)\n"
     ]
    },
    {
     "ename": "ValueError",
     "evalue": "n cannot be negative.",
     "output_type": "error",
     "traceback": [
      "\u001b[0;31m---------------------------------------------------------------------------\u001b[0m",
      "\u001b[0;31mValueError\u001b[0m                                Traceback (most recent call last)",
      "Input \u001b[0;32mIn [49]\u001b[0m, in \u001b[0;36m<cell line: 1>\u001b[0;34m()\u001b[0m\n\u001b[1;32m      3\u001b[0m size \u001b[38;5;241m=\u001b[39m fi \u001b[38;5;241m*\u001b[39m si \u001b[38;5;241m/\u001b[39m (f \u001b[38;5;241m*\u001b[39m s)\n\u001b[1;32m      4\u001b[0m \u001b[38;5;28mprint\u001b[39m(\u001b[38;5;124m'\u001b[39m\u001b[38;5;124mproportion to the original size:\u001b[39m\u001b[38;5;124m'\u001b[39m, size)\n\u001b[0;32m----> 5\u001b[0m agsub \u001b[38;5;241m=\u001b[39m \u001b[43mag\u001b[49m\u001b[38;5;241;43m.\u001b[39;49m\u001b[43msubsample\u001b[49m\u001b[43m(\u001b[49m\u001b[43msi\u001b[49m\u001b[43m,\u001b[49m\u001b[43m \u001b[49m\u001b[43maxis\u001b[49m\u001b[38;5;241;43m=\u001b[39;49m\u001b[38;5;124;43m'\u001b[39;49m\u001b[38;5;124;43msample\u001b[39;49m\u001b[38;5;124;43m'\u001b[39;49m\u001b[43m,\u001b[49m\u001b[43m \u001b[49m\u001b[43mby_id\u001b[49m\u001b[38;5;241;43m=\u001b[39;49m\u001b[38;5;28;43;01mTrue\u001b[39;49;00m\u001b[43m,\u001b[49m\u001b[43m \u001b[49m\u001b[43mwith_replacement\u001b[49m\u001b[38;5;241;43m=\u001b[39;49m\u001b[38;5;28;43;01mFalse\u001b[39;49;00m\u001b[43m)\u001b[49m\u001b[38;5;241m.\u001b[39msubsample(fi, axis\u001b[38;5;241m=\u001b[39m\u001b[38;5;124m'\u001b[39m\u001b[38;5;124mobservation\u001b[39m\u001b[38;5;124m'\u001b[39m, by_id\u001b[38;5;241m=\u001b[39m\u001b[38;5;28;01mTrue\u001b[39;00m, with_replacement\u001b[38;5;241m=\u001b[39m\u001b[38;5;28;01mFalse\u001b[39;00m)\n\u001b[1;32m      6\u001b[0m \u001b[38;5;28mprint\u001b[39m(\u001b[38;5;28mrepr\u001b[39m(agsub))\n\u001b[1;32m      7\u001b[0m fi, si \u001b[38;5;241m=\u001b[39m agsub\u001b[38;5;241m.\u001b[39mshape\n",
      "File \u001b[0;32m~/miniconda3/envs/membed/lib/python3.9/site-packages/biom/table.py:2813\u001b[0m, in \u001b[0;36mTable.subsample\u001b[0;34m(self, n, axis, by_id, with_replacement)\u001b[0m\n\u001b[1;32m   2743\u001b[0m \u001b[38;5;124;03m\"\"\"Randomly subsample without replacement.\u001b[39;00m\n\u001b[1;32m   2744\u001b[0m \n\u001b[1;32m   2745\u001b[0m \u001b[38;5;124;03mParameters\u001b[39;00m\n\u001b[0;32m   (...)\u001b[0m\n\u001b[1;32m   2810\u001b[0m \n\u001b[1;32m   2811\u001b[0m \u001b[38;5;124;03m\"\"\"\u001b[39;00m\n\u001b[1;32m   2812\u001b[0m \u001b[38;5;28;01mif\u001b[39;00m n \u001b[38;5;241m<\u001b[39m \u001b[38;5;241m0\u001b[39m:\n\u001b[0;32m-> 2813\u001b[0m     \u001b[38;5;28;01mraise\u001b[39;00m \u001b[38;5;167;01mValueError\u001b[39;00m(\u001b[38;5;124m\"\u001b[39m\u001b[38;5;124mn cannot be negative.\u001b[39m\u001b[38;5;124m\"\u001b[39m)\n\u001b[1;32m   2815\u001b[0m \u001b[38;5;28;01mif\u001b[39;00m with_replacement \u001b[38;5;129;01mand\u001b[39;00m by_id:\n\u001b[1;32m   2816\u001b[0m     \u001b[38;5;28;01mraise\u001b[39;00m \u001b[38;5;167;01mValueError\u001b[39;00m(\u001b[38;5;124m\"\u001b[39m\u001b[38;5;124mby_id and with_replacement cannot both be True\u001b[39m\u001b[38;5;124m\"\u001b[39m)\n",
      "\u001b[0;31mValueError\u001b[0m: n cannot be negative."
     ]
    }
   ],
   "source": [
    "for fi, si in zip(np.linspace(700, f, 5, endpoint=False, dtype=int), np.linspace(2000, s, 5, endpoint=False, dtype=int)):\n",
    "    print(f'--- subsample feature size: {fi}, sample size: {si}')\n",
    "    size = fi * si / (f * s)\n",
    "    print('proportion to the original size:', size)\n",
    "    agsub = ag.subsample(si, axis='sample', by_id=True, with_replacement=False).subsample(fi, axis='observation', by_id=True, with_replacement=False)\n",
    "    print(repr(agsub))\n",
    "    fi, si = agsub.shape\n",
    "    outpath = data_dir / f'AGP_{size:.3f}_{si}x{fi}.biom'\n",
    "    print('save subsampled table:', outpath, '\\n')\n",
    "    with biom.util.biom_open(str(outpath), 'w') as out:\n",
    "        agsub.to_hdf5(out, 'subsampled from AGP')"
   ]
  },
  {
   "cell_type": "markdown",
   "id": "ac47bd35",
   "metadata": {},
   "source": [
    "# benchmark time usage"
   ]
  },
  {
   "cell_type": "code",
   "execution_count": 69,
   "id": "06d9b67d",
   "metadata": {},
   "outputs": [],
   "source": [
    "from sklearn.metrics import pairwise_distances_chunked, pairwise_distances"
   ]
  },
  {
   "cell_type": "code",
   "execution_count": 94,
   "id": "0a6d4867",
   "metadata": {},
   "outputs": [],
   "source": [
    "from scipy.sparse import coo_array"
   ]
  },
  {
   "cell_type": "code",
   "execution_count": 118,
   "id": "39d6ab60",
   "metadata": {},
   "outputs": [],
   "source": [
    "from joblib import Parallel, delayed\n",
    "import time"
   ]
  },
  {
   "cell_type": "code",
   "execution_count": 104,
   "id": "3c621ff4",
   "metadata": {},
   "outputs": [],
   "source": [
    "data = biom.load_table('../tests/data/AGP_0.005_1556x3380.biom').matrix_data"
   ]
  },
  {
   "cell_type": "code",
   "execution_count": null,
   "id": "8a5a2c17",
   "metadata": {},
   "outputs": [],
   "source": [
    "data2 = biom.load_table('../tests/data/AGP_0.001_700x1992.biom').matrix_data"
   ]
  },
  {
   "cell_type": "code",
   "execution_count": 120,
   "id": "4af34958",
   "metadata": {},
   "outputs": [
    {
     "name": "stdout",
     "output_type": "stream",
     "text": [
      "4.2 s ± 96 ms per loop (mean ± std. dev. of 7 runs, 1 loop each)\n"
     ]
    }
   ],
   "source": [
    "%timeit Parallel(n_jobs=1)(delayed(slow_mean)(data, sl) for sl in slices)"
   ]
  },
  {
   "cell_type": "code",
   "execution_count": 92,
   "id": "190810ac",
   "metadata": {},
   "outputs": [],
   "source": [
    "def reduce_func(D_chunk, start):\n",
    "    print(f'create dist chunk with shape {D_chunk.shape}, starting at row {start}.')\n",
    "    return coo_array(D_chunk)"
   ]
  },
  {
   "cell_type": "code",
   "execution_count": 114,
   "id": "2866b6c5",
   "metadata": {},
   "outputs": [
    {
     "name": "stdout",
     "output_type": "stream",
     "text": [
      "create dist chunk with shape (1556, 1556), starting at row 0.\n",
      "create dist chunk with shape (1556, 1556), starting at row 0.\n",
      "create dist chunk with shape (1556, 1556), starting at row 0.\n",
      "create dist chunk with shape (1556, 1556), starting at row 0.\n",
      "create dist chunk with shape (1556, 1556), starting at row 0.\n",
      "create dist chunk with shape (1556, 1556), starting at row 0.\n",
      "create dist chunk with shape (1556, 1556), starting at row 0.\n",
      "create dist chunk with shape (1556, 1556), starting at row 0.\n",
      "28.4 s ± 451 ms per loop (mean ± std. dev. of 7 runs, 1 loop each)\n"
     ]
    }
   ],
   "source": [
    "%timeit list(pairwise_distances_chunked(data, metric=cooccur_abund, reduce_func=reduce_func, n_jobs=1))"
   ]
  },
  {
   "cell_type": "code",
   "execution_count": 98,
   "id": "450d2d75",
   "metadata": {},
   "outputs": [
    {
     "name": "stdout",
     "output_type": "stream",
     "text": [
      "create dist chunk with shape (700, 700), starting at row 0.\n",
      "create dist chunk with shape (700, 700), starting at row 0.\n",
      "create dist chunk with shape (700, 700), starting at row 0.\n",
      "create dist chunk with shape (700, 700), starting at row 0.\n",
      "create dist chunk with shape (700, 700), starting at row 0.\n",
      "create dist chunk with shape (700, 700), starting at row 0.\n",
      "create dist chunk with shape (700, 700), starting at row 0.\n",
      "create dist chunk with shape (700, 700), starting at row 0.\n",
      "32 s ± 6.77 s per loop (mean ± std. dev. of 7 runs, 1 loop each)\n"
     ]
    }
   ],
   "source": [
    "%timeit list(pairwise_distances_chunked(data, metric=cooccur_abund, reduce_func=reduce_func, n_jobs=-1))"
   ]
  },
  {
   "cell_type": "code",
   "execution_count": 110,
   "id": "508d232f",
   "metadata": {},
   "outputs": [
    {
     "name": "stdout",
     "output_type": "stream",
     "text": [
      "80.7 ms ± 8.75 ms per loop (mean ± std. dev. of 7 runs, 10 loops each)\n"
     ]
    }
   ],
   "source": [
    "%timeit pairwise_distances(data, metric=foo, n_jobs=1)"
   ]
  },
  {
   "cell_type": "code",
   "execution_count": 113,
   "id": "39d64ae9",
   "metadata": {},
   "outputs": [
    {
     "ename": "KeyboardInterrupt",
     "evalue": "",
     "output_type": "error",
     "traceback": [
      "\u001b[0;31m---------------------------------------------------------------------------\u001b[0m",
      "\u001b[0;31mKeyboardInterrupt\u001b[0m                         Traceback (most recent call last)",
      "Input \u001b[0;32mIn [113]\u001b[0m, in \u001b[0;36m<cell line: 1>\u001b[0;34m()\u001b[0m\n\u001b[0;32m----> 1\u001b[0m \u001b[43mget_ipython\u001b[49m\u001b[43m(\u001b[49m\u001b[43m)\u001b[49m\u001b[38;5;241;43m.\u001b[39;49m\u001b[43mrun_line_magic\u001b[49m\u001b[43m(\u001b[49m\u001b[38;5;124;43m'\u001b[39;49m\u001b[38;5;124;43mtimeit\u001b[39;49m\u001b[38;5;124;43m'\u001b[39;49m\u001b[43m,\u001b[49m\u001b[43m \u001b[49m\u001b[38;5;124;43m'\u001b[39;49m\u001b[38;5;124;43mpairwise_distances(data, metric=foo, n_jobs=2)\u001b[39;49m\u001b[38;5;124;43m'\u001b[39;49m\u001b[43m)\u001b[49m\n",
      "File \u001b[0;32m~/miniconda3/envs/membed/lib/python3.9/site-packages/IPython/core/interactiveshell.py:2304\u001b[0m, in \u001b[0;36mInteractiveShell.run_line_magic\u001b[0;34m(self, magic_name, line, _stack_depth)\u001b[0m\n\u001b[1;32m   2302\u001b[0m     kwargs[\u001b[38;5;124m'\u001b[39m\u001b[38;5;124mlocal_ns\u001b[39m\u001b[38;5;124m'\u001b[39m] \u001b[38;5;241m=\u001b[39m \u001b[38;5;28mself\u001b[39m\u001b[38;5;241m.\u001b[39mget_local_scope(stack_depth)\n\u001b[1;32m   2303\u001b[0m \u001b[38;5;28;01mwith\u001b[39;00m \u001b[38;5;28mself\u001b[39m\u001b[38;5;241m.\u001b[39mbuiltin_trap:\n\u001b[0;32m-> 2304\u001b[0m     result \u001b[38;5;241m=\u001b[39m \u001b[43mfn\u001b[49m\u001b[43m(\u001b[49m\u001b[38;5;241;43m*\u001b[39;49m\u001b[43margs\u001b[49m\u001b[43m,\u001b[49m\u001b[43m \u001b[49m\u001b[38;5;241;43m*\u001b[39;49m\u001b[38;5;241;43m*\u001b[39;49m\u001b[43mkwargs\u001b[49m\u001b[43m)\u001b[49m\n\u001b[1;32m   2305\u001b[0m \u001b[38;5;28;01mreturn\u001b[39;00m result\n",
      "File \u001b[0;32m~/miniconda3/envs/membed/lib/python3.9/site-packages/IPython/core/magics/execution.py:1162\u001b[0m, in \u001b[0;36mExecutionMagics.timeit\u001b[0;34m(self, line, cell, local_ns)\u001b[0m\n\u001b[1;32m   1160\u001b[0m \u001b[38;5;28;01mfor\u001b[39;00m index \u001b[38;5;129;01min\u001b[39;00m \u001b[38;5;28mrange\u001b[39m(\u001b[38;5;241m0\u001b[39m, \u001b[38;5;241m10\u001b[39m):\n\u001b[1;32m   1161\u001b[0m     number \u001b[38;5;241m=\u001b[39m \u001b[38;5;241m10\u001b[39m \u001b[38;5;241m*\u001b[39m\u001b[38;5;241m*\u001b[39m index\n\u001b[0;32m-> 1162\u001b[0m     time_number \u001b[38;5;241m=\u001b[39m \u001b[43mtimer\u001b[49m\u001b[38;5;241;43m.\u001b[39;49m\u001b[43mtimeit\u001b[49m\u001b[43m(\u001b[49m\u001b[43mnumber\u001b[49m\u001b[43m)\u001b[49m\n\u001b[1;32m   1163\u001b[0m     \u001b[38;5;28;01mif\u001b[39;00m time_number \u001b[38;5;241m>\u001b[39m\u001b[38;5;241m=\u001b[39m \u001b[38;5;241m0.2\u001b[39m:\n\u001b[1;32m   1164\u001b[0m         \u001b[38;5;28;01mbreak\u001b[39;00m\n",
      "File \u001b[0;32m~/miniconda3/envs/membed/lib/python3.9/site-packages/IPython/core/magics/execution.py:156\u001b[0m, in \u001b[0;36mTimer.timeit\u001b[0;34m(self, number)\u001b[0m\n\u001b[1;32m    154\u001b[0m gc\u001b[38;5;241m.\u001b[39mdisable()\n\u001b[1;32m    155\u001b[0m \u001b[38;5;28;01mtry\u001b[39;00m:\n\u001b[0;32m--> 156\u001b[0m     timing \u001b[38;5;241m=\u001b[39m \u001b[38;5;28;43mself\u001b[39;49m\u001b[38;5;241;43m.\u001b[39;49m\u001b[43minner\u001b[49m\u001b[43m(\u001b[49m\u001b[43mit\u001b[49m\u001b[43m,\u001b[49m\u001b[43m \u001b[49m\u001b[38;5;28;43mself\u001b[39;49m\u001b[38;5;241;43m.\u001b[39;49m\u001b[43mtimer\u001b[49m\u001b[43m)\u001b[49m\n\u001b[1;32m    157\u001b[0m \u001b[38;5;28;01mfinally\u001b[39;00m:\n\u001b[1;32m    158\u001b[0m     \u001b[38;5;28;01mif\u001b[39;00m gcold:\n",
      "File \u001b[0;32m<magic-timeit>:1\u001b[0m, in \u001b[0;36minner\u001b[0;34m(_it, _timer)\u001b[0m\n",
      "File \u001b[0;32m~/miniconda3/envs/membed/lib/python3.9/site-packages/sklearn/utils/validation.py:63\u001b[0m, in \u001b[0;36m_deprecate_positional_args.<locals>._inner_deprecate_positional_args.<locals>.inner_f\u001b[0;34m(*args, **kwargs)\u001b[0m\n\u001b[1;32m     61\u001b[0m extra_args \u001b[38;5;241m=\u001b[39m \u001b[38;5;28mlen\u001b[39m(args) \u001b[38;5;241m-\u001b[39m \u001b[38;5;28mlen\u001b[39m(all_args)\n\u001b[1;32m     62\u001b[0m \u001b[38;5;28;01mif\u001b[39;00m extra_args \u001b[38;5;241m<\u001b[39m\u001b[38;5;241m=\u001b[39m \u001b[38;5;241m0\u001b[39m:\n\u001b[0;32m---> 63\u001b[0m     \u001b[38;5;28;01mreturn\u001b[39;00m \u001b[43mf\u001b[49m\u001b[43m(\u001b[49m\u001b[38;5;241;43m*\u001b[39;49m\u001b[43margs\u001b[49m\u001b[43m,\u001b[49m\u001b[43m \u001b[49m\u001b[38;5;241;43m*\u001b[39;49m\u001b[38;5;241;43m*\u001b[39;49m\u001b[43mkwargs\u001b[49m\u001b[43m)\u001b[49m\n\u001b[1;32m     65\u001b[0m \u001b[38;5;66;03m# extra_args > 0\u001b[39;00m\n\u001b[1;32m     66\u001b[0m args_msg \u001b[38;5;241m=\u001b[39m [\u001b[38;5;124m'\u001b[39m\u001b[38;5;132;01m{}\u001b[39;00m\u001b[38;5;124m=\u001b[39m\u001b[38;5;132;01m{}\u001b[39;00m\u001b[38;5;124m'\u001b[39m\u001b[38;5;241m.\u001b[39mformat(name, arg)\n\u001b[1;32m     67\u001b[0m             \u001b[38;5;28;01mfor\u001b[39;00m name, arg \u001b[38;5;129;01min\u001b[39;00m \u001b[38;5;28mzip\u001b[39m(kwonly_args[:extra_args],\n\u001b[1;32m     68\u001b[0m                                  args[\u001b[38;5;241m-\u001b[39mextra_args:])]\n",
      "File \u001b[0;32m~/miniconda3/envs/membed/lib/python3.9/site-packages/sklearn/metrics/pairwise.py:1790\u001b[0m, in \u001b[0;36mpairwise_distances\u001b[0;34m(X, Y, metric, n_jobs, force_all_finite, **kwds)\u001b[0m\n\u001b[1;32m   1786\u001b[0m         \u001b[38;5;28;01mreturn\u001b[39;00m distance\u001b[38;5;241m.\u001b[39msquareform(distance\u001b[38;5;241m.\u001b[39mpdist(X, metric\u001b[38;5;241m=\u001b[39mmetric,\n\u001b[1;32m   1787\u001b[0m                                                   \u001b[38;5;241m*\u001b[39m\u001b[38;5;241m*\u001b[39mkwds))\n\u001b[1;32m   1788\u001b[0m     func \u001b[38;5;241m=\u001b[39m partial(distance\u001b[38;5;241m.\u001b[39mcdist, metric\u001b[38;5;241m=\u001b[39mmetric, \u001b[38;5;241m*\u001b[39m\u001b[38;5;241m*\u001b[39mkwds)\n\u001b[0;32m-> 1790\u001b[0m \u001b[38;5;28;01mreturn\u001b[39;00m \u001b[43m_parallel_pairwise\u001b[49m\u001b[43m(\u001b[49m\u001b[43mX\u001b[49m\u001b[43m,\u001b[49m\u001b[43m \u001b[49m\u001b[43mY\u001b[49m\u001b[43m,\u001b[49m\u001b[43m \u001b[49m\u001b[43mfunc\u001b[49m\u001b[43m,\u001b[49m\u001b[43m \u001b[49m\u001b[43mn_jobs\u001b[49m\u001b[43m,\u001b[49m\u001b[43m \u001b[49m\u001b[38;5;241;43m*\u001b[39;49m\u001b[38;5;241;43m*\u001b[39;49m\u001b[43mkwds\u001b[49m\u001b[43m)\u001b[49m\n",
      "File \u001b[0;32m~/miniconda3/envs/membed/lib/python3.9/site-packages/sklearn/metrics/pairwise.py:1364\u001b[0m, in \u001b[0;36m_parallel_pairwise\u001b[0;34m(X, Y, func, n_jobs, **kwds)\u001b[0m\n\u001b[1;32m   1362\u001b[0m fd \u001b[38;5;241m=\u001b[39m delayed(_dist_wrapper)\n\u001b[1;32m   1363\u001b[0m ret \u001b[38;5;241m=\u001b[39m np\u001b[38;5;241m.\u001b[39mempty((X\u001b[38;5;241m.\u001b[39mshape[\u001b[38;5;241m0\u001b[39m], Y\u001b[38;5;241m.\u001b[39mshape[\u001b[38;5;241m0\u001b[39m]), dtype\u001b[38;5;241m=\u001b[39mdtype, order\u001b[38;5;241m=\u001b[39m\u001b[38;5;124m'\u001b[39m\u001b[38;5;124mF\u001b[39m\u001b[38;5;124m'\u001b[39m)\n\u001b[0;32m-> 1364\u001b[0m \u001b[43mParallel\u001b[49m\u001b[43m(\u001b[49m\u001b[43mbackend\u001b[49m\u001b[38;5;241;43m=\u001b[39;49m\u001b[38;5;124;43m\"\u001b[39;49m\u001b[38;5;124;43mthreading\u001b[39;49m\u001b[38;5;124;43m\"\u001b[39;49m\u001b[43m,\u001b[49m\u001b[43m \u001b[49m\u001b[43mn_jobs\u001b[49m\u001b[38;5;241;43m=\u001b[39;49m\u001b[43mn_jobs\u001b[49m\u001b[43m)\u001b[49m\u001b[43m(\u001b[49m\n\u001b[1;32m   1365\u001b[0m \u001b[43m    \u001b[49m\u001b[43mfd\u001b[49m\u001b[43m(\u001b[49m\u001b[43mfunc\u001b[49m\u001b[43m,\u001b[49m\u001b[43m \u001b[49m\u001b[43mret\u001b[49m\u001b[43m,\u001b[49m\u001b[43m \u001b[49m\u001b[43ms\u001b[49m\u001b[43m,\u001b[49m\u001b[43m \u001b[49m\u001b[43mX\u001b[49m\u001b[43m,\u001b[49m\u001b[43m \u001b[49m\u001b[43mY\u001b[49m\u001b[43m[\u001b[49m\u001b[43ms\u001b[49m\u001b[43m]\u001b[49m\u001b[43m,\u001b[49m\u001b[43m \u001b[49m\u001b[38;5;241;43m*\u001b[39;49m\u001b[38;5;241;43m*\u001b[39;49m\u001b[43mkwds\u001b[49m\u001b[43m)\u001b[49m\n\u001b[1;32m   1366\u001b[0m \u001b[43m    \u001b[49m\u001b[38;5;28;43;01mfor\u001b[39;49;00m\u001b[43m \u001b[49m\u001b[43ms\u001b[49m\u001b[43m \u001b[49m\u001b[38;5;129;43;01min\u001b[39;49;00m\u001b[43m \u001b[49m\u001b[43mgen_even_slices\u001b[49m\u001b[43m(\u001b[49m\u001b[43m_num_samples\u001b[49m\u001b[43m(\u001b[49m\u001b[43mY\u001b[49m\u001b[43m)\u001b[49m\u001b[43m,\u001b[49m\u001b[43m \u001b[49m\u001b[43meffective_n_jobs\u001b[49m\u001b[43m(\u001b[49m\u001b[43mn_jobs\u001b[49m\u001b[43m)\u001b[49m\u001b[43m)\u001b[49m\u001b[43m)\u001b[49m\n\u001b[1;32m   1368\u001b[0m \u001b[38;5;28;01mif\u001b[39;00m (X \u001b[38;5;129;01mis\u001b[39;00m Y \u001b[38;5;129;01mor\u001b[39;00m Y \u001b[38;5;129;01mis\u001b[39;00m \u001b[38;5;28;01mNone\u001b[39;00m) \u001b[38;5;129;01mand\u001b[39;00m func \u001b[38;5;129;01mis\u001b[39;00m euclidean_distances:\n\u001b[1;32m   1369\u001b[0m     \u001b[38;5;66;03m# zeroing diagonal for euclidean norm.\u001b[39;00m\n\u001b[1;32m   1370\u001b[0m     \u001b[38;5;66;03m# TODO: do it also for other norms.\u001b[39;00m\n\u001b[1;32m   1371\u001b[0m     np\u001b[38;5;241m.\u001b[39mfill_diagonal(ret, \u001b[38;5;241m0\u001b[39m)\n",
      "File \u001b[0;32m~/miniconda3/envs/membed/lib/python3.9/site-packages/joblib/parallel.py:1056\u001b[0m, in \u001b[0;36mParallel.__call__\u001b[0;34m(self, iterable)\u001b[0m\n\u001b[1;32m   1053\u001b[0m     \u001b[38;5;28mself\u001b[39m\u001b[38;5;241m.\u001b[39m_iterating \u001b[38;5;241m=\u001b[39m \u001b[38;5;28;01mFalse\u001b[39;00m\n\u001b[1;32m   1055\u001b[0m \u001b[38;5;28;01mwith\u001b[39;00m \u001b[38;5;28mself\u001b[39m\u001b[38;5;241m.\u001b[39m_backend\u001b[38;5;241m.\u001b[39mretrieval_context():\n\u001b[0;32m-> 1056\u001b[0m     \u001b[38;5;28;43mself\u001b[39;49m\u001b[38;5;241;43m.\u001b[39;49m\u001b[43mretrieve\u001b[49m\u001b[43m(\u001b[49m\u001b[43m)\u001b[49m\n\u001b[1;32m   1057\u001b[0m \u001b[38;5;66;03m# Make sure that we get a last message telling us we are done\u001b[39;00m\n\u001b[1;32m   1058\u001b[0m elapsed_time \u001b[38;5;241m=\u001b[39m time\u001b[38;5;241m.\u001b[39mtime() \u001b[38;5;241m-\u001b[39m \u001b[38;5;28mself\u001b[39m\u001b[38;5;241m.\u001b[39m_start_time\n",
      "File \u001b[0;32m~/miniconda3/envs/membed/lib/python3.9/site-packages/joblib/parallel.py:935\u001b[0m, in \u001b[0;36mParallel.retrieve\u001b[0;34m(self)\u001b[0m\n\u001b[1;32m    933\u001b[0m \u001b[38;5;28;01mtry\u001b[39;00m:\n\u001b[1;32m    934\u001b[0m     \u001b[38;5;28;01mif\u001b[39;00m \u001b[38;5;28mgetattr\u001b[39m(\u001b[38;5;28mself\u001b[39m\u001b[38;5;241m.\u001b[39m_backend, \u001b[38;5;124m'\u001b[39m\u001b[38;5;124msupports_timeout\u001b[39m\u001b[38;5;124m'\u001b[39m, \u001b[38;5;28;01mFalse\u001b[39;00m):\n\u001b[0;32m--> 935\u001b[0m         \u001b[38;5;28mself\u001b[39m\u001b[38;5;241m.\u001b[39m_output\u001b[38;5;241m.\u001b[39mextend(\u001b[43mjob\u001b[49m\u001b[38;5;241;43m.\u001b[39;49m\u001b[43mget\u001b[49m\u001b[43m(\u001b[49m\u001b[43mtimeout\u001b[49m\u001b[38;5;241;43m=\u001b[39;49m\u001b[38;5;28;43mself\u001b[39;49m\u001b[38;5;241;43m.\u001b[39;49m\u001b[43mtimeout\u001b[49m\u001b[43m)\u001b[49m)\n\u001b[1;32m    936\u001b[0m     \u001b[38;5;28;01melse\u001b[39;00m:\n\u001b[1;32m    937\u001b[0m         \u001b[38;5;28mself\u001b[39m\u001b[38;5;241m.\u001b[39m_output\u001b[38;5;241m.\u001b[39mextend(job\u001b[38;5;241m.\u001b[39mget())\n",
      "File \u001b[0;32m~/miniconda3/envs/membed/lib/python3.9/multiprocessing/pool.py:765\u001b[0m, in \u001b[0;36mApplyResult.get\u001b[0;34m(self, timeout)\u001b[0m\n\u001b[1;32m    764\u001b[0m \u001b[38;5;28;01mdef\u001b[39;00m \u001b[38;5;21mget\u001b[39m(\u001b[38;5;28mself\u001b[39m, timeout\u001b[38;5;241m=\u001b[39m\u001b[38;5;28;01mNone\u001b[39;00m):\n\u001b[0;32m--> 765\u001b[0m     \u001b[38;5;28;43mself\u001b[39;49m\u001b[38;5;241;43m.\u001b[39;49m\u001b[43mwait\u001b[49m\u001b[43m(\u001b[49m\u001b[43mtimeout\u001b[49m\u001b[43m)\u001b[49m\n\u001b[1;32m    766\u001b[0m     \u001b[38;5;28;01mif\u001b[39;00m \u001b[38;5;129;01mnot\u001b[39;00m \u001b[38;5;28mself\u001b[39m\u001b[38;5;241m.\u001b[39mready():\n\u001b[1;32m    767\u001b[0m         \u001b[38;5;28;01mraise\u001b[39;00m \u001b[38;5;167;01mTimeoutError\u001b[39;00m\n",
      "File \u001b[0;32m~/miniconda3/envs/membed/lib/python3.9/multiprocessing/pool.py:762\u001b[0m, in \u001b[0;36mApplyResult.wait\u001b[0;34m(self, timeout)\u001b[0m\n\u001b[1;32m    761\u001b[0m \u001b[38;5;28;01mdef\u001b[39;00m \u001b[38;5;21mwait\u001b[39m(\u001b[38;5;28mself\u001b[39m, timeout\u001b[38;5;241m=\u001b[39m\u001b[38;5;28;01mNone\u001b[39;00m):\n\u001b[0;32m--> 762\u001b[0m     \u001b[38;5;28;43mself\u001b[39;49m\u001b[38;5;241;43m.\u001b[39;49m\u001b[43m_event\u001b[49m\u001b[38;5;241;43m.\u001b[39;49m\u001b[43mwait\u001b[49m\u001b[43m(\u001b[49m\u001b[43mtimeout\u001b[49m\u001b[43m)\u001b[49m\n",
      "File \u001b[0;32m~/miniconda3/envs/membed/lib/python3.9/threading.py:581\u001b[0m, in \u001b[0;36mEvent.wait\u001b[0;34m(self, timeout)\u001b[0m\n\u001b[1;32m    579\u001b[0m signaled \u001b[38;5;241m=\u001b[39m \u001b[38;5;28mself\u001b[39m\u001b[38;5;241m.\u001b[39m_flag\n\u001b[1;32m    580\u001b[0m \u001b[38;5;28;01mif\u001b[39;00m \u001b[38;5;129;01mnot\u001b[39;00m signaled:\n\u001b[0;32m--> 581\u001b[0m     signaled \u001b[38;5;241m=\u001b[39m \u001b[38;5;28;43mself\u001b[39;49m\u001b[38;5;241;43m.\u001b[39;49m\u001b[43m_cond\u001b[49m\u001b[38;5;241;43m.\u001b[39;49m\u001b[43mwait\u001b[49m\u001b[43m(\u001b[49m\u001b[43mtimeout\u001b[49m\u001b[43m)\u001b[49m\n\u001b[1;32m    582\u001b[0m \u001b[38;5;28;01mreturn\u001b[39;00m signaled\n",
      "File \u001b[0;32m~/miniconda3/envs/membed/lib/python3.9/threading.py:312\u001b[0m, in \u001b[0;36mCondition.wait\u001b[0;34m(self, timeout)\u001b[0m\n\u001b[1;32m    310\u001b[0m \u001b[38;5;28;01mtry\u001b[39;00m:    \u001b[38;5;66;03m# restore state no matter what (e.g., KeyboardInterrupt)\u001b[39;00m\n\u001b[1;32m    311\u001b[0m     \u001b[38;5;28;01mif\u001b[39;00m timeout \u001b[38;5;129;01mis\u001b[39;00m \u001b[38;5;28;01mNone\u001b[39;00m:\n\u001b[0;32m--> 312\u001b[0m         \u001b[43mwaiter\u001b[49m\u001b[38;5;241;43m.\u001b[39;49m\u001b[43macquire\u001b[49m\u001b[43m(\u001b[49m\u001b[43m)\u001b[49m\n\u001b[1;32m    313\u001b[0m         gotit \u001b[38;5;241m=\u001b[39m \u001b[38;5;28;01mTrue\u001b[39;00m\n\u001b[1;32m    314\u001b[0m     \u001b[38;5;28;01melse\u001b[39;00m:\n",
      "\u001b[0;31mKeyboardInterrupt\u001b[0m: "
     ]
    }
   ],
   "source": [
    "%timeit pairwise_distances(data, metric=foo, n_jobs=2)"
   ]
  },
  {
   "cell_type": "code",
   "execution_count": 16,
   "id": "f1b16c4d",
   "metadata": {},
   "outputs": [
    {
     "name": "stderr",
     "output_type": "stream",
     "text": [
      "/Users/zech/miniconda3/envs/membed/lib/python3.9/site-packages/tqdm/auto.py:22: TqdmWarning: IProgress not found. Please update jupyter and ipywidgets. See https://ipywidgets.readthedocs.io/en/stable/user_install.html\n",
      "  from .autonotebook import tqdm as notebook_tqdm\n"
     ]
    }
   ],
   "source": [
    "from membed.glove import cooccur_abund_sparse, cooccur_abund"
   ]
  },
  {
   "cell_type": "code",
   "execution_count": 15,
   "id": "654a713d",
   "metadata": {},
   "outputs": [
    {
     "data": {
      "text/plain": [
       "(<1x28082 sparse matrix of type '<class 'numpy.float64'>'\n",
       " \twith 4 stored elements in Compressed Sparse Row format>,\n",
       " <1x28082 sparse matrix of type '<class 'numpy.float64'>'\n",
       " \twith 1 stored elements in Compressed Sparse Row format>)"
      ]
     },
     "execution_count": 15,
     "metadata": {},
     "output_type": "execute_result"
    }
   ],
   "source": [
    "u = ag[0,:]\n",
    "v = ag[1,:]\n",
    "u, v"
   ]
  },
  {
   "cell_type": "code",
   "execution_count": 17,
   "id": "a38dbe81",
   "metadata": {},
   "outputs": [
    {
     "name": "stdout",
     "output_type": "stream",
     "text": [
      "145 µs ± 6.23 µs per loop (mean ± std. dev. of 7 runs, 10,000 loops each)\n"
     ]
    }
   ],
   "source": [
    "%timeit cooccur_abund_sparse(u, v)"
   ]
  },
  {
   "cell_type": "code",
   "execution_count": 18,
   "id": "034ebfb9",
   "metadata": {},
   "outputs": [
    {
     "name": "stdout",
     "output_type": "stream",
     "text": [
      "118 µs ± 1.9 µs per loop (mean ± std. dev. of 7 runs, 10,000 loops each)\n"
     ]
    }
   ],
   "source": [
    "ud = u.toarray()[0]\n",
    "vd = v.toarray()[0]\n",
    "%timeit cooccur_abund(ud, vd)"
   ]
  },
  {
   "cell_type": "code",
   "execution_count": 38,
   "id": "5b55e4d6",
   "metadata": {},
   "outputs": [
    {
     "name": "stdout",
     "output_type": "stream",
     "text": [
      "32.7 µs ± 91.7 ns per loop (mean ± std. dev. of 7 runs, 10,000 loops each)\n"
     ]
    }
   ],
   "source": [
    "%timeit np.minimum(ud, vd)"
   ]
  },
  {
   "cell_type": "code",
   "execution_count": 20,
   "id": "cf6d762d",
   "metadata": {},
   "outputs": [
    {
     "name": "stdout",
     "output_type": "stream",
     "text": [
      "45.2 µs ± 1.45 µs per loop (mean ± std. dev. of 7 runs, 10,000 loops each)\n"
     ]
    }
   ],
   "source": [
    "%timeit 1-np.abs(ud - vd)"
   ]
  },
  {
   "cell_type": "code",
   "execution_count": 36,
   "id": "bfb64017",
   "metadata": {},
   "outputs": [
    {
     "name": "stdout",
     "output_type": "stream",
     "text": [
      "45.4 µs ± 269 ns per loop (mean ± std. dev. of 7 runs, 10,000 loops each)\n"
     ]
    }
   ],
   "source": [
    "uvd = np.vstack([ud,vd])\n",
    "%timeit uvd.min(axis=0)"
   ]
  },
  {
   "cell_type": "code",
   "execution_count": 37,
   "id": "c1d7f5e0",
   "metadata": {},
   "outputs": [
    {
     "data": {
      "text/plain": [
       "array([0., 0., 0., ..., 0., 0., 0.])"
      ]
     },
     "execution_count": 37,
     "metadata": {},
     "output_type": "execute_result"
    }
   ],
   "source": [
    "uvd.min(axis=0)"
   ]
  },
  {
   "cell_type": "markdown",
   "id": "7d8dfe75",
   "metadata": {},
   "source": [
    "## plot pairwise features "
   ]
  },
  {
   "cell_type": "code",
   "execution_count": 14,
   "id": "e31a8291",
   "metadata": {},
   "outputs": [],
   "source": [
    "from shenshang.visualize import plot_joint_scatter"
   ]
  },
  {
   "cell_type": "code",
   "execution_count": 22,
   "id": "c317355c",
   "metadata": {},
   "outputs": [
    {
     "data": {
      "image/png": "[encoded data removed]",
      "text/plain": [
       "<Figure size 432x288 with 3 Axes>"
      ]
     },
     "metadata": {
      "needs_background": "light"
     },
     "output_type": "display_data"
    }
   ],
   "source": [
    "plot_joint_scatter(ud, vd);"
   ]
  },
  {
   "cell_type": "code",
   "execution_count": 26,
   "id": "ae124122",
   "metadata": {},
   "outputs": [
    {
     "data": {
      "text/plain": [
       "2.181818181818182"
      ]
     },
     "execution_count": 26,
     "metadata": {},
     "output_type": "execute_result"
    }
   ],
   "source": [
    "from scipy.stats import hmean\n",
    "hmean(ud[ud>0])"
   ]
  },
  {
   "cell_type": "code",
   "execution_count": 30,
   "id": "651613ad",
   "metadata": {},
   "outputs": [],
   "source": [
    "x=np.load('../hmean.npy', allow_pickle=True)"
   ]
  },
  {
   "cell_type": "code",
   "execution_count": 31,
   "id": "5c161969",
   "metadata": {},
   "outputs": [
    {
     "data": {
      "text/plain": [
       "array(<8877x8877 sparse matrix of type '<class 'numpy.float64'>'\n",
       "\twith 78801129 stored elements in COOrdinate format>, dtype=object)"
      ]
     },
     "execution_count": 31,
     "metadata": {},
     "output_type": "execute_result"
    }
   ],
   "source": [
    "x"
   ]
  },
  {
   "cell_type": "code",
   "execution_count": null,
   "id": "19045bde",
   "metadata": {},
   "outputs": [],
   "source": [
    "hmean"
   ]
  },
  {
   "cell_type": "code",
   "execution_count": 25,
   "id": "95812ffc",
   "metadata": {},
   "outputs": [
    {
     "data": {
      "text/plain": [
       "9.0"
      ]
     },
     "execution_count": 25,
     "metadata": {},
     "output_type": "execute_result"
    }
   ],
   "source": [
    "ud.sum()"
   ]
  },
  {
   "cell_type": "markdown",
   "id": "51bc8046",
   "metadata": {},
   "source": [
    "## other formulas "
   ]
  },
  {
   "cell_type": "code",
   "execution_count": 184,
   "id": "60922b8c",
   "metadata": {},
   "outputs": [],
   "source": [
    "aglog = ag.transform(f=lambda x, _, __: np.log2(x), inplace=False)"
   ]
  },
  {
   "cell_type": "code",
   "execution_count": 185,
   "id": "eee480e9",
   "metadata": {},
   "outputs": [
    {
     "data": {
      "text/plain": [
       "38050 x 28082 <class 'biom.table.Table'> with 4636966 nonzero entries (0% dense)"
      ]
     },
     "execution_count": 185,
     "metadata": {},
     "output_type": "execute_result"
    }
   ],
   "source": [
    "aglog"
   ]
  },
  {
   "cell_type": "code",
   "execution_count": 216,
   "id": "0ee5fadd",
   "metadata": {},
   "outputs": [
    {
     "name": "stdout",
     "output_type": "stream",
     "text": [
      "17339 8499\n",
      "[0. 0. 0. ... 0. 0. 0.]\n"
     ]
    },
    {
     "data": {
      "image/png": "[encoded data removed]",
      "text/plain": [
       "<Figure size 432x288 with 1 Axes>"
      ]
     },
     "metadata": {
      "needs_background": "light"
     },
     "output_type": "display_data"
    },
    {
     "name": "stdout",
     "output_type": "stream",
     "text": [
      "4369 33963\n",
      "[0. 0. 0. ... 0. 0. 0.]\n"
     ]
    },
    {
     "data": {
      "image/png": "[encoded data removed]",
      "text/plain": [
       "<Figure size 432x288 with 1 Axes>"
      ]
     },
     "metadata": {
      "needs_background": "light"
     },
     "output_type": "display_data"
    },
    {
     "name": "stdout",
     "output_type": "stream",
     "text": [
      "10152 12494\n",
      "[0. 0. 0. ... 0. 0. 0.]\n"
     ]
    },
    {
     "data": {
      "image/png": "[encoded data removed]",
      "text/plain": [
       "<Figure size 432x288 with 1 Axes>"
      ]
     },
     "metadata": {
      "needs_background": "light"
     },
     "output_type": "display_data"
    },
    {
     "name": "stdout",
     "output_type": "stream",
     "text": [
      "17233 29095\n",
      "[0. 0. 0. ... 0. 0. 0.]\n"
     ]
    },
    {
     "data": {
      "image/png": "[encoded data removed]",
      "text/plain": [
       "<Figure size 432x288 with 1 Axes>"
      ]
     },
     "metadata": {
      "needs_background": "light"
     },
     "output_type": "display_data"
    },
    {
     "name": "stdout",
     "output_type": "stream",
     "text": [
      "10003 3769\n",
      "[0. 0. 0. ... 0. 0. 0.]\n"
     ]
    },
    {
     "data": {
      "image/png": "[encoded data removed]",
      "text/plain": [
       "<Figure size 432x288 with 1 Axes>"
      ]
     },
     "metadata": {
      "needs_background": "light"
     },
     "output_type": "display_data"
    },
    {
     "name": "stdout",
     "output_type": "stream",
     "text": [
      "19097 14329\n",
      "[0. 0. 0. ... 0. 0. 0.]\n"
     ]
    },
    {
     "data": {
      "image/png": "[encoded data removed]",
      "text/plain": [
       "<Figure size 432x288 with 1 Axes>"
      ]
     },
     "metadata": {
      "needs_background": "light"
     },
     "output_type": "display_data"
    },
    {
     "name": "stdout",
     "output_type": "stream",
     "text": [
      "9080 29945\n",
      "[0. 0. 0. ... 0. 0. 0.]\n"
     ]
    },
    {
     "data": {
      "image/png": "[encoded data removed]",
      "text/plain": [
       "<Figure size 432x288 with 1 Axes>"
      ]
     },
     "metadata": {
      "needs_background": "light"
     },
     "output_type": "display_data"
    },
    {
     "name": "stdout",
     "output_type": "stream",
     "text": [
      "453 1222\n",
      "[0. 0. 0. ... 0. 0. 0.]\n"
     ]
    },
    {
     "data": {
      "image/png": "[encoded data removed]",
      "text/plain": [
       "<Figure size 432x288 with 1 Axes>"
      ]
     },
     "metadata": {
      "needs_background": "light"
     },
     "output_type": "display_data"
    },
    {
     "name": "stdout",
     "output_type": "stream",
     "text": [
      "10662 32442\n",
      "[0. 0. 0. ... 0. 0. 0.]\n"
     ]
    },
    {
     "data": {
      "image/png": "[encoded data removed]",
      "text/plain": [
       "<Figure size 432x288 with 1 Axes>"
      ]
     },
     "metadata": {
      "needs_background": "light"
     },
     "output_type": "display_data"
    },
    {
     "name": "stdout",
     "output_type": "stream",
     "text": [
      "20023 35111\n",
      "[0. 0. 0. ... 0. 0. 0.]\n"
     ]
    },
    {
     "data": {
      "image/png": "[encoded data removed]",
      "text/plain": [
       "<Figure size 432x288 with 1 Axes>"
      ]
     },
     "metadata": {
      "needs_background": "light"
     },
     "output_type": "display_data"
    }
   ],
   "source": [
    "for i in range(10):\n",
    "    i, j = np.random.randint(0, aglog.shape[0], 2)\n",
    "    print(i,j)\n",
    "    u = aglog[i,:]\n",
    "    v = aglog[j,:]\n",
    "    u, v\n",
    "    ud = u.toarray()[0]\n",
    "    vd = v.toarray()[0]\n",
    "    print(ud-vd)\n",
    "    sns.histplot(ud-vd, bins=50, log_scale=(False, True))\n",
    "    plt.show()"
   ]
  },
  {
   "cell_type": "code",
   "execution_count": 186,
   "id": "998e78cb",
   "metadata": {},
   "outputs": [
    {
     "data": {
      "text/plain": [
       "(<1x28082 sparse matrix of type '<class 'numpy.float64'>'\n",
       " \twith 7 stored elements in Compressed Sparse Row format>,\n",
       " <1x28082 sparse matrix of type '<class 'numpy.float64'>'\n",
       " \twith 2 stored elements in Compressed Sparse Row format>)"
      ]
     },
     "execution_count": 186,
     "metadata": {},
     "output_type": "execute_result"
    }
   ],
   "source": [
    "u = aglog[6,:]\n",
    "v = aglog[9,:]\n",
    "u, v"
   ]
  },
  {
   "cell_type": "code",
   "execution_count": 187,
   "id": "204c9840",
   "metadata": {},
   "outputs": [],
   "source": [
    "ud = u.toarray()[0]\n",
    "vd = v.toarray()[0]"
   ]
  },
  {
   "cell_type": "code",
   "execution_count": 195,
   "id": "2ab28142",
   "metadata": {},
   "outputs": [],
   "source": [
    "import seaborn as sns"
   ]
  },
  {
   "cell_type": "code",
   "execution_count": 203,
   "id": "b9b3e8bd",
   "metadata": {},
   "outputs": [
    {
     "data": {
      "image/png": "[encoded data removed]",
      "text/plain": [
       "<Figure size 432x288 with 1 Axes>"
      ]
     },
     "metadata": {
      "needs_background": "light"
     },
     "output_type": "display_data"
    }
   ],
   "source": [
    "sns.histplot(ud-vd, bins=30, log_scale=(False, True));"
   ]
  },
  {
   "cell_type": "code",
   "execution_count": null,
   "id": "50683dea",
   "metadata": {},
   "outputs": [],
   "source": [
    "def cooccur1(u, v):\n",
    "    (u-v)"
   ]
  },
  {
   "cell_type": "code",
   "execution_count": 100,
   "id": "1bea8d6c",
   "metadata": {},
   "outputs": [
    {
     "name": "stderr",
     "output_type": "stream",
     "text": [
      "/Users/zech/miniconda3/envs/membed/lib/python3.9/site-packages/scipy/stats/_stats_py.py:287: RuntimeWarning: divide by zero encountered in log\n",
      "  log_a = np.log(a)\n"
     ]
    },
    {
     "name": "stdout",
     "output_type": "stream",
     "text": [
      "200 µs ± 5.96 µs per loop (mean ± std. dev. of 7 runs, 1,000 loops each)\n"
     ]
    }
   ],
   "source": [
    "from scipy.stats import gmean\n",
    "%timeit gmean(ud)"
   ]
  },
  {
   "cell_type": "code",
   "execution_count": 101,
   "id": "af9e0d24",
   "metadata": {},
   "outputs": [
    {
     "name": "stdout",
     "output_type": "stream",
     "text": [
      "58.7 µs ± 612 ns per loop (mean ± std. dev. of 7 runs, 10,000 loops each)\n"
     ]
    }
   ],
   "source": [
    "%timeit np.prod(ud)**(1.0/len(ud))"
   ]
  },
  {
   "cell_type": "markdown",
   "id": "01842319",
   "metadata": {},
   "source": [
    "## convert to boolean"
   ]
  },
  {
   "cell_type": "code",
   "execution_count": 18,
   "id": "12cd95c2",
   "metadata": {},
   "outputs": [
    {
     "name": "stdout",
     "output_type": "stream",
     "text": [
      "12.9 ms ± 163 µs per loop (mean ± std. dev. of 7 runs, 100 loops each)\n"
     ]
    }
   ],
   "source": [
    "%timeit ag.matrix_data > 0"
   ]
  },
  {
   "cell_type": "code",
   "execution_count": 19,
   "id": "0555284a",
   "metadata": {},
   "outputs": [
    {
     "name": "stdout",
     "output_type": "stream",
     "text": [
      "10.4 ms ± 23 µs per loop (mean ± std. dev. of 7 runs, 100 loops each)\n"
     ]
    }
   ],
   "source": [
    "%timeit ag.matrix_data.astype(bool)"
   ]
  },
  {
   "cell_type": "markdown",
   "id": "f0efb297",
   "metadata": {},
   "source": [
    "# playground"
   ]
  },
  {
   "cell_type": "code",
   "execution_count": 52,
   "id": "59cae1b6",
   "metadata": {},
   "outputs": [
    {
     "data": {
      "text/plain": [
       "\u001b[0;31mSignature:\u001b[0m \u001b[0mbiom\u001b[0m\u001b[0;34m.\u001b[0m\u001b[0mparse_table\u001b[0m\u001b[0;34m(\u001b[0m\u001b[0mfile_obj\u001b[0m\u001b[0;34m,\u001b[0m \u001b[0mids\u001b[0m\u001b[0;34m=\u001b[0m\u001b[0;32mNone\u001b[0m\u001b[0;34m,\u001b[0m \u001b[0maxis\u001b[0m\u001b[0;34m=\u001b[0m\u001b[0;34m'sample'\u001b[0m\u001b[0;34m,\u001b[0m \u001b[0minput_is_dense\u001b[0m\u001b[0;34m=\u001b[0m\u001b[0;32mFalse\u001b[0m\u001b[0;34m)\u001b[0m\u001b[0;34m\u001b[0m\u001b[0;34m\u001b[0m\u001b[0m\n",
       "\u001b[0;31mDocstring:\u001b[0m\n",
       "Parses the biom table stored in `file_obj`\n",
       "\n",
       "Parameters\n",
       "----------\n",
       "file_obj : file-like object, or list\n",
       "    file-like object storing the BIOM table (tab-delimited or JSON), or\n",
       "    a list of lines of the BIOM table in tab-delimited or JSON format\n",
       "ids : iterable\n",
       "    The sample/observation ids of the samples/observations that we need\n",
       "    to retrieve from the biom table\n",
       "axis : {'sample', 'observation'}, optional\n",
       "    The axis to subset on\n",
       "input_is_dense : boolean\n",
       "    Indicates if the BIOM table is dense or sparse. Valid only for JSON\n",
       "    tables.\n",
       "\n",
       "Returns\n",
       "-------\n",
       "Table\n",
       "    The BIOM table stored at file_obj\n",
       "\n",
       "Raises\n",
       "------\n",
       "ValueError\n",
       "    If `samples` and `observations` are provided.\n",
       "\n",
       "Notes\n",
       "-----\n",
       "Subsetting from the BIOM table is only supported in one axis\n",
       "\n",
       "Examples\n",
       "--------\n",
       "Parse a hdf5 biom table\n",
       "\n",
       ">>> from h5py import File # doctest: +SKIP\n",
       ">>> from biom.parse import parse_biom_table\n",
       ">>> f = File('rich_sparse_otu_table_hdf5.biom') # doctest: +SKIP\n",
       ">>> t = parse_biom_table(f) # doctest: +SKIP\n",
       "\n",
       "Parse a hdf5 biom table subsetting observations\n",
       ">>> from h5py import File # doctest: +SKIP\n",
       ">>> from biom.parse import parse_biom_table\n",
       ">>> f = File('rich_sparse_otu_table_hdf5.biom') # doctest: +SKIP\n",
       ">>> t = parse_biom_table(f, ids=[\"GG_OTU_1\"],\n",
       "...                      axis='observation') # doctest: +SKIP\n",
       "\u001b[0;31mFile:\u001b[0m      ~/miniconda3/envs/membed/lib/python3.9/site-packages/biom/parse.py\n",
       "\u001b[0;31mType:\u001b[0m      function\n"
      ]
     },
     "metadata": {},
     "output_type": "display_data"
    }
   ],
   "source": [
    "biom.parse_table?"
   ]
  },
  {
   "cell_type": "code",
   "execution_count": 49,
   "id": "3b1d422d",
   "metadata": {},
   "outputs": [],
   "source": [
    "from sklearn.metrics.pairwise import PAIRWISE_DISTANCE_FUNCTIONS, distance_metrics"
   ]
  },
  {
   "cell_type": "code",
   "execution_count": 51,
   "id": "5a9e882c",
   "metadata": {},
   "outputs": [
    {
     "data": {
      "text/plain": [
       "{'cityblock': <function sklearn.metrics.pairwise.manhattan_distances(X, Y=None, *, sum_over_features=True)>,\n",
       " 'cosine': <function sklearn.metrics.pairwise.cosine_distances(X, Y=None)>,\n",
       " 'euclidean': <function sklearn.metrics.pairwise.euclidean_distances(X, Y=None, *, Y_norm_squared=None, squared=False, X_norm_squared=None)>,\n",
       " 'haversine': <function sklearn.metrics.pairwise.haversine_distances(X, Y=None)>,\n",
       " 'l2': <function sklearn.metrics.pairwise.euclidean_distances(X, Y=None, *, Y_norm_squared=None, squared=False, X_norm_squared=None)>,\n",
       " 'l1': <function sklearn.metrics.pairwise.manhattan_distances(X, Y=None, *, sum_over_features=True)>,\n",
       " 'manhattan': <function sklearn.metrics.pairwise.manhattan_distances(X, Y=None, *, sum_over_features=True)>,\n",
       " 'precomputed': None,\n",
       " 'nan_euclidean': <function sklearn.metrics.pairwise.nan_euclidean_distances(X, Y=None, *, squared=False, missing_values=nan, copy=True)>}"
      ]
     },
     "execution_count": 51,
     "metadata": {},
     "output_type": "execute_result"
    }
   ],
   "source": [
    "PAIRWISE_DISTANCE_FUNCTIONS"
   ]
  },
  {
   "cell_type": "code",
   "execution_count": 50,
   "id": "ebaf26be",
   "metadata": {},
   "outputs": [
    {
     "data": {
      "text/plain": [
       "{'cityblock': <function sklearn.metrics.pairwise.manhattan_distances(X, Y=None, *, sum_over_features=True)>,\n",
       " 'cosine': <function sklearn.metrics.pairwise.cosine_distances(X, Y=None)>,\n",
       " 'euclidean': <function sklearn.metrics.pairwise.euclidean_distances(X, Y=None, *, Y_norm_squared=None, squared=False, X_norm_squared=None)>,\n",
       " 'haversine': <function sklearn.metrics.pairwise.haversine_distances(X, Y=None)>,\n",
       " 'l2': <function sklearn.metrics.pairwise.euclidean_distances(X, Y=None, *, Y_norm_squared=None, squared=False, X_norm_squared=None)>,\n",
       " 'l1': <function sklearn.metrics.pairwise.manhattan_distances(X, Y=None, *, sum_over_features=True)>,\n",
       " 'manhattan': <function sklearn.metrics.pairwise.manhattan_distances(X, Y=None, *, sum_over_features=True)>,\n",
       " 'precomputed': None,\n",
       " 'nan_euclidean': <function sklearn.metrics.pairwise.nan_euclidean_distances(X, Y=None, *, squared=False, missing_values=nan, copy=True)>}"
      ]
     },
     "execution_count": 50,
     "metadata": {},
     "output_type": "execute_result"
    }
   ],
   "source": [
    "distance_metrics()"
   ]
  },
  {
   "cell_type": "code",
   "execution_count": 20,
   "id": "c442d6c8",
   "metadata": {},
   "outputs": [],
   "source": [
    "t = biom.load_table(data_dir / 'test.biom')"
   ]
  },
  {
   "cell_type": "code",
   "execution_count": 21,
   "id": "012b34c3",
   "metadata": {},
   "outputs": [
    {
     "data": {
      "text/plain": [
       "array([[0. , 0.2, 0. ],\n",
       "       [0.3, 0. , 0.3],\n",
       "       [0.2, 0.4, 0.1],\n",
       "       [0.5, 0.4, 0.6]])"
      ]
     },
     "execution_count": 21,
     "metadata": {},
     "output_type": "execute_result"
    }
   ],
   "source": [
    "d = t.matrix_data\n",
    "d.toarray()"
   ]
  },
  {
   "cell_type": "code",
   "execution_count": 23,
   "id": "c6b30ff9",
   "metadata": {},
   "outputs": [
    {
     "data": {
      "text/plain": [
       "array([[0.04, 0.  , 0.08, 0.08],\n",
       "       [0.  , 0.18, 0.09, 0.33],\n",
       "       [0.08, 0.09, 0.21, 0.32],\n",
       "       [0.08, 0.33, 0.32, 0.77]])"
      ]
     },
     "execution_count": 23,
     "metadata": {},
     "output_type": "execute_result"
    }
   ],
   "source": [
    "np.dot(d.toarray(), d.toarray().T)"
   ]
  },
  {
   "cell_type": "code",
   "execution_count": 31,
   "id": "c2f3cef9",
   "metadata": {},
   "outputs": [
    {
     "data": {
      "text/plain": [
       "array([[0.  , 0.  , 0.08, 0.08],\n",
       "       [0.  , 0.  , 0.09, 0.33],\n",
       "       [0.08, 0.09, 0.  , 0.32],\n",
       "       [0.08, 0.33, 0.32, 0.  ]])"
      ]
     },
     "execution_count": 31,
     "metadata": {},
     "output_type": "execute_result"
    }
   ],
   "source": [
    "x = np.dot(d, d.T)\n",
    "x.setdiag(0)\n",
    "x.toarray()"
   ]
  },
  {
   "cell_type": "code",
   "execution_count": null,
   "id": "bc61a58a",
   "metadata": {},
   "outputs": [],
   "source": [
    "np.dot(d, d.T)"
   ]
  },
  {
   "cell_type": "code",
   "execution_count": 33,
   "id": "358e6322",
   "metadata": {},
   "outputs": [
    {
     "ename": "AttributeError",
     "evalue": "'numpy.ndarray' object has no attribute 'setdiag'",
     "output_type": "error",
     "traceback": [
      "\u001b[0;31m---------------------------------------------------------------------------\u001b[0m",
      "\u001b[0;31mAttributeError\u001b[0m                            Traceback (most recent call last)",
      "Input \u001b[0;32mIn [33]\u001b[0m, in \u001b[0;36m<cell line: 1>\u001b[0;34m()\u001b[0m\n\u001b[0;32m----> 1\u001b[0m \u001b[43mx\u001b[49m\u001b[38;5;241;43m.\u001b[39;49m\u001b[43mtoarray\u001b[49m\u001b[43m(\u001b[49m\u001b[43m)\u001b[49m\u001b[38;5;241;43m.\u001b[39;49m\u001b[43msetdiag\u001b[49m(\u001b[38;5;241m0\u001b[39m)\n",
      "\u001b[0;31mAttributeError\u001b[0m: 'numpy.ndarray' object has no attribute 'setdiag'"
     ]
    }
   ],
   "source": [
    "x.toarray().setdiag(0)"
   ]
  },
  {
   "cell_type": "code",
   "execution_count": 35,
   "id": "75ca8911",
   "metadata": {},
   "outputs": [
    {
     "data": {
      "text/plain": [
       "True"
      ]
     },
     "execution_count": 35,
     "metadata": {},
     "output_type": "execute_result"
    }
   ],
   "source": [
    "from scipy.sparse import issparse\n",
    "issparse(x)"
   ]
  }
 ],
 "metadata": {
  "kernelspec": {
   "display_name": "membed",
   "language": "python",
   "name": "membed"
  },
  "language_info": {
   "codemirror_mode": {
    "name": "ipython",
    "version": 3
   },
   "file_extension": ".py",
   "mimetype": "text/x-python",
   "name": "python",
   "nbconvert_exporter": "python",
   "pygments_lexer": "ipython3",
   "version": "3.9.13"
  },
  "toc": {
   "base_numbering": 1,
   "nav_menu": {},
   "number_sections": true,
   "sideBar": true,
   "skip_h1_title": false,
   "title_cell": "Table of Contents",
   "title_sidebar": "Contents",
   "toc_cell": false,
   "toc_position": {},
   "toc_section_display": true,
   "toc_window_display": false
  },
  "toc-autonumbering": true
 },
 "nbformat": 4,
 "nbformat_minor": 5
}
