{
 "cells": [
  {
   "cell_type": "code",
   "execution_count": 120,
   "id": "dc6f98ad-3557-4737-9ef8-576f67d4cb79",
   "metadata": {},
   "outputs": [],
   "source": [
    "import os\n",
    "import re\n",
    "import biom\n",
    "import json\n",
    "import numpy as np\n",
    "import pandas as pd\n",
    "import seaborn as sns\n",
    "import matplotlib.pyplot as plt\n",
    "from biom import Table"
   ]
  },
  {
   "cell_type": "code",
   "execution_count": 121,
   "id": "f81e9384-96b0-400a-b67b-ce1db926338d",
   "metadata": {},
   "outputs": [],
   "source": [
    "table = biom.load_table(\"../../data/pretraining_table_filter.biom\")"
   ]
  },
  {
   "cell_type": "code",
   "execution_count": 122,
   "id": "e0c2c676-0254-464c-a3c9-d790f6fc9034",
   "metadata": {},
   "outputs": [
    {
     "data": {
      "text/plain": [
       "14093 x 210090 <class 'biom.table.Table'> with 25341594 nonzero entries (0% dense)"
      ]
     },
     "execution_count": 122,
     "metadata": {},
     "output_type": "execute_result"
    }
   ],
   "source": [
    "table"
   ]
  },
  {
   "cell_type": "code",
   "execution_count": 123,
   "id": "65de9e19-a768-4e5f-9357-7d10fe77ee3b",
   "metadata": {},
   "outputs": [],
   "source": [
    "fid = table.ids(axis=\"observation\")"
   ]
  },
  {
   "cell_type": "code",
   "execution_count": 77,
   "id": "15e24a78-edc8-4891-9dad-4575d321ef23",
   "metadata": {},
   "outputs": [
    {
     "data": {
      "text/plain": [
       "14093 x 210090 <class 'biom.table.Table'> with 25341594 nonzero entries (0% dense)"
      ]
     },
     "execution_count": 77,
     "metadata": {},
     "output_type": "execute_result"
    }
   ],
   "source": [
    "table"
   ]
  },
  {
   "cell_type": "code",
   "execution_count": 105,
   "id": "b889dfef-71e7-4766-ab42-819966c07085",
   "metadata": {},
   "outputs": [],
   "source": [
    "metadata = pd.read_csv(\"../../data/metadata_filter.txt\", sep=\"\\t\")"
   ]
  },
  {
   "cell_type": "code",
   "execution_count": 107,
   "id": "d9675374-fca2-415a-8dbc-34f8ef05037c",
   "metadata": {},
   "outputs": [
    {
     "data": {
      "text/plain": [
       "(210090, 7)"
      ]
     },
     "execution_count": 107,
     "metadata": {},
     "output_type": "execute_result"
    }
   ],
   "source": [
    "metadata.shape"
   ]
  },
  {
   "cell_type": "code",
   "execution_count": 106,
   "id": "63c62d5d-e252-40ea-b841-f197af41040c",
   "metadata": {},
   "outputs": [
    {
     "data": {
      "text/html": [
       "<div>\n",
       "<style scoped>\n",
       "    .dataframe tbody tr th:only-of-type {\n",
       "        vertical-align: middle;\n",
       "    }\n",
       "\n",
       "    .dataframe tbody tr th {\n",
       "        vertical-align: top;\n",
       "    }\n",
       "\n",
       "    .dataframe thead th {\n",
       "        text-align: right;\n",
       "    }\n",
       "</style>\n",
       "<table border=\"1\" class=\"dataframe\">\n",
       "  <thead>\n",
       "    <tr style=\"text-align: right;\">\n",
       "      <th></th>\n",
       "      <th>sample_id</th>\n",
       "      <th>project</th>\n",
       "      <th>instrument</th>\n",
       "      <th>geo_loc_name</th>\n",
       "      <th>region</th>\n",
       "      <th>seq_region</th>\n",
       "      <th>sample_type</th>\n",
       "    </tr>\n",
       "  </thead>\n",
       "  <tbody>\n",
       "    <tr>\n",
       "      <th>0</th>\n",
       "      <td>10532.00954e18.1dcf.40fc.a52e.255f5cda6f9c</td>\n",
       "      <td>qiita_10532</td>\n",
       "      <td>MiSeq Illumina</td>\n",
       "      <td>USA:AZ</td>\n",
       "      <td>Europe and Northern America</td>\n",
       "      <td>V4</td>\n",
       "      <td>feces</td>\n",
       "    </tr>\n",
       "    <tr>\n",
       "      <th>1</th>\n",
       "      <td>10532.00cdbb86.acbd.429c.abe3.12f19990314a</td>\n",
       "      <td>qiita_10532</td>\n",
       "      <td>MiSeq Illumina</td>\n",
       "      <td>USA:AZ</td>\n",
       "      <td>Europe and Northern America</td>\n",
       "      <td>V4</td>\n",
       "      <td>feces</td>\n",
       "    </tr>\n",
       "    <tr>\n",
       "      <th>2</th>\n",
       "      <td>10532.00e6b118.fb6e.4022.96d1.62e553d9b40c</td>\n",
       "      <td>qiita_10532</td>\n",
       "      <td>MiSeq Illumina</td>\n",
       "      <td>USA:AZ</td>\n",
       "      <td>Europe and Northern America</td>\n",
       "      <td>V4</td>\n",
       "      <td>feces</td>\n",
       "    </tr>\n",
       "    <tr>\n",
       "      <th>3</th>\n",
       "      <td>10532.0129210b.a355.4608.8aac.7e6d637c0b5c</td>\n",
       "      <td>qiita_10532</td>\n",
       "      <td>MiSeq Illumina</td>\n",
       "      <td>USA:AZ</td>\n",
       "      <td>Europe and Northern America</td>\n",
       "      <td>V4</td>\n",
       "      <td>feces</td>\n",
       "    </tr>\n",
       "    <tr>\n",
       "      <th>4</th>\n",
       "      <td>10532.0476f5aa.a4f4.4835.ada1.4e72fb601e0a</td>\n",
       "      <td>qiita_10532</td>\n",
       "      <td>MiSeq Illumina</td>\n",
       "      <td>USA:AZ</td>\n",
       "      <td>Europe and Northern America</td>\n",
       "      <td>V4</td>\n",
       "      <td>feces</td>\n",
       "    </tr>\n",
       "  </tbody>\n",
       "</table>\n",
       "</div>"
      ],
      "text/plain": [
       "                                    sample_id      project      instrument  \\\n",
       "0  10532.00954e18.1dcf.40fc.a52e.255f5cda6f9c  qiita_10532  MiSeq Illumina   \n",
       "1  10532.00cdbb86.acbd.429c.abe3.12f19990314a  qiita_10532  MiSeq Illumina   \n",
       "2  10532.00e6b118.fb6e.4022.96d1.62e553d9b40c  qiita_10532  MiSeq Illumina   \n",
       "3  10532.0129210b.a355.4608.8aac.7e6d637c0b5c  qiita_10532  MiSeq Illumina   \n",
       "4  10532.0476f5aa.a4f4.4835.ada1.4e72fb601e0a  qiita_10532  MiSeq Illumina   \n",
       "\n",
       "  geo_loc_name                       region seq_region sample_type  \n",
       "0       USA:AZ  Europe and Northern America         V4       feces  \n",
       "1       USA:AZ  Europe and Northern America         V4       feces  \n",
       "2       USA:AZ  Europe and Northern America         V4       feces  \n",
       "3       USA:AZ  Europe and Northern America         V4       feces  \n",
       "4       USA:AZ  Europe and Northern America         V4       feces  "
      ]
     },
     "execution_count": 106,
     "metadata": {},
     "output_type": "execute_result"
    }
   ],
   "source": [
    "metadata.head()"
   ]
  },
  {
   "cell_type": "markdown",
   "id": "401e6efa-3783-44cc-bc26-e9a4e173dac7",
   "metadata": {},
   "source": [
    "### get silve taxonomy"
   ]
  },
  {
   "cell_type": "code",
   "execution_count": 81,
   "id": "82ceca91-aea7-4eb4-8c63-55129e149ce5",
   "metadata": {},
   "outputs": [
    {
     "name": "stderr",
     "output_type": "stream",
     "text": [
      "/tmp/ipykernel_217083/2776229720.py:5: FutureWarning: Series.__getitem__ treating keys as positions is deprecated. In a future version, integer keys will always be treated as labels (consistent with DataFrame behavior). To access a value by position, use `ser.iloc[pos]`\n",
      "  acc.append(f\"{temp[0]}.{temp[1]}.{temp[2]}\")\n"
     ]
    }
   ],
   "source": [
    "tax = pd.read_csv(\"Data/taxmap_slv_ssu_ref_nr_138.2.txt\", sep=\"\\t\", low_memory=False)\n",
    "acc = []\n",
    "for i in range(tax.shape[0]):\n",
    "    temp = tax.iloc[i]\n",
    "    acc.append(f\"{temp[0]}.{temp[1]}.{temp[2]}\")\n",
    "\n",
    "tax = tax.loc[:, \"path\"].str.split(';', expand=True)\n",
    "tax.index = acc\n",
    "tax = tax.iloc[:, 0: 7]\n",
    "tax = tax.loc[fid, ]\n",
    "tax.columns = ['Kingdom', 'Phylum', 'Class', 'Order', 'Family', 'Genus', 'Species']"
   ]
  },
  {
   "cell_type": "code",
   "execution_count": 82,
   "id": "4108417a-dd9f-4438-9dbc-900e4532b747",
   "metadata": {},
   "outputs": [],
   "source": [
    "tax = tax.loc[table.ids(axis=\"observation\")]"
   ]
  },
  {
   "cell_type": "code",
   "execution_count": 83,
   "id": "a4f00970-b7e1-4594-ad00-475efd911065",
   "metadata": {},
   "outputs": [
    {
     "data": {
      "text/html": [
       "<div>\n",
       "<style scoped>\n",
       "    .dataframe tbody tr th:only-of-type {\n",
       "        vertical-align: middle;\n",
       "    }\n",
       "\n",
       "    .dataframe tbody tr th {\n",
       "        vertical-align: top;\n",
       "    }\n",
       "\n",
       "    .dataframe thead th {\n",
       "        text-align: right;\n",
       "    }\n",
       "</style>\n",
       "<table border=\"1\" class=\"dataframe\">\n",
       "  <thead>\n",
       "    <tr style=\"text-align: right;\">\n",
       "      <th></th>\n",
       "      <th>Kingdom</th>\n",
       "      <th>Phylum</th>\n",
       "      <th>Class</th>\n",
       "      <th>Order</th>\n",
       "      <th>Family</th>\n",
       "      <th>Genus</th>\n",
       "      <th>Species</th>\n",
       "    </tr>\n",
       "  </thead>\n",
       "  <tbody>\n",
       "    <tr>\n",
       "      <th>AAAA02020714.1.1202</th>\n",
       "      <td>Bacteria</td>\n",
       "      <td>Pseudomonadota</td>\n",
       "      <td>Alphaproteobacteria</td>\n",
       "      <td>Sphingomonadales</td>\n",
       "      <td>Sphingomonadaceae</td>\n",
       "      <td>Sphingomonas</td>\n",
       "      <td></td>\n",
       "    </tr>\n",
       "    <tr>\n",
       "      <th>AAFJ01000001.39328.40836</th>\n",
       "      <td>Bacteria</td>\n",
       "      <td>Campylobacterota</td>\n",
       "      <td>Campylobacteria</td>\n",
       "      <td>Campylobacterales</td>\n",
       "      <td>Campylobacteraceae</td>\n",
       "      <td>Campylobacter</td>\n",
       "      <td></td>\n",
       "    </tr>\n",
       "    <tr>\n",
       "      <th>AAQK01001555.694.2198</th>\n",
       "      <td>Bacteria</td>\n",
       "      <td>Bacillota</td>\n",
       "      <td>Bacilli</td>\n",
       "      <td>Erysipelotrichales</td>\n",
       "      <td>Erysipelotrichaceae</td>\n",
       "      <td>Solobacterium</td>\n",
       "      <td></td>\n",
       "    </tr>\n",
       "    <tr>\n",
       "      <th>AAQK01003909.1492.2988</th>\n",
       "      <td>Bacteria</td>\n",
       "      <td>Actinomycetota</td>\n",
       "      <td>Coriobacteriia</td>\n",
       "      <td>Coriobacteriales</td>\n",
       "      <td>Atopobiaceae</td>\n",
       "      <td>Tractidigestivibacter</td>\n",
       "      <td></td>\n",
       "    </tr>\n",
       "    <tr>\n",
       "      <th>AATC01000018.2.1513</th>\n",
       "      <td>Bacteria</td>\n",
       "      <td>Bacillota</td>\n",
       "      <td>Clostridia</td>\n",
       "      <td>Lachnospirales</td>\n",
       "      <td>Lachnospiraceae</td>\n",
       "      <td>Incertae Sedis</td>\n",
       "      <td></td>\n",
       "    </tr>\n",
       "  </tbody>\n",
       "</table>\n",
       "</div>"
      ],
      "text/plain": [
       "                           Kingdom            Phylum                Class  \\\n",
       "AAAA02020714.1.1202       Bacteria    Pseudomonadota  Alphaproteobacteria   \n",
       "AAFJ01000001.39328.40836  Bacteria  Campylobacterota      Campylobacteria   \n",
       "AAQK01001555.694.2198     Bacteria         Bacillota              Bacilli   \n",
       "AAQK01003909.1492.2988    Bacteria    Actinomycetota       Coriobacteriia   \n",
       "AATC01000018.2.1513       Bacteria         Bacillota           Clostridia   \n",
       "\n",
       "                                       Order               Family  \\\n",
       "AAAA02020714.1.1202         Sphingomonadales    Sphingomonadaceae   \n",
       "AAFJ01000001.39328.40836   Campylobacterales   Campylobacteraceae   \n",
       "AAQK01001555.694.2198     Erysipelotrichales  Erysipelotrichaceae   \n",
       "AAQK01003909.1492.2988      Coriobacteriales         Atopobiaceae   \n",
       "AATC01000018.2.1513           Lachnospirales      Lachnospiraceae   \n",
       "\n",
       "                                          Genus Species  \n",
       "AAAA02020714.1.1202                Sphingomonas          \n",
       "AAFJ01000001.39328.40836          Campylobacter          \n",
       "AAQK01001555.694.2198             Solobacterium          \n",
       "AAQK01003909.1492.2988    Tractidigestivibacter          \n",
       "AATC01000018.2.1513              Incertae Sedis          "
      ]
     },
     "execution_count": 83,
     "metadata": {},
     "output_type": "execute_result"
    }
   ],
   "source": [
    "tax.head()"
   ]
  },
  {
   "cell_type": "markdown",
   "id": "0137a45a-713e-4138-831d-f18502b63b2d",
   "metadata": {},
   "source": [
    "### samples of reads"
   ]
  },
  {
   "cell_type": "code",
   "execution_count": 85,
   "id": "70c3f1bf-73b5-4a1d-af44-5cf8b00bf1db",
   "metadata": {},
   "outputs": [],
   "source": [
    "sample_sums = table.sum(axis='sample')"
   ]
  },
  {
   "cell_type": "code",
   "execution_count": 86,
   "id": "fe849e5b-2cd3-4f85-a3b7-9cfc56a2c8d6",
   "metadata": {},
   "outputs": [],
   "source": [
    "read_depth = pd.DataFrame({\"sample_nums\":sample_sums})\n",
    "read_depth.to_csv(\"Data/read_depth_samples.csv\", index=None, header=None)"
   ]
  },
  {
   "cell_type": "markdown",
   "id": "b95260df-ad96-431c-9c24-a8b18ad3c2dc",
   "metadata": {},
   "source": [
    "###  Taxonomy"
   ]
  },
  {
   "cell_type": "code",
   "execution_count": 89,
   "id": "bef034c9-d98f-45a5-a262-ebea8ba5ae83",
   "metadata": {},
   "outputs": [],
   "source": [
    "sample_ids = table.ids(axis='sample') "
   ]
  },
  {
   "cell_type": "code",
   "execution_count": 90,
   "id": "a6e0034e-166b-4ea3-a3a9-1ab2d6e95eb1",
   "metadata": {},
   "outputs": [],
   "source": [
    "def count_taxonomy_samples(level):\n",
    "    level_counts = merged_df.groupby(level)[sample_ids].apply(\n",
    "        lambda x: (x > 0).any(axis=0).sum()\n",
    "    )\n",
    "    return level_counts.to_frame(name=f\"{level}_Samples\")\n",
    "\n",
    "abundance_df = table.to_dataframe()\n",
    "merged_df = abundance_df.merge(tax, left_index=True,right_index=True)\n",
    "\n",
    "taxonomy_levels = ['Phylum', 'Class', 'Order', 'Family', 'Genus']\n",
    "result_dfs = [count_taxonomy_samples(level) for level in taxonomy_levels]"
   ]
  },
  {
   "cell_type": "code",
   "execution_count": 91,
   "id": "772aaf47-9c2b-4bc1-8962-2d11b15167d2",
   "metadata": {},
   "outputs": [],
   "source": [
    "final_df = pd.concat(result_dfs, axis=1, join='outer').fillna(0).astype(int)\n",
    "\n",
    "final_df.sort_values('Phylum_Samples', ascending=False, inplace=True)\n",
    "\n",
    "taxonomy_mapping = {}\n",
    "for level in ['Class', 'Order', 'Family', 'Genus']:\n",
    "    mapping = (\n",
    "        tax.groupby(level)['Phylum']\n",
    "        .agg(lambda x: x.mode()[0] if not x.mode().empty else '(Unassigned)')\n",
    "        .to_dict()\n",
    "    )\n",
    "    taxonomy_mapping[level] = mapping"
   ]
  },
  {
   "cell_type": "code",
   "execution_count": 92,
   "id": "8cbef5e6-9834-4f25-af4e-ca0b91216a28",
   "metadata": {},
   "outputs": [],
   "source": [
    "final_df.to_csv(\"Data/tax_num_samples.csv\")\n",
    "with open(\"Data/taxonomy_mapping.json\", \"w\", encoding=\"utf-8\") as f:\n",
    "    json.dump(taxonomy_mapping, f, ensure_ascii=False, indent=4)"
   ]
  },
  {
   "cell_type": "code",
   "execution_count": 93,
   "id": "712f4f1e-bca9-46c8-8024-cef916aaa7bc",
   "metadata": {},
   "outputs": [
    {
     "name": "stderr",
     "output_type": "stream",
     "text": [
      "/tmp/ipykernel_217083/3476425968.py:33: FutureWarning: \n",
      "\n",
      "Passing `palette` without assigning `hue` is deprecated and will be removed in v0.14.0. Assign the `y` variable to `hue` and set `legend=False` for the same effect.\n",
      "\n",
      "  ax = sns.barplot(\n"
     ]
    },
    {
     "data": {
      "image/png": "[encoded data removed]",
      "text/plain": [
       "<Figure size 400x300 with 1 Axes>"
      ]
     },
     "metadata": {},
     "output_type": "display_data"
    },
    {
     "name": "stderr",
     "output_type": "stream",
     "text": [
      "/tmp/ipykernel_217083/3476425968.py:33: FutureWarning: \n",
      "\n",
      "Passing `palette` without assigning `hue` is deprecated and will be removed in v0.14.0. Assign the `y` variable to `hue` and set `legend=False` for the same effect.\n",
      "\n",
      "  ax = sns.barplot(\n"
     ]
    },
    {
     "data": {
      "image/png": "[encoded data removed]",
      "text/plain": [
       "<Figure size 400x300 with 1 Axes>"
      ]
     },
     "metadata": {},
     "output_type": "display_data"
    },
    {
     "name": "stderr",
     "output_type": "stream",
     "text": [
      "/tmp/ipykernel_217083/3476425968.py:33: FutureWarning: \n",
      "\n",
      "Passing `palette` without assigning `hue` is deprecated and will be removed in v0.14.0. Assign the `y` variable to `hue` and set `legend=False` for the same effect.\n",
      "\n",
      "  ax = sns.barplot(\n"
     ]
    },
    {
     "data": {
      "image/png": "[encoded data removed]",
      "text/plain": [
       "<Figure size 400x300 with 1 Axes>"
      ]
     },
     "metadata": {},
     "output_type": "display_data"
    }
   ],
   "source": [
    "PHYLUM_COLORS = {}\n",
    "TOP_PHYLA = []\n",
    "\n",
    "def plot_top_taxa(level, top_n=10):\n",
    "    plt.style.use('ggplot')\n",
    "    fig, ax = plt.subplots(figsize=(4, 3), facecolor='white')\n",
    "    ax.set_facecolor('white')\n",
    "    \n",
    "    data = final_df[f'{level}_Samples'].sort_values(ascending=False).head(top_n)\n",
    "    data.index = data.index.str.strip() \n",
    "    \n",
    "    global PHYLUM_COLORS, TOP_PHYLA\n",
    "    if level == 'Phylum':\n",
    "        TOP_PHYLA = data.index[:5].tolist()\n",
    "        phylum_palette = sns.color_palette(\"Paired\", 5)\n",
    "        PHYLUM_COLORS = {p: c for p, c in zip(TOP_PHYLA, phylum_palette)}\n",
    "        colors = [PHYLUM_COLORS.get(p, '#CCCCCC') for p in data.index]\n",
    "    else:\n",
    "        colors = []\n",
    "        color_mapper = taxonomy_mapping.get(level, {})\n",
    "        for taxon in data.index:\n",
    "            clean_taxon = taxon.strip().lower()  \n",
    "            phylum = color_mapper.get(\n",
    "                taxon,  \n",
    "                color_mapper.get(clean_taxon, '(Unassigned)') \n",
    "            )\n",
    "            colors.append(PHYLUM_COLORS.get(phylum, '#CCCCCC'))\n",
    "    \n",
    "    ax = sns.barplot(\n",
    "        x=data.values,\n",
    "        y=data.index,\n",
    "        palette=colors,\n",
    "        orient='h'\n",
    "    )\n",
    "    \n",
    "    ax.yaxis.set_ticks([])\n",
    "    plt.ylabel(level, \n",
    "             fontdict={'fontweight': 'bold', 'fontsize': 12},\n",
    "             labelpad=15)\n",
    "\n",
    "    for i, (value, name) in enumerate(zip(data.values, data.index)):\n",
    "        ax.text(0.01, i, name, \n",
    "               ha='left', va='center', \n",
    "               fontsize=10, color='black',\n",
    "               fontweight='bold')\n",
    "    ax.xaxis.set_major_formatter(ticker.FuncFormatter(\n",
    "        lambda x, _: f\"{int(x/1000)}k\" if x >= 1000 else f\"{int(x)}\"\n",
    "    ))\n",
    "    plt.xlim(0, data.max()*1.05)\n",
    "\n",
    "    ax.grid(which='major', axis='both', linestyle='--', alpha=0.7)\n",
    "    ax.grid(which='minor', axis='both', linestyle=':', alpha=0.4)\n",
    "    for spine in ax.spines.values():\n",
    "        spine.set_edgecolor('black')\n",
    "        spine.set_linewidth(0.8)\n",
    "    \n",
    "    plt.xlabel('Number of Samples', fontweight='bold')\n",
    "    plt.tight_layout()\n",
    "    plt.show()\n",
    "\n",
    "if __name__ == \"__main__\":\n",
    "    plot_top_taxa('Phylum')  \n",
    "    plot_top_taxa('Family')\n",
    "    plot_top_taxa('Order')"
   ]
  },
  {
   "cell_type": "code",
   "execution_count": 94,
   "id": "a284266d-2ed3-4f28-858a-8c73ee1117f7",
   "metadata": {},
   "outputs": [],
   "source": [
    "tax_reset = tax.reset_index(names=['fid'])"
   ]
  },
  {
   "cell_type": "code",
   "execution_count": 95,
   "id": "483cd4d5-a1d4-4bb5-b8c6-a02af848c555",
   "metadata": {},
   "outputs": [],
   "source": [
    "top_phyla = final_df.index[:5].tolist()"
   ]
  },
  {
   "cell_type": "code",
   "execution_count": 119,
   "id": "4118aab3-e6f6-48ce-b6d4-a3ad137d6a30",
   "metadata": {},
   "outputs": [
    {
     "data": {
      "text/html": [
       "<div>\n",
       "<style scoped>\n",
       "    .dataframe tbody tr th:only-of-type {\n",
       "        vertical-align: middle;\n",
       "    }\n",
       "\n",
       "    .dataframe tbody tr th {\n",
       "        vertical-align: top;\n",
       "    }\n",
       "\n",
       "    .dataframe thead th {\n",
       "        text-align: right;\n",
       "    }\n",
       "</style>\n",
       "<table border=\"1\" class=\"dataframe\">\n",
       "  <thead>\n",
       "    <tr style=\"text-align: right;\">\n",
       "      <th>Phylum</th>\n",
       "      <th>Bacillota</th>\n",
       "      <th>Pseudomonadota</th>\n",
       "      <th>Actinomycetota</th>\n",
       "      <th>Bacteroidota</th>\n",
       "      <th>Thermodesulfobacteriota</th>\n",
       "    </tr>\n",
       "  </thead>\n",
       "  <tbody>\n",
       "    <tr>\n",
       "      <th>10532.00954e18.1dcf.40fc.a52e.255f5cda6f9c</th>\n",
       "      <td>41.047359</td>\n",
       "      <td>0.543783</td>\n",
       "      <td>1.779653</td>\n",
       "      <td>56.026102</td>\n",
       "      <td>0.32627</td>\n",
       "    </tr>\n",
       "    <tr>\n",
       "      <th>10532.00cdbb86.acbd.429c.abe3.12f19990314a</th>\n",
       "      <td>22.301178</td>\n",
       "      <td>32.103572</td>\n",
       "      <td>0.0</td>\n",
       "      <td>43.113015</td>\n",
       "      <td>0.691132</td>\n",
       "    </tr>\n",
       "    <tr>\n",
       "      <th>10532.00e6b118.fb6e.4022.96d1.62e553d9b40c</th>\n",
       "      <td>16.551861</td>\n",
       "      <td>44.025699</td>\n",
       "      <td>0.715327</td>\n",
       "      <td>37.336071</td>\n",
       "      <td>1.159094</td>\n",
       "    </tr>\n",
       "    <tr>\n",
       "      <th>10532.0129210b.a355.4608.8aac.7e6d637c0b5c</th>\n",
       "      <td>59.966865</td>\n",
       "      <td>0.831677</td>\n",
       "      <td>0.970842</td>\n",
       "      <td>35.530152</td>\n",
       "      <td>1.222664</td>\n",
       "    </tr>\n",
       "    <tr>\n",
       "      <th>10532.0476f5aa.a4f4.4835.ada1.4e72fb601e0a</th>\n",
       "      <td>77.003053</td>\n",
       "      <td>3.84241</td>\n",
       "      <td>3.517232</td>\n",
       "      <td>11.96965</td>\n",
       "      <td>0.030969</td>\n",
       "    </tr>\n",
       "  </tbody>\n",
       "</table>\n",
       "</div>"
      ],
      "text/plain": [
       "Phylum                                      Bacillota  Pseudomonadota  \\\n",
       "10532.00954e18.1dcf.40fc.a52e.255f5cda6f9c  41.047359        0.543783   \n",
       "10532.00cdbb86.acbd.429c.abe3.12f19990314a  22.301178       32.103572   \n",
       "10532.00e6b118.fb6e.4022.96d1.62e553d9b40c  16.551861       44.025699   \n",
       "10532.0129210b.a355.4608.8aac.7e6d637c0b5c  59.966865        0.831677   \n",
       "10532.0476f5aa.a4f4.4835.ada1.4e72fb601e0a  77.003053         3.84241   \n",
       "\n",
       "Phylum                                      Actinomycetota  Bacteroidota  \\\n",
       "10532.00954e18.1dcf.40fc.a52e.255f5cda6f9c        1.779653     56.026102   \n",
       "10532.00cdbb86.acbd.429c.abe3.12f19990314a             0.0     43.113015   \n",
       "10532.00e6b118.fb6e.4022.96d1.62e553d9b40c        0.715327     37.336071   \n",
       "10532.0129210b.a355.4608.8aac.7e6d637c0b5c        0.970842     35.530152   \n",
       "10532.0476f5aa.a4f4.4835.ada1.4e72fb601e0a        3.517232      11.96965   \n",
       "\n",
       "Phylum                                      Thermodesulfobacteriota  \n",
       "10532.00954e18.1dcf.40fc.a52e.255f5cda6f9c                  0.32627  \n",
       "10532.00cdbb86.acbd.429c.abe3.12f19990314a                 0.691132  \n",
       "10532.00e6b118.fb6e.4022.96d1.62e553d9b40c                 1.159094  \n",
       "10532.0129210b.a355.4608.8aac.7e6d637c0b5c                 1.222664  \n",
       "10532.0476f5aa.a4f4.4835.ada1.4e72fb601e0a                 0.030969  "
      ]
     },
     "execution_count": 119,
     "metadata": {},
     "output_type": "execute_result"
    }
   ],
   "source": [
    "# top 5 Phylum \n",
    "top_phyla = final_df.index[:5].tolist()\n",
    "\n",
    "phyla_abundance = abundance_df.merge(\n",
    "    tax_reset[['fid', 'Phylum']],\n",
    "    left_index=True,\n",
    "    right_on='fid'\n",
    ").drop(columns=['fid'])\n",
    "\n",
    "phyla_abundance = phyla_abundance.groupby('Phylum').sum().T\n",
    "\n",
    "phyla_abundance_tss = phyla_abundance.div(phyla_abundance.sum(axis=1), axis=0) * 100\n",
    "\n",
    "\n",
    "phyla_abundance_top = phyla_abundance_tss[top_phyla]\n",
    "phyla_abundance_top.head()"
   ]
  },
  {
   "cell_type": "code",
   "execution_count": 97,
   "id": "9bdf0903-fa2e-48db-b172-9537fb11577a",
   "metadata": {},
   "outputs": [],
   "source": [
    "phyla_abundance_top.to_csv(\"Data/phyla_abundance_top.csv\")"
   ]
  },
  {
   "cell_type": "code",
   "execution_count": 98,
   "id": "478a1e6e-e4a3-4568-9b32-1e4abae5b18a",
   "metadata": {},
   "outputs": [
    {
     "data": {
      "text/html": [
       "<div>\n",
       "<style scoped>\n",
       "    .dataframe tbody tr th:only-of-type {\n",
       "        vertical-align: middle;\n",
       "    }\n",
       "\n",
       "    .dataframe tbody tr th {\n",
       "        vertical-align: top;\n",
       "    }\n",
       "\n",
       "    .dataframe thead th {\n",
       "        text-align: right;\n",
       "    }\n",
       "</style>\n",
       "<table border=\"1\" class=\"dataframe\">\n",
       "  <thead>\n",
       "    <tr style=\"text-align: right;\">\n",
       "      <th>Phylum</th>\n",
       "      <th>Bacillota</th>\n",
       "      <th>Pseudomonadota</th>\n",
       "      <th>Actinomycetota</th>\n",
       "      <th>Bacteroidota</th>\n",
       "      <th>Thermodesulfobacteriota</th>\n",
       "    </tr>\n",
       "  </thead>\n",
       "  <tbody>\n",
       "    <tr>\n",
       "      <th>10532.00954e18.1dcf.40fc.a52e.255f5cda6f9c</th>\n",
       "      <td>41.047359</td>\n",
       "      <td>0.543783</td>\n",
       "      <td>1.779653</td>\n",
       "      <td>56.026102</td>\n",
       "      <td>0.32627</td>\n",
       "    </tr>\n",
       "    <tr>\n",
       "      <th>10532.00cdbb86.acbd.429c.abe3.12f19990314a</th>\n",
       "      <td>22.301178</td>\n",
       "      <td>32.103572</td>\n",
       "      <td>0.0</td>\n",
       "      <td>43.113015</td>\n",
       "      <td>0.691132</td>\n",
       "    </tr>\n",
       "    <tr>\n",
       "      <th>10532.00e6b118.fb6e.4022.96d1.62e553d9b40c</th>\n",
       "      <td>16.551861</td>\n",
       "      <td>44.025699</td>\n",
       "      <td>0.715327</td>\n",
       "      <td>37.336071</td>\n",
       "      <td>1.159094</td>\n",
       "    </tr>\n",
       "    <tr>\n",
       "      <th>10532.0129210b.a355.4608.8aac.7e6d637c0b5c</th>\n",
       "      <td>59.966865</td>\n",
       "      <td>0.831677</td>\n",
       "      <td>0.970842</td>\n",
       "      <td>35.530152</td>\n",
       "      <td>1.222664</td>\n",
       "    </tr>\n",
       "    <tr>\n",
       "      <th>10532.0476f5aa.a4f4.4835.ada1.4e72fb601e0a</th>\n",
       "      <td>77.003053</td>\n",
       "      <td>3.84241</td>\n",
       "      <td>3.517232</td>\n",
       "      <td>11.96965</td>\n",
       "      <td>0.030969</td>\n",
       "    </tr>\n",
       "    <tr>\n",
       "      <th>...</th>\n",
       "      <td>...</td>\n",
       "      <td>...</td>\n",
       "      <td>...</td>\n",
       "      <td>...</td>\n",
       "      <td>...</td>\n",
       "    </tr>\n",
       "    <tr>\n",
       "      <th>SRS9736998</th>\n",
       "      <td>82.753471</td>\n",
       "      <td>1.087074</td>\n",
       "      <td>2.362501</td>\n",
       "      <td>13.671833</td>\n",
       "      <td>0.0</td>\n",
       "    </tr>\n",
       "    <tr>\n",
       "      <th>SRS9736999</th>\n",
       "      <td>66.980839</td>\n",
       "      <td>2.188248</td>\n",
       "      <td>1.457614</td>\n",
       "      <td>28.975104</td>\n",
       "      <td>0.286774</td>\n",
       "    </tr>\n",
       "    <tr>\n",
       "      <th>SRS9737000</th>\n",
       "      <td>63.130112</td>\n",
       "      <td>13.741016</td>\n",
       "      <td>0.817844</td>\n",
       "      <td>18.969021</td>\n",
       "      <td>1.384139</td>\n",
       "    </tr>\n",
       "    <tr>\n",
       "      <th>SRS9737001</th>\n",
       "      <td>73.953635</td>\n",
       "      <td>3.52094</td>\n",
       "      <td>2.128735</td>\n",
       "      <td>20.05685</td>\n",
       "      <td>0.260249</td>\n",
       "    </tr>\n",
       "    <tr>\n",
       "      <th>SRS9737002</th>\n",
       "      <td>84.34981</td>\n",
       "      <td>7.064256</td>\n",
       "      <td>5.033553</td>\n",
       "      <td>3.235084</td>\n",
       "      <td>0.197129</td>\n",
       "    </tr>\n",
       "  </tbody>\n",
       "</table>\n",
       "<p>210090 rows × 5 columns</p>\n",
       "</div>"
      ],
      "text/plain": [
       "Phylum                                      Bacillota  Pseudomonadota  \\\n",
       "10532.00954e18.1dcf.40fc.a52e.255f5cda6f9c  41.047359        0.543783   \n",
       "10532.00cdbb86.acbd.429c.abe3.12f19990314a  22.301178       32.103572   \n",
       "10532.00e6b118.fb6e.4022.96d1.62e553d9b40c  16.551861       44.025699   \n",
       "10532.0129210b.a355.4608.8aac.7e6d637c0b5c  59.966865        0.831677   \n",
       "10532.0476f5aa.a4f4.4835.ada1.4e72fb601e0a  77.003053         3.84241   \n",
       "...                                               ...             ...   \n",
       "SRS9736998                                  82.753471        1.087074   \n",
       "SRS9736999                                  66.980839        2.188248   \n",
       "SRS9737000                                  63.130112       13.741016   \n",
       "SRS9737001                                  73.953635         3.52094   \n",
       "SRS9737002                                   84.34981        7.064256   \n",
       "\n",
       "Phylum                                      Actinomycetota  Bacteroidota  \\\n",
       "10532.00954e18.1dcf.40fc.a52e.255f5cda6f9c        1.779653     56.026102   \n",
       "10532.00cdbb86.acbd.429c.abe3.12f19990314a             0.0     43.113015   \n",
       "10532.00e6b118.fb6e.4022.96d1.62e553d9b40c        0.715327     37.336071   \n",
       "10532.0129210b.a355.4608.8aac.7e6d637c0b5c        0.970842     35.530152   \n",
       "10532.0476f5aa.a4f4.4835.ada1.4e72fb601e0a        3.517232      11.96965   \n",
       "...                                                    ...           ...   \n",
       "SRS9736998                                        2.362501     13.671833   \n",
       "SRS9736999                                        1.457614     28.975104   \n",
       "SRS9737000                                        0.817844     18.969021   \n",
       "SRS9737001                                        2.128735      20.05685   \n",
       "SRS9737002                                        5.033553      3.235084   \n",
       "\n",
       "Phylum                                      Thermodesulfobacteriota  \n",
       "10532.00954e18.1dcf.40fc.a52e.255f5cda6f9c                  0.32627  \n",
       "10532.00cdbb86.acbd.429c.abe3.12f19990314a                 0.691132  \n",
       "10532.00e6b118.fb6e.4022.96d1.62e553d9b40c                 1.159094  \n",
       "10532.0129210b.a355.4608.8aac.7e6d637c0b5c                 1.222664  \n",
       "10532.0476f5aa.a4f4.4835.ada1.4e72fb601e0a                 0.030969  \n",
       "...                                                             ...  \n",
       "SRS9736998                                                      0.0  \n",
       "SRS9736999                                                 0.286774  \n",
       "SRS9737000                                                 1.384139  \n",
       "SRS9737001                                                 0.260249  \n",
       "SRS9737002                                                 0.197129  \n",
       "\n",
       "[210090 rows x 5 columns]"
      ]
     },
     "execution_count": 98,
     "metadata": {},
     "output_type": "execute_result"
    }
   ],
   "source": [
    "phyla_abundance_top"
   ]
  },
  {
   "cell_type": "markdown",
   "id": "aad1be0b-cf76-4875-b056-aba90febcc18",
   "metadata": {},
   "source": [
    "### shannon"
   ]
  },
  {
   "cell_type": "code",
   "execution_count": 101,
   "id": "a5b1dd24-a324-40db-aeec-72707c314f03",
   "metadata": {},
   "outputs": [],
   "source": [
    "rarefied_biom = table.subsample(5000, by_id=False)"
   ]
  },
  {
   "cell_type": "code",
   "execution_count": 99,
   "id": "6ec9b785-01f4-43f5-aff0-ef49fd07d664",
   "metadata": {},
   "outputs": [],
   "source": [
    "from skbio.diversity import alpha_diversity"
   ]
  },
  {
   "cell_type": "code",
   "execution_count": 102,
   "id": "04a2ee2c-b18a-4f09-96d6-bcf8bc2b99d0",
   "metadata": {},
   "outputs": [
    {
     "name": "stdout",
     "output_type": "stream",
     "text": [
      "10532.00954e18.1dcf.40fc.a52e.255f5cda6f9c    3.527243\n",
      "10532.00cdbb86.acbd.429c.abe3.12f19990314a    3.290201\n",
      "10532.00e6b118.fb6e.4022.96d1.62e553d9b40c    2.569322\n",
      "10532.0129210b.a355.4608.8aac.7e6d637c0b5c    4.087009\n",
      "10532.0476f5aa.a4f4.4835.ada1.4e72fb601e0a    4.027897\n",
      "dtype: float64 3.133043987553001\n"
     ]
    }
   ],
   "source": [
    "adiv_shannon = alpha_diversity('shannon', rarefied_biom.to_dataframe().T, rarefied_biom.ids(axis=\"sample\"), base=np.e)\n",
    "print(adiv_shannon.head(),adiv_shannon.median())"
   ]
  },
  {
   "cell_type": "code",
   "execution_count": 108,
   "id": "ed90de90-1b4c-489c-90c1-922ab536d858",
   "metadata": {},
   "outputs": [
    {
     "data": {
      "text/html": [
       "<div>\n",
       "<style scoped>\n",
       "    .dataframe tbody tr th:only-of-type {\n",
       "        vertical-align: middle;\n",
       "    }\n",
       "\n",
       "    .dataframe tbody tr th {\n",
       "        vertical-align: top;\n",
       "    }\n",
       "\n",
       "    .dataframe thead th {\n",
       "        text-align: right;\n",
       "    }\n",
       "</style>\n",
       "<table border=\"1\" class=\"dataframe\">\n",
       "  <thead>\n",
       "    <tr style=\"text-align: right;\">\n",
       "      <th></th>\n",
       "      <th>project</th>\n",
       "      <th>instrument</th>\n",
       "      <th>geo_loc_name</th>\n",
       "      <th>region</th>\n",
       "      <th>seq_region</th>\n",
       "      <th>sample_type</th>\n",
       "      <th>shannon</th>\n",
       "    </tr>\n",
       "    <tr>\n",
       "      <th>sample_id</th>\n",
       "      <th></th>\n",
       "      <th></th>\n",
       "      <th></th>\n",
       "      <th></th>\n",
       "      <th></th>\n",
       "      <th></th>\n",
       "      <th></th>\n",
       "    </tr>\n",
       "  </thead>\n",
       "  <tbody>\n",
       "    <tr>\n",
       "      <th>10532.00954e18.1dcf.40fc.a52e.255f5cda6f9c</th>\n",
       "      <td>qiita_10532</td>\n",
       "      <td>MiSeq Illumina</td>\n",
       "      <td>USA:AZ</td>\n",
       "      <td>Europe and Northern America</td>\n",
       "      <td>V4</td>\n",
       "      <td>feces</td>\n",
       "      <td>3.527243</td>\n",
       "    </tr>\n",
       "    <tr>\n",
       "      <th>10532.00cdbb86.acbd.429c.abe3.12f19990314a</th>\n",
       "      <td>qiita_10532</td>\n",
       "      <td>MiSeq Illumina</td>\n",
       "      <td>USA:AZ</td>\n",
       "      <td>Europe and Northern America</td>\n",
       "      <td>V4</td>\n",
       "      <td>feces</td>\n",
       "      <td>3.290201</td>\n",
       "    </tr>\n",
       "    <tr>\n",
       "      <th>10532.00e6b118.fb6e.4022.96d1.62e553d9b40c</th>\n",
       "      <td>qiita_10532</td>\n",
       "      <td>MiSeq Illumina</td>\n",
       "      <td>USA:AZ</td>\n",
       "      <td>Europe and Northern America</td>\n",
       "      <td>V4</td>\n",
       "      <td>feces</td>\n",
       "      <td>2.569322</td>\n",
       "    </tr>\n",
       "    <tr>\n",
       "      <th>10532.0129210b.a355.4608.8aac.7e6d637c0b5c</th>\n",
       "      <td>qiita_10532</td>\n",
       "      <td>MiSeq Illumina</td>\n",
       "      <td>USA:AZ</td>\n",
       "      <td>Europe and Northern America</td>\n",
       "      <td>V4</td>\n",
       "      <td>feces</td>\n",
       "      <td>4.087009</td>\n",
       "    </tr>\n",
       "    <tr>\n",
       "      <th>10532.0476f5aa.a4f4.4835.ada1.4e72fb601e0a</th>\n",
       "      <td>qiita_10532</td>\n",
       "      <td>MiSeq Illumina</td>\n",
       "      <td>USA:AZ</td>\n",
       "      <td>Europe and Northern America</td>\n",
       "      <td>V4</td>\n",
       "      <td>feces</td>\n",
       "      <td>4.027897</td>\n",
       "    </tr>\n",
       "  </tbody>\n",
       "</table>\n",
       "</div>"
      ],
      "text/plain": [
       "                                                project      instrument  \\\n",
       "sample_id                                                                 \n",
       "10532.00954e18.1dcf.40fc.a52e.255f5cda6f9c  qiita_10532  MiSeq Illumina   \n",
       "10532.00cdbb86.acbd.429c.abe3.12f19990314a  qiita_10532  MiSeq Illumina   \n",
       "10532.00e6b118.fb6e.4022.96d1.62e553d9b40c  qiita_10532  MiSeq Illumina   \n",
       "10532.0129210b.a355.4608.8aac.7e6d637c0b5c  qiita_10532  MiSeq Illumina   \n",
       "10532.0476f5aa.a4f4.4835.ada1.4e72fb601e0a  qiita_10532  MiSeq Illumina   \n",
       "\n",
       "                                           geo_loc_name  \\\n",
       "sample_id                                                 \n",
       "10532.00954e18.1dcf.40fc.a52e.255f5cda6f9c       USA:AZ   \n",
       "10532.00cdbb86.acbd.429c.abe3.12f19990314a       USA:AZ   \n",
       "10532.00e6b118.fb6e.4022.96d1.62e553d9b40c       USA:AZ   \n",
       "10532.0129210b.a355.4608.8aac.7e6d637c0b5c       USA:AZ   \n",
       "10532.0476f5aa.a4f4.4835.ada1.4e72fb601e0a       USA:AZ   \n",
       "\n",
       "                                                                 region  \\\n",
       "sample_id                                                                 \n",
       "10532.00954e18.1dcf.40fc.a52e.255f5cda6f9c  Europe and Northern America   \n",
       "10532.00cdbb86.acbd.429c.abe3.12f19990314a  Europe and Northern America   \n",
       "10532.00e6b118.fb6e.4022.96d1.62e553d9b40c  Europe and Northern America   \n",
       "10532.0129210b.a355.4608.8aac.7e6d637c0b5c  Europe and Northern America   \n",
       "10532.0476f5aa.a4f4.4835.ada1.4e72fb601e0a  Europe and Northern America   \n",
       "\n",
       "                                           seq_region sample_type   shannon  \n",
       "sample_id                                                                    \n",
       "10532.00954e18.1dcf.40fc.a52e.255f5cda6f9c         V4       feces  3.527243  \n",
       "10532.00cdbb86.acbd.429c.abe3.12f19990314a         V4       feces  3.290201  \n",
       "10532.00e6b118.fb6e.4022.96d1.62e553d9b40c         V4       feces  2.569322  \n",
       "10532.0129210b.a355.4608.8aac.7e6d637c0b5c         V4       feces  4.087009  \n",
       "10532.0476f5aa.a4f4.4835.ada1.4e72fb601e0a         V4       feces  4.027897  "
      ]
     },
     "execution_count": 108,
     "metadata": {},
     "output_type": "execute_result"
    }
   ],
   "source": [
    "metadata = metadata.set_index(\"sample_id\")\n",
    "\n",
    "sample_ids = rarefied_biom.ids(axis=\"sample\")\n",
    "metadata.loc[sample_ids, \"shannon\"] = adiv_shannon\n",
    "\n",
    "metadata.head()"
   ]
  },
  {
   "cell_type": "code",
   "execution_count": 109,
   "id": "8dbda24f-3ba9-4778-9e3e-80b2897f6ece",
   "metadata": {},
   "outputs": [],
   "source": [
    "metadata = metadata.loc[sample_ids]\n",
    "metadata[\"read_depth\"] = sample_sums\n",
    "metadata.to_csv(\"meta_data_include_shannon.csv\", index=None)"
   ]
  },
  {
   "cell_type": "code",
   "execution_count": 110,
   "id": "b96a76d9-2f1e-4d13-b918-278e54d9fade",
   "metadata": {},
   "outputs": [
    {
     "data": {
      "text/plain": [
       "(210090, 8)"
      ]
     },
     "execution_count": 110,
     "metadata": {},
     "output_type": "execute_result"
    }
   ],
   "source": [
    "metadata.shape"
   ]
  },
  {
   "cell_type": "markdown",
   "id": "ace7bdeb-1ffe-4f61-95b4-9162ac797a68",
   "metadata": {},
   "source": [
    "### prevalence"
   ]
  },
  {
   "cell_type": "code",
   "execution_count": 112,
   "id": "371259b8-8b4a-423e-af27-7b25e48e5f6c",
   "metadata": {},
   "outputs": [],
   "source": [
    "table = biom.load_table(\"../../data/pretraining_table_filter.biom\")"
   ]
  },
  {
   "cell_type": "code",
   "execution_count": 113,
   "id": "ba7248cc-3747-424b-8cd2-6a193aeece66",
   "metadata": {},
   "outputs": [],
   "source": [
    "fid = table.ids(axis=\"observation\")"
   ]
  },
  {
   "cell_type": "code",
   "execution_count": 114,
   "id": "988eda72-b64d-47b1-813b-aa84c6078573",
   "metadata": {},
   "outputs": [],
   "source": [
    "import matplotlib.ticker as ticker\n",
    "prevalence = table.nonzero_counts(axis=\"observation\") / table.shape[1]"
   ]
  },
  {
   "cell_type": "code",
   "execution_count": 116,
   "id": "52175118-6211-40cd-b73f-54d583143617",
   "metadata": {},
   "outputs": [
    {
     "data": {
      "text/plain": [
       "Text(0, 0.5, 'Density')"
      ]
     },
     "execution_count": 116,
     "metadata": {},
     "output_type": "execute_result"
    },
    {
     "data": {
      "image/png": "[encoded data removed]",
      "text/plain": [
       "<Figure size 400x300 with 1 Axes>"
      ]
     },
     "metadata": {},
     "output_type": "display_data"
    }
   ],
   "source": [
    "plt.figure(figsize=(4, 3), facecolor='white')\n",
    "plt.style.use('ggplot')\n",
    "ax = sns.histplot(\n",
    "    x=prevalence,\n",
    "    stat='density',\n",
    "    log_scale=True,\n",
    "    color='black',\n",
    "    alpha=0.5,\n",
    "    kde=False,\n",
    "    bins=30,\n",
    "    edgecolor='none'\n",
    ")\n",
    "\n",
    "ax.set_xlabel('log$_{10}$(Prevalence)', fontsize=12, fontweight='bold')\n",
    "ax.set_ylabel('Density', fontsize=12, fontweight='bold')"
   ]
  },
  {
   "cell_type": "code",
   "execution_count": 118,
   "id": "d1c90688-148f-423c-a30a-2de7f74663fc",
   "metadata": {},
   "outputs": [],
   "source": [
    "prevalence = pd.DataFrame({\"prevalence\":prevalence})\n",
    "prevalence.to_csv(\"Data/prevalence.csv\", index=None)"
   ]
  },
  {
   "cell_type": "code",
   "execution_count": null,
   "id": "d9ad8304-b933-4462-818c-7a619dce4f64",
   "metadata": {},
   "outputs": [],
   "source": []
  }
 ],
 "metadata": {
  "kernelspec": {
   "display_name": "Python 3 (ipykernel)",
   "language": "python",
   "name": "python3"
  },
  "language_info": {
   "codemirror_mode": {
    "name": "ipython",
    "version": 3
   },
   "file_extension": ".py",
   "mimetype": "text/x-python",
   "name": "python",
   "nbconvert_exporter": "python",
   "pygments_lexer": "ipython3",
   "version": "3.9.22"
  }
 },
 "nbformat": 4,
 "nbformat_minor": 5
}
