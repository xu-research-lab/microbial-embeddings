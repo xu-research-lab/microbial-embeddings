{
 "cells": [
  {
   "cell_type": "code",
   "execution_count": 3,
   "id": "e330ec4b-e2cd-49ff-992e-8f8226827e1f",
   "metadata": {},
   "outputs": [],
   "source": [
    "import re"
   ]
  },
  {
   "cell_type": "code",
   "execution_count": 4,
   "id": "230e2859-4e62-4116-a46c-ee40e75447a7",
   "metadata": {},
   "outputs": [],
   "source": [
    "import numpy as np\n",
    "import pandas as pd"
   ]
  },
  {
   "cell_type": "code",
   "execution_count": 5,
   "id": "a631deb1-f3a7-4690-82da-fbdca1992d22",
   "metadata": {},
   "outputs": [],
   "source": [
    "from tqdm import tqdm"
   ]
  },
  {
   "cell_type": "code",
   "execution_count": 6,
   "id": "3dcf4ae8-7169-46cb-9e78-bb69aa9182ff",
   "metadata": {},
   "outputs": [],
   "source": [
    "import json"
   ]
  },
  {
   "cell_type": "code",
   "execution_count": 8,
   "id": "e764c6ce-4ade-4481-a011-93a91726adb8",
   "metadata": {},
   "outputs": [],
   "source": [
    "import matplotlib.pyplot as plt"
   ]
  },
  {
   "cell_type": "code",
   "execution_count": 6,
   "id": "2aa0bbf0-421a-40b2-83d8-2ab58831125d",
   "metadata": {},
   "outputs": [],
   "source": [
    "from sklearn.metrics.pairwise import cosine_similarity"
   ]
  },
  {
   "cell_type": "code",
   "execution_count": 2,
   "id": "c357e34c-8842-438a-8608-230bb7a4e33b",
   "metadata": {},
   "outputs": [
    {
     "name": "stdout",
     "output_type": "stream",
     "text": [
      "The history saving thread hit an unexpected error (OperationalError('attempt to write a readonly database')).History will not be written to the database.\n"
     ]
    }
   ],
   "source": [
    "import random\n",
    "from phylodm import PhyloDM\n",
    "import dendropy"
   ]
  },
  {
   "cell_type": "code",
   "execution_count": 12,
   "id": "74e0ad4a-f618-4a2d-b937-3561e2236b2b",
   "metadata": {},
   "outputs": [],
   "source": [
    "import seaborn as sns\n",
    "from scipy import stats"
   ]
  },
  {
   "cell_type": "code",
   "execution_count": 14,
   "id": "66748d04-87da-4213-b8bd-f1807e5e0f10",
   "metadata": {},
   "outputs": [],
   "source": [
    "from scipy.stats import entropy"
   ]
  },
  {
   "cell_type": "markdown",
   "id": "fbf4cb1f-6ae0-4b2e-a771-a36630a940c7",
   "metadata": {},
   "source": [
    "### import embedding"
   ]
  },
  {
   "cell_type": "code",
   "execution_count": 13,
   "id": "4b625c6f-9d49-424e-a8c0-f51f0c4486f1",
   "metadata": {},
   "outputs": [],
   "source": [
    "co_embedding = pd.read_csv(\"../../data/social_niche_embedding_100.txt\",\n",
    "                          header=None, sep=\" \", low_memory=False, index_col=0)\n",
    "co_embedding = co_embedding.drop(\"<unk>\")\n",
    "\n",
    "embed_cos = cosine_similarity(co_embedding)\n",
    "embed_cos = pd.DataFrame(data=embed_cos, index=co_embedding.index, columns=co_embedding.index)\n",
    "\n",
    "phy_embedding = pd.read_csv(\"../../data/Embedding_list/PCA_100.txt\",\n",
    "                          header=None, sep=\" \", low_memory=False, index_col=0)\n",
    "phy_embedding = phy_embedding.loc[co_embedding.index]\n",
    "\n",
    "embed_cos_phy = cosine_similarity(phy_embedding)\n",
    "embed_cos_phy = pd.DataFrame(data=embed_cos_phy, index=phy_embedding.index, columns=phy_embedding.index)"
   ]
  },
  {
   "cell_type": "code",
   "execution_count": 18,
   "id": "e9a284b7-991b-407a-9d25-eb1c554d98a1",
   "metadata": {},
   "outputs": [],
   "source": [
    "tree = dendropy.Tree.get_from_path('../SNE_overview/Data/tree.tre', schema='newick')\n",
    "pdm = PhyloDM.load_from_dendropy(tree)\n",
    "dm = pdm.dm(norm=False)\n",
    "labels = pdm.taxa()\n",
    "dm = pd.DataFrame(data=dm, index=labels, columns=labels) \n",
    "dm = dm.loc[co_embedding.index.values, co_embedding.index.values]"
   ]
  },
  {
   "cell_type": "markdown",
   "id": "ae00aae9-3f80-4c32-9dd7-946ffbcde396",
   "metadata": {},
   "source": [
    "### SNE with phylogeny"
   ]
  },
  {
   "cell_type": "code",
   "execution_count": 15,
   "id": "c3d3fbde-e846-452a-b73c-dbdcecb7b941",
   "metadata": {},
   "outputs": [],
   "source": [
    "taxonomy = pd.read_csv(\"../Pretraining_data_profile/Data/taxmap_slv_ssu_ref_nr_138.2.txt\", sep=\"\\t\", low_memory=False)"
   ]
  },
  {
   "cell_type": "code",
   "execution_count": 16,
   "id": "1d922790-3f17-4011-a8e1-337718104776",
   "metadata": {},
   "outputs": [],
   "source": [
    "acc = []\n",
    "for i in range(taxonomy.shape[0]):\n",
    "    temp = taxonomy.iloc[i]\n",
    "    acc.append(f\"{temp[0]}.{temp[1]}.{temp[2]}\")\n",
    "\n",
    "taxonomy = taxonomy.loc[:, \"path\"].str.split(';', expand=True)\n",
    "taxonomy.index = acc\n",
    "taxonomy = taxonomy.iloc[:, 0: 7]\n",
    "taxonomy = taxonomy.loc[co_embedding.index.values, ]\n",
    "taxonomy.columns = [\"k\", \"p\", \"c\", \"o\", \"f\", \"g\", \"s\"]\n",
    "taxonomy = taxonomy.loc[:, [\"p\", \"c\", \"o\", \"f\", \"g\"]]\n",
    "remove_tax = [\"Incertae Sedis\", \"Unknown Family\", ]"
   ]
  },
  {
   "cell_type": "code",
   "execution_count": 19,
   "id": "d7ad2b4d-45e7-4e9b-901b-28723765a9c3",
   "metadata": {},
   "outputs": [],
   "source": [
    "names = [\"Phylum\", \"Class\", \"Order\", \"Family\", \"Genus\"]\n",
    "phy_dist_mean = []\n",
    "embed_cosine_mean = []\n",
    "phy_dist_sd = []\n",
    "embed_cosine_sd = []\n",
    "keep_tax = []\n",
    "tax = []\n",
    "for j in range(0, 5):\n",
    "    group = taxonomy.iloc[:, j].unique()\n",
    "    group = group[[i not in remove_tax for i in group]]\n",
    "    for i in group:\n",
    "        \n",
    "        fid_pick = taxonomy.loc[taxonomy.iloc[:, j] == i].index.values\n",
    "        \n",
    "        if len(fid_pick) > 1:\n",
    "            \n",
    "            keep_tax.append(i)\n",
    "            tax.append(names[j])\n",
    "            \n",
    "            temp = embed_cos.loc[fid_pick, fid_pick]\n",
    "            upper_triangle = np.triu(temp, k=1)\n",
    "            upper_triangle = pd.DataFrame(data=upper_triangle)\n",
    "            upper_triangle['id_1'] = upper_triangle.index.tolist()\n",
    "            upper_triangle = pd.melt(upper_triangle, id_vars=\"id_1\")\n",
    "            upper_triangle = upper_triangle.loc[upper_triangle.value != 0]\n",
    "            upper_triangle.columns = [\"id_1\", \"id_2\", \"value\"]\n",
    "            embed_cosine_mean.append(np.mean(upper_triangle[\"value\"].values))\n",
    "            embed_cosine_sd.append(np.std(upper_triangle[\"value\"].values))\n",
    "            \n",
    "            temp = dm.loc[fid_pick, fid_pick]\n",
    "            upper_triangle = np.triu(temp, k=1)\n",
    "            upper_triangle = pd.DataFrame(data=upper_triangle)\n",
    "            upper_triangle['id_1'] = upper_triangle.index.tolist()\n",
    "            upper_triangle = pd.melt(upper_triangle, id_vars=\"id_1\")\n",
    "            upper_triangle = upper_triangle.loc[upper_triangle.value != 0]\n",
    "            upper_triangle.columns = [\"id_1\", \"id_2\", \"value\"]\n",
    "            phy_dist_mean.append(np.mean(upper_triangle[\"value\"].values))\n",
    "            phy_dist_sd.append(np.std(upper_triangle[\"value\"].values))\n",
    "        "
   ]
  },
  {
   "cell_type": "code",
   "execution_count": 20,
   "id": "13fa8296-b582-47e7-bcf1-2a1469de0082",
   "metadata": {},
   "outputs": [],
   "source": [
    "table_group = pd.DataFrame({\"name\": keep_tax, \"phy_dist_mean\":phy_dist_mean, \"phy_dist_sd\":phy_dist_sd, \n",
    "                            \"embed_cosine_mean\":embed_cosine_mean, \"embed_cosine_sd\":embed_cosine_sd,\n",
    "                            \"tax\":tax})\n",
    "table_group.to_csv(\"Data/tax_group.csv\", index=None)"
   ]
  },
  {
   "cell_type": "code",
   "execution_count": 344,
   "id": "414fe897-d381-42ad-a68a-a60bd85102e3",
   "metadata": {},
   "outputs": [],
   "source": [
    "genome_id = np.unique(genome_pairs.id_1.tolist() + genome_pairs.id_2.tolist())\n",
    "genome_id = pd.DataFrame({\"id\": genome_id})\n",
    "genome_id.to_csv(\"Data/genome_id.txt\", index=None, header=None)"
   ]
  },
  {
   "cell_type": "code",
   "execution_count": 345,
   "id": "b6d21806-8daa-46c5-be92-20cf09b86a9c",
   "metadata": {},
   "outputs": [],
   "source": [
    "genome_pairs.to_csv(\"/home/dongbiao/word_embedding_microbiome/HGT/HGT_network/genome_pairs_vsearch.txt\", sep=\" \", index=None, header=None)"
   ]
  }
 ],
 "metadata": {
  "kernelspec": {
   "display_name": "Python 3 (ipykernel)",
   "language": "python",
   "name": "python3"
  },
  "language_info": {
   "codemirror_mode": {
    "name": "ipython",
    "version": 3
   },
   "file_extension": ".py",
   "mimetype": "text/x-python",
   "name": "python",
   "nbconvert_exporter": "python",
   "pygments_lexer": "ipython3",
   "version": "3.9.22"
  }
 },
 "nbformat": 4,
 "nbformat_minor": 5
}
