{
 "cells": [
  {
   "cell_type": "code",
   "execution_count": 2,
   "id": "6dba8360-9c21-4d7b-ab4d-1b292026fb63",
   "metadata": {},
   "outputs": [],
   "source": [
    "import pandas as pd\n",
    "import numpy as np\n",
    "from sklearn.manifold import TSNE"
   ]
  },
  {
   "cell_type": "markdown",
   "id": "96618d35-22fc-45bd-a821-306457b31d17",
   "metadata": {},
   "source": [
    "### Embedding t-SNE"
   ]
  },
  {
   "cell_type": "code",
   "execution_count": 35,
   "id": "3506be00-18fc-49d1-a834-37ab5010c8df",
   "metadata": {},
   "outputs": [],
   "source": [
    "### \n",
    "co_embedding = pd.read_csv(\"../../data/social_niche_embedding_100.txt\",\n",
    "                          header=None, sep=\" \", low_memory=False, index_col=0)\n",
    "co_embedding.drop(\"<unk>\", inplace=True)\n",
    "phy_embedding = pd.read_csv(\"../../data/Embedding_list/PCA_100.txt\",\n",
    "                          header=None, sep=\" \", low_memory=False, index_col=0)\n",
    "phy_embedding.drop(\"<unk>\", inplace=True)\n",
    "inter_id = np.intersect1d(co_embedding.index, phy_embedding.index)\n",
    "co_embedding = co_embedding.loc[inter_id]\n",
    "phy_embedding = phy_embedding.loc[inter_id]"
   ]
  },
  {
   "cell_type": "code",
   "execution_count": 36,
   "id": "bab9c49d-4594-41f9-b030-9e75cdf560b5",
   "metadata": {},
   "outputs": [],
   "source": [
    "tsne = TSNE(n_components=2, metric=\"cosine\", random_state=42)\n",
    "result = tsne.fit_transform(co_embedding)"
   ]
  },
  {
   "cell_type": "code",
   "execution_count": 37,
   "id": "0777f33a-4fb4-4e1f-a78e-6fb74b45994f",
   "metadata": {},
   "outputs": [],
   "source": [
    "result = pd.DataFrame(data=result, index=co_embedding.index, columns=[\"t-SNE1\", \"t-SNE2\"])\n",
    "result.to_csv(\"Data/t_sne_co.csv\")"
   ]
  },
  {
   "cell_type": "code",
   "execution_count": 38,
   "id": "d4aa5c13-8013-42fe-8a48-fd1c1ce652c8",
   "metadata": {},
   "outputs": [],
   "source": [
    "tsne = TSNE(n_components=2, metric=\"cosine\", random_state=42)\n",
    "result = tsne.fit_transform(phy_embedding)\n",
    "result = pd.DataFrame(data=result, index=phy_embedding.index, columns=[\"t-SNE1\", \"t-SNE2\"])\n",
    "result.to_csv(\"Data/t_sne_phylo.csv\")"
   ]
  },
  {
   "cell_type": "markdown",
   "id": "f16e22c0-4c25-4362-bcb1-04b5d6320ed3",
   "metadata": {},
   "source": [
    "### Bugbase"
   ]
  },
  {
   "cell_type": "code",
   "execution_count": 39,
   "id": "144830f9-1322-452f-8e70-815c7a389a70",
   "metadata": {},
   "outputs": [],
   "source": [
    "df = pd.read_csv(\"../Traits_function/Data/traits_precalculated.txt\", sep=\"\\t\", index_col=0)\n",
    "\n",
    "co_embedding_bugbase = co_embedding.loc[df.index.values]\n",
    "tsne = TSNE(n_components=2, metric=\"cosine\", random_state=42)\n",
    "result = tsne.fit_transform(co_embedding_bugbase)\n",
    "result = pd.DataFrame(data=result, index=co_embedding_bugbase.index, columns=[\"t-SNE1\", \"t-SNE2\"])\n",
    "result.to_csv(\"Data/t_sne_co_bugbase.csv\")\n",
    "\n",
    "phy_embedding_bugbase = phy_embedding.loc[df.index.values]\n",
    "tsne = TSNE(n_components=2, metric=\"cosine\", random_state=42)\n",
    "result = tsne.fit_transform(phy_embedding_bugbase)\n",
    "result = pd.DataFrame(data=result, index=co_embedding_bugbase.index, columns=[\"t-SNE1\", \"t-SNE2\"])\n",
    "result.to_csv(\"Data/t_sne_phy_bugbase.csv\")"
   ]
  },
  {
   "cell_type": "code",
   "execution_count": null,
   "id": "7a1881e7-37a4-42af-9c1d-674140d8c136",
   "metadata": {},
   "outputs": [],
   "source": []
  }
 ],
 "metadata": {
  "kernelspec": {
   "display_name": "Python 3 (ipykernel)",
   "language": "python",
   "name": "python3"
  },
  "language_info": {
   "codemirror_mode": {
    "name": "ipython",
    "version": 3
   },
   "file_extension": ".py",
   "mimetype": "text/x-python",
   "name": "python",
   "nbconvert_exporter": "python",
   "pygments_lexer": "ipython3",
   "version": "3.9.22"
  }
 },
 "nbformat": 4,
 "nbformat_minor": 5
}
